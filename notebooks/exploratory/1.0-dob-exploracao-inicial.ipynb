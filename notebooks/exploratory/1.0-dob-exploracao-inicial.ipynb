{
 "cells": [
  {
   "cell_type": "markdown",
   "metadata": {},
   "source": [
    "# Estudo inicial sobre qualidade da água no Lago Guaíba a partir de imagens de satélite"
   ]
  },
  {
   "cell_type": "markdown",
   "metadata": {},
   "source": [
    "O presente notebook documenta a exploração inicial realizada para o estudo sobre qualidade da água no Lago Guaíba a partir de imagens de satélite, projeto realizado durante a mentoria do [Alforriah](https://www.alforriah.com/) durante o primeiro semestre de 2022."
   ]
  },
  {
   "cell_type": "code",
   "execution_count": 1,
   "metadata": {},
   "outputs": [],
   "source": [
    "import ee\n",
    "import pandas as pd\n",
    "import geopandas as gpd\n",
    "import json\n",
    "import geemap\n",
    "import geemap.colormaps as cm\n"
   ]
  },
  {
   "cell_type": "markdown",
   "metadata": {},
   "source": [
    "Autenticar GEE"
   ]
  },
  {
   "cell_type": "code",
   "execution_count": 2,
   "metadata": {},
   "outputs": [
    {
     "data": {
      "text/html": [
       "<p>To authorize access needed by Earth Engine, open the following\n",
       "        URL in a web browser and follow the instructions:</p>\n",
       "        <p><a href=https://accounts.google.com/o/oauth2/auth?client_id=517222506229-vsmmajv00ul0bs7p89v5m89qs8eb9359.apps.googleusercontent.com&scope=https%3A%2F%2Fwww.googleapis.com%2Fauth%2Fearthengine+https%3A%2F%2Fwww.googleapis.com%2Fauth%2Fdevstorage.full_control&redirect_uri=urn%3Aietf%3Awg%3Aoauth%3A2.0%3Aoob&response_type=code&code_challenge=yVrfLEgD0imTGf8UJ4eBQPJMBHaHWZqhUytkswgy6qI&code_challenge_method=S256>https://accounts.google.com/o/oauth2/auth?client_id=517222506229-vsmmajv00ul0bs7p89v5m89qs8eb9359.apps.googleusercontent.com&scope=https%3A%2F%2Fwww.googleapis.com%2Fauth%2Fearthengine+https%3A%2F%2Fwww.googleapis.com%2Fauth%2Fdevstorage.full_control&redirect_uri=urn%3Aietf%3Awg%3Aoauth%3A2.0%3Aoob&response_type=code&code_challenge=yVrfLEgD0imTGf8UJ4eBQPJMBHaHWZqhUytkswgy6qI&code_challenge_method=S256</a></p>\n",
       "        <p>The authorization workflow will generate a code, which you\n",
       "        should paste in the box below</p>\n",
       "        "
      ],
      "text/plain": [
       "<IPython.core.display.HTML object>"
      ]
     },
     "metadata": {},
     "output_type": "display_data"
    },
    {
     "name": "stdout",
     "output_type": "stream",
     "text": [
      "Enter verification code: 4/1AX4XfWhpxJR2Act5ksF7ILPxC1H3bUI04eQvJ2nUskjmTXHcayz7lDjQ6uk\n",
      "\n",
      "Successfully saved authorization token.\n"
     ]
    }
   ],
   "source": [
    "ee.Authenticate()\n",
    "ee.Initialize()"
   ]
  },
  {
   "cell_type": "markdown",
   "metadata": {},
   "source": [
    "## 1. Exploração Google Earth Engine"
   ]
  },
  {
   "cell_type": "markdown",
   "metadata": {},
   "source": [
    "Esse projeto foi minha experiência utilizando o Google Earth Engine, assim foi realizado inicialmente a análise de algumas funções da API. Grande parte do código foi auxiliado pelo curso fornecido por Cristian Cunha e pelo material disponibilizado no seu canal de YouTube."
   ]
  },
  {
   "cell_type": "markdown",
   "metadata": {},
   "source": [
    "### 1.1. Extraindo uma imagem do Guaíba"
   ]
  },
  {
   "cell_type": "markdown",
   "metadata": {},
   "source": [
    "Inicalmente é realizada a leitura da área de estudo, de modo que seja possível extrair as imagens de satélite para a região de interesse, a partir da criação de uma `Feature Collection`."
   ]
  },
  {
   "cell_type": "code",
   "execution_count": 4,
   "metadata": {},
   "outputs": [],
   "source": [
    "# Leitura do arquivo shapefile da regiao\n",
    "gdf = gpd.read_file(\"../../data/external/bcrs25/guaiba.shp\") # geodataframe\n",
    "gdf.loc[:, \"nome\"] = \"Lago Guaíba\" #corrigir o nome\n",
    "\n",
    "# converter de shp para json\n",
    "roi = gdf.to_json()\n",
    "\n",
    "#carrega arquivo json\n",
    "roi = json.loads(roi)\n",
    "\n",
    "#o arquivo roi consiste em um dicionário. estamos interessados na key \"features\"\n",
    "roi = roi[\"features\"]\n",
    "\n",
    "#criamos uma FeatureCollection (https://developers.google.com/earth-engine/guides/feature_collections)\n",
    "region = ee.FeatureCollection(roi)"
   ]
  },
  {
   "cell_type": "markdown",
   "metadata": {},
   "source": [
    "Extrai-se uma `ImageCollection` (pilha de imagens sequenciais) da área de estudo. Trabalhou-se com o satélite Sentinel 2-A (https://developers.google.com/earth-engine/datasets/catalog/COPERNICUS_S2_SR), sendo disponibilizados dados desde 28/03/2017. As diferentes imagens serâo ordenadas pelo percentual de pixels associados a nuvens, selecionando-se a imagem mais limpa da série, recortando para a área de interesse."
   ]
  },
  {
   "cell_type": "code",
   "execution_count": 5,
   "metadata": {},
   "outputs": [],
   "source": [
    "guaiba_img = ee.ImageCollection(\"COPERNICUS/S2_SR\")\\\n",
    "    .filterBounds(region)\\\n",
    "    .sort(\"CLOUDY_PIXEL_PERCENTAGE\")\\\n",
    "    .first()\\\n",
    "    .clip(region)"
   ]
  },
  {
   "cell_type": "code",
   "execution_count": 5,
   "metadata": {},
   "outputs": [
    {
     "data": {
      "text/plain": [
       "0.002317"
      ]
     },
     "execution_count": 5,
     "metadata": {},
     "output_type": "execute_result"
    }
   ],
   "source": [
    "guaiba_img.get(\"CLOUDY_PIXEL_PERCENTAGE\").getInfo()"
   ]
  },
  {
   "cell_type": "code",
   "execution_count": 6,
   "metadata": {},
   "outputs": [
    {
     "name": "stdout",
     "output_type": "stream",
     "text": [
      "imagem do dia 2022-02-16\n"
     ]
    }
   ],
   "source": [
    "import datetime\n",
    "\n",
    "data_da_img = datetime.datetime\\\n",
    "    .fromtimestamp(guaiba_img.date().millis().getInfo()/1000)\\\n",
    "    .strftime(\"%Y-%m-%d\")\n",
    "\n",
    "print(f\"imagem do dia {data_da_img}\")"
   ]
  },
  {
   "cell_type": "code",
   "execution_count": 7,
   "metadata": {},
   "outputs": [
    {
     "data": {
      "application/vnd.jupyter.widget-view+json": {
       "model_id": "3e9a054fbca845efba1cefc269769c64",
       "version_major": 2,
       "version_minor": 0
      },
      "text/plain": [
       "Map(center=[-30.208419, -51.255901], controls=(WidgetControl(options=['position', 'transparent_bg'], widget=HB…"
      ]
     },
     "metadata": {},
     "output_type": "display_data"
    }
   ],
   "source": [
    "Map_01 = geemap.Map()\n",
    "\n",
    "Map_01 = geemap.Map(location=[-30.208419, -51.255901], zoom_start=10)\n",
    "Map_01.add_basemap(\"HYBRID\")\n",
    "\n",
    "Map_01.addLayer(guaiba_img, {\"bands\": [\"B4\", \"B3\", \"B2\"],\n",
    "             \"min\": 0,\n",
    "             \"max\": 5000},\n",
    "             \"Sentinel 2\")\n",
    "\n",
    "display(Map_01)"
   ]
  },
  {
   "cell_type": "markdown",
   "metadata": {},
   "source": [
    "### 1.2. Calculando NDCI para uma única imagem"
   ]
  },
  {
   "cell_type": "markdown",
   "metadata": {},
   "source": [
    "Para os cálculos dos índices, faz-se necessário multiplicar a reflectância por 0.0001, considerando que as bandas foram escaladas.\n",
    "\n",
    "https://gis.stackexchange.com/questions/324489/sentinel-2-surface-reflectance-range"
   ]
  },
  {
   "cell_type": "code",
   "execution_count": 8,
   "metadata": {},
   "outputs": [],
   "source": [
    "img_reflectancia = guaiba_img.multiply(0.0001) "
   ]
  },
  {
   "cell_type": "markdown",
   "metadata": {},
   "source": [
    "O Normalized Difference Chlorophyll Index (NDCI) consiste em um índice utilizado para a identificação de locais com floração de algas, identificando-se alguns trabalhos que já foram feitos a partir dele, por exemplo:\n",
    "\n",
    "https://www.mdpi.com/2072-4292/13/15/2874/htm\n",
    "\n",
    "http://www.pjoes.com/pdf-98994-42186?filename=Assessing%20Spectral.pdf\n",
    "\n",
    "O índice é calculado a partir da seguinte expressão:\n",
    "\n",
    "$$\\mathrm{NDCI} = \\frac{\\rho_{\\mathrm{V1}} - \\rho_{\\mathrm{R}}}{\\rho_{\\mathrm{V1}} + \\rho_{\\mathrm{R}}}$$\n",
    "\n",
    "Em que $\\rho_{\\mathrm{R}}$ consiste na banda do vermelho visível (B4) e $\\rho_{\\mathrm{V1}}$ na \"red edge\" (B5)"
   ]
  },
  {
   "cell_type": "markdown",
   "metadata": {},
   "source": [
    "O trabalho também irá considerar o valor de NDVI, em que $\\rho_{\\mathrm{NIR}}$ consiste no infravermelho próximo\n",
    "\n",
    "$$\\mathrm{NDVI} = \\frac{\\rho_{\\mathrm{NIR}} - \\rho_{\\mathrm{R}}}{\\rho_{\\mathrm{NIR}} + \\rho_{\\mathrm{R}}}$$"
   ]
  },
  {
   "cell_type": "code",
   "execution_count": 9,
   "metadata": {},
   "outputs": [
    {
     "data": {
      "application/vnd.jupyter.widget-view+json": {
       "model_id": "3e9a054fbca845efba1cefc269769c64",
       "version_major": 2,
       "version_minor": 0
      },
      "text/plain": [
       "Map(center=[-30.208419, -51.255901], controls=(WidgetControl(options=['position', 'transparent_bg'], widget=HB…"
      ]
     },
     "metadata": {},
     "output_type": "display_data"
    }
   ],
   "source": [
    "ndci_img = img_reflectancia.normalizedDifference([\"B5\", \"B4\"]).rename(\"NDCI\")\n",
    "ndci_viz = {\"min\":-1,\"max\":1,\"palette\":[\"black\",\"green\", \"yellow\",\"red\"]}\n",
    "\n",
    "Map_01.addLayer(ndci_img, ndci_viz, \"NDCI\")\n",
    "display(Map_01)"
   ]
  },
  {
   "cell_type": "markdown",
   "metadata": {},
   "source": [
    "Verifica-se que os maiores valores de NDCI para a imagem ocorrem junto à porção de terra situada mais ao norte do Guaíba. Além disso, como esperado, a distribuição dos valores de NDCI não é uniforme ao longo do Lago Guaíba.\n",
    "\n",
    "Considerando a presença de trecho de terra, busca-se sua remoção a partir da aplicação de máscara a partir dos índices NDWI (Normalized Difference Water Index) e NDVI (Normalized Difference Vegetation Index)."
   ]
  },
  {
   "cell_type": "code",
   "execution_count": 10,
   "metadata": {},
   "outputs": [],
   "source": [
    "# Mask de água\n",
    "ndwi = img_reflectancia.normalizedDifference([\"B3\", \"B8\"]).rename(\"NDWI\")\n",
    "ndvi = img_reflectancia.normalizedDifference([\"B8\", \"B4\"]).rename(\"NDVI\")\n",
    "mask_agua = ndvi.lte(0).And(ndwi.gte(0))"
   ]
  },
  {
   "cell_type": "code",
   "execution_count": 11,
   "metadata": {},
   "outputs": [
    {
     "data": {
      "application/vnd.jupyter.widget-view+json": {
       "model_id": "3e9a054fbca845efba1cefc269769c64",
       "version_major": 2,
       "version_minor": 0
      },
      "text/plain": [
       "Map(center=[-30.208419, -51.255901], controls=(WidgetControl(options=['position', 'transparent_bg'], widget=HB…"
      ]
     },
     "metadata": {},
     "output_type": "display_data"
    }
   ],
   "source": [
    "ndci_masked = ndci_img.updateMask(mask_agua)\n",
    "Map_01.addLayer(ndci_masked, ndci_viz, \"NDCI masked\")\n",
    "display(Map_01)"
   ]
  },
  {
   "cell_type": "markdown",
   "metadata": {},
   "source": [
    "## 2. Trabalhando com séries temporais"
   ]
  },
  {
   "cell_type": "markdown",
   "metadata": {},
   "source": [
    "Busca-se agora extrair uma coleção de imagens para a área de estudo."
   ]
  },
  {
   "cell_type": "code",
   "execution_count": 12,
   "metadata": {},
   "outputs": [
    {
     "name": "stdout",
     "output_type": "stream",
     "text": [
      "171 imagens entre 2018-12-29 e 2022-05-12\n"
     ]
    }
   ],
   "source": [
    "guaiba_collection = ee.ImageCollection(\"COPERNICUS/S2_SR\")\\\n",
    "    .filterBounds(region)\\\n",
    "    .filter(ee.Filter.lte(\"CLOUDY_PIXEL_PERCENTAGE\", 20))\n",
    "\n",
    "n_images = guaiba_collection.size().getInfo()\n",
    "date_range = guaiba_collection.reduceColumns(ee.Reducer.minMax(), [\"system:time_start\"])\n",
    "\n",
    "init_date = datetime.datetime\\\n",
    "    .fromtimestamp(date_range.get(\"min\")\\\n",
    "    .getInfo() / 1000)\\\n",
    "    .strftime(\"%Y-%m-%d\")\n",
    "\n",
    "last_date = datetime.datetime\\\n",
    "    .fromtimestamp(date_range.get(\"max\")\\\n",
    "    .getInfo() / 1000)\\\n",
    "    .strftime(\"%Y-%m-%d\")\n",
    "\n",
    "print(f\"{n_images} imagens entre {init_date} e {last_date}\")"
   ]
  },
  {
   "cell_type": "code",
   "execution_count": 23,
   "metadata": {},
   "outputs": [],
   "source": [
    "def add_id_date(img):\n",
    "    \"\"\"Adiciona ID e data da imagem Sentinel 2A\"\"\"\n",
    "\n",
    "    return img.set({\"ID\": img.get(\"system:id\")})\\\n",
    "                .set({\"millis\": img.date().millis()})\\\n",
    "                .set(\"date\", img.date().format())\n",
    "\n",
    "def mask_s2a_clouds(img):\n",
    "    \"\"\"Adiciona máscara de núvens em imagem Sentinel 2A, retornando bandas B*\n",
    "\n",
    "    Os bits 10 e 11 são nuvens e cirros, respectivamente.\n",
    "    https://developers.google.com/earth-engine/datasets/catalog/COPERNICUS_S2_SR\n",
    "    Créditos: Scripts Remote (Me. Christhian Cunha - https://linktr.ee/scriptsremotesensing)\"\"\"\n",
    "\n",
    "    qa60 = img.select('QA60')\n",
    "    \n",
    "    cloudBitMask = 1 << 10                              # Bit 10 corresponde a nuvens\n",
    "    cirrusBitMask = 1 << 11                             # Bit 11 corresponde a cirrus\n",
    "    \n",
    "    mask = qa60.bitwiseAnd(cloudBitMask).eq(0)and(qa60.bitwiseAnd(cirrusBitMask).eq(0))\n",
    "\n",
    "    return img.updateMask(mask)\\\n",
    "      .select(\"B.*\")\\\n",
    "      .copyProperties(img, img.propertyNames())\n",
    "\n",
    "def add_s2a_ndci_ndvi(img):\n",
    "    \"\"\"Adiciona NDCI e NDVI para imageCollection Sentinel 2A\n",
    "    \n",
    "    O cálculo dos índices considera as seguintes referências:\n",
    "    - Jaskula e Sojka (2019): http://www.pjoes.com/pdf-98994-42186?filename=Assessing%20Spectral.pdf\n",
    "    - Doc. Sentinel 2A GEEhttps://developers.google.com/earth-engine/datasets/catalog/COPERNICUS_S2_SR#bands\n",
    "    - Lobo et al (2021): https://www.mdpi.com/2072-4292/13/15/2874/html\"\"\"\n",
    "    \n",
    "    img_reflectancia = img.multiply(0.0001)\n",
    "    ndci_band = img_reflectancia.normalizedDifference([\"B5\", \"B4\"]).rename(\"NDCI\")\n",
    "    ndvi_band = img_reflectancia.normalizedDifference([\"B8\", \"B4\"]).rename(\"NDVI\")\n",
    "    \n",
    "    img_with_bands = img.addBands([ndci_band, ndvi_band])\\\n",
    "        .copyProperties(img, [\"system:time_start\"])\\\n",
    "        .set(\"date\", img.date().format(\"YYYY-MM-dd\"))\n",
    "    \n",
    "    return img_with_bands"
   ]
  },
  {
   "cell_type": "code",
   "execution_count": 17,
   "metadata": {},
   "outputs": [],
   "source": [
    "def clp_region(img):\n",
    "    return img.clip(region)"
   ]
  },
  {
   "cell_type": "code",
   "execution_count": 18,
   "metadata": {},
   "outputs": [],
   "source": [
    "guaiba_collection_ndvi_ndci = guaiba_collection.map(mask_s2a_clouds).map(clp_region).map(add_s2a_ndci_ndvi).map(add_id_date)"
   ]
  },
  {
   "cell_type": "code",
   "execution_count": null,
   "metadata": {},
   "outputs": [],
   "source": [
    "#verificar se NDVI e NDCI foram adicionados\n",
    "\n",
    "guaiba_collection_ndvi_ndci.first().bandNames().getInfo()"
   ]
  },
  {
   "cell_type": "markdown",
   "metadata": {},
   "source": [
    "### 2.1. Criando GIF"
   ]
  },
  {
   "cell_type": "code",
   "execution_count": 20,
   "metadata": {},
   "outputs": [],
   "source": [
    "import os"
   ]
  },
  {
   "cell_type": "code",
   "execution_count": 20,
   "metadata": {},
   "outputs": [],
   "source": [
    "gif_dir = \"../../data/processed/gee-gif/ndci\"\n",
    "\n",
    "if os.listdir(gif_dir) == []:\n",
    "    geemap.ee_export_image_collection(guaiba_collection_ndvi_ndci.select(\"NDCI\"),\n",
    "                                  out_dir=gif_dir,\n",
    "                                  crs=\"EPSG:4674\",\n",
    "                                  region=region.geometry())"
   ]
  },
  {
   "cell_type": "code",
   "execution_count": 21,
   "metadata": {},
   "outputs": [
    {
     "name": "stdout",
     "output_type": "stream",
     "text": [
      "Total number of images: 171\n",
      "\n",
      "Exporting 1/171: 20181229T133221_20181229T133218_T22JDM.tif\n",
      "Generating URL ...\n",
      "Downloading data from https://earthengine.googleapis.com/v1alpha/projects/earthengine-legacy/thumbnails/3a4cabd6c24cb3be52248327f5309079-b84690e54dc6c43f84fe7a66fd1fbe36:getPixels\n",
      "Please wait ...\n",
      "Data downloaded to C:\\Users\\Daniel\\Documents\\Projetos\\Alforriah\\gee_guaiba\\data\\processed\\gee-gif\\ndvi\\20181229T133221_20181229T133218_T22JDM.tif\n",
      "\n",
      "\n",
      "Exporting 2/171: 20190125T132231_20190125T132230_T22JDM.tif\n",
      "Generating URL ...\n",
      "Downloading data from https://earthengine.googleapis.com/v1alpha/projects/earthengine-legacy/thumbnails/e0be0196dea20cf9b8d331dd0ce2b852-4d134a2b32b4dbce3efd64bb5642ef4e:getPixels\n",
      "Please wait ...\n",
      "Data downloaded to C:\\Users\\Daniel\\Documents\\Projetos\\Alforriah\\gee_guaiba\\data\\processed\\gee-gif\\ndvi\\20190125T132231_20190125T132230_T22JDM.tif\n",
      "\n",
      "\n",
      "Exporting 3/171: 20190128T133221_20190128T133221_T22JDM.tif\n",
      "Generating URL ...\n",
      "Downloading data from https://earthengine.googleapis.com/v1alpha/projects/earthengine-legacy/thumbnails/57326c91bf7da75027fd55824b1b6f82-df78b6a0e367e81a210624bca94a8311:getPixels\n",
      "Please wait ...\n",
      "Data downloaded to C:\\Users\\Daniel\\Documents\\Projetos\\Alforriah\\gee_guaiba\\data\\processed\\gee-gif\\ndvi\\20190128T133221_20190128T133221_T22JDM.tif\n",
      "\n",
      "\n",
      "Exporting 4/171: 20190207T133221_20190207T133221_T22JDM.tif\n",
      "Generating URL ...\n",
      "Downloading data from https://earthengine.googleapis.com/v1alpha/projects/earthengine-legacy/thumbnails/3caad57fb16016fa1dff2955d649474b-6f99fc00156b92bbf0c34016cc19e487:getPixels\n",
      "Please wait ...\n",
      "Data downloaded to C:\\Users\\Daniel\\Documents\\Projetos\\Alforriah\\gee_guaiba\\data\\processed\\gee-gif\\ndvi\\20190207T133221_20190207T133221_T22JDM.tif\n",
      "\n",
      "\n",
      "Exporting 5/171: 20190209T132239_20190209T132233_T22JDM.tif\n",
      "Generating URL ...\n",
      "Downloading data from https://earthengine.googleapis.com/v1alpha/projects/earthengine-legacy/thumbnails/28c4ff03674653fd70fc8cb34c752d50-a5da68ff4befd8e61467459c43b6747a:getPixels\n",
      "Please wait ...\n",
      "Data downloaded to C:\\Users\\Daniel\\Documents\\Projetos\\Alforriah\\gee_guaiba\\data\\processed\\gee-gif\\ndvi\\20190209T132239_20190209T132233_T22JDM.tif\n",
      "\n",
      "\n",
      "Exporting 6/171: 20190214T132231_20190214T132229_T22JDM.tif\n",
      "Generating URL ...\n",
      "Downloading data from https://earthengine.googleapis.com/v1alpha/projects/earthengine-legacy/thumbnails/3bc814e248c88af963c4200b4f2b6d5f-034100c3102874f5d5c5cf40cefc584c:getPixels\n",
      "Please wait ...\n",
      "Data downloaded to C:\\Users\\Daniel\\Documents\\Projetos\\Alforriah\\gee_guaiba\\data\\processed\\gee-gif\\ndvi\\20190214T132231_20190214T132229_T22JDM.tif\n",
      "\n",
      "\n",
      "Exporting 7/171: 20190219T132229_20190219T132637_T22JDM.tif\n",
      "Generating URL ...\n",
      "Downloading data from https://earthengine.googleapis.com/v1alpha/projects/earthengine-legacy/thumbnails/1ede5636a76c69c0d765cb776a3af90e-828ac756fccdd88f9e5dcc94220920cf:getPixels\n",
      "Please wait ...\n",
      "Data downloaded to C:\\Users\\Daniel\\Documents\\Projetos\\Alforriah\\gee_guaiba\\data\\processed\\gee-gif\\ndvi\\20190219T132229_20190219T132637_T22JDM.tif\n",
      "\n",
      "\n",
      "Exporting 8/171: 20190222T133229_20190222T133328_T22JDM.tif\n",
      "Generating URL ...\n",
      "Downloading data from https://earthengine.googleapis.com/v1alpha/projects/earthengine-legacy/thumbnails/18d426398df51174aaa484f3a8f72d16-1ff81e8f9148d8eb54e47bd1ac3dfe94:getPixels\n",
      "Please wait ...\n",
      "Data downloaded to C:\\Users\\Daniel\\Documents\\Projetos\\Alforriah\\gee_guaiba\\data\\processed\\gee-gif\\ndvi\\20190222T133229_20190222T133328_T22JDM.tif\n",
      "\n",
      "\n",
      "Exporting 9/171: 20190301T132229_20190301T132658_T22JDM.tif\n",
      "Generating URL ...\n",
      "Downloading data from https://earthengine.googleapis.com/v1alpha/projects/earthengine-legacy/thumbnails/150e7c22e78d705f7207a8eb90ee45ad-291ae0dec9de04e070e52830dce1de90:getPixels\n",
      "Please wait ...\n",
      "Data downloaded to C:\\Users\\Daniel\\Documents\\Projetos\\Alforriah\\gee_guaiba\\data\\processed\\gee-gif\\ndvi\\20190301T132229_20190301T132658_T22JDM.tif\n",
      "\n",
      "\n",
      "Exporting 10/171: 20190314T133219_20190314T133942_T22JDM.tif\n",
      "Generating URL ...\n",
      "Downloading data from https://earthengine.googleapis.com/v1alpha/projects/earthengine-legacy/thumbnails/070be5b92991a1f338b65acb87b40ebc-e31c9408bc920be239c583243fc9daf1:getPixels\n",
      "Please wait ...\n",
      "Data downloaded to C:\\Users\\Daniel\\Documents\\Projetos\\Alforriah\\gee_guaiba\\data\\processed\\gee-gif\\ndvi\\20190314T133219_20190314T133942_T22JDM.tif\n",
      "\n",
      "\n",
      "Exporting 11/171: 20190316T132231_20190316T132230_T22JDM.tif\n",
      "Generating URL ...\n",
      "Downloading data from https://earthengine.googleapis.com/v1alpha/projects/earthengine-legacy/thumbnails/fe00a4543ccbc1afff63e17509b77fee-707b947169695d9649247fe027553ff2:getPixels\n",
      "Please wait ...\n",
      "Data downloaded to C:\\Users\\Daniel\\Documents\\Projetos\\Alforriah\\gee_guaiba\\data\\processed\\gee-gif\\ndvi\\20190316T132231_20190316T132230_T22JDM.tif\n",
      "\n",
      "\n",
      "Exporting 12/171: 20190321T132229_20190321T132858_T22JDM.tif\n",
      "Generating URL ...\n",
      "Downloading data from https://earthengine.googleapis.com/v1alpha/projects/earthengine-legacy/thumbnails/f8cddd10225c091a590c780506c5ba54-9f2f3bc61e512fad9361e4212f926d73:getPixels\n",
      "Please wait ...\n",
      "Data downloaded to C:\\Users\\Daniel\\Documents\\Projetos\\Alforriah\\gee_guaiba\\data\\processed\\gee-gif\\ndvi\\20190321T132229_20190321T132858_T22JDM.tif\n",
      "\n",
      "\n",
      "Exporting 13/171: 20190324T133229_20190324T133547_T22JDM.tif\n",
      "Generating URL ...\n",
      "Downloading data from https://earthengine.googleapis.com/v1alpha/projects/earthengine-legacy/thumbnails/4d3d925027d50383cd7917cab9000889-5f37005bc2065f29516e970686c98b6d:getPixels\n",
      "Please wait ...\n",
      "Data downloaded to C:\\Users\\Daniel\\Documents\\Projetos\\Alforriah\\gee_guaiba\\data\\processed\\gee-gif\\ndvi\\20190324T133229_20190324T133547_T22JDM.tif\n",
      "\n",
      "\n",
      "Exporting 14/171: 20190326T132231_20190326T132601_T22JDM.tif\n",
      "Generating URL ...\n",
      "Downloading data from https://earthengine.googleapis.com/v1alpha/projects/earthengine-legacy/thumbnails/bdea14959ff26cca67913221c5d1663a-fe5b42e3dfdc295510d544017d9d5ce5:getPixels\n",
      "Please wait ...\n",
      "Data downloaded to C:\\Users\\Daniel\\Documents\\Projetos\\Alforriah\\gee_guaiba\\data\\processed\\gee-gif\\ndvi\\20190326T132231_20190326T132601_T22JDM.tif\n",
      "\n",
      "\n",
      "Exporting 15/171: 20190403T133229_20190403T133835_T22JDM.tif\n",
      "Generating URL ...\n",
      "Downloading data from https://earthengine.googleapis.com/v1alpha/projects/earthengine-legacy/thumbnails/16f613ba1de96105b24180042e5a44f0-c492c4f992185fd76818e59f4267fd9a:getPixels\n",
      "Please wait ...\n",
      "Data downloaded to C:\\Users\\Daniel\\Documents\\Projetos\\Alforriah\\gee_guaiba\\data\\processed\\gee-gif\\ndvi\\20190403T133229_20190403T133835_T22JDM.tif\n",
      "\n",
      "\n",
      "Exporting 16/171: 20190410T132239_20190410T132454_T22JDM.tif\n",
      "Generating URL ...\n",
      "Downloading data from https://earthengine.googleapis.com/v1alpha/projects/earthengine-legacy/thumbnails/65a2aa84d0d8f3a0b30389cb1f900cd1-87dfab2d3180ccdb53bce65c244e2271:getPixels\n",
      "Please wait ...\n",
      "Data downloaded to C:\\Users\\Daniel\\Documents\\Projetos\\Alforriah\\gee_guaiba\\data\\processed\\gee-gif\\ndvi\\20190410T132239_20190410T132454_T22JDM.tif\n",
      "\n",
      "\n",
      "Exporting 17/171: 20190518T133231_20190518T133919_T22JDM.tif\n",
      "Generating URL ...\n",
      "Downloading data from https://earthengine.googleapis.com/v1alpha/projects/earthengine-legacy/thumbnails/d92e3397993cee6c9c1d8b3291905a0d-7701570ec16b428ec64419511c704e97:getPixels\n",
      "Please wait ...\n",
      "Data downloaded to C:\\Users\\Daniel\\Documents\\Projetos\\Alforriah\\gee_guaiba\\data\\processed\\gee-gif\\ndvi\\20190518T133231_20190518T133919_T22JDM.tif\n",
      "\n",
      "\n",
      "Exporting 18/171: 20190525T132241_20190525T132236_T22JDM.tif\n",
      "Generating URL ...\n",
      "Downloading data from https://earthengine.googleapis.com/v1alpha/projects/earthengine-legacy/thumbnails/612a59b8ee48883a6d43215a50590003-fc49898a0aa1425ea19fbdd1521acb61:getPixels\n",
      "Please wait ...\n",
      "Data downloaded to C:\\Users\\Daniel\\Documents\\Projetos\\Alforriah\\gee_guaiba\\data\\processed\\gee-gif\\ndvi\\20190525T132241_20190525T132236_T22JDM.tif\n",
      "\n",
      "\n",
      "Exporting 19/171: 20190707T133231_20190707T133229_T22JDM.tif\n",
      "Generating URL ...\n",
      "Downloading data from https://earthengine.googleapis.com/v1alpha/projects/earthengine-legacy/thumbnails/51f1ea994f9499df805237ed6e502bd4-2b3116f0a8c51aa9db4b3ee535725d4d:getPixels\n",
      "Please wait ...\n",
      "Data downloaded to C:\\Users\\Daniel\\Documents\\Projetos\\Alforriah\\gee_guaiba\\data\\processed\\gee-gif\\ndvi\\20190707T133231_20190707T133229_T22JDM.tif\n",
      "\n",
      "\n",
      "Exporting 20/171: 20190712T133239_20190712T134011_T22JDM.tif\n",
      "Generating URL ...\n",
      "Downloading data from https://earthengine.googleapis.com/v1alpha/projects/earthengine-legacy/thumbnails/1cf30dc4e3634a1787f7e15682c502c9-805816242048100b908e0cff63e07ec5:getPixels\n",
      "Please wait ...\n"
     ]
    },
    {
     "name": "stdout",
     "output_type": "stream",
     "text": [
      "Data downloaded to C:\\Users\\Daniel\\Documents\\Projetos\\Alforriah\\gee_guaiba\\data\\processed\\gee-gif\\ndvi\\20190712T133239_20190712T134011_T22JDM.tif\n",
      "\n",
      "\n",
      "Exporting 21/171: 20190803T132241_20190803T132910_T22JDM.tif\n",
      "Generating URL ...\n",
      "Downloading data from https://earthengine.googleapis.com/v1alpha/projects/earthengine-legacy/thumbnails/29663db4982cb35b743c019ebd5400e2-cae52740322708e92009824d013c6661:getPixels\n",
      "Please wait ...\n",
      "Data downloaded to C:\\Users\\Daniel\\Documents\\Projetos\\Alforriah\\gee_guaiba\\data\\processed\\gee-gif\\ndvi\\20190803T132241_20190803T132910_T22JDM.tif\n",
      "\n",
      "\n",
      "Exporting 22/171: 20190806T133231_20190806T133228_T22JDM.tif\n",
      "Generating URL ...\n",
      "Downloading data from https://earthengine.googleapis.com/v1alpha/projects/earthengine-legacy/thumbnails/21a86e390f5b09b316cbe6fb5c685c30-dbb8a5907aaefa40767ed6c8e09ae5f3:getPixels\n",
      "Please wait ...\n",
      "Data downloaded to C:\\Users\\Daniel\\Documents\\Projetos\\Alforriah\\gee_guaiba\\data\\processed\\gee-gif\\ndvi\\20190806T133231_20190806T133228_T22JDM.tif\n",
      "\n",
      "\n",
      "Exporting 23/171: 20190811T133229_20190811T133958_T22JDM.tif\n",
      "Generating URL ...\n",
      "Downloading data from https://earthengine.googleapis.com/v1alpha/projects/earthengine-legacy/thumbnails/56fd4ca34f5833b1c89edbbca4bd9b81-7271548708faeee74ef475f554d407a0:getPixels\n",
      "Please wait ...\n",
      "Data downloaded to C:\\Users\\Daniel\\Documents\\Projetos\\Alforriah\\gee_guaiba\\data\\processed\\gee-gif\\ndvi\\20190811T133229_20190811T133958_T22JDM.tif\n",
      "\n",
      "\n",
      "Exporting 24/171: 20190902T132231_20190902T132233_T22JDM.tif\n",
      "Generating URL ...\n",
      "Downloading data from https://earthengine.googleapis.com/v1alpha/projects/earthengine-legacy/thumbnails/666ed122e1979f430041052236c4fd19-c1eb35f90b0b4abfe8722ce64dc6f913:getPixels\n",
      "Please wait ...\n",
      "Data downloaded to C:\\Users\\Daniel\\Documents\\Projetos\\Alforriah\\gee_guaiba\\data\\processed\\gee-gif\\ndvi\\20190902T132231_20190902T132233_T22JDM.tif\n",
      "\n",
      "\n",
      "Exporting 25/171: 20190915T133221_20190915T133223_T22JDM.tif\n",
      "Generating URL ...\n",
      "Downloading data from https://earthengine.googleapis.com/v1alpha/projects/earthengine-legacy/thumbnails/b330245224cf3cf1821989e941870358-869874a4600298d76e4510637c357d32:getPixels\n",
      "Please wait ...\n",
      "Data downloaded to C:\\Users\\Daniel\\Documents\\Projetos\\Alforriah\\gee_guaiba\\data\\processed\\gee-gif\\ndvi\\20190915T133221_20190915T133223_T22JDM.tif\n",
      "\n",
      "\n",
      "Exporting 26/171: 20190922T132231_20190922T132233_T22JDM.tif\n",
      "Generating URL ...\n",
      "Downloading data from https://earthengine.googleapis.com/v1alpha/projects/earthengine-legacy/thumbnails/9d8e38b62cd6cf8ce6c267b1c9900986-60c4401fc272280af15d94c11af070eb:getPixels\n",
      "Please wait ...\n",
      "Data downloaded to C:\\Users\\Daniel\\Documents\\Projetos\\Alforriah\\gee_guaiba\\data\\processed\\gee-gif\\ndvi\\20190922T132231_20190922T132233_T22JDM.tif\n",
      "\n",
      "\n",
      "Exporting 27/171: 20190925T133231_20190925T133540_T22JDM.tif\n",
      "Generating URL ...\n",
      "Downloading data from https://earthengine.googleapis.com/v1alpha/projects/earthengine-legacy/thumbnails/14415aff6780bdf7a144462cfe679d0d-19194101c6d634282bf77779be6bf975:getPixels\n",
      "Please wait ...\n",
      "Data downloaded to C:\\Users\\Daniel\\Documents\\Projetos\\Alforriah\\gee_guaiba\\data\\processed\\gee-gif\\ndvi\\20190925T133231_20190925T133540_T22JDM.tif\n",
      "\n",
      "\n",
      "Exporting 28/171: 20190930T133229_20190930T133239_T22JDM.tif\n",
      "Generating URL ...\n",
      "Downloading data from https://earthengine.googleapis.com/v1alpha/projects/earthengine-legacy/thumbnails/f3eaeefca4c80a59806ea6f4b1204195-c94b83894704596e5f8236a0c09ddbc2:getPixels\n",
      "Please wait ...\n",
      "Data downloaded to C:\\Users\\Daniel\\Documents\\Projetos\\Alforriah\\gee_guaiba\\data\\processed\\gee-gif\\ndvi\\20190930T133229_20190930T133239_T22JDM.tif\n",
      "\n",
      "\n",
      "Exporting 29/171: 20191007T132239_20191007T133037_T22JDM.tif\n",
      "Generating URL ...\n",
      "Downloading data from https://earthengine.googleapis.com/v1alpha/projects/earthengine-legacy/thumbnails/9406465bcae9cbbb1cd3b1a5f09b110f-87b0343125ffb99ba78f885ffe565c5a:getPixels\n",
      "Please wait ...\n",
      "Data downloaded to C:\\Users\\Daniel\\Documents\\Projetos\\Alforriah\\gee_guaiba\\data\\processed\\gee-gif\\ndvi\\20191007T132239_20191007T133037_T22JDM.tif\n",
      "\n",
      "\n",
      "Exporting 30/171: 20191012T132241_20191012T132236_T22JDM.tif\n",
      "Generating URL ...\n",
      "Downloading data from https://earthengine.googleapis.com/v1alpha/projects/earthengine-legacy/thumbnails/5141e0c6fc67cd8cff851935a1741409-18ae8e0f7d3239234bea98a960a7d50c:getPixels\n",
      "Please wait ...\n",
      "Data downloaded to C:\\Users\\Daniel\\Documents\\Projetos\\Alforriah\\gee_guaiba\\data\\processed\\gee-gif\\ndvi\\20191012T132241_20191012T132236_T22JDM.tif\n",
      "\n",
      "\n",
      "Exporting 31/171: 20191106T132239_20191106T132515_T22JDM.tif\n",
      "Generating URL ...\n",
      "Downloading data from https://earthengine.googleapis.com/v1alpha/projects/earthengine-legacy/thumbnails/227ad37647e7e45636a3f5ed8e4ad5e8-2a39aa4f03914c735769da5f99e4a13c:getPixels\n",
      "Please wait ...\n",
      "Data downloaded to C:\\Users\\Daniel\\Documents\\Projetos\\Alforriah\\gee_guaiba\\data\\processed\\gee-gif\\ndvi\\20191106T132239_20191106T132515_T22JDM.tif\n",
      "\n",
      "\n",
      "Exporting 32/171: 20191116T132229_20191116T132231_T22JDM.tif\n",
      "Generating URL ...\n",
      "Downloading data from https://earthengine.googleapis.com/v1alpha/projects/earthengine-legacy/thumbnails/1030427f84a80cf76eb7c76a7d13d906-14b11b8f96f980564b95caa11849de06:getPixels\n",
      "Please wait ...\n",
      "Data downloaded to C:\\Users\\Daniel\\Documents\\Projetos\\Alforriah\\gee_guaiba\\data\\processed\\gee-gif\\ndvi\\20191116T132229_20191116T132231_T22JDM.tif\n",
      "\n",
      "\n",
      "Exporting 33/171: 20191119T133219_20191119T133222_T22JDM.tif\n",
      "Generating URL ...\n",
      "Downloading data from https://earthengine.googleapis.com/v1alpha/projects/earthengine-legacy/thumbnails/ed23b4b6c0e04daf287b0b35930f60e7-6944cdb39ae118d2175d7cb002e8f691:getPixels\n",
      "Please wait ...\n",
      "Data downloaded to C:\\Users\\Daniel\\Documents\\Projetos\\Alforriah\\gee_guaiba\\data\\processed\\gee-gif\\ndvi\\20191119T133219_20191119T133222_T22JDM.tif\n",
      "\n",
      "\n",
      "Exporting 34/171: 20191121T132231_20191121T132234_T22JDM.tif\n",
      "Generating URL ...\n",
      "Downloading data from https://earthengine.googleapis.com/v1alpha/projects/earthengine-legacy/thumbnails/049a91ed1bec31195bc37a6a8928cd95-40526c289d1e34e9b0d43830ba433c3f:getPixels\n",
      "Please wait ...\n",
      "Data downloaded to C:\\Users\\Daniel\\Documents\\Projetos\\Alforriah\\gee_guaiba\\data\\processed\\gee-gif\\ndvi\\20191121T132231_20191121T132234_T22JDM.tif\n",
      "\n",
      "\n",
      "Exporting 35/171: 20191129T133219_20191129T133219_T22JDM.tif\n",
      "Generating URL ...\n",
      "Downloading data from https://earthengine.googleapis.com/v1alpha/projects/earthengine-legacy/thumbnails/c73bca7310e42fd91fd8c77559b5a33e-d8bcdbfd1d25ecec9c482589d00f496b:getPixels\n",
      "Please wait ...\n",
      "Data downloaded to C:\\Users\\Daniel\\Documents\\Projetos\\Alforriah\\gee_guaiba\\data\\processed\\gee-gif\\ndvi\\20191129T133219_20191129T133219_T22JDM.tif\n",
      "\n",
      "\n",
      "Exporting 36/171: 20191204T133221_20191204T133222_T22JDM.tif\n",
      "Generating URL ...\n",
      "Downloading data from https://earthengine.googleapis.com/v1alpha/projects/earthengine-legacy/thumbnails/c99682c46e27daf92de5475bce61d7cb-acc723a8e2a8d964464f4c346e565dc4:getPixels\n",
      "Please wait ...\n",
      "Data downloaded to C:\\Users\\Daniel\\Documents\\Projetos\\Alforriah\\gee_guaiba\\data\\processed\\gee-gif\\ndvi\\20191204T133221_20191204T133222_T22JDM.tif\n",
      "\n",
      "\n",
      "Exporting 37/171: 20191206T132229_20191206T132227_T22JDM.tif\n",
      "Generating URL ...\n",
      "Downloading data from https://earthengine.googleapis.com/v1alpha/projects/earthengine-legacy/thumbnails/7c9878bb88e4c3f53cda522d9b363d39-9cdfb0988152e6c527ab4be8720c1e76:getPixels\n",
      "Please wait ...\n",
      "Data downloaded to C:\\Users\\Daniel\\Documents\\Projetos\\Alforriah\\gee_guaiba\\data\\processed\\gee-gif\\ndvi\\20191206T132229_20191206T132227_T22JDM.tif\n",
      "\n",
      "\n",
      "Exporting 38/171: 20191209T133219_20191209T133942_T22JDM.tif\n",
      "Generating URL ...\n",
      "Downloading data from https://earthengine.googleapis.com/v1alpha/projects/earthengine-legacy/thumbnails/24cae8d91e4684bd1bfffbbdea3b75c8-95119876b1eb31ac4d396f1d6dfeca40:getPixels\n",
      "Please wait ...\n",
      "Data downloaded to C:\\Users\\Daniel\\Documents\\Projetos\\Alforriah\\gee_guaiba\\data\\processed\\gee-gif\\ndvi\\20191209T133219_20191209T133942_T22JDM.tif\n",
      "\n",
      "\n",
      "Exporting 39/171: 20191211T132231_20191211T132229_T22JDM.tif\n",
      "Generating URL ...\n",
      "Downloading data from https://earthengine.googleapis.com/v1alpha/projects/earthengine-legacy/thumbnails/ed4e86b4263b6a199e0094d536a21003-98f54093d808d97c7b7a76ab4f2c430f:getPixels\n",
      "Please wait ...\n",
      "Data downloaded to C:\\Users\\Daniel\\Documents\\Projetos\\Alforriah\\gee_guaiba\\data\\processed\\gee-gif\\ndvi\\20191211T132231_20191211T132229_T22JDM.tif\n",
      "\n",
      "\n"
     ]
    },
    {
     "name": "stdout",
     "output_type": "stream",
     "text": [
      "Exporting 40/171: 20191219T133219_20191219T133219_T22JDM.tif\n",
      "Generating URL ...\n",
      "Downloading data from https://earthengine.googleapis.com/v1alpha/projects/earthengine-legacy/thumbnails/93d8a88ab05d2d6c546b152ca0fce96a-a9d2baef4b4269f5430cf343d62fae8a:getPixels\n",
      "Please wait ...\n",
      "Data downloaded to C:\\Users\\Daniel\\Documents\\Projetos\\Alforriah\\gee_guaiba\\data\\processed\\gee-gif\\ndvi\\20191219T133219_20191219T133219_T22JDM.tif\n",
      "\n",
      "\n",
      "Exporting 41/171: 20191224T133221_20191224T133219_T22JDM.tif\n",
      "Generating URL ...\n",
      "Downloading data from https://earthengine.googleapis.com/v1alpha/projects/earthengine-legacy/thumbnails/ae3d572117ff98bbe07e31b2986a8909-4409331d72224c6f13156b5104a139d0:getPixels\n",
      "Please wait ...\n",
      "Data downloaded to C:\\Users\\Daniel\\Documents\\Projetos\\Alforriah\\gee_guaiba\\data\\processed\\gee-gif\\ndvi\\20191224T133221_20191224T133219_T22JDM.tif\n",
      "\n",
      "\n",
      "Exporting 42/171: 20191226T132229_20191226T132409_T22JDM.tif\n",
      "Generating URL ...\n",
      "Downloading data from https://earthengine.googleapis.com/v1alpha/projects/earthengine-legacy/thumbnails/6f09219499cd49fc3632bf954cb59d58-10d547892a746f7892dfd45188be8d3e:getPixels\n",
      "Please wait ...\n",
      "Data downloaded to C:\\Users\\Daniel\\Documents\\Projetos\\Alforriah\\gee_guaiba\\data\\processed\\gee-gif\\ndvi\\20191226T132229_20191226T132409_T22JDM.tif\n",
      "\n",
      "\n",
      "Exporting 43/171: 20200105T132229_20200105T132227_T22JDM.tif\n",
      "Generating URL ...\n",
      "Downloading data from https://earthengine.googleapis.com/v1alpha/projects/earthengine-legacy/thumbnails/e847cd6e63e3a6dddab64f63359e8313-33769fb5a3e740cf83910c4bb11279fb:getPixels\n",
      "Please wait ...\n",
      "Data downloaded to C:\\Users\\Daniel\\Documents\\Projetos\\Alforriah\\gee_guaiba\\data\\processed\\gee-gif\\ndvi\\20200105T132229_20200105T132227_T22JDM.tif\n",
      "\n",
      "\n",
      "Exporting 44/171: 20200110T132231_20200110T132227_T22JDM.tif\n",
      "Generating URL ...\n",
      "Downloading data from https://earthengine.googleapis.com/v1alpha/projects/earthengine-legacy/thumbnails/ad0da39e0942f55ff42876ae0bab2abe-ef4460987f3e463507f579a098a541a9:getPixels\n",
      "Please wait ...\n",
      "Data downloaded to C:\\Users\\Daniel\\Documents\\Projetos\\Alforriah\\gee_guaiba\\data\\processed\\gee-gif\\ndvi\\20200110T132231_20200110T132227_T22JDM.tif\n",
      "\n",
      "\n",
      "Exporting 45/171: 20200118T133219_20200118T133218_T22JDM.tif\n",
      "Generating URL ...\n",
      "Downloading data from https://earthengine.googleapis.com/v1alpha/projects/earthengine-legacy/thumbnails/1763b91edea335c6a6d301c9f049599d-4abf428f9902eba41857b0a6a934c0df:getPixels\n",
      "Please wait ...\n",
      "Data downloaded to C:\\Users\\Daniel\\Documents\\Projetos\\Alforriah\\gee_guaiba\\data\\processed\\gee-gif\\ndvi\\20200118T133219_20200118T133218_T22JDM.tif\n",
      "\n",
      "\n",
      "Exporting 46/171: 20200120T132231_20200120T132226_T22JDM.tif\n",
      "Generating URL ...\n",
      "Downloading data from https://earthengine.googleapis.com/v1alpha/projects/earthengine-legacy/thumbnails/ca0bcb7bf3c9dbabf8cdab8f54854df8-f0e225a5f06a7b65fdd85a5ff7d9ac52:getPixels\n",
      "Please wait ...\n",
      "Data downloaded to C:\\Users\\Daniel\\Documents\\Projetos\\Alforriah\\gee_guaiba\\data\\processed\\gee-gif\\ndvi\\20200120T132231_20200120T132226_T22JDM.tif\n",
      "\n",
      "\n",
      "Exporting 47/171: 20200125T132229_20200125T132447_T22JDM.tif\n",
      "Generating URL ...\n",
      "Downloading data from https://earthengine.googleapis.com/v1alpha/projects/earthengine-legacy/thumbnails/ca2bb7b58119e78d2d03f169440d0cee-9d310faa4336b482c64626457d6e034c:getPixels\n",
      "Please wait ...\n",
      "Data downloaded to C:\\Users\\Daniel\\Documents\\Projetos\\Alforriah\\gee_guaiba\\data\\processed\\gee-gif\\ndvi\\20200125T132229_20200125T132447_T22JDM.tif\n",
      "\n",
      "\n",
      "Exporting 48/171: 20200202T133221_20200202T133216_T22JDM.tif\n",
      "Generating URL ...\n",
      "Downloading data from https://earthengine.googleapis.com/v1alpha/projects/earthengine-legacy/thumbnails/6b07106bae1d0c666f8399393c9e276f-d157e22e9c3ecd17f12ed8a4a90eae25:getPixels\n",
      "Please wait ...\n",
      "Data downloaded to C:\\Users\\Daniel\\Documents\\Projetos\\Alforriah\\gee_guaiba\\data\\processed\\gee-gif\\ndvi\\20200202T133221_20200202T133216_T22JDM.tif\n",
      "\n",
      "\n",
      "Exporting 49/171: 20200207T133219_20200207T133833_T22JDM.tif\n",
      "Generating URL ...\n",
      "Downloading data from https://earthengine.googleapis.com/v1alpha/projects/earthengine-legacy/thumbnails/c4ffc037f3cc0fb36a8cf1e47209bdfb-0a563d97bfd0ea9b883767851f863450:getPixels\n",
      "Please wait ...\n",
      "Data downloaded to C:\\Users\\Daniel\\Documents\\Projetos\\Alforriah\\gee_guaiba\\data\\processed\\gee-gif\\ndvi\\20200207T133219_20200207T133833_T22JDM.tif\n",
      "\n",
      "\n",
      "Exporting 50/171: 20200222T133221_20200222T133219_T22JDM.tif\n",
      "Generating URL ...\n",
      "Downloading data from https://earthengine.googleapis.com/v1alpha/projects/earthengine-legacy/thumbnails/39619cec075fe4934611f17320020dec-3e843d5e56eb220ab354192e761fe6ad:getPixels\n",
      "Please wait ...\n",
      "Data downloaded to C:\\Users\\Daniel\\Documents\\Projetos\\Alforriah\\gee_guaiba\\data\\processed\\gee-gif\\ndvi\\20200222T133221_20200222T133219_T22JDM.tif\n",
      "\n",
      "\n",
      "Exporting 51/171: 20200224T132229_20200224T132410_T22JDM.tif\n",
      "Generating URL ...\n",
      "Downloading data from https://earthengine.googleapis.com/v1alpha/projects/earthengine-legacy/thumbnails/a1f147a293b43e7ba35a9957225fe5bc-59257b2287a11a2c22a89280c6a95e17:getPixels\n",
      "Please wait ...\n",
      "Data downloaded to C:\\Users\\Daniel\\Documents\\Projetos\\Alforriah\\gee_guaiba\\data\\processed\\gee-gif\\ndvi\\20200224T132229_20200224T132410_T22JDM.tif\n",
      "\n",
      "\n",
      "Exporting 52/171: 20200227T133219_20200227T133221_T22JDM.tif\n",
      "Generating URL ...\n",
      "Downloading data from https://earthengine.googleapis.com/v1alpha/projects/earthengine-legacy/thumbnails/94dae17b3cafcafeef5a784f95426799-f3e030ebde3f93ed0f7d7351b3812294:getPixels\n",
      "Please wait ...\n",
      "Data downloaded to C:\\Users\\Daniel\\Documents\\Projetos\\Alforriah\\gee_guaiba\\data\\processed\\gee-gif\\ndvi\\20200227T133219_20200227T133221_T22JDM.tif\n",
      "\n",
      "\n",
      "Exporting 53/171: 20200229T132231_20200229T132228_T22JDM.tif\n",
      "Generating URL ...\n",
      "Downloading data from https://earthengine.googleapis.com/v1alpha/projects/earthengine-legacy/thumbnails/2b32bdc0a3477ffbfdaa8db4b465797b-2735ad928f7276c7c9d166de73b68c6e:getPixels\n",
      "Please wait ...\n",
      "Data downloaded to C:\\Users\\Daniel\\Documents\\Projetos\\Alforriah\\gee_guaiba\\data\\processed\\gee-gif\\ndvi\\20200229T132231_20200229T132228_T22JDM.tif\n",
      "\n",
      "\n",
      "Exporting 54/171: 20200303T133221_20200303T133220_T22JDM.tif\n",
      "Generating URL ...\n",
      "Downloading data from https://earthengine.googleapis.com/v1alpha/projects/earthengine-legacy/thumbnails/ad94802e1ae2b737077213c3414399ef-332d9fa8065999157ab4cc8a0e0b0760:getPixels\n",
      "Please wait ...\n",
      "Data downloaded to C:\\Users\\Daniel\\Documents\\Projetos\\Alforriah\\gee_guaiba\\data\\processed\\gee-gif\\ndvi\\20200303T133221_20200303T133220_T22JDM.tif\n",
      "\n",
      "\n",
      "Exporting 55/171: 20200305T132229_20200305T132856_T22JDM.tif\n",
      "Generating URL ...\n",
      "Downloading data from https://earthengine.googleapis.com/v1alpha/projects/earthengine-legacy/thumbnails/1d6db4f8b00b4953e0955a5f26c53455-84f5a9d4f53b94c27c9fe5fd149545be:getPixels\n",
      "Please wait ...\n",
      "Data downloaded to C:\\Users\\Daniel\\Documents\\Projetos\\Alforriah\\gee_guaiba\\data\\processed\\gee-gif\\ndvi\\20200305T132229_20200305T132856_T22JDM.tif\n",
      "\n",
      "\n",
      "Exporting 56/171: 20200308T133219_20200308T133949_T22JDM.tif\n",
      "Generating URL ...\n",
      "Downloading data from https://earthengine.googleapis.com/v1alpha/projects/earthengine-legacy/thumbnails/7a92d6aff0628179b85b965c102f0bc8-611cda48310e0e66f057b5484eed98ac:getPixels\n",
      "Please wait ...\n",
      "Data downloaded to C:\\Users\\Daniel\\Documents\\Projetos\\Alforriah\\gee_guaiba\\data\\processed\\gee-gif\\ndvi\\20200308T133219_20200308T133949_T22JDM.tif\n",
      "\n",
      "\n",
      "Exporting 57/171: 20200313T133221_20200313T133220_T22JDM.tif\n",
      "Generating URL ...\n",
      "Downloading data from https://earthengine.googleapis.com/v1alpha/projects/earthengine-legacy/thumbnails/2f02ddf7b7b8e99a27ed8a0f50268ecf-779373c0a6c42751e9e388703fe396fa:getPixels\n",
      "Please wait ...\n",
      "Data downloaded to C:\\Users\\Daniel\\Documents\\Projetos\\Alforriah\\gee_guaiba\\data\\processed\\gee-gif\\ndvi\\20200313T133221_20200313T133220_T22JDM.tif\n",
      "\n",
      "\n",
      "Exporting 58/171: 20200323T133221_20200323T133221_T22JDM.tif\n",
      "Generating URL ...\n",
      "Downloading data from https://earthengine.googleapis.com/v1alpha/projects/earthengine-legacy/thumbnails/a45c1b98c6347e4084ccb6c5c8e394a1-6ebf433ca3736617fd830581ece13c8d:getPixels\n",
      "Please wait ...\n",
      "Data downloaded to C:\\Users\\Daniel\\Documents\\Projetos\\Alforriah\\gee_guaiba\\data\\processed\\gee-gif\\ndvi\\20200323T133221_20200323T133221_T22JDM.tif\n",
      "\n",
      "\n",
      "Exporting 59/171: 20200325T132229_20200325T132335_T22JDM.tif\n",
      "Generating URL ...\n",
      "Downloading data from https://earthengine.googleapis.com/v1alpha/projects/earthengine-legacy/thumbnails/3f6396b04548259b665dc7b1c001f0c9-52429ed293b3d46841e217255b3ca977:getPixels\n",
      "Please wait ...\n"
     ]
    },
    {
     "name": "stdout",
     "output_type": "stream",
     "text": [
      "Data downloaded to C:\\Users\\Daniel\\Documents\\Projetos\\Alforriah\\gee_guaiba\\data\\processed\\gee-gif\\ndvi\\20200325T132229_20200325T132335_T22JDM.tif\n",
      "\n",
      "\n",
      "Exporting 60/171: 20200330T132231_20200330T132229_T22JDM.tif\n",
      "Generating URL ...\n",
      "Downloading data from https://earthengine.googleapis.com/v1alpha/projects/earthengine-legacy/thumbnails/633255fec133054fe16283ee7b43d927-7f621f7dc19d5c2d69138d2001aa6158:getPixels\n",
      "Please wait ...\n",
      "Data downloaded to C:\\Users\\Daniel\\Documents\\Projetos\\Alforriah\\gee_guaiba\\data\\processed\\gee-gif\\ndvi\\20200330T132231_20200330T132229_T22JDM.tif\n",
      "\n",
      "\n",
      "Exporting 61/171: 20200404T132229_20200404T132230_T22JDM.tif\n",
      "Generating URL ...\n",
      "Downloading data from https://earthengine.googleapis.com/v1alpha/projects/earthengine-legacy/thumbnails/8205e91ee0e01a6734a4060906d4e5c3-bdbecce8235fd5d29762ab109d446314:getPixels\n",
      "Please wait ...\n",
      "Data downloaded to C:\\Users\\Daniel\\Documents\\Projetos\\Alforriah\\gee_guaiba\\data\\processed\\gee-gif\\ndvi\\20200404T132229_20200404T132230_T22JDM.tif\n",
      "\n",
      "\n",
      "Exporting 62/171: 20200404T132229_20200404T133037_T22JDM.tif\n",
      "Generating URL ...\n",
      "Downloading data from https://earthengine.googleapis.com/v1alpha/projects/earthengine-legacy/thumbnails/a4101cfab041848e3ff03dd2c7974030-ad91efc31544a304ab3361e616ab9e50:getPixels\n",
      "Please wait ...\n",
      "Data downloaded to C:\\Users\\Daniel\\Documents\\Projetos\\Alforriah\\gee_guaiba\\data\\processed\\gee-gif\\ndvi\\20200404T132229_20200404T133037_T22JDM.tif\n",
      "\n",
      "\n",
      "Exporting 63/171: 20200407T133219_20200407T133948_T22JDM.tif\n",
      "Generating URL ...\n",
      "Downloading data from https://earthengine.googleapis.com/v1alpha/projects/earthengine-legacy/thumbnails/ace3f1a145a60bb808e09cd705376e45-f102ed87e6d35d94b204a623e6b41edb:getPixels\n",
      "Please wait ...\n",
      "Data downloaded to C:\\Users\\Daniel\\Documents\\Projetos\\Alforriah\\gee_guaiba\\data\\processed\\gee-gif\\ndvi\\20200407T133219_20200407T133948_T22JDM.tif\n",
      "\n",
      "\n",
      "Exporting 64/171: 20200412T133221_20200412T133223_T22JDM.tif\n",
      "Generating URL ...\n",
      "Downloading data from https://earthengine.googleapis.com/v1alpha/projects/earthengine-legacy/thumbnails/ab6ccb5a84d137f97aab39de8cee4099-a7ab30b09d3e10514c6084857fce1674:getPixels\n",
      "Please wait ...\n",
      "Data downloaded to C:\\Users\\Daniel\\Documents\\Projetos\\Alforriah\\gee_guaiba\\data\\processed\\gee-gif\\ndvi\\20200412T133221_20200412T133223_T22JDM.tif\n",
      "\n",
      "\n",
      "Exporting 65/171: 20200419T132231_20200419T132233_T22JDM.tif\n",
      "Generating URL ...\n",
      "Downloading data from https://earthengine.googleapis.com/v1alpha/projects/earthengine-legacy/thumbnails/b2e45ddded4b049b0f180301938bc572-cf53c54ec9035d653fea38b235e3f3b3:getPixels\n",
      "Please wait ...\n",
      "Data downloaded to C:\\Users\\Daniel\\Documents\\Projetos\\Alforriah\\gee_guaiba\\data\\processed\\gee-gif\\ndvi\\20200419T132231_20200419T132233_T22JDM.tif\n",
      "\n",
      "\n",
      "Exporting 66/171: 20200502T133231_20200502T133228_T22JDM.tif\n",
      "Generating URL ...\n",
      "Downloading data from https://earthengine.googleapis.com/v1alpha/projects/earthengine-legacy/thumbnails/c6095627150d7088cdbd2622eccdb547-bbdd764e704e71ec1b54ce7d9e905c45:getPixels\n",
      "Please wait ...\n",
      "Data downloaded to C:\\Users\\Daniel\\Documents\\Projetos\\Alforriah\\gee_guaiba\\data\\processed\\gee-gif\\ndvi\\20200502T133231_20200502T133228_T22JDM.tif\n",
      "\n",
      "\n",
      "Exporting 67/171: 20200504T132229_20200504T132230_T22JDM.tif\n",
      "Generating URL ...\n",
      "Downloading data from https://earthengine.googleapis.com/v1alpha/projects/earthengine-legacy/thumbnails/0a256a426aadb078c8601229b06f44bc-5fa19a2b81f5cacd88081733c696f2ba:getPixels\n",
      "Please wait ...\n",
      "Data downloaded to C:\\Users\\Daniel\\Documents\\Projetos\\Alforriah\\gee_guaiba\\data\\processed\\gee-gif\\ndvi\\20200504T132229_20200504T132230_T22JDM.tif\n",
      "\n",
      "\n",
      "Exporting 68/171: 20200507T133219_20200507T133949_T22JDM.tif\n",
      "Generating URL ...\n",
      "Downloading data from https://earthengine.googleapis.com/v1alpha/projects/earthengine-legacy/thumbnails/e26ba54936a20ca24dffb7ff592e45d6-7028164bfbd6f50f970ddf4d434a892b:getPixels\n",
      "Please wait ...\n",
      "Data downloaded to C:\\Users\\Daniel\\Documents\\Projetos\\Alforriah\\gee_guaiba\\data\\processed\\gee-gif\\ndvi\\20200507T133219_20200507T133949_T22JDM.tif\n",
      "\n",
      "\n",
      "Exporting 69/171: 20200509T132241_20200509T132237_T22JDM.tif\n",
      "Generating URL ...\n",
      "Downloading data from https://earthengine.googleapis.com/v1alpha/projects/earthengine-legacy/thumbnails/4fe4ee30d3ac02b41250e1fdb3247d72-50dead2f985eae06c9783ddb2cd0bd20:getPixels\n",
      "Please wait ...\n",
      "Data downloaded to C:\\Users\\Daniel\\Documents\\Projetos\\Alforriah\\gee_guaiba\\data\\processed\\gee-gif\\ndvi\\20200509T132241_20200509T132237_T22JDM.tif\n",
      "\n",
      "\n",
      "Exporting 70/171: 20200514T132229_20200514T132232_T22JDM.tif\n",
      "Generating URL ...\n",
      "Downloading data from https://earthengine.googleapis.com/v1alpha/projects/earthengine-legacy/thumbnails/c16206abb64b3c126b4879d126b63a40-b17fea4df03bda8b02f074e527095dda:getPixels\n",
      "Please wait ...\n",
      "Data downloaded to C:\\Users\\Daniel\\Documents\\Projetos\\Alforriah\\gee_guaiba\\data\\processed\\gee-gif\\ndvi\\20200514T132229_20200514T132232_T22JDM.tif\n",
      "\n",
      "\n",
      "Exporting 71/171: 20200517T133229_20200517T133224_T22JDM.tif\n",
      "Generating URL ...\n",
      "Downloading data from https://earthengine.googleapis.com/v1alpha/projects/earthengine-legacy/thumbnails/8a872750a3bb885c7d9ef0856b966ad7-24384e57f895f773c895284b73d17b2b:getPixels\n",
      "Please wait ...\n",
      "Data downloaded to C:\\Users\\Daniel\\Documents\\Projetos\\Alforriah\\gee_guaiba\\data\\processed\\gee-gif\\ndvi\\20200517T133229_20200517T133224_T22JDM.tif\n",
      "\n",
      "\n",
      "Exporting 72/171: 20200519T132241_20200519T132238_T22JDM.tif\n",
      "Generating URL ...\n",
      "Downloading data from https://earthengine.googleapis.com/v1alpha/projects/earthengine-legacy/thumbnails/3fb806bd8f58a3804096e6b1dfaf8cc3-de787b507951db1afa58edaf10e6fa83:getPixels\n",
      "Please wait ...\n",
      "Data downloaded to C:\\Users\\Daniel\\Documents\\Projetos\\Alforriah\\gee_guaiba\\data\\processed\\gee-gif\\ndvi\\20200519T132241_20200519T132238_T22JDM.tif\n",
      "\n",
      "\n",
      "Exporting 73/171: 20200527T133229_20200527T133515_T22JDM.tif\n",
      "Generating URL ...\n",
      "Downloading data from https://earthengine.googleapis.com/v1alpha/projects/earthengine-legacy/thumbnails/cc35ec9b51f596d5e1e8cede9aaa1c64-9370944a7922b3516704f8953eae029f:getPixels\n",
      "Please wait ...\n",
      "Data downloaded to C:\\Users\\Daniel\\Documents\\Projetos\\Alforriah\\gee_guaiba\\data\\processed\\gee-gif\\ndvi\\20200527T133229_20200527T133515_T22JDM.tif\n",
      "\n",
      "\n",
      "Exporting 74/171: 20200529T132241_20200529T132239_T22JDM.tif\n",
      "Generating URL ...\n",
      "Downloading data from https://earthengine.googleapis.com/v1alpha/projects/earthengine-legacy/thumbnails/9fccffc4d3b63bcf8986f37146afbde9-bea7ee09d4d151b00ed1cb1e570d31fc:getPixels\n",
      "Please wait ...\n",
      "Data downloaded to C:\\Users\\Daniel\\Documents\\Projetos\\Alforriah\\gee_guaiba\\data\\processed\\gee-gif\\ndvi\\20200529T132241_20200529T132239_T22JDM.tif\n",
      "\n",
      "\n",
      "Exporting 75/171: 20200601T133231_20200601T133231_T22JDM.tif\n",
      "Generating URL ...\n",
      "Downloading data from https://earthengine.googleapis.com/v1alpha/projects/earthengine-legacy/thumbnails/a36180ddc355f04098e83553a473f92c-4a826cc989bd5b44da8ec26dc1528031:getPixels\n",
      "Please wait ...\n",
      "Data downloaded to C:\\Users\\Daniel\\Documents\\Projetos\\Alforriah\\gee_guaiba\\data\\processed\\gee-gif\\ndvi\\20200601T133231_20200601T133231_T22JDM.tif\n",
      "\n",
      "\n",
      "Exporting 76/171: 20200616T133229_20200616T133227_T22JDM.tif\n",
      "Generating URL ...\n",
      "Downloading data from https://earthengine.googleapis.com/v1alpha/projects/earthengine-legacy/thumbnails/646f2c1cc2fd65500f494bf48674e58d-65b3a2143fceab969b209aefd424fdce:getPixels\n",
      "Please wait ...\n",
      "Data downloaded to C:\\Users\\Daniel\\Documents\\Projetos\\Alforriah\\gee_guaiba\\data\\processed\\gee-gif\\ndvi\\20200616T133229_20200616T133227_T22JDM.tif\n",
      "\n",
      "\n",
      "Exporting 77/171: 20200621T133231_20200621T133954_T22JDM.tif\n",
      "Generating URL ...\n",
      "Downloading data from https://earthengine.googleapis.com/v1alpha/projects/earthengine-legacy/thumbnails/67af773f4c3776e131f9b19342cdb711-a47a98e7e45159fe5ce825c18dfe0199:getPixels\n",
      "Please wait ...\n",
      "Data downloaded to C:\\Users\\Daniel\\Documents\\Projetos\\Alforriah\\gee_guaiba\\data\\processed\\gee-gif\\ndvi\\20200621T133231_20200621T133954_T22JDM.tif\n",
      "\n",
      "\n",
      "Exporting 78/171: 20200628T132241_20200628T132238_T22JDM.tif\n",
      "Generating URL ...\n",
      "Downloading data from https://earthengine.googleapis.com/v1alpha/projects/earthengine-legacy/thumbnails/4c463c69bbd8ce5b8c3bc30ad6445777-597362b49172274f89b4b8bf35d90345:getPixels\n",
      "Please wait ...\n",
      "Data downloaded to C:\\Users\\Daniel\\Documents\\Projetos\\Alforriah\\gee_guaiba\\data\\processed\\gee-gif\\ndvi\\20200628T132241_20200628T132238_T22JDM.tif\n",
      "\n",
      "\n"
     ]
    },
    {
     "name": "stdout",
     "output_type": "stream",
     "text": [
      "Exporting 79/171: 20200703T132239_20200703T132235_T22JDM.tif\n",
      "Generating URL ...\n",
      "Downloading data from https://earthengine.googleapis.com/v1alpha/projects/earthengine-legacy/thumbnails/a19846f5915d88c7d5c0804c7ce971eb-639aee0985bf47b186cfc997a1839e72:getPixels\n",
      "Please wait ...\n",
      "Data downloaded to C:\\Users\\Daniel\\Documents\\Projetos\\Alforriah\\gee_guaiba\\data\\processed\\gee-gif\\ndvi\\20200703T132239_20200703T132235_T22JDM.tif\n",
      "\n",
      "\n",
      "Exporting 80/171: 20200713T132239_20200713T132234_T22JDM.tif\n",
      "Generating URL ...\n",
      "Downloading data from https://earthengine.googleapis.com/v1alpha/projects/earthengine-legacy/thumbnails/e7e9f4efcb5f4c2aabaec24476cbe9a3-69ae2eeb882ef2ce10a3cc787f419a3b:getPixels\n",
      "Please wait ...\n",
      "Data downloaded to C:\\Users\\Daniel\\Documents\\Projetos\\Alforriah\\gee_guaiba\\data\\processed\\gee-gif\\ndvi\\20200713T132239_20200713T132234_T22JDM.tif\n",
      "\n",
      "\n",
      "Exporting 81/171: 20200726T133229_20200726T133226_T22JDM.tif\n",
      "Generating URL ...\n",
      "Downloading data from https://earthengine.googleapis.com/v1alpha/projects/earthengine-legacy/thumbnails/39d13b921fbfbcb2e1267626b10e68d7-42e7c77a9d6f014d136eb733555640e2:getPixels\n",
      "Please wait ...\n",
      "Data downloaded to C:\\Users\\Daniel\\Documents\\Projetos\\Alforriah\\gee_guaiba\\data\\processed\\gee-gif\\ndvi\\20200726T133229_20200726T133226_T22JDM.tif\n",
      "\n",
      "\n",
      "Exporting 82/171: 20200731T133231_20200731T133230_T22JDM.tif\n",
      "Generating URL ...\n",
      "Downloading data from https://earthengine.googleapis.com/v1alpha/projects/earthengine-legacy/thumbnails/0804f259e76a16e9795dae87f2f7db0f-db30e9542736b394e536d808b550246d:getPixels\n",
      "Please wait ...\n",
      "Data downloaded to C:\\Users\\Daniel\\Documents\\Projetos\\Alforriah\\gee_guaiba\\data\\processed\\gee-gif\\ndvi\\20200731T133231_20200731T133230_T22JDM.tif\n",
      "\n",
      "\n",
      "Exporting 83/171: 20200805T133229_20200805T134009_T22JDM.tif\n",
      "Generating URL ...\n",
      "Downloading data from https://earthengine.googleapis.com/v1alpha/projects/earthengine-legacy/thumbnails/aa70d316dec63a54c2bf0505ed9b032a-fdae5187fd8c070d7bca294b842dd602:getPixels\n",
      "Please wait ...\n",
      "Data downloaded to C:\\Users\\Daniel\\Documents\\Projetos\\Alforriah\\gee_guaiba\\data\\processed\\gee-gif\\ndvi\\20200805T133229_20200805T134009_T22JDM.tif\n",
      "\n",
      "\n",
      "Exporting 84/171: 20200810T133231_20200810T133230_T22JDM.tif\n",
      "Generating URL ...\n",
      "Downloading data from https://earthengine.googleapis.com/v1alpha/projects/earthengine-legacy/thumbnails/959f7c9cba7fdd54772f81cedc237c11-4db402424b8c3dc6ab8a8deb886578e8:getPixels\n",
      "Please wait ...\n",
      "Data downloaded to C:\\Users\\Daniel\\Documents\\Projetos\\Alforriah\\gee_guaiba\\data\\processed\\gee-gif\\ndvi\\20200810T133231_20200810T133230_T22JDM.tif\n",
      "\n",
      "\n",
      "Exporting 85/171: 20200817T132241_20200817T132239_T22JDM.tif\n",
      "Generating URL ...\n",
      "Downloading data from https://earthengine.googleapis.com/v1alpha/projects/earthengine-legacy/thumbnails/cc9522513ee56d0b06cd18b6d94cd0a3-b92ee2c03560486c7b32fe12dd2591b1:getPixels\n",
      "Please wait ...\n",
      "Data downloaded to C:\\Users\\Daniel\\Documents\\Projetos\\Alforriah\\gee_guaiba\\data\\processed\\gee-gif\\ndvi\\20200817T132241_20200817T132239_T22JDM.tif\n",
      "\n",
      "\n",
      "Exporting 86/171: 20200822T132239_20200822T132348_T22JDM.tif\n",
      "Generating URL ...\n",
      "Downloading data from https://earthengine.googleapis.com/v1alpha/projects/earthengine-legacy/thumbnails/cc5e23c9037dc8a8d8ef92288865eba3-9d8f63a2ebe5ac38cd6f8644bd4dd233:getPixels\n",
      "Please wait ...\n",
      "Data downloaded to C:\\Users\\Daniel\\Documents\\Projetos\\Alforriah\\gee_guaiba\\data\\processed\\gee-gif\\ndvi\\20200822T132239_20200822T132348_T22JDM.tif\n",
      "\n",
      "\n",
      "Exporting 87/171: 20200921T132239_20200921T132340_T22JDM.tif\n",
      "Generating URL ...\n",
      "Downloading data from https://earthengine.googleapis.com/v1alpha/projects/earthengine-legacy/thumbnails/930eb22a32f18fcabda1f9a6719284f0-afbb8417c8e2826670cae70265a76214:getPixels\n",
      "Please wait ...\n",
      "Data downloaded to C:\\Users\\Daniel\\Documents\\Projetos\\Alforriah\\gee_guaiba\\data\\processed\\gee-gif\\ndvi\\20200921T132239_20200921T132340_T22JDM.tif\n",
      "\n",
      "\n",
      "Exporting 88/171: 20200924T133229_20200924T133227_T22JDM.tif\n",
      "Generating URL ...\n",
      "Downloading data from https://earthengine.googleapis.com/v1alpha/projects/earthengine-legacy/thumbnails/1644eb6338dc09bb2f4bced7179e77cd-66abe5f0e04264c99efae773f2989e7a:getPixels\n",
      "Please wait ...\n",
      "Data downloaded to C:\\Users\\Daniel\\Documents\\Projetos\\Alforriah\\gee_guaiba\\data\\processed\\gee-gif\\ndvi\\20200924T133229_20200924T133227_T22JDM.tif\n",
      "\n",
      "\n",
      "Exporting 89/171: 20200929T133231_20200929T133939_T22JDM.tif\n",
      "Generating URL ...\n",
      "Downloading data from https://earthengine.googleapis.com/v1alpha/projects/earthengine-legacy/thumbnails/ec3101286d7303563dbd056bf5de12ec-806bae9a2a696268e2ec6d5ac7a45533:getPixels\n",
      "Please wait ...\n",
      "Data downloaded to C:\\Users\\Daniel\\Documents\\Projetos\\Alforriah\\gee_guaiba\\data\\processed\\gee-gif\\ndvi\\20200929T133231_20200929T133939_T22JDM.tif\n",
      "\n",
      "\n",
      "Exporting 90/171: 20201011T132239_20201011T132529_T22JDM.tif\n",
      "Generating URL ...\n",
      "Downloading data from https://earthengine.googleapis.com/v1alpha/projects/earthengine-legacy/thumbnails/5d2d65f1367a8d612a425ccbbee7fac9-68f5abde452f0db49e74eb8e8580445d:getPixels\n",
      "Please wait ...\n",
      "Data downloaded to C:\\Users\\Daniel\\Documents\\Projetos\\Alforriah\\gee_guaiba\\data\\processed\\gee-gif\\ndvi\\20201011T132239_20201011T132529_T22JDM.tif\n",
      "\n",
      "\n",
      "Exporting 91/171: 20201019T133231_20201019T133230_T22JDM.tif\n",
      "Generating URL ...\n",
      "Downloading data from https://earthengine.googleapis.com/v1alpha/projects/earthengine-legacy/thumbnails/21e176fc0792c0dca958d35ba4202a6e-9a8efff4da18334f9f40db06c4f7acbd:getPixels\n",
      "Please wait ...\n",
      "Data downloaded to C:\\Users\\Daniel\\Documents\\Projetos\\Alforriah\\gee_guaiba\\data\\processed\\gee-gif\\ndvi\\20201019T133231_20201019T133230_T22JDM.tif\n",
      "\n",
      "\n",
      "Exporting 92/171: 20201123T133229_20201123T133224_T22JDM.tif\n",
      "Generating URL ...\n",
      "Downloading data from https://earthengine.googleapis.com/v1alpha/projects/earthengine-legacy/thumbnails/8b3e1fb8c946d581320f2eae5de75e8d-0a42243bc33188687ceee5ed7a85f0fb:getPixels\n",
      "Please wait ...\n",
      "Data downloaded to C:\\Users\\Daniel\\Documents\\Projetos\\Alforriah\\gee_guaiba\\data\\processed\\gee-gif\\ndvi\\20201123T133229_20201123T133224_T22JDM.tif\n",
      "\n",
      "\n",
      "Exporting 93/171: 20201210T132229_20201210T132523_T22JDM.tif\n",
      "Generating URL ...\n",
      "Downloading data from https://earthengine.googleapis.com/v1alpha/projects/earthengine-legacy/thumbnails/683d21775b7b7b31bf89c896691efe28-515f1fd60bab9ab788f29aa837a613ce:getPixels\n",
      "Please wait ...\n",
      "Data downloaded to C:\\Users\\Daniel\\Documents\\Projetos\\Alforriah\\gee_guaiba\\data\\processed\\gee-gif\\ndvi\\20201210T132229_20201210T132523_T22JDM.tif\n",
      "\n",
      "\n",
      "Exporting 94/171: 20201215T132231_20201215T132230_T22JDM.tif\n",
      "Generating URL ...\n",
      "Downloading data from https://earthengine.googleapis.com/v1alpha/projects/earthengine-legacy/thumbnails/6490ec970d09c5a09fa28f1a4efc3137-f8632a55ec0fed44c651805921133f21:getPixels\n",
      "Please wait ...\n",
      "Data downloaded to C:\\Users\\Daniel\\Documents\\Projetos\\Alforriah\\gee_guaiba\\data\\processed\\gee-gif\\ndvi\\20201215T132231_20201215T132230_T22JDM.tif\n",
      "\n",
      "\n",
      "Exporting 95/171: 20201218T133221_20201218T133222_T22JDM.tif\n",
      "Generating URL ...\n",
      "Downloading data from https://earthengine.googleapis.com/v1alpha/projects/earthengine-legacy/thumbnails/d80c81deb6573d1efb19ee687e5381c2-77f3b1ce09583952b000f76f336c8b10:getPixels\n",
      "Please wait ...\n",
      "Data downloaded to C:\\Users\\Daniel\\Documents\\Projetos\\Alforriah\\gee_guaiba\\data\\processed\\gee-gif\\ndvi\\20201218T133221_20201218T133222_T22JDM.tif\n",
      "\n",
      "\n",
      "Exporting 96/171: 20201223T133219_20201223T133221_T22JDM.tif\n",
      "Generating URL ...\n",
      "Downloading data from https://earthengine.googleapis.com/v1alpha/projects/earthengine-legacy/thumbnails/526fa6ad10ebdca3201e74dc1819f8ec-7c89e216eaa1b85b7eaec3d5d6b7b4d6:getPixels\n",
      "Please wait ...\n",
      "Data downloaded to C:\\Users\\Daniel\\Documents\\Projetos\\Alforriah\\gee_guaiba\\data\\processed\\gee-gif\\ndvi\\20201223T133219_20201223T133221_T22JDM.tif\n",
      "\n",
      "\n",
      "Exporting 97/171: 20201230T132229_20201230T132524_T22JDM.tif\n",
      "Generating URL ...\n",
      "Downloading data from https://earthengine.googleapis.com/v1alpha/projects/earthengine-legacy/thumbnails/e1a6d9cb75bd15ac05ed07278a18e4ec-817d115713bac64b0af07c8265bc1af1:getPixels\n",
      "Please wait ...\n",
      "Data downloaded to C:\\Users\\Daniel\\Documents\\Projetos\\Alforriah\\gee_guaiba\\data\\processed\\gee-gif\\ndvi\\20201230T132229_20201230T132524_T22JDM.tif\n",
      "\n",
      "\n",
      "Exporting 98/171: 20210102T133229_20210102T133223_T22JDM.tif\n",
      "Generating URL ...\n",
      "Downloading data from https://earthengine.googleapis.com/v1alpha/projects/earthengine-legacy/thumbnails/6700ac3271988f5309fbdef44409c505-a9e14d93b24b855eead7d62a0ac633f2:getPixels\n",
      "Please wait ...\n"
     ]
    },
    {
     "name": "stdout",
     "output_type": "stream",
     "text": [
      "Data downloaded to C:\\Users\\Daniel\\Documents\\Projetos\\Alforriah\\gee_guaiba\\data\\processed\\gee-gif\\ndvi\\20210102T133229_20210102T133223_T22JDM.tif\n",
      "\n",
      "\n",
      "Exporting 99/171: 20210109T132229_20210109T132525_T22JDM.tif\n",
      "Generating URL ...\n",
      "Downloading data from https://earthengine.googleapis.com/v1alpha/projects/earthengine-legacy/thumbnails/c7435c0b1987e61cad26e8f29a9406c2-41326fd26364cbba678d4d9e188b02f1:getPixels\n",
      "Please wait ...\n",
      "Data downloaded to C:\\Users\\Daniel\\Documents\\Projetos\\Alforriah\\gee_guaiba\\data\\processed\\gee-gif\\ndvi\\20210109T132229_20210109T132525_T22JDM.tif\n",
      "\n",
      "\n",
      "Exporting 100/171: 20210119T132229_20210119T132525_T22JDM.tif\n",
      "Generating URL ...\n",
      "Downloading data from https://earthengine.googleapis.com/v1alpha/projects/earthengine-legacy/thumbnails/e22e0b2a7b3111ae2ccc5c79a300920b-3c0f7f1afff0ad0f918743d2aec3eb6b:getPixels\n",
      "Please wait ...\n",
      "Data downloaded to C:\\Users\\Daniel\\Documents\\Projetos\\Alforriah\\gee_guaiba\\data\\processed\\gee-gif\\ndvi\\20210119T132229_20210119T132525_T22JDM.tif\n",
      "\n",
      "\n",
      "Exporting 101/171: 20210208T132229_20210208T132522_T22JDM.tif\n",
      "Generating URL ...\n",
      "Downloading data from https://earthengine.googleapis.com/v1alpha/projects/earthengine-legacy/thumbnails/be3ea2663020cf53daf74f19e641596c-85708082795db24d0877f6ea3fdf6818:getPixels\n",
      "Please wait ...\n",
      "Data downloaded to C:\\Users\\Daniel\\Documents\\Projetos\\Alforriah\\gee_guaiba\\data\\processed\\gee-gif\\ndvi\\20210208T132229_20210208T132522_T22JDM.tif\n",
      "\n",
      "\n",
      "Exporting 102/171: 20210213T132231_20210213T133017_T22JDM.tif\n",
      "Generating URL ...\n",
      "Downloading data from https://earthengine.googleapis.com/v1alpha/projects/earthengine-legacy/thumbnails/29228f7ab51f76485d48f076a8b47ff1-f310c39cd5ed8f6da3255b911952f02d:getPixels\n",
      "Please wait ...\n",
      "Data downloaded to C:\\Users\\Daniel\\Documents\\Projetos\\Alforriah\\gee_guaiba\\data\\processed\\gee-gif\\ndvi\\20210213T132231_20210213T133017_T22JDM.tif\n",
      "\n",
      "\n",
      "Exporting 103/171: 20210221T133219_20210221T133222_T22JDM.tif\n",
      "Generating URL ...\n",
      "Downloading data from https://earthengine.googleapis.com/v1alpha/projects/earthengine-legacy/thumbnails/0e334d73c4f73ec418e40df0717e56e7-be8e55e3f33ec3a8e643a7132a20e2f3:getPixels\n",
      "Please wait ...\n",
      "Data downloaded to C:\\Users\\Daniel\\Documents\\Projetos\\Alforriah\\gee_guaiba\\data\\processed\\gee-gif\\ndvi\\20210221T133219_20210221T133222_T22JDM.tif\n",
      "\n",
      "\n",
      "Exporting 104/171: 20210226T133221_20210226T133224_T22JDM.tif\n",
      "Generating URL ...\n",
      "Downloading data from https://earthengine.googleapis.com/v1alpha/projects/earthengine-legacy/thumbnails/31f7a99e5e13e04498738196dafb9c26-217ab25dc75b1313f03647a3d61a314f:getPixels\n",
      "Please wait ...\n",
      "Data downloaded to C:\\Users\\Daniel\\Documents\\Projetos\\Alforriah\\gee_guaiba\\data\\processed\\gee-gif\\ndvi\\20210226T133221_20210226T133224_T22JDM.tif\n",
      "\n",
      "\n",
      "Exporting 105/171: 20210313T133229_20210313T133223_T22JDM.tif\n",
      "Generating URL ...\n",
      "Downloading data from https://earthengine.googleapis.com/v1alpha/projects/earthengine-legacy/thumbnails/90d77ef113d1616e4f35e27b4062ae24-8b82fc0bfbd8fcee43d666ea8bd7cedd:getPixels\n",
      "Please wait ...\n",
      "Data downloaded to C:\\Users\\Daniel\\Documents\\Projetos\\Alforriah\\gee_guaiba\\data\\processed\\gee-gif\\ndvi\\20210313T133229_20210313T133223_T22JDM.tif\n",
      "\n",
      "\n",
      "Exporting 106/171: 20210320T132229_20210320T132511_T22JDM.tif\n",
      "Generating URL ...\n",
      "Downloading data from https://earthengine.googleapis.com/v1alpha/projects/earthengine-legacy/thumbnails/5c672cc212e49840f0f928457945d3f1-937d99fc77f17605349b664b93ea7b4c:getPixels\n",
      "Please wait ...\n",
      "Data downloaded to C:\\Users\\Daniel\\Documents\\Projetos\\Alforriah\\gee_guaiba\\data\\processed\\gee-gif\\ndvi\\20210320T132229_20210320T132511_T22JDM.tif\n",
      "\n",
      "\n",
      "Exporting 107/171: 20210325T132231_20210325T132528_T22JDM.tif\n",
      "Generating URL ...\n",
      "Downloading data from https://earthengine.googleapis.com/v1alpha/projects/earthengine-legacy/thumbnails/9092180078465fc3456116ff64549b11-aad83b1ddd7cbae2a61324a16c66121b:getPixels\n",
      "Please wait ...\n",
      "Data downloaded to C:\\Users\\Daniel\\Documents\\Projetos\\Alforriah\\gee_guaiba\\data\\processed\\gee-gif\\ndvi\\20210325T132231_20210325T132528_T22JDM.tif\n",
      "\n",
      "\n",
      "Exporting 108/171: 20210404T132231_20210404T132511_T22JDM.tif\n",
      "Generating URL ...\n",
      "Downloading data from https://earthengine.googleapis.com/v1alpha/projects/earthengine-legacy/thumbnails/f50e9bf986541aae83ff978e4605a875-d21756e75872f661c3a33b73b9437cf2:getPixels\n",
      "Please wait ...\n",
      "Data downloaded to C:\\Users\\Daniel\\Documents\\Projetos\\Alforriah\\gee_guaiba\\data\\processed\\gee-gif\\ndvi\\20210404T132231_20210404T132511_T22JDM.tif\n",
      "\n",
      "\n",
      "Exporting 109/171: 20210407T133221_20210407T133220_T22JDM.tif\n",
      "Generating URL ...\n",
      "Downloading data from https://earthengine.googleapis.com/v1alpha/projects/earthengine-legacy/thumbnails/f4be89f7aa098db86a3f5b703e65eca7-70c33cfd9d7744b104e9eeae70bfb932:getPixels\n",
      "Please wait ...\n",
      "Data downloaded to C:\\Users\\Daniel\\Documents\\Projetos\\Alforriah\\gee_guaiba\\data\\processed\\gee-gif\\ndvi\\20210407T133221_20210407T133220_T22JDM.tif\n",
      "\n",
      "\n",
      "Exporting 110/171: 20210409T132229_20210409T132523_T22JDM.tif\n",
      "Generating URL ...\n",
      "Downloading data from https://earthengine.googleapis.com/v1alpha/projects/earthengine-legacy/thumbnails/95613e85874688b71932e371c25a759a-f733f74bbd54f27bb858643497a77fbf:getPixels\n",
      "Please wait ...\n",
      "Data downloaded to C:\\Users\\Daniel\\Documents\\Projetos\\Alforriah\\gee_guaiba\\data\\processed\\gee-gif\\ndvi\\20210409T132229_20210409T132523_T22JDM.tif\n",
      "\n",
      "\n",
      "Exporting 111/171: 20210414T132231_20210414T132509_T22JDM.tif\n",
      "Generating URL ...\n",
      "Downloading data from https://earthengine.googleapis.com/v1alpha/projects/earthengine-legacy/thumbnails/d3f25335bf1f9187ccee9c122a1222ef-b3f3df52675be75be2d9f9c63cee4172:getPixels\n",
      "Please wait ...\n",
      "Data downloaded to C:\\Users\\Daniel\\Documents\\Projetos\\Alforriah\\gee_guaiba\\data\\processed\\gee-gif\\ndvi\\20210414T132231_20210414T132509_T22JDM.tif\n",
      "\n",
      "\n",
      "Exporting 112/171: 20210422T133219_20210422T133218_T22JDM.tif\n",
      "Generating URL ...\n",
      "Downloading data from https://earthengine.googleapis.com/v1alpha/projects/earthengine-legacy/thumbnails/d7c730e59f95c9f560a35d90bdadf3dd-db780019b98e068e81839ca2f7827da2:getPixels\n",
      "Please wait ...\n",
      "Data downloaded to C:\\Users\\Daniel\\Documents\\Projetos\\Alforriah\\gee_guaiba\\data\\processed\\gee-gif\\ndvi\\20210422T133219_20210422T133218_T22JDM.tif\n",
      "\n",
      "\n",
      "Exporting 113/171: 20210424T132231_20210424T132511_T22JDM.tif\n",
      "Generating URL ...\n",
      "Downloading data from https://earthengine.googleapis.com/v1alpha/projects/earthengine-legacy/thumbnails/8c765bbe6bb35fd2e400a3fe4231c052-2bd3834a9feb829257fd6846496c1728:getPixels\n",
      "Please wait ...\n",
      "Data downloaded to C:\\Users\\Daniel\\Documents\\Projetos\\Alforriah\\gee_guaiba\\data\\processed\\gee-gif\\ndvi\\20210424T132231_20210424T132511_T22JDM.tif\n",
      "\n",
      "\n",
      "Exporting 114/171: 20210427T133221_20210427T133710_T22JDM.tif\n",
      "Generating URL ...\n",
      "Downloading data from https://earthengine.googleapis.com/v1alpha/projects/earthengine-legacy/thumbnails/6a191821fdca3920e33ae3c868299e0a-eea42b0725dbe9916d90d5159263e875:getPixels\n",
      "Please wait ...\n",
      "Data downloaded to C:\\Users\\Daniel\\Documents\\Projetos\\Alforriah\\gee_guaiba\\data\\processed\\gee-gif\\ndvi\\20210427T133221_20210427T133710_T22JDM.tif\n",
      "\n",
      "\n",
      "Exporting 115/171: 20210429T132229_20210429T132228_T22JDM.tif\n",
      "Generating URL ...\n",
      "Downloading data from https://earthengine.googleapis.com/v1alpha/projects/earthengine-legacy/thumbnails/b6b94c104c48623ea691b8c39cedd78e-b2dae62074fbd00396613b36bcb4466a:getPixels\n",
      "Please wait ...\n",
      "Data downloaded to C:\\Users\\Daniel\\Documents\\Projetos\\Alforriah\\gee_guaiba\\data\\processed\\gee-gif\\ndvi\\20210429T132229_20210429T132228_T22JDM.tif\n",
      "\n",
      "\n",
      "Exporting 116/171: 20210502T133219_20210502T133220_T22JDM.tif\n",
      "Generating URL ...\n",
      "Downloading data from https://earthengine.googleapis.com/v1alpha/projects/earthengine-legacy/thumbnails/dc6a2f04fa6c3e7ec00da4ae09b76a94-334ccf62be806939518e2a80830887b9:getPixels\n",
      "Please wait ...\n",
      "Data downloaded to C:\\Users\\Daniel\\Documents\\Projetos\\Alforriah\\gee_guaiba\\data\\processed\\gee-gif\\ndvi\\20210502T133219_20210502T133220_T22JDM.tif\n",
      "\n",
      "\n",
      "Exporting 117/171: 20210507T133221_20210507T133712_T22JDM.tif\n",
      "Generating URL ...\n",
      "Downloading data from https://earthengine.googleapis.com/v1alpha/projects/earthengine-legacy/thumbnails/5e415dacfa165ddbd9ed4d5433bb84bf-581e3053ce29e24975755a180eadba0e:getPixels\n",
      "Please wait ...\n",
      "Data downloaded to C:\\Users\\Daniel\\Documents\\Projetos\\Alforriah\\gee_guaiba\\data\\processed\\gee-gif\\ndvi\\20210507T133221_20210507T133712_T22JDM.tif\n",
      "\n",
      "\n"
     ]
    },
    {
     "name": "stdout",
     "output_type": "stream",
     "text": [
      "Exporting 118/171: 20210509T132229_20210509T132524_T22JDM.tif\n",
      "Generating URL ...\n",
      "Downloading data from https://earthengine.googleapis.com/v1alpha/projects/earthengine-legacy/thumbnails/3ace17fb3a3133cbd20667473ba2e38b-3dec0133e4d11ebda417d274e299faa4:getPixels\n",
      "Please wait ...\n",
      "Data downloaded to C:\\Users\\Daniel\\Documents\\Projetos\\Alforriah\\gee_guaiba\\data\\processed\\gee-gif\\ndvi\\20210509T132229_20210509T132524_T22JDM.tif\n",
      "\n",
      "\n",
      "Exporting 119/171: 20210512T133229_20210512T133223_T22JDM.tif\n",
      "Generating URL ...\n",
      "Downloading data from https://earthengine.googleapis.com/v1alpha/projects/earthengine-legacy/thumbnails/3f95c98f243554a8f8c54dbc4eaf0c17-04ffd431054b7494240b013d90fd6979:getPixels\n",
      "Please wait ...\n",
      "Data downloaded to C:\\Users\\Daniel\\Documents\\Projetos\\Alforriah\\gee_guaiba\\data\\processed\\gee-gif\\ndvi\\20210512T133229_20210512T133223_T22JDM.tif\n",
      "\n",
      "\n",
      "Exporting 120/171: 20210524T132231_20210524T132519_T22JDM.tif\n",
      "Generating URL ...\n",
      "Downloading data from https://earthengine.googleapis.com/v1alpha/projects/earthengine-legacy/thumbnails/e75345e47a2d6a35cb08fc1641700855-8925be14bbc6f16187b19080b314f95c:getPixels\n",
      "Please wait ...\n",
      "Data downloaded to C:\\Users\\Daniel\\Documents\\Projetos\\Alforriah\\gee_guaiba\\data\\processed\\gee-gif\\ndvi\\20210524T132231_20210524T132519_T22JDM.tif\n",
      "\n",
      "\n",
      "Exporting 121/171: 20210527T133231_20210527T133420_T22JDM.tif\n",
      "Generating URL ...\n",
      "Downloading data from https://earthengine.googleapis.com/v1alpha/projects/earthengine-legacy/thumbnails/f991eae529549d3e7205d969f0e0a33f-11b7ae9ce03222c7fa6c43d100022cf0:getPixels\n",
      "Please wait ...\n",
      "Data downloaded to C:\\Users\\Daniel\\Documents\\Projetos\\Alforriah\\gee_guaiba\\data\\processed\\gee-gif\\ndvi\\20210527T133231_20210527T133420_T22JDM.tif\n",
      "\n",
      "\n",
      "Exporting 122/171: 20210529T132239_20210529T132501_T22JDM.tif\n",
      "Generating URL ...\n",
      "Downloading data from https://earthengine.googleapis.com/v1alpha/projects/earthengine-legacy/thumbnails/e7556e5817a3bf66386b57956389a9f4-1a1cfa163a6dfa843ed402cd37808198:getPixels\n",
      "Please wait ...\n",
      "Data downloaded to C:\\Users\\Daniel\\Documents\\Projetos\\Alforriah\\gee_guaiba\\data\\processed\\gee-gif\\ndvi\\20210529T132239_20210529T132501_T22JDM.tif\n",
      "\n",
      "\n",
      "Exporting 123/171: 20210601T133229_20210601T133225_T22JDM.tif\n",
      "Generating URL ...\n",
      "Downloading data from https://earthengine.googleapis.com/v1alpha/projects/earthengine-legacy/thumbnails/2bc8fcfa692394cbab9284f08cf89f48-78162de372757e41ad45a55a361ff467:getPixels\n",
      "Please wait ...\n",
      "Data downloaded to C:\\Users\\Daniel\\Documents\\Projetos\\Alforriah\\gee_guaiba\\data\\processed\\gee-gif\\ndvi\\20210601T133229_20210601T133225_T22JDM.tif\n",
      "\n",
      "\n",
      "Exporting 124/171: 20210603T132231_20210603T132527_T22JDM.tif\n",
      "Generating URL ...\n",
      "Downloading data from https://earthengine.googleapis.com/v1alpha/projects/earthengine-legacy/thumbnails/5314a8255c09d9a4baca60e5bc1f8c64-9d0f5b1d61cd99bf8cb65c678d7caaf2:getPixels\n",
      "Please wait ...\n",
      "Data downloaded to C:\\Users\\Daniel\\Documents\\Projetos\\Alforriah\\gee_guaiba\\data\\processed\\gee-gif\\ndvi\\20210603T132231_20210603T132527_T22JDM.tif\n",
      "\n",
      "\n",
      "Exporting 125/171: 20210613T132231_20210613T132548_T22JDM.tif\n",
      "Generating URL ...\n",
      "Downloading data from https://earthengine.googleapis.com/v1alpha/projects/earthengine-legacy/thumbnails/10c5c053b2bd9bca31aefe982c532713-3892616c8cb0ff011f734aeaead7a18a:getPixels\n",
      "Please wait ...\n",
      "Data downloaded to C:\\Users\\Daniel\\Documents\\Projetos\\Alforriah\\gee_guaiba\\data\\processed\\gee-gif\\ndvi\\20210613T132231_20210613T132548_T22JDM.tif\n",
      "\n",
      "\n",
      "Exporting 126/171: 20210616T133231_20210616T134007_T22JDM.tif\n",
      "Generating URL ...\n",
      "Downloading data from https://earthengine.googleapis.com/v1alpha/projects/earthengine-legacy/thumbnails/300bb7d74db42c31e51996b3b7af838f-e42b88ccfe24a635fae3508e8776d4f0:getPixels\n",
      "Please wait ...\n",
      "Data downloaded to C:\\Users\\Daniel\\Documents\\Projetos\\Alforriah\\gee_guaiba\\data\\processed\\gee-gif\\ndvi\\20210616T133231_20210616T134007_T22JDM.tif\n",
      "\n",
      "\n",
      "Exporting 127/171: 20210703T132241_20210703T132550_T22JDM.tif\n",
      "Generating URL ...\n",
      "Downloading data from https://earthengine.googleapis.com/v1alpha/projects/earthengine-legacy/thumbnails/e56f620bca956269b78ec341fc78dce1-a5d1722efaf3309d6be5e9be377dae71:getPixels\n",
      "Please wait ...\n",
      "Data downloaded to C:\\Users\\Daniel\\Documents\\Projetos\\Alforriah\\gee_guaiba\\data\\processed\\gee-gif\\ndvi\\20210703T132241_20210703T132550_T22JDM.tif\n",
      "\n",
      "\n",
      "Exporting 128/171: 20210708T132239_20210708T132527_T22JDM.tif\n",
      "Generating URL ...\n",
      "Downloading data from https://earthengine.googleapis.com/v1alpha/projects/earthengine-legacy/thumbnails/42467884439b303ad39a5de02fa87cc3-cdfe3ed1a94089cdb5d9f66af2d57fea:getPixels\n",
      "Please wait ...\n",
      "Data downloaded to C:\\Users\\Daniel\\Documents\\Projetos\\Alforriah\\gee_guaiba\\data\\processed\\gee-gif\\ndvi\\20210708T132239_20210708T132527_T22JDM.tif\n",
      "\n",
      "\n",
      "Exporting 129/171: 20210716T133231_20210716T133731_T22JDM.tif\n",
      "Generating URL ...\n",
      "Downloading data from https://earthengine.googleapis.com/v1alpha/projects/earthengine-legacy/thumbnails/12d9a7d746fcac541295614163cea8f0-c40e6ee70abbe467771afd4e9f6dea46:getPixels\n",
      "Please wait ...\n",
      "Data downloaded to C:\\Users\\Daniel\\Documents\\Projetos\\Alforriah\\gee_guaiba\\data\\processed\\gee-gif\\ndvi\\20210716T133231_20210716T133731_T22JDM.tif\n",
      "\n",
      "\n",
      "Exporting 130/171: 20210718T132239_20210718T132514_T22JDM.tif\n",
      "Generating URL ...\n",
      "Downloading data from https://earthengine.googleapis.com/v1alpha/projects/earthengine-legacy/thumbnails/d621689b2729038cade3f5f336ebfcbf-a52a305b6b9e6c32670691c614f1c79f:getPixels\n",
      "Please wait ...\n",
      "Data downloaded to C:\\Users\\Daniel\\Documents\\Projetos\\Alforriah\\gee_guaiba\\data\\processed\\gee-gif\\ndvi\\20210718T132239_20210718T132514_T22JDM.tif\n",
      "\n",
      "\n",
      "Exporting 131/171: 20210721T133229_20210721T133226_T22JDM.tif\n",
      "Generating URL ...\n",
      "Downloading data from https://earthengine.googleapis.com/v1alpha/projects/earthengine-legacy/thumbnails/2b9475f874f05bad14a51a96c15a4809-58178739d6cc6150078366692d5a1d50:getPixels\n",
      "Please wait ...\n",
      "Data downloaded to C:\\Users\\Daniel\\Documents\\Projetos\\Alforriah\\gee_guaiba\\data\\processed\\gee-gif\\ndvi\\20210721T133229_20210721T133226_T22JDM.tif\n",
      "\n",
      "\n",
      "Exporting 132/171: 20210723T132241_20210723T132518_T22JDM.tif\n",
      "Generating URL ...\n",
      "Downloading data from https://earthengine.googleapis.com/v1alpha/projects/earthengine-legacy/thumbnails/a45faa0c901f4e68d6a0ef44175ed64c-282d90643382ecc0db303b870b302950:getPixels\n",
      "Please wait ...\n",
      "Data downloaded to C:\\Users\\Daniel\\Documents\\Projetos\\Alforriah\\gee_guaiba\\data\\processed\\gee-gif\\ndvi\\20210723T132241_20210723T132518_T22JDM.tif\n",
      "\n",
      "\n",
      "Exporting 133/171: 20210731T133229_20210731T133226_T22JDM.tif\n",
      "Generating URL ...\n",
      "Downloading data from https://earthengine.googleapis.com/v1alpha/projects/earthengine-legacy/thumbnails/e10817d713c8227f87cacd76f6d48b97-8972a5c0f98dc8ace52ef15d73f3bc8d:getPixels\n",
      "Please wait ...\n",
      "Data downloaded to C:\\Users\\Daniel\\Documents\\Projetos\\Alforriah\\gee_guaiba\\data\\processed\\gee-gif\\ndvi\\20210731T133229_20210731T133226_T22JDM.tif\n",
      "\n",
      "\n",
      "Exporting 134/171: 20210807T132239_20210807T132527_T22JDM.tif\n",
      "Generating URL ...\n",
      "Downloading data from https://earthengine.googleapis.com/v1alpha/projects/earthengine-legacy/thumbnails/3e7ce1df97d662f5ab3765f8fc421677-6082f9f779a8af5548fbef5ca7e3487f:getPixels\n",
      "Please wait ...\n",
      "Data downloaded to C:\\Users\\Daniel\\Documents\\Projetos\\Alforriah\\gee_guaiba\\data\\processed\\gee-gif\\ndvi\\20210807T132239_20210807T132527_T22JDM.tif\n",
      "\n",
      "\n",
      "Exporting 135/171: 20210827T132039_20210827T132609_T22JDM.tif\n",
      "Generating URL ...\n",
      "Downloading data from https://earthengine.googleapis.com/v1alpha/projects/earthengine-legacy/thumbnails/373592ea2d00cec3b7033187495b7701-3d8a2d5b460c434ac54ee09cca61633b:getPixels\n",
      "Please wait ...\n",
      "Data downloaded to C:\\Users\\Daniel\\Documents\\Projetos\\Alforriah\\gee_guaiba\\data\\processed\\gee-gif\\ndvi\\20210827T132039_20210827T132609_T22JDM.tif\n",
      "\n",
      "\n",
      "Exporting 136/171: 20210830T133029_20210830T133116_T22JDM.tif\n",
      "Generating URL ...\n",
      "Downloading data from https://earthengine.googleapis.com/v1alpha/projects/earthengine-legacy/thumbnails/7008a2f324992bba62b4b2c4926a85a9-720fbcf9ddd73dbd1afb59882de1a0e3:getPixels\n",
      "Please wait ...\n",
      "Data downloaded to C:\\Users\\Daniel\\Documents\\Projetos\\Alforriah\\gee_guaiba\\data\\processed\\gee-gif\\ndvi\\20210830T133029_20210830T133116_T22JDM.tif\n",
      "\n",
      "\n",
      "Exporting 137/171: 20210916T132029_20210916T132817_T22JDM.tif\n",
      "Generating URL ...\n",
      "Downloading data from https://earthengine.googleapis.com/v1alpha/projects/earthengine-legacy/thumbnails/32bfe196580fe56433b51f44660f0814-91c4fea93ab2170697afa8db334476b4:getPixels\n",
      "Please wait ...\n"
     ]
    },
    {
     "name": "stdout",
     "output_type": "stream",
     "text": [
      "Data downloaded to C:\\Users\\Daniel\\Documents\\Projetos\\Alforriah\\gee_guaiba\\data\\processed\\gee-gif\\ndvi\\20210916T132029_20210916T132817_T22JDM.tif\n",
      "\n",
      "\n",
      "Exporting 138/171: 20211019T133229_20211019T133226_T22JDM.tif\n",
      "Generating URL ...\n",
      "Downloading data from https://earthengine.googleapis.com/v1alpha/projects/earthengine-legacy/thumbnails/185c24a3ea0f430aff429fef5f03d65a-98c17649d47f485b61339448e5ed04f2:getPixels\n",
      "Please wait ...\n",
      "Data downloaded to C:\\Users\\Daniel\\Documents\\Projetos\\Alforriah\\gee_guaiba\\data\\processed\\gee-gif\\ndvi\\20211019T133229_20211019T133226_T22JDM.tif\n",
      "\n",
      "\n",
      "Exporting 139/171: 20211021T132241_20211021T133005_T22JDM.tif\n",
      "Generating URL ...\n",
      "Downloading data from https://earthengine.googleapis.com/v1alpha/projects/earthengine-legacy/thumbnails/9d4e27c964673e68047de93ef68a6982-14317b87fc5832004d8752fba0abcbc3:getPixels\n",
      "Please wait ...\n",
      "Data downloaded to C:\\Users\\Daniel\\Documents\\Projetos\\Alforriah\\gee_guaiba\\data\\processed\\gee-gif\\ndvi\\20211021T132241_20211021T133005_T22JDM.tif\n",
      "\n",
      "\n",
      "Exporting 140/171: 20211024T133231_20211024T133229_T22JDM.tif\n",
      "Generating URL ...\n",
      "Downloading data from https://earthengine.googleapis.com/v1alpha/projects/earthengine-legacy/thumbnails/84e2c57b359c60327143def22e9a1b9e-5ab0dd575d6e221b707a11b49243f619:getPixels\n",
      "Please wait ...\n",
      "Data downloaded to C:\\Users\\Daniel\\Documents\\Projetos\\Alforriah\\gee_guaiba\\data\\processed\\gee-gif\\ndvi\\20211024T133231_20211024T133229_T22JDM.tif\n",
      "\n",
      "\n",
      "Exporting 141/171: 20211026T132239_20211026T132614_T22JDM.tif\n",
      "Generating URL ...\n",
      "Downloading data from https://earthengine.googleapis.com/v1alpha/projects/earthengine-legacy/thumbnails/ab2cfe989b06f7e3dfc90d9682af12bc-c097c03c775991232efaecf8e2a5bf30:getPixels\n",
      "Please wait ...\n",
      "Data downloaded to C:\\Users\\Daniel\\Documents\\Projetos\\Alforriah\\gee_guaiba\\data\\processed\\gee-gif\\ndvi\\20211026T132239_20211026T132614_T22JDM.tif\n",
      "\n",
      "\n",
      "Exporting 142/171: 20211029T133229_20211029T133225_T22JDM.tif\n",
      "Generating URL ...\n",
      "Downloading data from https://earthengine.googleapis.com/v1alpha/projects/earthengine-legacy/thumbnails/13e28909a2d2cea957728d6ffa2b7867-97d4c6d1673b2e90e930403dc50e1efe:getPixels\n",
      "Please wait ...\n",
      "Data downloaded to C:\\Users\\Daniel\\Documents\\Projetos\\Alforriah\\gee_guaiba\\data\\processed\\gee-gif\\ndvi\\20211029T133229_20211029T133225_T22JDM.tif\n",
      "\n",
      "\n",
      "Exporting 143/171: 20211031T132241_20211031T133026_T22JDM.tif\n",
      "Generating URL ...\n",
      "Downloading data from https://earthengine.googleapis.com/v1alpha/projects/earthengine-legacy/thumbnails/d8ca2b510cb5a46558d8fe584e99a715-c03f6fbb6148741a66660aab45601ca0:getPixels\n",
      "Please wait ...\n",
      "Data downloaded to C:\\Users\\Daniel\\Documents\\Projetos\\Alforriah\\gee_guaiba\\data\\processed\\gee-gif\\ndvi\\20211031T132241_20211031T133026_T22JDM.tif\n",
      "\n",
      "\n",
      "Exporting 144/171: 20211108T133229_20211108T133224_T22JDM.tif\n",
      "Generating URL ...\n",
      "Downloading data from https://earthengine.googleapis.com/v1alpha/projects/earthengine-legacy/thumbnails/a8be05d2db2bcbec4f7b36c27d16e88f-8003f17f0021b5ddc1f1ac17004a18ea:getPixels\n",
      "Please wait ...\n",
      "Data downloaded to C:\\Users\\Daniel\\Documents\\Projetos\\Alforriah\\gee_guaiba\\data\\processed\\gee-gif\\ndvi\\20211108T133229_20211108T133224_T22JDM.tif\n",
      "\n",
      "\n",
      "Exporting 145/171: 20211113T133231_20211113T133226_T22JDM.tif\n",
      "Generating URL ...\n",
      "Downloading data from https://earthengine.googleapis.com/v1alpha/projects/earthengine-legacy/thumbnails/af38f4d67fda19dc63d3a2b12037051c-a924b130fff1c397006bfe87f177e480:getPixels\n",
      "Please wait ...\n",
      "Data downloaded to C:\\Users\\Daniel\\Documents\\Projetos\\Alforriah\\gee_guaiba\\data\\processed\\gee-gif\\ndvi\\20211113T133231_20211113T133226_T22JDM.tif\n",
      "\n",
      "\n",
      "Exporting 146/171: 20211120T132231_20211120T132233_T22JDM.tif\n",
      "Generating URL ...\n",
      "Downloading data from https://earthengine.googleapis.com/v1alpha/projects/earthengine-legacy/thumbnails/ef4f1c58200a2dd04a0b28a56c4f1a55-9f25fb25f1fe6b575b5fa806730dc2f3:getPixels\n",
      "Please wait ...\n",
      "Data downloaded to C:\\Users\\Daniel\\Documents\\Projetos\\Alforriah\\gee_guaiba\\data\\processed\\gee-gif\\ndvi\\20211120T132231_20211120T132233_T22JDM.tif\n",
      "\n",
      "\n",
      "Exporting 147/171: 20211210T132231_20211210T132232_T22JDM.tif\n",
      "Generating URL ...\n",
      "Downloading data from https://earthengine.googleapis.com/v1alpha/projects/earthengine-legacy/thumbnails/670f6c0996d84a78dc5ce88755a8bad3-4289bcf359e67a7e5f8daa8fa702d785:getPixels\n",
      "Please wait ...\n",
      "Data downloaded to C:\\Users\\Daniel\\Documents\\Projetos\\Alforriah\\gee_guaiba\\data\\processed\\gee-gif\\ndvi\\20211210T132231_20211210T132232_T22JDM.tif\n",
      "\n",
      "\n",
      "Exporting 148/171: 20211220T132231_20211220T132234_T22JDM.tif\n",
      "Generating URL ...\n",
      "Downloading data from https://earthengine.googleapis.com/v1alpha/projects/earthengine-legacy/thumbnails/528a832159e28ffc1d1d8e38be57dc8c-c55d28a4b381a0cbff1aaab4ea707f47:getPixels\n",
      "Please wait ...\n",
      "Data downloaded to C:\\Users\\Daniel\\Documents\\Projetos\\Alforriah\\gee_guaiba\\data\\processed\\gee-gif\\ndvi\\20211220T132231_20211220T132234_T22JDM.tif\n",
      "\n",
      "\n",
      "Exporting 149/171: 20211225T132229_20211225T132608_T22JDM.tif\n",
      "Generating URL ...\n",
      "Downloading data from https://earthengine.googleapis.com/v1alpha/projects/earthengine-legacy/thumbnails/14a09ffcea738456390d0e04e507a503-95179ba7ef963255848d86847b332b54:getPixels\n",
      "Please wait ...\n",
      "Data downloaded to C:\\Users\\Daniel\\Documents\\Projetos\\Alforriah\\gee_guaiba\\data\\processed\\gee-gif\\ndvi\\20211225T132229_20211225T132608_T22JDM.tif\n",
      "\n",
      "\n",
      "Exporting 150/171: 20211228T133219_20211228T133220_T22JDM.tif\n",
      "Generating URL ...\n",
      "Downloading data from https://earthengine.googleapis.com/v1alpha/projects/earthengine-legacy/thumbnails/8bab527d977653657b60cbac9d53ad15-c7e340a883c4d93b8cfb75e6cadaad17:getPixels\n",
      "Please wait ...\n",
      "Data downloaded to C:\\Users\\Daniel\\Documents\\Projetos\\Alforriah\\gee_guaiba\\data\\processed\\gee-gif\\ndvi\\20211228T133219_20211228T133220_T22JDM.tif\n",
      "\n",
      "\n",
      "Exporting 151/171: 20211230T132241_20211230T132235_T22JDM.tif\n",
      "Generating URL ...\n",
      "Downloading data from https://earthengine.googleapis.com/v1alpha/projects/earthengine-legacy/thumbnails/d62ca54f8640a46fd2d371e5ee4d8f06-a96acd6b7758066fb863c90c84168a46:getPixels\n",
      "Please wait ...\n",
      "Data downloaded to C:\\Users\\Daniel\\Documents\\Projetos\\Alforriah\\gee_guaiba\\data\\processed\\gee-gif\\ndvi\\20211230T132241_20211230T132235_T22JDM.tif\n",
      "\n",
      "\n",
      "Exporting 152/171: 20220112T133231_20220112T133225_T22JDM.tif\n",
      "Generating URL ...\n",
      "Downloading data from https://earthengine.googleapis.com/v1alpha/projects/earthengine-legacy/thumbnails/5d3a19c4717cd8c8572f232c8ffa0368-0b4deaeb6aa002fdf3a8b2b4a19b71cc:getPixels\n",
      "Please wait ...\n",
      "Data downloaded to C:\\Users\\Daniel\\Documents\\Projetos\\Alforriah\\gee_guaiba\\data\\processed\\gee-gif\\ndvi\\20220112T133231_20220112T133225_T22JDM.tif\n",
      "\n",
      "\n",
      "Exporting 153/171: 20220114T132229_20220114T132507_T22JDM.tif\n",
      "Generating URL ...\n",
      "Downloading data from https://earthengine.googleapis.com/v1alpha/projects/earthengine-legacy/thumbnails/5410b4b31062e889bf3ccc17a772005b-7e20ae5b9c2c0000c8ed2c99a15b682d:getPixels\n",
      "Please wait ...\n",
      "Data downloaded to C:\\Users\\Daniel\\Documents\\Projetos\\Alforriah\\gee_guaiba\\data\\processed\\gee-gif\\ndvi\\20220114T132229_20220114T132507_T22JDM.tif\n",
      "\n",
      "\n",
      "Exporting 154/171: 20220119T132231_20220119T132233_T22JDM.tif\n",
      "Generating URL ...\n",
      "Downloading data from https://earthengine.googleapis.com/v1alpha/projects/earthengine-legacy/thumbnails/e0ffccbe4c061804a8057af49368f63e-4c6703ca97427bd5bf5fa583440ff3a2:getPixels\n",
      "Please wait ...\n",
      "Data downloaded to C:\\Users\\Daniel\\Documents\\Projetos\\Alforriah\\gee_guaiba\\data\\processed\\gee-gif\\ndvi\\20220119T132231_20220119T132233_T22JDM.tif\n",
      "\n",
      "\n",
      "Exporting 155/171: 20220122T133221_20220122T133723_T22JDM.tif\n",
      "Generating URL ...\n",
      "Downloading data from https://earthengine.googleapis.com/v1alpha/projects/earthengine-legacy/thumbnails/4d8f84e60dcad0b4538915e55419f3e3-28ed0a71ae1016518ff98dbf763a3e4b:getPixels\n",
      "Please wait ...\n",
      "Data downloaded to C:\\Users\\Daniel\\Documents\\Projetos\\Alforriah\\gee_guaiba\\data\\processed\\gee-gif\\ndvi\\20220122T133221_20220122T133723_T22JDM.tif\n",
      "\n",
      "\n",
      "Exporting 156/171: 20220124T132229_20220124T132227_T22JDM.tif\n",
      "Generating URL ...\n",
      "Downloading data from https://earthengine.googleapis.com/v1alpha/projects/earthengine-legacy/thumbnails/441758f1f290188d53affd63b8855013-ce96dd5f12039325705dc5e551389633:getPixels\n",
      "Please wait ...\n",
      "Data downloaded to C:\\Users\\Daniel\\Documents\\Projetos\\Alforriah\\gee_guaiba\\data\\processed\\gee-gif\\ndvi\\20220124T132229_20220124T132227_T22JDM.tif\n",
      "\n",
      "\n"
     ]
    },
    {
     "name": "stdout",
     "output_type": "stream",
     "text": [
      "Exporting 157/171: 20220203T132229_20220203T132227_T22JDM.tif\n",
      "Generating URL ...\n",
      "Downloading data from https://earthengine.googleapis.com/v1alpha/projects/earthengine-legacy/thumbnails/bc47cc24c7fd16058279e7ba5fdc1265-75beb6eb4f058a9d2ac1a68e0bc2a360:getPixels\n",
      "Please wait ...\n",
      "Data downloaded to C:\\Users\\Daniel\\Documents\\Projetos\\Alforriah\\gee_guaiba\\data\\processed\\gee-gif\\ndvi\\20220203T132229_20220203T132227_T22JDM.tif\n",
      "\n",
      "\n",
      "Exporting 158/171: 20220211T133221_20220211T133524_T22JDM.tif\n",
      "Generating URL ...\n",
      "Downloading data from https://earthengine.googleapis.com/v1alpha/projects/earthengine-legacy/thumbnails/0b25ded68bf7ee6f4b377d985da9093c-d72447250662a863ff2b24cb587110d0:getPixels\n",
      "Please wait ...\n",
      "Data downloaded to C:\\Users\\Daniel\\Documents\\Projetos\\Alforriah\\gee_guaiba\\data\\processed\\gee-gif\\ndvi\\20220211T133221_20220211T133524_T22JDM.tif\n",
      "\n",
      "\n",
      "Exporting 159/171: 20220216T133219_20220216T133218_T22JDM.tif\n",
      "Generating URL ...\n",
      "Downloading data from https://earthengine.googleapis.com/v1alpha/projects/earthengine-legacy/thumbnails/2db3637e65c3b4787c013252645e3f22-9f4e3b3deec62560fbbd1aee41d2f666:getPixels\n",
      "Please wait ...\n",
      "Data downloaded to C:\\Users\\Daniel\\Documents\\Projetos\\Alforriah\\gee_guaiba\\data\\processed\\gee-gif\\ndvi\\20220216T133219_20220216T133218_T22JDM.tif\n",
      "\n",
      "\n",
      "Exporting 160/171: 20220226T133219_20220226T133220_T22JDM.tif\n",
      "Generating URL ...\n",
      "Downloading data from https://earthengine.googleapis.com/v1alpha/projects/earthengine-legacy/thumbnails/77ce05cc707be04d16ce6b6d602a4219-460af640ad7cac91bb859a08b923171e:getPixels\n",
      "Please wait ...\n",
      "Data downloaded to C:\\Users\\Daniel\\Documents\\Projetos\\Alforriah\\gee_guaiba\\data\\processed\\gee-gif\\ndvi\\20220226T133219_20220226T133220_T22JDM.tif\n",
      "\n",
      "\n",
      "Exporting 161/171: 20220303T133231_20220303T134003_T22JDM.tif\n",
      "Generating URL ...\n",
      "Downloading data from https://earthengine.googleapis.com/v1alpha/projects/earthengine-legacy/thumbnails/b331e2eebc344a7540016382dad52719-ee4e444fecf5c1119cc10ed214e50f2a:getPixels\n",
      "Please wait ...\n",
      "Data downloaded to C:\\Users\\Daniel\\Documents\\Projetos\\Alforriah\\gee_guaiba\\data\\processed\\gee-gif\\ndvi\\20220303T133231_20220303T134003_T22JDM.tif\n",
      "\n",
      "\n",
      "Exporting 162/171: 20220305T132229_20220305T132523_T22JDM.tif\n",
      "Generating URL ...\n",
      "Downloading data from https://earthengine.googleapis.com/v1alpha/projects/earthengine-legacy/thumbnails/c9430c2dac91b0fb10fd3a81fa7fab50-07135e6895931cb136803f8169199e84:getPixels\n",
      "Please wait ...\n",
      "Data downloaded to C:\\Users\\Daniel\\Documents\\Projetos\\Alforriah\\gee_guaiba\\data\\processed\\gee-gif\\ndvi\\20220305T132229_20220305T132523_T22JDM.tif\n",
      "\n",
      "\n",
      "Exporting 163/171: 20220328T133219_20220328T133221_T22JDM.tif\n",
      "Generating URL ...\n",
      "Downloading data from https://earthengine.googleapis.com/v1alpha/projects/earthengine-legacy/thumbnails/6e7fe527a7beedba07a6d81acd44c7b4-e1dfaa67c9e193d72d8a646180e513ad:getPixels\n",
      "Please wait ...\n",
      "Data downloaded to C:\\Users\\Daniel\\Documents\\Projetos\\Alforriah\\gee_guaiba\\data\\processed\\gee-gif\\ndvi\\20220328T133219_20220328T133221_T22JDM.tif\n",
      "\n",
      "\n",
      "Exporting 164/171: 20220402T133231_20220402T133450_T22JDM.tif\n",
      "Generating URL ...\n",
      "Downloading data from https://earthengine.googleapis.com/v1alpha/projects/earthengine-legacy/thumbnails/f1b29c2b1e9be22556c540767584f464-af278d5f06dba7c24afd14593ae30c02:getPixels\n",
      "Please wait ...\n",
      "Data downloaded to C:\\Users\\Daniel\\Documents\\Projetos\\Alforriah\\gee_guaiba\\data\\processed\\gee-gif\\ndvi\\20220402T133231_20220402T133450_T22JDM.tif\n",
      "\n",
      "\n",
      "Exporting 165/171: 20220414T132229_20220414T132316_T22JDM.tif\n",
      "Generating URL ...\n",
      "Downloading data from https://earthengine.googleapis.com/v1alpha/projects/earthengine-legacy/thumbnails/9cd5bab897050af41ac6bd4128099606-a8f2bf064ada3369641b286b15679618:getPixels\n",
      "Please wait ...\n",
      "Data downloaded to C:\\Users\\Daniel\\Documents\\Projetos\\Alforriah\\gee_guaiba\\data\\processed\\gee-gif\\ndvi\\20220414T132229_20220414T132316_T22JDM.tif\n",
      "\n",
      "\n",
      "Exporting 166/171: 20220419T132241_20220419T132324_T22JDM.tif\n",
      "Generating URL ...\n",
      "Downloading data from https://earthengine.googleapis.com/v1alpha/projects/earthengine-legacy/thumbnails/c6acef979b3eb7554c2aa8c02eb2c1a2-7f6a366e7c42066f3041bd2f91b140c5:getPixels\n",
      "Please wait ...\n",
      "Data downloaded to C:\\Users\\Daniel\\Documents\\Projetos\\Alforriah\\gee_guaiba\\data\\processed\\gee-gif\\ndvi\\20220419T132241_20220419T132324_T22JDM.tif\n",
      "\n",
      "\n",
      "Exporting 167/171: 20220424T132229_20220424T132611_T22JDM.tif\n",
      "Generating URL ...\n",
      "Downloading data from https://earthengine.googleapis.com/v1alpha/projects/earthengine-legacy/thumbnails/2c92ee00d0f5702104dfaf12bf59d8b4-4a2fdc6efa7849d29365c00bce332363:getPixels\n",
      "Please wait ...\n",
      "Data downloaded to C:\\Users\\Daniel\\Documents\\Projetos\\Alforriah\\gee_guaiba\\data\\processed\\gee-gif\\ndvi\\20220424T132229_20220424T132611_T22JDM.tif\n",
      "\n",
      "\n",
      "Exporting 168/171: 20220429T132241_20220429T132325_T22JDM.tif\n",
      "Generating URL ...\n",
      "Downloading data from https://earthengine.googleapis.com/v1alpha/projects/earthengine-legacy/thumbnails/939080a82ab3f78123bd837363cc8261-f2fcd8ddadffc5d3281489f1c92a4624:getPixels\n",
      "Please wait ...\n",
      "Data downloaded to C:\\Users\\Daniel\\Documents\\Projetos\\Alforriah\\gee_guaiba\\data\\processed\\gee-gif\\ndvi\\20220429T132241_20220429T132325_T22JDM.tif\n",
      "\n",
      "\n",
      "Exporting 169/171: 20220507T133219_20220507T133220_T22JDM.tif\n",
      "Generating URL ...\n",
      "Downloading data from https://earthengine.googleapis.com/v1alpha/projects/earthengine-legacy/thumbnails/f889cde02899578183f03525f1cdaefc-7bee577d7bde39ab9759fcd16b2b930a:getPixels\n",
      "Please wait ...\n",
      "Data downloaded to C:\\Users\\Daniel\\Documents\\Projetos\\Alforriah\\gee_guaiba\\data\\processed\\gee-gif\\ndvi\\20220507T133219_20220507T133220_T22JDM.tif\n",
      "\n",
      "\n",
      "Exporting 170/171: 20220509T132241_20220509T132309_T22JDM.tif\n",
      "Generating URL ...\n",
      "Downloading data from https://earthengine.googleapis.com/v1alpha/projects/earthengine-legacy/thumbnails/41e149d50473ff854db220c10b6a752c-234eec883b4f96ffe0164b655f6d96c2:getPixels\n",
      "Please wait ...\n",
      "Data downloaded to C:\\Users\\Daniel\\Documents\\Projetos\\Alforriah\\gee_guaiba\\data\\processed\\gee-gif\\ndvi\\20220509T132241_20220509T132309_T22JDM.tif\n",
      "\n",
      "\n",
      "Exporting 171/171: 20220512T133231_20220512T133948_T22JDM.tif\n",
      "Generating URL ...\n",
      "Downloading data from https://earthengine.googleapis.com/v1alpha/projects/earthengine-legacy/thumbnails/437c7e204021c278d69c7017273c026b-be1ae56a67dc8be5a573ca7638fddb9f:getPixels\n",
      "Please wait ...\n",
      "Data downloaded to C:\\Users\\Daniel\\Documents\\Projetos\\Alforriah\\gee_guaiba\\data\\processed\\gee-gif\\ndvi\\20220512T133231_20220512T133948_T22JDM.tif\n",
      "\n",
      "\n"
     ]
    }
   ],
   "source": [
    "gif_dir = \"../../data/processed/gee-gif/ndvi\"\n",
    "\n",
    "if os.listdir(gif_dir) == []:\n",
    "    geemap.ee_export_image_collection(guaiba_collection_ndvi_ndci.select(\"NDVI\"),\n",
    "                                  out_dir=gif_dir,\n",
    "                                  crs=\"EPSG:4674\",\n",
    "                                  region=region.geometry())"
   ]
  },
  {
   "cell_type": "markdown",
   "metadata": {},
   "source": [
    "As imagens e o GIF foram gerados em R."
   ]
  },
  {
   "cell_type": "markdown",
   "metadata": {},
   "source": [
    "### 2.2. Extrair dados (redução)"
   ]
  },
  {
   "cell_type": "code",
   "execution_count": 25,
   "metadata": {},
   "outputs": [],
   "source": [
    "def reduce(img):\n",
    "    \"\"\"Extrai média, mediana, mínimo, máximo e desvio padrão de uma banda\"\"\"\n",
    "    \n",
    "    serie_reduce = img.reduceRegions(**{\n",
    "        \"collection\":region,\n",
    "        \"reducer\": ee.Reducer.mean().combine(**{\n",
    "            \"reducer2\": ee.Reducer.min(),\n",
    "                \"sharedInputs\": True}).combine(**{\n",
    "            \"reducer2\": ee.Reducer.max(),\n",
    "                \"sharedInputs\": True}).combine(**{\n",
    "            \"reducer2\": ee.Reducer.median(),\n",
    "                \"sharedInputs\": True}).combine(**{\n",
    "            \"reducer2\": ee.Reducer.stdDev(),\n",
    "                \"sharedInputs\":True}),\n",
    "        \"scale\": 20\n",
    "    })\n",
    "    \n",
    "    serie_reduce = serie_reduce.map(lambda f: f.set({\"millis\": img.get(\"millis\")}))\\\n",
    "        .map(lambda f: f.set({\"date\": img.get(\"date\")}))\n",
    "    \n",
    "    return serie_reduce.copyProperties(img, [\"system:time_start\"])\n",
    "\n",
    "def create_df(img, band):\n",
    "    \"\"\"Cria um dataframe para dados extraidos de imageCollection\"\"\"\n",
    "    \n",
    "    reduced_img = img.select(band).map(reduce)\\\n",
    "        .flatten()\\\n",
    "        .sort(\"date\", True)\\\n",
    "        .select([\"millis\", \"date\", \"min\", \"max\",\"mean\", \"median\", \"stdDev\"])\n",
    "\n",
    "    lista_df = reduced_img.reduceColumns(\n",
    "        ee.Reducer.toList(7),\n",
    "        [\"millis\", \"date\", \"min\", \"max\",\"mean\", \"median\", \"stdDev\"])\\\n",
    "        .values().get(0)\n",
    "\n",
    "    df = pd.DataFrame(\n",
    "        lista_df.getInfo(),\n",
    "        columns=[\"millis\",\n",
    "                 \"date\"] +\n",
    "        [band + \"_\" + stat for stat in [\"min\", \"max\", \"mean\", \"median\", \"stdDev\"]])\n",
    "    \n",
    "    df[\"date\"] = pd.to_datetime(df[\"date\"], format=\"%Y-%m-%d\")\n",
    "    \n",
    "    return df"
   ]
  },
  {
   "cell_type": "code",
   "execution_count": 27,
   "metadata": {},
   "outputs": [],
   "source": [
    "df_ndvi = create_df(guaiba_collection_ndvi_ndci, \"NDVI\")"
   ]
  },
  {
   "cell_type": "code",
   "execution_count": 29,
   "metadata": {},
   "outputs": [],
   "source": [
    "df_ndci = create_df(guaiba_collection_ndvi_ndci, \"NDCI\")"
   ]
  },
  {
   "cell_type": "code",
   "execution_count": 30,
   "metadata": {},
   "outputs": [
    {
     "data": {
      "text/html": [
       "<div>\n",
       "<style scoped>\n",
       "    .dataframe tbody tr th:only-of-type {\n",
       "        vertical-align: middle;\n",
       "    }\n",
       "\n",
       "    .dataframe tbody tr th {\n",
       "        vertical-align: top;\n",
       "    }\n",
       "\n",
       "    .dataframe thead th {\n",
       "        text-align: right;\n",
       "    }\n",
       "</style>\n",
       "<table border=\"1\" class=\"dataframe\">\n",
       "  <thead>\n",
       "    <tr style=\"text-align: right;\">\n",
       "      <th></th>\n",
       "      <th>millis</th>\n",
       "      <th>date</th>\n",
       "      <th>NDCI_min</th>\n",
       "      <th>NDCI_max</th>\n",
       "      <th>NDCI_mean</th>\n",
       "      <th>NDCI_median</th>\n",
       "      <th>NDCI_stdDev</th>\n",
       "    </tr>\n",
       "  </thead>\n",
       "  <tbody>\n",
       "    <tr>\n",
       "      <th>0</th>\n",
       "      <td>1546090840000</td>\n",
       "      <td>2018-12-29 13:40:40</td>\n",
       "      <td>-0.167931</td>\n",
       "      <td>0.634409</td>\n",
       "      <td>-0.023233</td>\n",
       "      <td>-0.029342</td>\n",
       "      <td>0.034691</td>\n",
       "    </tr>\n",
       "    <tr>\n",
       "      <th>1</th>\n",
       "      <td>1548423047000</td>\n",
       "      <td>2019-01-25 13:30:47</td>\n",
       "      <td>-0.180560</td>\n",
       "      <td>0.633309</td>\n",
       "      <td>-0.005937</td>\n",
       "      <td>-0.005875</td>\n",
       "      <td>0.035793</td>\n",
       "    </tr>\n",
       "    <tr>\n",
       "      <th>2</th>\n",
       "      <td>1548682843000</td>\n",
       "      <td>2019-01-28 13:40:43</td>\n",
       "      <td>-0.158893</td>\n",
       "      <td>0.647395</td>\n",
       "      <td>-0.010855</td>\n",
       "      <td>-0.013683</td>\n",
       "      <td>0.033420</td>\n",
       "    </tr>\n",
       "    <tr>\n",
       "      <th>3</th>\n",
       "      <td>1549546843000</td>\n",
       "      <td>2019-02-07 13:40:43</td>\n",
       "      <td>-0.193239</td>\n",
       "      <td>0.638596</td>\n",
       "      <td>-0.030255</td>\n",
       "      <td>-0.029306</td>\n",
       "      <td>0.040513</td>\n",
       "    </tr>\n",
       "    <tr>\n",
       "      <th>4</th>\n",
       "      <td>1549719051000</td>\n",
       "      <td>2019-02-09 13:30:51</td>\n",
       "      <td>-0.176221</td>\n",
       "      <td>0.622495</td>\n",
       "      <td>-0.012386</td>\n",
       "      <td>-0.009748</td>\n",
       "      <td>0.045008</td>\n",
       "    </tr>\n",
       "    <tr>\n",
       "      <th>...</th>\n",
       "      <td>...</td>\n",
       "      <td>...</td>\n",
       "      <td>...</td>\n",
       "      <td>...</td>\n",
       "      <td>...</td>\n",
       "      <td>...</td>\n",
       "      <td>...</td>\n",
       "    </tr>\n",
       "    <tr>\n",
       "      <th>166</th>\n",
       "      <td>1650807045250</td>\n",
       "      <td>2022-04-24 13:30:45</td>\n",
       "      <td>-0.114764</td>\n",
       "      <td>0.291866</td>\n",
       "      <td>-0.018705</td>\n",
       "      <td>-0.020502</td>\n",
       "      <td>0.020489</td>\n",
       "    </tr>\n",
       "    <tr>\n",
       "      <th>167</th>\n",
       "      <td>1651239056300</td>\n",
       "      <td>2022-04-29 13:30:56</td>\n",
       "      <td>-0.111469</td>\n",
       "      <td>0.297750</td>\n",
       "      <td>-0.013373</td>\n",
       "      <td>-0.012695</td>\n",
       "      <td>0.021745</td>\n",
       "    </tr>\n",
       "    <tr>\n",
       "      <th>168</th>\n",
       "      <td>1651930843010</td>\n",
       "      <td>2022-05-07 13:40:43</td>\n",
       "      <td>-0.094701</td>\n",
       "      <td>0.294320</td>\n",
       "      <td>-0.009096</td>\n",
       "      <td>-0.008776</td>\n",
       "      <td>0.017226</td>\n",
       "    </tr>\n",
       "    <tr>\n",
       "      <th>169</th>\n",
       "      <td>1652103055120</td>\n",
       "      <td>2022-05-09 13:30:55</td>\n",
       "      <td>-0.139696</td>\n",
       "      <td>0.301840</td>\n",
       "      <td>-0.015969</td>\n",
       "      <td>-0.016604</td>\n",
       "      <td>0.016212</td>\n",
       "    </tr>\n",
       "    <tr>\n",
       "      <th>170</th>\n",
       "      <td>1652362849938</td>\n",
       "      <td>2022-05-12 13:40:49</td>\n",
       "      <td>-0.311440</td>\n",
       "      <td>0.312731</td>\n",
       "      <td>-0.019939</td>\n",
       "      <td>-0.021571</td>\n",
       "      <td>0.015933</td>\n",
       "    </tr>\n",
       "  </tbody>\n",
       "</table>\n",
       "<p>171 rows × 7 columns</p>\n",
       "</div>"
      ],
      "text/plain": [
       "            millis                date  NDCI_min  NDCI_max  NDCI_mean  \\\n",
       "0    1546090840000 2018-12-29 13:40:40 -0.167931  0.634409  -0.023233   \n",
       "1    1548423047000 2019-01-25 13:30:47 -0.180560  0.633309  -0.005937   \n",
       "2    1548682843000 2019-01-28 13:40:43 -0.158893  0.647395  -0.010855   \n",
       "3    1549546843000 2019-02-07 13:40:43 -0.193239  0.638596  -0.030255   \n",
       "4    1549719051000 2019-02-09 13:30:51 -0.176221  0.622495  -0.012386   \n",
       "..             ...                 ...       ...       ...        ...   \n",
       "166  1650807045250 2022-04-24 13:30:45 -0.114764  0.291866  -0.018705   \n",
       "167  1651239056300 2022-04-29 13:30:56 -0.111469  0.297750  -0.013373   \n",
       "168  1651930843010 2022-05-07 13:40:43 -0.094701  0.294320  -0.009096   \n",
       "169  1652103055120 2022-05-09 13:30:55 -0.139696  0.301840  -0.015969   \n",
       "170  1652362849938 2022-05-12 13:40:49 -0.311440  0.312731  -0.019939   \n",
       "\n",
       "     NDCI_median  NDCI_stdDev  \n",
       "0      -0.029342     0.034691  \n",
       "1      -0.005875     0.035793  \n",
       "2      -0.013683     0.033420  \n",
       "3      -0.029306     0.040513  \n",
       "4      -0.009748     0.045008  \n",
       "..           ...          ...  \n",
       "166    -0.020502     0.020489  \n",
       "167    -0.012695     0.021745  \n",
       "168    -0.008776     0.017226  \n",
       "169    -0.016604     0.016212  \n",
       "170    -0.021571     0.015933  \n",
       "\n",
       "[171 rows x 7 columns]"
      ]
     },
     "execution_count": 30,
     "metadata": {},
     "output_type": "execute_result"
    }
   ],
   "source": [
    "df_ndci"
   ]
  },
  {
   "cell_type": "code",
   "execution_count": 35,
   "metadata": {},
   "outputs": [
    {
     "data": {
      "application/vnd.plotly.v1+json": {
       "config": {
        "plotlyServerURL": "https://plot.ly"
       },
       "data": [
        {
         "hovertemplate": "date=%{x}<br>NDVI_median=%{y}<extra></extra>",
         "legendgroup": "",
         "marker": {
          "color": "#636efa",
          "symbol": "circle"
         },
         "mode": "markers",
         "name": "",
         "orientation": "v",
         "showlegend": false,
         "type": "scatter",
         "x": [
          "2018-12-29T13:40:40",
          "2019-01-25T13:30:47",
          "2019-01-28T13:40:43",
          "2019-02-07T13:40:43",
          "2019-02-09T13:30:51",
          "2019-02-14T13:30:47",
          "2019-02-19T13:30:50",
          "2019-02-22T13:40:45",
          "2019-03-01T13:30:49",
          "2019-03-14T13:40:44",
          "2019-03-16T13:30:47",
          "2019-03-21T13:30:50",
          "2019-03-24T13:40:47",
          "2019-03-26T13:30:50",
          "2019-04-03T13:40:49",
          "2019-04-10T13:30:55",
          "2019-05-18T13:40:50",
          "2019-05-25T13:30:54",
          "2019-07-07T13:40:51",
          "2019-07-12T13:40:55",
          "2019-08-03T13:30:55",
          "2019-08-06T13:40:50",
          "2019-08-11T13:40:53",
          "2019-09-02T13:30:51",
          "2019-09-15T13:40:45",
          "2019-09-22T13:30:51",
          "2019-09-25T13:40:47",
          "2019-09-30T13:40:47",
          "2019-10-07T13:30:52",
          "2019-10-12T13:30:53",
          "2019-11-06T13:30:51",
          "2019-11-16T13:30:49",
          "2019-11-19T13:40:44",
          "2019-11-21T13:30:52",
          "2019-11-29T13:40:42",
          "2019-12-04T13:40:44",
          "2019-12-06T13:30:45",
          "2019-12-09T13:40:40",
          "2019-12-11T13:30:47",
          "2019-12-19T13:40:41",
          "2019-12-24T13:40:40",
          "2019-12-26T13:30:46",
          "2020-01-05T13:30:46",
          "2020-01-10T13:30:45",
          "2020-01-18T13:40:40",
          "2020-01-20T13:30:44",
          "2020-01-25T13:30:44",
          "2020-02-02T13:40:38",
          "2020-02-07T13:40:40",
          "2020-02-22T13:40:41",
          "2020-02-24T13:30:47",
          "2020-02-27T13:40:43",
          "2020-02-29T13:30:46",
          "2020-03-03T13:40:42",
          "2020-03-05T13:30:48",
          "2020-03-08T13:40:44",
          "2020-03-13T13:40:42",
          "2020-03-23T13:40:42",
          "2020-03-25T13:30:48",
          "2020-03-30T13:30:47",
          "2020-04-04T13:30:42",
          "2020-04-04T13:30:49",
          "2020-04-07T13:40:43",
          "2020-04-12T13:40:45",
          "2020-04-19T13:30:51",
          "2020-05-02T13:40:49",
          "2020-05-04T13:30:48",
          "2020-05-07T13:40:44",
          "2020-05-09T13:30:55",
          "2020-05-14T13:30:50",
          "2020-05-17T13:40:46",
          "2020-05-19T13:30:56",
          "2020-05-27T13:40:47",
          "2020-05-29T13:30:57",
          "2020-06-01T13:40:52",
          "2020-06-16T13:40:49",
          "2020-06-21T13:40:52",
          "2020-06-28T13:30:56",
          "2020-07-03T13:30:53",
          "2020-07-13T13:30:52",
          "2020-07-26T13:40:49",
          "2020-07-31T13:40:52",
          "2020-08-05T13:40:49",
          "2020-08-10T13:40:52",
          "2020-08-17T13:30:56",
          "2020-08-22T13:30:54",
          "2020-09-21T13:30:53",
          "2020-09-24T13:40:49",
          "2020-09-29T13:40:52",
          "2020-10-11T13:30:54",
          "2020-10-19T13:40:52",
          "2020-11-23T13:40:46",
          "2020-12-10T13:30:48",
          "2020-12-15T13:30:48",
          "2020-12-18T13:40:44",
          "2020-12-23T13:40:43",
          "2020-12-30T13:30:49",
          "2021-01-02T13:40:45",
          "2021-01-09T13:30:50",
          "2021-01-19T13:30:50",
          "2021-02-08T13:30:50",
          "2021-02-13T13:30:49",
          "2021-02-21T13:40:44",
          "2021-02-26T13:40:46",
          "2021-03-13T13:40:45",
          "2021-03-20T13:30:50",
          "2021-03-25T13:30:49",
          "2021-04-04T13:30:47",
          "2021-04-07T13:40:42",
          "2021-04-09T13:30:48",
          "2021-04-14T13:30:45",
          "2021-04-22T13:40:40",
          "2021-04-24T13:30:47",
          "2021-04-27T13:40:43",
          "2021-04-29T13:30:46",
          "2021-05-02T13:40:43",
          "2021-05-07T13:40:45",
          "2021-05-09T13:30:49",
          "2021-05-12T13:40:45",
          "2021-05-24T13:30:51",
          "2021-05-27T13:40:47",
          "2021-05-29T13:30:51",
          "2021-06-01T13:40:47",
          "2021-06-03T13:30:51",
          "2021-06-13T13:30:51",
          "2021-06-16T13:40:46",
          "2021-07-03T13:30:53",
          "2021-07-08T13:30:52",
          "2021-07-16T13:40:49",
          "2021-07-18T13:30:53",
          "2021-07-21T13:40:48",
          "2021-07-23T13:30:54",
          "2021-07-31T13:40:48",
          "2021-08-07T13:30:52",
          "2021-08-27T13:30:49",
          "2021-08-30T13:40:43",
          "2021-09-16T13:30:47",
          "2021-10-19T13:40:48",
          "2021-10-21T13:30:56",
          "2021-10-24T13:40:51",
          "2021-10-26T13:30:52",
          "2021-10-29T13:40:47",
          "2021-10-31T13:30:55",
          "2021-11-08T13:40:46",
          "2021-11-13T13:40:48",
          "2021-11-20T13:30:51",
          "2021-12-10T13:30:49",
          "2021-12-20T13:30:52",
          "2021-12-25T13:30:46",
          "2021-12-28T13:40:42",
          "2021-12-30T13:30:52",
          "2022-01-12T13:40:47",
          "2022-01-14T13:30:46",
          "2022-01-19T13:30:51",
          "2022-01-22T13:40:46",
          "2022-01-24T13:30:45",
          "2022-02-03T13:30:45",
          "2022-02-11T13:40:45",
          "2022-02-16T13:40:40",
          "2022-02-26T13:40:42",
          "2022-03-03T13:40:50",
          "2022-03-05T13:30:48",
          "2022-03-28T13:40:43",
          "2022-04-02T13:40:48",
          "2022-04-14T13:30:47",
          "2022-04-19T13:30:55",
          "2022-04-24T13:30:45",
          "2022-04-29T13:30:56",
          "2022-05-07T13:40:43",
          "2022-05-09T13:30:55",
          "2022-05-12T13:40:49"
         ],
         "xaxis": "x",
         "y": [
          -0.3086339947423727,
          -0.402298549016185,
          -0.3163664894535802,
          -0.41796838347283527,
          -0.5429689794477243,
          -0.589905890101365,
          -0.5665339040440838,
          -0.4180312256216655,
          -0.644520524022017,
          -0.5663929910711087,
          -0.5586525522425978,
          -0.49621117942112786,
          -0.582006988881994,
          -0.6446515362746084,
          -0.5430134522980556,
          -0.6758949606244595,
          -0.56643751550044,
          -0.5507955854049618,
          -0.644646016551928,
          -0.6211667437792051,
          -0.4258569193004568,
          -0.5037253717412303,
          -0.4962662850110327,
          -0.5663438249316511,
          -0.4727228856369883,
          -0.49613745102431817,
          -0.5274653957956856,
          -0.5117528713263756,
          -0.5351833775610305,
          -0.5117884956433413,
          -0.3945368305817702,
          -0.5039276168667888,
          -0.26163626700418463,
          -0.4961623445130128,
          -0.23820055028039097,
          -0.26169810172003405,
          -0.4726577658170633,
          -0.22268699248908788,
          -0.582042084929301,
          -0.23038613113609824,
          -0.2304422971246272,
          -0.44927191958325513,
          -0.5742378371696384,
          -0.5508353120781205,
          -0.26170188972169245,
          -0.4493059350215721,
          -0.4569716562107404,
          -0.3398141581231145,
          -0.34768445604304127,
          -0.33990103716466274,
          -0.5352412233414073,
          -0.5274226569935896,
          -0.5663773397094963,
          -0.4412809213753838,
          -0.5352240551067273,
          -0.511771911341708,
          -0.5038862051567723,
          -0.5429121018107804,
          -0.5664563049717101,
          -0.5742567654335246,
          -0.5041425921313462,
          -0.4335871968471102,
          -0.4414578403799124,
          -0.5978341830892094,
          -0.46476149630029395,
          -0.5195593652133377,
          -0.527273931248295,
          -0.5509015736794937,
          -0.5428761908907203,
          -0.5507398717562876,
          -0.6132878683547,
          -0.5819482898122026,
          -0.5742379406551515,
          -0.5819962364115455,
          -0.5820471130979831,
          -0.6523403416343939,
          -0.6211326126212647,
          -0.6133373613484423,
          -0.3866364442169796,
          -0.4569207202125221,
          -0.5899085498892966,
          -0.6367777877097998,
          -0.5900057337228287,
          -0.5351957114602536,
          -0.5587291621608294,
          -0.5976622814715058,
          -0.503947326190808,
          -0.4727063838871465,
          -0.44155254153299767,
          -0.5430475662015031,
          -0.3788205094709175,
          -0.23826890790305266,
          -0.5821433663024376,
          -0.6523904851402916,
          -0.2071161289650694,
          -0.14437824798276697,
          -0.4491528738816688,
          -0.14442767580183943,
          -0.4882921979370216,
          -0.4179449218858375,
          -0.5273896645682418,
          -0.5664356141171353,
          -0.4491575729558893,
          -0.4102289193431694,
          -0.5899704800816693,
          -0.5742139099642694,
          -0.6446566724084454,
          -0.6133297880944646,
          -0.6289583288235183,
          -0.566322050458818,
          -0.5428085998502761,
          -0.433681462951789,
          -0.49604654754556765,
          -0.5273425432151786,
          -0.5741831531801549,
          -0.5742147135832598,
          -0.5272920686082672,
          -0.5820542727269147,
          -0.558566510265187,
          -0.0976412383533479,
          -0.48048488528109773,
          -0.4648889880430821,
          -0.5742229844181366,
          -0.5976825766547708,
          -0.5898488172408205,
          -0.48838775351423847,
          -0.464833367950237,
          -0.4960661563725431,
          -0.5351588590805546,
          -0.3163920220041449,
          -0.3242511746604523,
          -0.3632438100752554,
          -0.5117782393101611,
          -0.5116988126678519,
          -0.22268616558929896,
          -0.5273673368773559,
          -0.4100932963775238,
          -0.3945075644385861,
          -0.5430432120695071,
          -0.3085933957617922,
          -0.5117134582607406,
          -0.2773238518668843,
          -0.4180159498087339,
          -0.2695103891445294,
          -0.26950382189264377,
          -0.5195075366664887,
          -0.43354601480390814,
          -0.5039339117298055,
          -0.5195540950662698,
          -0.27744693600358245,
          -0.41804666824178616,
          -0.3240876475234477,
          -0.5430105020168121,
          -0.5351324305374457,
          -0.23052171412209593,
          -0.45706855359856136,
          -0.146482707229068,
          -0.14472254907714663,
          -0.15822355873484822,
          -0.17389857449752494,
          -0.14251267551632954,
          -0.1895481299928634,
          -0.17768542014804997,
          -0.1739112733905839,
          -0.16992239847998578,
          -0.1836129673862507,
          -0.1737743250716353,
          -0.1660801197643733,
          -0.15430177923526675,
          -0.1915660738721573,
          -0.16798510409489478
         ],
         "yaxis": "y"
        }
       ],
       "layout": {
        "legend": {
         "tracegroupgap": 0
        },
        "margin": {
         "t": 60
        },
        "template": {
         "data": {
          "bar": [
           {
            "error_x": {
             "color": "#2a3f5f"
            },
            "error_y": {
             "color": "#2a3f5f"
            },
            "marker": {
             "line": {
              "color": "#E5ECF6",
              "width": 0.5
             },
             "pattern": {
              "fillmode": "overlay",
              "size": 10,
              "solidity": 0.2
             }
            },
            "type": "bar"
           }
          ],
          "barpolar": [
           {
            "marker": {
             "line": {
              "color": "#E5ECF6",
              "width": 0.5
             },
             "pattern": {
              "fillmode": "overlay",
              "size": 10,
              "solidity": 0.2
             }
            },
            "type": "barpolar"
           }
          ],
          "carpet": [
           {
            "aaxis": {
             "endlinecolor": "#2a3f5f",
             "gridcolor": "white",
             "linecolor": "white",
             "minorgridcolor": "white",
             "startlinecolor": "#2a3f5f"
            },
            "baxis": {
             "endlinecolor": "#2a3f5f",
             "gridcolor": "white",
             "linecolor": "white",
             "minorgridcolor": "white",
             "startlinecolor": "#2a3f5f"
            },
            "type": "carpet"
           }
          ],
          "choropleth": [
           {
            "colorbar": {
             "outlinewidth": 0,
             "ticks": ""
            },
            "type": "choropleth"
           }
          ],
          "contour": [
           {
            "colorbar": {
             "outlinewidth": 0,
             "ticks": ""
            },
            "colorscale": [
             [
              0,
              "#0d0887"
             ],
             [
              0.1111111111111111,
              "#46039f"
             ],
             [
              0.2222222222222222,
              "#7201a8"
             ],
             [
              0.3333333333333333,
              "#9c179e"
             ],
             [
              0.4444444444444444,
              "#bd3786"
             ],
             [
              0.5555555555555556,
              "#d8576b"
             ],
             [
              0.6666666666666666,
              "#ed7953"
             ],
             [
              0.7777777777777778,
              "#fb9f3a"
             ],
             [
              0.8888888888888888,
              "#fdca26"
             ],
             [
              1,
              "#f0f921"
             ]
            ],
            "type": "contour"
           }
          ],
          "contourcarpet": [
           {
            "colorbar": {
             "outlinewidth": 0,
             "ticks": ""
            },
            "type": "contourcarpet"
           }
          ],
          "heatmap": [
           {
            "colorbar": {
             "outlinewidth": 0,
             "ticks": ""
            },
            "colorscale": [
             [
              0,
              "#0d0887"
             ],
             [
              0.1111111111111111,
              "#46039f"
             ],
             [
              0.2222222222222222,
              "#7201a8"
             ],
             [
              0.3333333333333333,
              "#9c179e"
             ],
             [
              0.4444444444444444,
              "#bd3786"
             ],
             [
              0.5555555555555556,
              "#d8576b"
             ],
             [
              0.6666666666666666,
              "#ed7953"
             ],
             [
              0.7777777777777778,
              "#fb9f3a"
             ],
             [
              0.8888888888888888,
              "#fdca26"
             ],
             [
              1,
              "#f0f921"
             ]
            ],
            "type": "heatmap"
           }
          ],
          "heatmapgl": [
           {
            "colorbar": {
             "outlinewidth": 0,
             "ticks": ""
            },
            "colorscale": [
             [
              0,
              "#0d0887"
             ],
             [
              0.1111111111111111,
              "#46039f"
             ],
             [
              0.2222222222222222,
              "#7201a8"
             ],
             [
              0.3333333333333333,
              "#9c179e"
             ],
             [
              0.4444444444444444,
              "#bd3786"
             ],
             [
              0.5555555555555556,
              "#d8576b"
             ],
             [
              0.6666666666666666,
              "#ed7953"
             ],
             [
              0.7777777777777778,
              "#fb9f3a"
             ],
             [
              0.8888888888888888,
              "#fdca26"
             ],
             [
              1,
              "#f0f921"
             ]
            ],
            "type": "heatmapgl"
           }
          ],
          "histogram": [
           {
            "marker": {
             "pattern": {
              "fillmode": "overlay",
              "size": 10,
              "solidity": 0.2
             }
            },
            "type": "histogram"
           }
          ],
          "histogram2d": [
           {
            "colorbar": {
             "outlinewidth": 0,
             "ticks": ""
            },
            "colorscale": [
             [
              0,
              "#0d0887"
             ],
             [
              0.1111111111111111,
              "#46039f"
             ],
             [
              0.2222222222222222,
              "#7201a8"
             ],
             [
              0.3333333333333333,
              "#9c179e"
             ],
             [
              0.4444444444444444,
              "#bd3786"
             ],
             [
              0.5555555555555556,
              "#d8576b"
             ],
             [
              0.6666666666666666,
              "#ed7953"
             ],
             [
              0.7777777777777778,
              "#fb9f3a"
             ],
             [
              0.8888888888888888,
              "#fdca26"
             ],
             [
              1,
              "#f0f921"
             ]
            ],
            "type": "histogram2d"
           }
          ],
          "histogram2dcontour": [
           {
            "colorbar": {
             "outlinewidth": 0,
             "ticks": ""
            },
            "colorscale": [
             [
              0,
              "#0d0887"
             ],
             [
              0.1111111111111111,
              "#46039f"
             ],
             [
              0.2222222222222222,
              "#7201a8"
             ],
             [
              0.3333333333333333,
              "#9c179e"
             ],
             [
              0.4444444444444444,
              "#bd3786"
             ],
             [
              0.5555555555555556,
              "#d8576b"
             ],
             [
              0.6666666666666666,
              "#ed7953"
             ],
             [
              0.7777777777777778,
              "#fb9f3a"
             ],
             [
              0.8888888888888888,
              "#fdca26"
             ],
             [
              1,
              "#f0f921"
             ]
            ],
            "type": "histogram2dcontour"
           }
          ],
          "mesh3d": [
           {
            "colorbar": {
             "outlinewidth": 0,
             "ticks": ""
            },
            "type": "mesh3d"
           }
          ],
          "parcoords": [
           {
            "line": {
             "colorbar": {
              "outlinewidth": 0,
              "ticks": ""
             }
            },
            "type": "parcoords"
           }
          ],
          "pie": [
           {
            "automargin": true,
            "type": "pie"
           }
          ],
          "scatter": [
           {
            "marker": {
             "colorbar": {
              "outlinewidth": 0,
              "ticks": ""
             }
            },
            "type": "scatter"
           }
          ],
          "scatter3d": [
           {
            "line": {
             "colorbar": {
              "outlinewidth": 0,
              "ticks": ""
             }
            },
            "marker": {
             "colorbar": {
              "outlinewidth": 0,
              "ticks": ""
             }
            },
            "type": "scatter3d"
           }
          ],
          "scattercarpet": [
           {
            "marker": {
             "colorbar": {
              "outlinewidth": 0,
              "ticks": ""
             }
            },
            "type": "scattercarpet"
           }
          ],
          "scattergeo": [
           {
            "marker": {
             "colorbar": {
              "outlinewidth": 0,
              "ticks": ""
             }
            },
            "type": "scattergeo"
           }
          ],
          "scattergl": [
           {
            "marker": {
             "colorbar": {
              "outlinewidth": 0,
              "ticks": ""
             }
            },
            "type": "scattergl"
           }
          ],
          "scattermapbox": [
           {
            "marker": {
             "colorbar": {
              "outlinewidth": 0,
              "ticks": ""
             }
            },
            "type": "scattermapbox"
           }
          ],
          "scatterpolar": [
           {
            "marker": {
             "colorbar": {
              "outlinewidth": 0,
              "ticks": ""
             }
            },
            "type": "scatterpolar"
           }
          ],
          "scatterpolargl": [
           {
            "marker": {
             "colorbar": {
              "outlinewidth": 0,
              "ticks": ""
             }
            },
            "type": "scatterpolargl"
           }
          ],
          "scatterternary": [
           {
            "marker": {
             "colorbar": {
              "outlinewidth": 0,
              "ticks": ""
             }
            },
            "type": "scatterternary"
           }
          ],
          "surface": [
           {
            "colorbar": {
             "outlinewidth": 0,
             "ticks": ""
            },
            "colorscale": [
             [
              0,
              "#0d0887"
             ],
             [
              0.1111111111111111,
              "#46039f"
             ],
             [
              0.2222222222222222,
              "#7201a8"
             ],
             [
              0.3333333333333333,
              "#9c179e"
             ],
             [
              0.4444444444444444,
              "#bd3786"
             ],
             [
              0.5555555555555556,
              "#d8576b"
             ],
             [
              0.6666666666666666,
              "#ed7953"
             ],
             [
              0.7777777777777778,
              "#fb9f3a"
             ],
             [
              0.8888888888888888,
              "#fdca26"
             ],
             [
              1,
              "#f0f921"
             ]
            ],
            "type": "surface"
           }
          ],
          "table": [
           {
            "cells": {
             "fill": {
              "color": "#EBF0F8"
             },
             "line": {
              "color": "white"
             }
            },
            "header": {
             "fill": {
              "color": "#C8D4E3"
             },
             "line": {
              "color": "white"
             }
            },
            "type": "table"
           }
          ]
         },
         "layout": {
          "annotationdefaults": {
           "arrowcolor": "#2a3f5f",
           "arrowhead": 0,
           "arrowwidth": 1
          },
          "autotypenumbers": "strict",
          "coloraxis": {
           "colorbar": {
            "outlinewidth": 0,
            "ticks": ""
           }
          },
          "colorscale": {
           "diverging": [
            [
             0,
             "#8e0152"
            ],
            [
             0.1,
             "#c51b7d"
            ],
            [
             0.2,
             "#de77ae"
            ],
            [
             0.3,
             "#f1b6da"
            ],
            [
             0.4,
             "#fde0ef"
            ],
            [
             0.5,
             "#f7f7f7"
            ],
            [
             0.6,
             "#e6f5d0"
            ],
            [
             0.7,
             "#b8e186"
            ],
            [
             0.8,
             "#7fbc41"
            ],
            [
             0.9,
             "#4d9221"
            ],
            [
             1,
             "#276419"
            ]
           ],
           "sequential": [
            [
             0,
             "#0d0887"
            ],
            [
             0.1111111111111111,
             "#46039f"
            ],
            [
             0.2222222222222222,
             "#7201a8"
            ],
            [
             0.3333333333333333,
             "#9c179e"
            ],
            [
             0.4444444444444444,
             "#bd3786"
            ],
            [
             0.5555555555555556,
             "#d8576b"
            ],
            [
             0.6666666666666666,
             "#ed7953"
            ],
            [
             0.7777777777777778,
             "#fb9f3a"
            ],
            [
             0.8888888888888888,
             "#fdca26"
            ],
            [
             1,
             "#f0f921"
            ]
           ],
           "sequentialminus": [
            [
             0,
             "#0d0887"
            ],
            [
             0.1111111111111111,
             "#46039f"
            ],
            [
             0.2222222222222222,
             "#7201a8"
            ],
            [
             0.3333333333333333,
             "#9c179e"
            ],
            [
             0.4444444444444444,
             "#bd3786"
            ],
            [
             0.5555555555555556,
             "#d8576b"
            ],
            [
             0.6666666666666666,
             "#ed7953"
            ],
            [
             0.7777777777777778,
             "#fb9f3a"
            ],
            [
             0.8888888888888888,
             "#fdca26"
            ],
            [
             1,
             "#f0f921"
            ]
           ]
          },
          "colorway": [
           "#636efa",
           "#EF553B",
           "#00cc96",
           "#ab63fa",
           "#FFA15A",
           "#19d3f3",
           "#FF6692",
           "#B6E880",
           "#FF97FF",
           "#FECB52"
          ],
          "font": {
           "color": "#2a3f5f"
          },
          "geo": {
           "bgcolor": "white",
           "lakecolor": "white",
           "landcolor": "#E5ECF6",
           "showlakes": true,
           "showland": true,
           "subunitcolor": "white"
          },
          "hoverlabel": {
           "align": "left"
          },
          "hovermode": "closest",
          "mapbox": {
           "style": "light"
          },
          "paper_bgcolor": "white",
          "plot_bgcolor": "#E5ECF6",
          "polar": {
           "angularaxis": {
            "gridcolor": "white",
            "linecolor": "white",
            "ticks": ""
           },
           "bgcolor": "#E5ECF6",
           "radialaxis": {
            "gridcolor": "white",
            "linecolor": "white",
            "ticks": ""
           }
          },
          "scene": {
           "xaxis": {
            "backgroundcolor": "#E5ECF6",
            "gridcolor": "white",
            "gridwidth": 2,
            "linecolor": "white",
            "showbackground": true,
            "ticks": "",
            "zerolinecolor": "white"
           },
           "yaxis": {
            "backgroundcolor": "#E5ECF6",
            "gridcolor": "white",
            "gridwidth": 2,
            "linecolor": "white",
            "showbackground": true,
            "ticks": "",
            "zerolinecolor": "white"
           },
           "zaxis": {
            "backgroundcolor": "#E5ECF6",
            "gridcolor": "white",
            "gridwidth": 2,
            "linecolor": "white",
            "showbackground": true,
            "ticks": "",
            "zerolinecolor": "white"
           }
          },
          "shapedefaults": {
           "line": {
            "color": "#2a3f5f"
           }
          },
          "ternary": {
           "aaxis": {
            "gridcolor": "white",
            "linecolor": "white",
            "ticks": ""
           },
           "baxis": {
            "gridcolor": "white",
            "linecolor": "white",
            "ticks": ""
           },
           "bgcolor": "#E5ECF6",
           "caxis": {
            "gridcolor": "white",
            "linecolor": "white",
            "ticks": ""
           }
          },
          "title": {
           "x": 0.05
          },
          "xaxis": {
           "automargin": true,
           "gridcolor": "white",
           "linecolor": "white",
           "ticks": "",
           "title": {
            "standoff": 15
           },
           "zerolinecolor": "white",
           "zerolinewidth": 2
          },
          "yaxis": {
           "automargin": true,
           "gridcolor": "white",
           "linecolor": "white",
           "ticks": "",
           "title": {
            "standoff": 15
           },
           "zerolinecolor": "white",
           "zerolinewidth": 2
          }
         }
        },
        "xaxis": {
         "anchor": "y",
         "domain": [
          0,
          1
         ],
         "title": {
          "text": "date"
         }
        },
        "yaxis": {
         "anchor": "x",
         "domain": [
          0,
          1
         ],
         "title": {
          "text": "NDVI_median"
         }
        }
       }
      },
      "text/html": [
       "<div>                            <div id=\"b02a8f60-05b6-4465-8475-397f275f03d1\" class=\"plotly-graph-div\" style=\"height:525px; width:100%;\"></div>            <script type=\"text/javascript\">                require([\"plotly\"], function(Plotly) {                    window.PLOTLYENV=window.PLOTLYENV || {};                                    if (document.getElementById(\"b02a8f60-05b6-4465-8475-397f275f03d1\")) {                    Plotly.newPlot(                        \"b02a8f60-05b6-4465-8475-397f275f03d1\",                        [{\"hovertemplate\":\"date=%{x}<br>NDVI_median=%{y}<extra></extra>\",\"legendgroup\":\"\",\"marker\":{\"color\":\"#636efa\",\"symbol\":\"circle\"},\"mode\":\"markers\",\"name\":\"\",\"orientation\":\"v\",\"showlegend\":false,\"x\":[\"2018-12-29T13:40:40\",\"2019-01-25T13:30:47\",\"2019-01-28T13:40:43\",\"2019-02-07T13:40:43\",\"2019-02-09T13:30:51\",\"2019-02-14T13:30:47\",\"2019-02-19T13:30:50\",\"2019-02-22T13:40:45\",\"2019-03-01T13:30:49\",\"2019-03-14T13:40:44\",\"2019-03-16T13:30:47\",\"2019-03-21T13:30:50\",\"2019-03-24T13:40:47\",\"2019-03-26T13:30:50\",\"2019-04-03T13:40:49\",\"2019-04-10T13:30:55\",\"2019-05-18T13:40:50\",\"2019-05-25T13:30:54\",\"2019-07-07T13:40:51\",\"2019-07-12T13:40:55\",\"2019-08-03T13:30:55\",\"2019-08-06T13:40:50\",\"2019-08-11T13:40:53\",\"2019-09-02T13:30:51\",\"2019-09-15T13:40:45\",\"2019-09-22T13:30:51\",\"2019-09-25T13:40:47\",\"2019-09-30T13:40:47\",\"2019-10-07T13:30:52\",\"2019-10-12T13:30:53\",\"2019-11-06T13:30:51\",\"2019-11-16T13:30:49\",\"2019-11-19T13:40:44\",\"2019-11-21T13:30:52\",\"2019-11-29T13:40:42\",\"2019-12-04T13:40:44\",\"2019-12-06T13:30:45\",\"2019-12-09T13:40:40\",\"2019-12-11T13:30:47\",\"2019-12-19T13:40:41\",\"2019-12-24T13:40:40\",\"2019-12-26T13:30:46\",\"2020-01-05T13:30:46\",\"2020-01-10T13:30:45\",\"2020-01-18T13:40:40\",\"2020-01-20T13:30:44\",\"2020-01-25T13:30:44\",\"2020-02-02T13:40:38\",\"2020-02-07T13:40:40\",\"2020-02-22T13:40:41\",\"2020-02-24T13:30:47\",\"2020-02-27T13:40:43\",\"2020-02-29T13:30:46\",\"2020-03-03T13:40:42\",\"2020-03-05T13:30:48\",\"2020-03-08T13:40:44\",\"2020-03-13T13:40:42\",\"2020-03-23T13:40:42\",\"2020-03-25T13:30:48\",\"2020-03-30T13:30:47\",\"2020-04-04T13:30:42\",\"2020-04-04T13:30:49\",\"2020-04-07T13:40:43\",\"2020-04-12T13:40:45\",\"2020-04-19T13:30:51\",\"2020-05-02T13:40:49\",\"2020-05-04T13:30:48\",\"2020-05-07T13:40:44\",\"2020-05-09T13:30:55\",\"2020-05-14T13:30:50\",\"2020-05-17T13:40:46\",\"2020-05-19T13:30:56\",\"2020-05-27T13:40:47\",\"2020-05-29T13:30:57\",\"2020-06-01T13:40:52\",\"2020-06-16T13:40:49\",\"2020-06-21T13:40:52\",\"2020-06-28T13:30:56\",\"2020-07-03T13:30:53\",\"2020-07-13T13:30:52\",\"2020-07-26T13:40:49\",\"2020-07-31T13:40:52\",\"2020-08-05T13:40:49\",\"2020-08-10T13:40:52\",\"2020-08-17T13:30:56\",\"2020-08-22T13:30:54\",\"2020-09-21T13:30:53\",\"2020-09-24T13:40:49\",\"2020-09-29T13:40:52\",\"2020-10-11T13:30:54\",\"2020-10-19T13:40:52\",\"2020-11-23T13:40:46\",\"2020-12-10T13:30:48\",\"2020-12-15T13:30:48\",\"2020-12-18T13:40:44\",\"2020-12-23T13:40:43\",\"2020-12-30T13:30:49\",\"2021-01-02T13:40:45\",\"2021-01-09T13:30:50\",\"2021-01-19T13:30:50\",\"2021-02-08T13:30:50\",\"2021-02-13T13:30:49\",\"2021-02-21T13:40:44\",\"2021-02-26T13:40:46\",\"2021-03-13T13:40:45\",\"2021-03-20T13:30:50\",\"2021-03-25T13:30:49\",\"2021-04-04T13:30:47\",\"2021-04-07T13:40:42\",\"2021-04-09T13:30:48\",\"2021-04-14T13:30:45\",\"2021-04-22T13:40:40\",\"2021-04-24T13:30:47\",\"2021-04-27T13:40:43\",\"2021-04-29T13:30:46\",\"2021-05-02T13:40:43\",\"2021-05-07T13:40:45\",\"2021-05-09T13:30:49\",\"2021-05-12T13:40:45\",\"2021-05-24T13:30:51\",\"2021-05-27T13:40:47\",\"2021-05-29T13:30:51\",\"2021-06-01T13:40:47\",\"2021-06-03T13:30:51\",\"2021-06-13T13:30:51\",\"2021-06-16T13:40:46\",\"2021-07-03T13:30:53\",\"2021-07-08T13:30:52\",\"2021-07-16T13:40:49\",\"2021-07-18T13:30:53\",\"2021-07-21T13:40:48\",\"2021-07-23T13:30:54\",\"2021-07-31T13:40:48\",\"2021-08-07T13:30:52\",\"2021-08-27T13:30:49\",\"2021-08-30T13:40:43\",\"2021-09-16T13:30:47\",\"2021-10-19T13:40:48\",\"2021-10-21T13:30:56\",\"2021-10-24T13:40:51\",\"2021-10-26T13:30:52\",\"2021-10-29T13:40:47\",\"2021-10-31T13:30:55\",\"2021-11-08T13:40:46\",\"2021-11-13T13:40:48\",\"2021-11-20T13:30:51\",\"2021-12-10T13:30:49\",\"2021-12-20T13:30:52\",\"2021-12-25T13:30:46\",\"2021-12-28T13:40:42\",\"2021-12-30T13:30:52\",\"2022-01-12T13:40:47\",\"2022-01-14T13:30:46\",\"2022-01-19T13:30:51\",\"2022-01-22T13:40:46\",\"2022-01-24T13:30:45\",\"2022-02-03T13:30:45\",\"2022-02-11T13:40:45\",\"2022-02-16T13:40:40\",\"2022-02-26T13:40:42\",\"2022-03-03T13:40:50\",\"2022-03-05T13:30:48\",\"2022-03-28T13:40:43\",\"2022-04-02T13:40:48\",\"2022-04-14T13:30:47\",\"2022-04-19T13:30:55\",\"2022-04-24T13:30:45\",\"2022-04-29T13:30:56\",\"2022-05-07T13:40:43\",\"2022-05-09T13:30:55\",\"2022-05-12T13:40:49\"],\"xaxis\":\"x\",\"y\":[-0.3086339947423727,-0.402298549016185,-0.3163664894535802,-0.41796838347283527,-0.5429689794477243,-0.589905890101365,-0.5665339040440838,-0.4180312256216655,-0.644520524022017,-0.5663929910711087,-0.5586525522425978,-0.49621117942112786,-0.582006988881994,-0.6446515362746084,-0.5430134522980556,-0.6758949606244595,-0.56643751550044,-0.5507955854049618,-0.644646016551928,-0.6211667437792051,-0.4258569193004568,-0.5037253717412303,-0.4962662850110327,-0.5663438249316511,-0.4727228856369883,-0.49613745102431817,-0.5274653957956856,-0.5117528713263756,-0.5351833775610305,-0.5117884956433413,-0.3945368305817702,-0.5039276168667888,-0.26163626700418463,-0.4961623445130128,-0.23820055028039097,-0.26169810172003405,-0.4726577658170633,-0.22268699248908788,-0.582042084929301,-0.23038613113609824,-0.2304422971246272,-0.44927191958325513,-0.5742378371696384,-0.5508353120781205,-0.26170188972169245,-0.4493059350215721,-0.4569716562107404,-0.3398141581231145,-0.34768445604304127,-0.33990103716466274,-0.5352412233414073,-0.5274226569935896,-0.5663773397094963,-0.4412809213753838,-0.5352240551067273,-0.511771911341708,-0.5038862051567723,-0.5429121018107804,-0.5664563049717101,-0.5742567654335246,-0.5041425921313462,-0.4335871968471102,-0.4414578403799124,-0.5978341830892094,-0.46476149630029395,-0.5195593652133377,-0.527273931248295,-0.5509015736794937,-0.5428761908907203,-0.5507398717562876,-0.6132878683547,-0.5819482898122026,-0.5742379406551515,-0.5819962364115455,-0.5820471130979831,-0.6523403416343939,-0.6211326126212647,-0.6133373613484423,-0.3866364442169796,-0.4569207202125221,-0.5899085498892966,-0.6367777877097998,-0.5900057337228287,-0.5351957114602536,-0.5587291621608294,-0.5976622814715058,-0.503947326190808,-0.4727063838871465,-0.44155254153299767,-0.5430475662015031,-0.3788205094709175,-0.23826890790305266,-0.5821433663024376,-0.6523904851402916,-0.2071161289650694,-0.14437824798276697,-0.4491528738816688,-0.14442767580183943,-0.4882921979370216,-0.4179449218858375,-0.5273896645682418,-0.5664356141171353,-0.4491575729558893,-0.4102289193431694,-0.5899704800816693,-0.5742139099642694,-0.6446566724084454,-0.6133297880944646,-0.6289583288235183,-0.566322050458818,-0.5428085998502761,-0.433681462951789,-0.49604654754556765,-0.5273425432151786,-0.5741831531801549,-0.5742147135832598,-0.5272920686082672,-0.5820542727269147,-0.558566510265187,-0.0976412383533479,-0.48048488528109773,-0.4648889880430821,-0.5742229844181366,-0.5976825766547708,-0.5898488172408205,-0.48838775351423847,-0.464833367950237,-0.4960661563725431,-0.5351588590805546,-0.3163920220041449,-0.3242511746604523,-0.3632438100752554,-0.5117782393101611,-0.5116988126678519,-0.22268616558929896,-0.5273673368773559,-0.4100932963775238,-0.3945075644385861,-0.5430432120695071,-0.3085933957617922,-0.5117134582607406,-0.2773238518668843,-0.4180159498087339,-0.2695103891445294,-0.26950382189264377,-0.5195075366664887,-0.43354601480390814,-0.5039339117298055,-0.5195540950662698,-0.27744693600358245,-0.41804666824178616,-0.3240876475234477,-0.5430105020168121,-0.5351324305374457,-0.23052171412209593,-0.45706855359856136,-0.146482707229068,-0.14472254907714663,-0.15822355873484822,-0.17389857449752494,-0.14251267551632954,-0.1895481299928634,-0.17768542014804997,-0.1739112733905839,-0.16992239847998578,-0.1836129673862507,-0.1737743250716353,-0.1660801197643733,-0.15430177923526675,-0.1915660738721573,-0.16798510409489478],\"yaxis\":\"y\",\"type\":\"scatter\"}],                        {\"template\":{\"data\":{\"bar\":[{\"error_x\":{\"color\":\"#2a3f5f\"},\"error_y\":{\"color\":\"#2a3f5f\"},\"marker\":{\"line\":{\"color\":\"#E5ECF6\",\"width\":0.5},\"pattern\":{\"fillmode\":\"overlay\",\"size\":10,\"solidity\":0.2}},\"type\":\"bar\"}],\"barpolar\":[{\"marker\":{\"line\":{\"color\":\"#E5ECF6\",\"width\":0.5},\"pattern\":{\"fillmode\":\"overlay\",\"size\":10,\"solidity\":0.2}},\"type\":\"barpolar\"}],\"carpet\":[{\"aaxis\":{\"endlinecolor\":\"#2a3f5f\",\"gridcolor\":\"white\",\"linecolor\":\"white\",\"minorgridcolor\":\"white\",\"startlinecolor\":\"#2a3f5f\"},\"baxis\":{\"endlinecolor\":\"#2a3f5f\",\"gridcolor\":\"white\",\"linecolor\":\"white\",\"minorgridcolor\":\"white\",\"startlinecolor\":\"#2a3f5f\"},\"type\":\"carpet\"}],\"choropleth\":[{\"colorbar\":{\"outlinewidth\":0,\"ticks\":\"\"},\"type\":\"choropleth\"}],\"contour\":[{\"colorbar\":{\"outlinewidth\":0,\"ticks\":\"\"},\"colorscale\":[[0.0,\"#0d0887\"],[0.1111111111111111,\"#46039f\"],[0.2222222222222222,\"#7201a8\"],[0.3333333333333333,\"#9c179e\"],[0.4444444444444444,\"#bd3786\"],[0.5555555555555556,\"#d8576b\"],[0.6666666666666666,\"#ed7953\"],[0.7777777777777778,\"#fb9f3a\"],[0.8888888888888888,\"#fdca26\"],[1.0,\"#f0f921\"]],\"type\":\"contour\"}],\"contourcarpet\":[{\"colorbar\":{\"outlinewidth\":0,\"ticks\":\"\"},\"type\":\"contourcarpet\"}],\"heatmap\":[{\"colorbar\":{\"outlinewidth\":0,\"ticks\":\"\"},\"colorscale\":[[0.0,\"#0d0887\"],[0.1111111111111111,\"#46039f\"],[0.2222222222222222,\"#7201a8\"],[0.3333333333333333,\"#9c179e\"],[0.4444444444444444,\"#bd3786\"],[0.5555555555555556,\"#d8576b\"],[0.6666666666666666,\"#ed7953\"],[0.7777777777777778,\"#fb9f3a\"],[0.8888888888888888,\"#fdca26\"],[1.0,\"#f0f921\"]],\"type\":\"heatmap\"}],\"heatmapgl\":[{\"colorbar\":{\"outlinewidth\":0,\"ticks\":\"\"},\"colorscale\":[[0.0,\"#0d0887\"],[0.1111111111111111,\"#46039f\"],[0.2222222222222222,\"#7201a8\"],[0.3333333333333333,\"#9c179e\"],[0.4444444444444444,\"#bd3786\"],[0.5555555555555556,\"#d8576b\"],[0.6666666666666666,\"#ed7953\"],[0.7777777777777778,\"#fb9f3a\"],[0.8888888888888888,\"#fdca26\"],[1.0,\"#f0f921\"]],\"type\":\"heatmapgl\"}],\"histogram\":[{\"marker\":{\"pattern\":{\"fillmode\":\"overlay\",\"size\":10,\"solidity\":0.2}},\"type\":\"histogram\"}],\"histogram2d\":[{\"colorbar\":{\"outlinewidth\":0,\"ticks\":\"\"},\"colorscale\":[[0.0,\"#0d0887\"],[0.1111111111111111,\"#46039f\"],[0.2222222222222222,\"#7201a8\"],[0.3333333333333333,\"#9c179e\"],[0.4444444444444444,\"#bd3786\"],[0.5555555555555556,\"#d8576b\"],[0.6666666666666666,\"#ed7953\"],[0.7777777777777778,\"#fb9f3a\"],[0.8888888888888888,\"#fdca26\"],[1.0,\"#f0f921\"]],\"type\":\"histogram2d\"}],\"histogram2dcontour\":[{\"colorbar\":{\"outlinewidth\":0,\"ticks\":\"\"},\"colorscale\":[[0.0,\"#0d0887\"],[0.1111111111111111,\"#46039f\"],[0.2222222222222222,\"#7201a8\"],[0.3333333333333333,\"#9c179e\"],[0.4444444444444444,\"#bd3786\"],[0.5555555555555556,\"#d8576b\"],[0.6666666666666666,\"#ed7953\"],[0.7777777777777778,\"#fb9f3a\"],[0.8888888888888888,\"#fdca26\"],[1.0,\"#f0f921\"]],\"type\":\"histogram2dcontour\"}],\"mesh3d\":[{\"colorbar\":{\"outlinewidth\":0,\"ticks\":\"\"},\"type\":\"mesh3d\"}],\"parcoords\":[{\"line\":{\"colorbar\":{\"outlinewidth\":0,\"ticks\":\"\"}},\"type\":\"parcoords\"}],\"pie\":[{\"automargin\":true,\"type\":\"pie\"}],\"scatter\":[{\"marker\":{\"colorbar\":{\"outlinewidth\":0,\"ticks\":\"\"}},\"type\":\"scatter\"}],\"scatter3d\":[{\"line\":{\"colorbar\":{\"outlinewidth\":0,\"ticks\":\"\"}},\"marker\":{\"colorbar\":{\"outlinewidth\":0,\"ticks\":\"\"}},\"type\":\"scatter3d\"}],\"scattercarpet\":[{\"marker\":{\"colorbar\":{\"outlinewidth\":0,\"ticks\":\"\"}},\"type\":\"scattercarpet\"}],\"scattergeo\":[{\"marker\":{\"colorbar\":{\"outlinewidth\":0,\"ticks\":\"\"}},\"type\":\"scattergeo\"}],\"scattergl\":[{\"marker\":{\"colorbar\":{\"outlinewidth\":0,\"ticks\":\"\"}},\"type\":\"scattergl\"}],\"scattermapbox\":[{\"marker\":{\"colorbar\":{\"outlinewidth\":0,\"ticks\":\"\"}},\"type\":\"scattermapbox\"}],\"scatterpolar\":[{\"marker\":{\"colorbar\":{\"outlinewidth\":0,\"ticks\":\"\"}},\"type\":\"scatterpolar\"}],\"scatterpolargl\":[{\"marker\":{\"colorbar\":{\"outlinewidth\":0,\"ticks\":\"\"}},\"type\":\"scatterpolargl\"}],\"scatterternary\":[{\"marker\":{\"colorbar\":{\"outlinewidth\":0,\"ticks\":\"\"}},\"type\":\"scatterternary\"}],\"surface\":[{\"colorbar\":{\"outlinewidth\":0,\"ticks\":\"\"},\"colorscale\":[[0.0,\"#0d0887\"],[0.1111111111111111,\"#46039f\"],[0.2222222222222222,\"#7201a8\"],[0.3333333333333333,\"#9c179e\"],[0.4444444444444444,\"#bd3786\"],[0.5555555555555556,\"#d8576b\"],[0.6666666666666666,\"#ed7953\"],[0.7777777777777778,\"#fb9f3a\"],[0.8888888888888888,\"#fdca26\"],[1.0,\"#f0f921\"]],\"type\":\"surface\"}],\"table\":[{\"cells\":{\"fill\":{\"color\":\"#EBF0F8\"},\"line\":{\"color\":\"white\"}},\"header\":{\"fill\":{\"color\":\"#C8D4E3\"},\"line\":{\"color\":\"white\"}},\"type\":\"table\"}]},\"layout\":{\"annotationdefaults\":{\"arrowcolor\":\"#2a3f5f\",\"arrowhead\":0,\"arrowwidth\":1},\"autotypenumbers\":\"strict\",\"coloraxis\":{\"colorbar\":{\"outlinewidth\":0,\"ticks\":\"\"}},\"colorscale\":{\"diverging\":[[0,\"#8e0152\"],[0.1,\"#c51b7d\"],[0.2,\"#de77ae\"],[0.3,\"#f1b6da\"],[0.4,\"#fde0ef\"],[0.5,\"#f7f7f7\"],[0.6,\"#e6f5d0\"],[0.7,\"#b8e186\"],[0.8,\"#7fbc41\"],[0.9,\"#4d9221\"],[1,\"#276419\"]],\"sequential\":[[0.0,\"#0d0887\"],[0.1111111111111111,\"#46039f\"],[0.2222222222222222,\"#7201a8\"],[0.3333333333333333,\"#9c179e\"],[0.4444444444444444,\"#bd3786\"],[0.5555555555555556,\"#d8576b\"],[0.6666666666666666,\"#ed7953\"],[0.7777777777777778,\"#fb9f3a\"],[0.8888888888888888,\"#fdca26\"],[1.0,\"#f0f921\"]],\"sequentialminus\":[[0.0,\"#0d0887\"],[0.1111111111111111,\"#46039f\"],[0.2222222222222222,\"#7201a8\"],[0.3333333333333333,\"#9c179e\"],[0.4444444444444444,\"#bd3786\"],[0.5555555555555556,\"#d8576b\"],[0.6666666666666666,\"#ed7953\"],[0.7777777777777778,\"#fb9f3a\"],[0.8888888888888888,\"#fdca26\"],[1.0,\"#f0f921\"]]},\"colorway\":[\"#636efa\",\"#EF553B\",\"#00cc96\",\"#ab63fa\",\"#FFA15A\",\"#19d3f3\",\"#FF6692\",\"#B6E880\",\"#FF97FF\",\"#FECB52\"],\"font\":{\"color\":\"#2a3f5f\"},\"geo\":{\"bgcolor\":\"white\",\"lakecolor\":\"white\",\"landcolor\":\"#E5ECF6\",\"showlakes\":true,\"showland\":true,\"subunitcolor\":\"white\"},\"hoverlabel\":{\"align\":\"left\"},\"hovermode\":\"closest\",\"mapbox\":{\"style\":\"light\"},\"paper_bgcolor\":\"white\",\"plot_bgcolor\":\"#E5ECF6\",\"polar\":{\"angularaxis\":{\"gridcolor\":\"white\",\"linecolor\":\"white\",\"ticks\":\"\"},\"bgcolor\":\"#E5ECF6\",\"radialaxis\":{\"gridcolor\":\"white\",\"linecolor\":\"white\",\"ticks\":\"\"}},\"scene\":{\"xaxis\":{\"backgroundcolor\":\"#E5ECF6\",\"gridcolor\":\"white\",\"gridwidth\":2,\"linecolor\":\"white\",\"showbackground\":true,\"ticks\":\"\",\"zerolinecolor\":\"white\"},\"yaxis\":{\"backgroundcolor\":\"#E5ECF6\",\"gridcolor\":\"white\",\"gridwidth\":2,\"linecolor\":\"white\",\"showbackground\":true,\"ticks\":\"\",\"zerolinecolor\":\"white\"},\"zaxis\":{\"backgroundcolor\":\"#E5ECF6\",\"gridcolor\":\"white\",\"gridwidth\":2,\"linecolor\":\"white\",\"showbackground\":true,\"ticks\":\"\",\"zerolinecolor\":\"white\"}},\"shapedefaults\":{\"line\":{\"color\":\"#2a3f5f\"}},\"ternary\":{\"aaxis\":{\"gridcolor\":\"white\",\"linecolor\":\"white\",\"ticks\":\"\"},\"baxis\":{\"gridcolor\":\"white\",\"linecolor\":\"white\",\"ticks\":\"\"},\"bgcolor\":\"#E5ECF6\",\"caxis\":{\"gridcolor\":\"white\",\"linecolor\":\"white\",\"ticks\":\"\"}},\"title\":{\"x\":0.05},\"xaxis\":{\"automargin\":true,\"gridcolor\":\"white\",\"linecolor\":\"white\",\"ticks\":\"\",\"title\":{\"standoff\":15},\"zerolinecolor\":\"white\",\"zerolinewidth\":2},\"yaxis\":{\"automargin\":true,\"gridcolor\":\"white\",\"linecolor\":\"white\",\"ticks\":\"\",\"title\":{\"standoff\":15},\"zerolinecolor\":\"white\",\"zerolinewidth\":2}}},\"xaxis\":{\"anchor\":\"y\",\"domain\":[0.0,1.0],\"title\":{\"text\":\"date\"}},\"yaxis\":{\"anchor\":\"x\",\"domain\":[0.0,1.0],\"title\":{\"text\":\"NDVI_median\"}},\"legend\":{\"tracegroupgap\":0},\"margin\":{\"t\":60}},                        {\"responsive\": true}                    ).then(function(){\n",
       "                            \n",
       "var gd = document.getElementById('b02a8f60-05b6-4465-8475-397f275f03d1');\n",
       "var x = new MutationObserver(function (mutations, observer) {{\n",
       "        var display = window.getComputedStyle(gd).display;\n",
       "        if (!display || display === 'none') {{\n",
       "            console.log([gd, 'removed!']);\n",
       "            Plotly.purge(gd);\n",
       "            observer.disconnect();\n",
       "        }}\n",
       "}});\n",
       "\n",
       "// Listen for the removal of the full notebook cells\n",
       "var notebookContainer = gd.closest('#notebook-container');\n",
       "if (notebookContainer) {{\n",
       "    x.observe(notebookContainer, {childList: true});\n",
       "}}\n",
       "\n",
       "// Listen for the clearing of the current output cell\n",
       "var outputEl = gd.closest('.output');\n",
       "if (outputEl) {{\n",
       "    x.observe(outputEl, {childList: true});\n",
       "}}\n",
       "\n",
       "                        })                };                });            </script>        </div>"
      ]
     },
     "metadata": {},
     "output_type": "display_data"
    }
   ],
   "source": [
    "import plotly.express as px\n",
    "\n",
    "px.scatter(df_ndvi, x=\"date\", y=\"NDVI_median\")"
   ]
  },
  {
   "cell_type": "code",
   "execution_count": 34,
   "metadata": {},
   "outputs": [
    {
     "data": {
      "application/vnd.plotly.v1+json": {
       "config": {
        "plotlyServerURL": "https://plot.ly"
       },
       "data": [
        {
         "hovertemplate": "date=%{x}<br>NDCI_median=%{y}<extra></extra>",
         "legendgroup": "",
         "marker": {
          "color": "#636efa",
          "symbol": "circle"
         },
         "mode": "markers",
         "name": "",
         "orientation": "v",
         "showlegend": false,
         "type": "scatter",
         "x": [
          "2018-12-29T13:40:40",
          "2019-01-25T13:30:47",
          "2019-01-28T13:40:43",
          "2019-02-07T13:40:43",
          "2019-02-09T13:30:51",
          "2019-02-14T13:30:47",
          "2019-02-19T13:30:50",
          "2019-02-22T13:40:45",
          "2019-03-01T13:30:49",
          "2019-03-14T13:40:44",
          "2019-03-16T13:30:47",
          "2019-03-21T13:30:50",
          "2019-03-24T13:40:47",
          "2019-03-26T13:30:50",
          "2019-04-03T13:40:49",
          "2019-04-10T13:30:55",
          "2019-05-18T13:40:50",
          "2019-05-25T13:30:54",
          "2019-07-07T13:40:51",
          "2019-07-12T13:40:55",
          "2019-08-03T13:30:55",
          "2019-08-06T13:40:50",
          "2019-08-11T13:40:53",
          "2019-09-02T13:30:51",
          "2019-09-15T13:40:45",
          "2019-09-22T13:30:51",
          "2019-09-25T13:40:47",
          "2019-09-30T13:40:47",
          "2019-10-07T13:30:52",
          "2019-10-12T13:30:53",
          "2019-11-06T13:30:51",
          "2019-11-16T13:30:49",
          "2019-11-19T13:40:44",
          "2019-11-21T13:30:52",
          "2019-11-29T13:40:42",
          "2019-12-04T13:40:44",
          "2019-12-06T13:30:45",
          "2019-12-09T13:40:40",
          "2019-12-11T13:30:47",
          "2019-12-19T13:40:41",
          "2019-12-24T13:40:40",
          "2019-12-26T13:30:46",
          "2020-01-05T13:30:46",
          "2020-01-10T13:30:45",
          "2020-01-18T13:40:40",
          "2020-01-20T13:30:44",
          "2020-01-25T13:30:44",
          "2020-02-02T13:40:38",
          "2020-02-07T13:40:40",
          "2020-02-22T13:40:41",
          "2020-02-24T13:30:47",
          "2020-02-27T13:40:43",
          "2020-02-29T13:30:46",
          "2020-03-03T13:40:42",
          "2020-03-05T13:30:48",
          "2020-03-08T13:40:44",
          "2020-03-13T13:40:42",
          "2020-03-23T13:40:42",
          "2020-03-25T13:30:48",
          "2020-03-30T13:30:47",
          "2020-04-04T13:30:42",
          "2020-04-04T13:30:49",
          "2020-04-07T13:40:43",
          "2020-04-12T13:40:45",
          "2020-04-19T13:30:51",
          "2020-05-02T13:40:49",
          "2020-05-04T13:30:48",
          "2020-05-07T13:40:44",
          "2020-05-09T13:30:55",
          "2020-05-14T13:30:50",
          "2020-05-17T13:40:46",
          "2020-05-19T13:30:56",
          "2020-05-27T13:40:47",
          "2020-05-29T13:30:57",
          "2020-06-01T13:40:52",
          "2020-06-16T13:40:49",
          "2020-06-21T13:40:52",
          "2020-06-28T13:30:56",
          "2020-07-03T13:30:53",
          "2020-07-13T13:30:52",
          "2020-07-26T13:40:49",
          "2020-07-31T13:40:52",
          "2020-08-05T13:40:49",
          "2020-08-10T13:40:52",
          "2020-08-17T13:30:56",
          "2020-08-22T13:30:54",
          "2020-09-21T13:30:53",
          "2020-09-24T13:40:49",
          "2020-09-29T13:40:52",
          "2020-10-11T13:30:54",
          "2020-10-19T13:40:52",
          "2020-11-23T13:40:46",
          "2020-12-10T13:30:48",
          "2020-12-15T13:30:48",
          "2020-12-18T13:40:44",
          "2020-12-23T13:40:43",
          "2020-12-30T13:30:49",
          "2021-01-02T13:40:45",
          "2021-01-09T13:30:50",
          "2021-01-19T13:30:50",
          "2021-02-08T13:30:50",
          "2021-02-13T13:30:49",
          "2021-02-21T13:40:44",
          "2021-02-26T13:40:46",
          "2021-03-13T13:40:45",
          "2021-03-20T13:30:50",
          "2021-03-25T13:30:49",
          "2021-04-04T13:30:47",
          "2021-04-07T13:40:42",
          "2021-04-09T13:30:48",
          "2021-04-14T13:30:45",
          "2021-04-22T13:40:40",
          "2021-04-24T13:30:47",
          "2021-04-27T13:40:43",
          "2021-04-29T13:30:46",
          "2021-05-02T13:40:43",
          "2021-05-07T13:40:45",
          "2021-05-09T13:30:49",
          "2021-05-12T13:40:45",
          "2021-05-24T13:30:51",
          "2021-05-27T13:40:47",
          "2021-05-29T13:30:51",
          "2021-06-01T13:40:47",
          "2021-06-03T13:30:51",
          "2021-06-13T13:30:51",
          "2021-06-16T13:40:46",
          "2021-07-03T13:30:53",
          "2021-07-08T13:30:52",
          "2021-07-16T13:40:49",
          "2021-07-18T13:30:53",
          "2021-07-21T13:40:48",
          "2021-07-23T13:30:54",
          "2021-07-31T13:40:48",
          "2021-08-07T13:30:52",
          "2021-08-27T13:30:49",
          "2021-08-30T13:40:43",
          "2021-09-16T13:30:47",
          "2021-10-19T13:40:48",
          "2021-10-21T13:30:56",
          "2021-10-24T13:40:51",
          "2021-10-26T13:30:52",
          "2021-10-29T13:40:47",
          "2021-10-31T13:30:55",
          "2021-11-08T13:40:46",
          "2021-11-13T13:40:48",
          "2021-11-20T13:30:51",
          "2021-12-10T13:30:49",
          "2021-12-20T13:30:52",
          "2021-12-25T13:30:46",
          "2021-12-28T13:40:42",
          "2021-12-30T13:30:52",
          "2022-01-12T13:40:47",
          "2022-01-14T13:30:46",
          "2022-01-19T13:30:51",
          "2022-01-22T13:40:46",
          "2022-01-24T13:30:45",
          "2022-02-03T13:30:45",
          "2022-02-11T13:40:45",
          "2022-02-16T13:40:40",
          "2022-02-26T13:40:42",
          "2022-03-03T13:40:50",
          "2022-03-05T13:30:48",
          "2022-03-28T13:40:43",
          "2022-04-02T13:40:48",
          "2022-04-14T13:30:47",
          "2022-04-19T13:30:55",
          "2022-04-24T13:30:45",
          "2022-04-29T13:30:56",
          "2022-05-07T13:40:43",
          "2022-05-09T13:30:55",
          "2022-05-12T13:40:49"
         ],
         "xaxis": "x",
         "y": [
          -0.02934176400912322,
          -0.005874790032353388,
          -0.01368299271596738,
          -0.0293063101723885,
          -0.009748404748366607,
          -0.04493537374524587,
          -0.027284396906097894,
          -0.027292596435307334,
          -0.07424606358458447,
          -0.09573768966722493,
          -0.06655889767225465,
          -0.05087201546797101,
          -0.09571499643537937,
          -0.08205809580017226,
          -0.060528615217954815,
          -0.09569621817561132,
          -0.035188111050872745,
          -0.04101753800336872,
          -0.1055852946359379,
          -0.10743463491855523,
          -0.0020933036887389378,
          -0.01751911158225478,
          -0.021522211867194493,
          -0.04489298534311623,
          -0.025366280018148824,
          -0.04102693486943494,
          -0.0431974975059765,
          -0.03710855221469061,
          -0.0449446767107215,
          -0.025436918557398838,
          -0.00974345486691302,
          -0.03497098559784771,
          -0.02149417079665868,
          -0.017557215724510106,
          -0.017572640813566354,
          -0.013730270480187943,
          -0.04100727056172533,
          -0.025383845992512304,
          -0.03320398746276808,
          -0.013648655696272875,
          -0.03317861949034024,
          -0.017535863622916006,
          -0.029288595874475885,
          -0.011641590490776272,
          -0.0116458986309059,
          0.009781193236916267,
          -0.029266105001346077,
          -0.021472790467457946,
          0.009774447452185808,
          -0.025373163738887403,
          -0.03321483564109079,
          -0.04285748540470976,
          -0.04285571840502442,
          -0.037111622414417796,
          -0.04492339518914825,
          -0.04101253368365614,
          -0.037106384890149766,
          -0.04491731205468005,
          -0.029308329298677376,
          -0.02928842086270192,
          -0.05276932118290348,
          -0.013643053970094965,
          -0.025378798444371423,
          -0.058623991221437494,
          0.0018957950408711776,
          -0.04297342657274927,
          -0.03316310200645627,
          -0.0488160487830296,
          -0.04487028904663708,
          -0.05055317386720343,
          -0.07420751804706006,
          -0.035001713864542636,
          -0.05071412103247434,
          -0.060506881566001675,
          -0.09571356709361901,
          -0.08398518121766939,
          -0.08007848711268958,
          -0.09765212442862772,
          0.005908558158173687,
          -0.009748333241006891,
          -0.0665175920628866,
          -0.08987811847978917,
          -0.0761923722689342,
          -0.07227112692482453,
          -0.07620755362491279,
          -0.07615342551967164,
          -0.0449283998793732,
          -0.03513789805872898,
          -0.025409552146254486,
          -0.04495694755132802,
          -0.025351850996271363,
          -0.017518151255219862,
          -0.033192780712027574,
          -0.05277004627009392,
          0.005863810258734686,
          0.01753025976064087,
          0.056683784830744544,
          0.03326620805447817,
          0.06446922619053352,
          0.019727299383607524,
          -0.03324773523556451,
          -0.0175428509866687,
          -0.02926837327801311,
          -0.03711120759463511,
          -0.04292771521309889,
          -0.04492103931022037,
          -0.05076361908413035,
          -0.05272080835028712,
          -0.058517761707454395,
          -0.03317672261202508,
          -0.03496808434573856,
          0.0038089794389744693,
          -0.017552887002298505,
          -0.021441198971953512,
          -0.021451909782526445,
          -0.037095110096722624,
          -0.025370132610019507,
          -0.03501764448149628,
          -0.02924777275109754,
          0.04295286107920935,
          0.003976999589336145,
          -0.0020639698224916595,
          -0.04103836116594671,
          -0.04881919022272372,
          -0.05273650372259912,
          -0.048875474647563005,
          -0.01367593632668332,
          -0.019476804908612918,
          -0.03319619976215523,
          0.009789530214778063,
          0.005887537644269931,
          0.009818208071743514,
          -0.033216335520671846,
          -0.017556329976789603,
          -0.005817183146371746,
          -0.021485557372374592,
          -0.0058348486892978845,
          -0.033212647057829794,
          -0.03711474541947253,
          -0.029277581542302013,
          -0.04099421758727736,
          0.0019016947012686564,
          0.005867674960743248,
          -0.019412328270017973,
          -0.00583184081662102,
          -0.03706401710275804,
          -0.019352715174232024,
          -0.0020573760149866197,
          -0.017528799906143616,
          -0.02147435699866209,
          0.005887452325429074,
          -0.013634962618516242,
          -0.004104624971103394,
          -0.013649243572854781,
          0.025423645426212938,
          0.02931975029632242,
          0.0224597381024344,
          0.004901219467761966,
          -0.01073033169319772,
          0.0029529986978707548,
          0.0009190276340338084,
          0.002930442086051404,
          -0.028301613246904726,
          -0.028322035215611146,
          -0.020523841156124604,
          -0.025366133151030507,
          -0.020501849533011016,
          -0.01269531059272385,
          -0.008776165692918994,
          -0.016604092325931786,
          -0.02157127147197379
         ],
         "yaxis": "y"
        }
       ],
       "layout": {
        "legend": {
         "tracegroupgap": 0
        },
        "margin": {
         "t": 60
        },
        "template": {
         "data": {
          "bar": [
           {
            "error_x": {
             "color": "#2a3f5f"
            },
            "error_y": {
             "color": "#2a3f5f"
            },
            "marker": {
             "line": {
              "color": "#E5ECF6",
              "width": 0.5
             },
             "pattern": {
              "fillmode": "overlay",
              "size": 10,
              "solidity": 0.2
             }
            },
            "type": "bar"
           }
          ],
          "barpolar": [
           {
            "marker": {
             "line": {
              "color": "#E5ECF6",
              "width": 0.5
             },
             "pattern": {
              "fillmode": "overlay",
              "size": 10,
              "solidity": 0.2
             }
            },
            "type": "barpolar"
           }
          ],
          "carpet": [
           {
            "aaxis": {
             "endlinecolor": "#2a3f5f",
             "gridcolor": "white",
             "linecolor": "white",
             "minorgridcolor": "white",
             "startlinecolor": "#2a3f5f"
            },
            "baxis": {
             "endlinecolor": "#2a3f5f",
             "gridcolor": "white",
             "linecolor": "white",
             "minorgridcolor": "white",
             "startlinecolor": "#2a3f5f"
            },
            "type": "carpet"
           }
          ],
          "choropleth": [
           {
            "colorbar": {
             "outlinewidth": 0,
             "ticks": ""
            },
            "type": "choropleth"
           }
          ],
          "contour": [
           {
            "colorbar": {
             "outlinewidth": 0,
             "ticks": ""
            },
            "colorscale": [
             [
              0,
              "#0d0887"
             ],
             [
              0.1111111111111111,
              "#46039f"
             ],
             [
              0.2222222222222222,
              "#7201a8"
             ],
             [
              0.3333333333333333,
              "#9c179e"
             ],
             [
              0.4444444444444444,
              "#bd3786"
             ],
             [
              0.5555555555555556,
              "#d8576b"
             ],
             [
              0.6666666666666666,
              "#ed7953"
             ],
             [
              0.7777777777777778,
              "#fb9f3a"
             ],
             [
              0.8888888888888888,
              "#fdca26"
             ],
             [
              1,
              "#f0f921"
             ]
            ],
            "type": "contour"
           }
          ],
          "contourcarpet": [
           {
            "colorbar": {
             "outlinewidth": 0,
             "ticks": ""
            },
            "type": "contourcarpet"
           }
          ],
          "heatmap": [
           {
            "colorbar": {
             "outlinewidth": 0,
             "ticks": ""
            },
            "colorscale": [
             [
              0,
              "#0d0887"
             ],
             [
              0.1111111111111111,
              "#46039f"
             ],
             [
              0.2222222222222222,
              "#7201a8"
             ],
             [
              0.3333333333333333,
              "#9c179e"
             ],
             [
              0.4444444444444444,
              "#bd3786"
             ],
             [
              0.5555555555555556,
              "#d8576b"
             ],
             [
              0.6666666666666666,
              "#ed7953"
             ],
             [
              0.7777777777777778,
              "#fb9f3a"
             ],
             [
              0.8888888888888888,
              "#fdca26"
             ],
             [
              1,
              "#f0f921"
             ]
            ],
            "type": "heatmap"
           }
          ],
          "heatmapgl": [
           {
            "colorbar": {
             "outlinewidth": 0,
             "ticks": ""
            },
            "colorscale": [
             [
              0,
              "#0d0887"
             ],
             [
              0.1111111111111111,
              "#46039f"
             ],
             [
              0.2222222222222222,
              "#7201a8"
             ],
             [
              0.3333333333333333,
              "#9c179e"
             ],
             [
              0.4444444444444444,
              "#bd3786"
             ],
             [
              0.5555555555555556,
              "#d8576b"
             ],
             [
              0.6666666666666666,
              "#ed7953"
             ],
             [
              0.7777777777777778,
              "#fb9f3a"
             ],
             [
              0.8888888888888888,
              "#fdca26"
             ],
             [
              1,
              "#f0f921"
             ]
            ],
            "type": "heatmapgl"
           }
          ],
          "histogram": [
           {
            "marker": {
             "pattern": {
              "fillmode": "overlay",
              "size": 10,
              "solidity": 0.2
             }
            },
            "type": "histogram"
           }
          ],
          "histogram2d": [
           {
            "colorbar": {
             "outlinewidth": 0,
             "ticks": ""
            },
            "colorscale": [
             [
              0,
              "#0d0887"
             ],
             [
              0.1111111111111111,
              "#46039f"
             ],
             [
              0.2222222222222222,
              "#7201a8"
             ],
             [
              0.3333333333333333,
              "#9c179e"
             ],
             [
              0.4444444444444444,
              "#bd3786"
             ],
             [
              0.5555555555555556,
              "#d8576b"
             ],
             [
              0.6666666666666666,
              "#ed7953"
             ],
             [
              0.7777777777777778,
              "#fb9f3a"
             ],
             [
              0.8888888888888888,
              "#fdca26"
             ],
             [
              1,
              "#f0f921"
             ]
            ],
            "type": "histogram2d"
           }
          ],
          "histogram2dcontour": [
           {
            "colorbar": {
             "outlinewidth": 0,
             "ticks": ""
            },
            "colorscale": [
             [
              0,
              "#0d0887"
             ],
             [
              0.1111111111111111,
              "#46039f"
             ],
             [
              0.2222222222222222,
              "#7201a8"
             ],
             [
              0.3333333333333333,
              "#9c179e"
             ],
             [
              0.4444444444444444,
              "#bd3786"
             ],
             [
              0.5555555555555556,
              "#d8576b"
             ],
             [
              0.6666666666666666,
              "#ed7953"
             ],
             [
              0.7777777777777778,
              "#fb9f3a"
             ],
             [
              0.8888888888888888,
              "#fdca26"
             ],
             [
              1,
              "#f0f921"
             ]
            ],
            "type": "histogram2dcontour"
           }
          ],
          "mesh3d": [
           {
            "colorbar": {
             "outlinewidth": 0,
             "ticks": ""
            },
            "type": "mesh3d"
           }
          ],
          "parcoords": [
           {
            "line": {
             "colorbar": {
              "outlinewidth": 0,
              "ticks": ""
             }
            },
            "type": "parcoords"
           }
          ],
          "pie": [
           {
            "automargin": true,
            "type": "pie"
           }
          ],
          "scatter": [
           {
            "marker": {
             "colorbar": {
              "outlinewidth": 0,
              "ticks": ""
             }
            },
            "type": "scatter"
           }
          ],
          "scatter3d": [
           {
            "line": {
             "colorbar": {
              "outlinewidth": 0,
              "ticks": ""
             }
            },
            "marker": {
             "colorbar": {
              "outlinewidth": 0,
              "ticks": ""
             }
            },
            "type": "scatter3d"
           }
          ],
          "scattercarpet": [
           {
            "marker": {
             "colorbar": {
              "outlinewidth": 0,
              "ticks": ""
             }
            },
            "type": "scattercarpet"
           }
          ],
          "scattergeo": [
           {
            "marker": {
             "colorbar": {
              "outlinewidth": 0,
              "ticks": ""
             }
            },
            "type": "scattergeo"
           }
          ],
          "scattergl": [
           {
            "marker": {
             "colorbar": {
              "outlinewidth": 0,
              "ticks": ""
             }
            },
            "type": "scattergl"
           }
          ],
          "scattermapbox": [
           {
            "marker": {
             "colorbar": {
              "outlinewidth": 0,
              "ticks": ""
             }
            },
            "type": "scattermapbox"
           }
          ],
          "scatterpolar": [
           {
            "marker": {
             "colorbar": {
              "outlinewidth": 0,
              "ticks": ""
             }
            },
            "type": "scatterpolar"
           }
          ],
          "scatterpolargl": [
           {
            "marker": {
             "colorbar": {
              "outlinewidth": 0,
              "ticks": ""
             }
            },
            "type": "scatterpolargl"
           }
          ],
          "scatterternary": [
           {
            "marker": {
             "colorbar": {
              "outlinewidth": 0,
              "ticks": ""
             }
            },
            "type": "scatterternary"
           }
          ],
          "surface": [
           {
            "colorbar": {
             "outlinewidth": 0,
             "ticks": ""
            },
            "colorscale": [
             [
              0,
              "#0d0887"
             ],
             [
              0.1111111111111111,
              "#46039f"
             ],
             [
              0.2222222222222222,
              "#7201a8"
             ],
             [
              0.3333333333333333,
              "#9c179e"
             ],
             [
              0.4444444444444444,
              "#bd3786"
             ],
             [
              0.5555555555555556,
              "#d8576b"
             ],
             [
              0.6666666666666666,
              "#ed7953"
             ],
             [
              0.7777777777777778,
              "#fb9f3a"
             ],
             [
              0.8888888888888888,
              "#fdca26"
             ],
             [
              1,
              "#f0f921"
             ]
            ],
            "type": "surface"
           }
          ],
          "table": [
           {
            "cells": {
             "fill": {
              "color": "#EBF0F8"
             },
             "line": {
              "color": "white"
             }
            },
            "header": {
             "fill": {
              "color": "#C8D4E3"
             },
             "line": {
              "color": "white"
             }
            },
            "type": "table"
           }
          ]
         },
         "layout": {
          "annotationdefaults": {
           "arrowcolor": "#2a3f5f",
           "arrowhead": 0,
           "arrowwidth": 1
          },
          "autotypenumbers": "strict",
          "coloraxis": {
           "colorbar": {
            "outlinewidth": 0,
            "ticks": ""
           }
          },
          "colorscale": {
           "diverging": [
            [
             0,
             "#8e0152"
            ],
            [
             0.1,
             "#c51b7d"
            ],
            [
             0.2,
             "#de77ae"
            ],
            [
             0.3,
             "#f1b6da"
            ],
            [
             0.4,
             "#fde0ef"
            ],
            [
             0.5,
             "#f7f7f7"
            ],
            [
             0.6,
             "#e6f5d0"
            ],
            [
             0.7,
             "#b8e186"
            ],
            [
             0.8,
             "#7fbc41"
            ],
            [
             0.9,
             "#4d9221"
            ],
            [
             1,
             "#276419"
            ]
           ],
           "sequential": [
            [
             0,
             "#0d0887"
            ],
            [
             0.1111111111111111,
             "#46039f"
            ],
            [
             0.2222222222222222,
             "#7201a8"
            ],
            [
             0.3333333333333333,
             "#9c179e"
            ],
            [
             0.4444444444444444,
             "#bd3786"
            ],
            [
             0.5555555555555556,
             "#d8576b"
            ],
            [
             0.6666666666666666,
             "#ed7953"
            ],
            [
             0.7777777777777778,
             "#fb9f3a"
            ],
            [
             0.8888888888888888,
             "#fdca26"
            ],
            [
             1,
             "#f0f921"
            ]
           ],
           "sequentialminus": [
            [
             0,
             "#0d0887"
            ],
            [
             0.1111111111111111,
             "#46039f"
            ],
            [
             0.2222222222222222,
             "#7201a8"
            ],
            [
             0.3333333333333333,
             "#9c179e"
            ],
            [
             0.4444444444444444,
             "#bd3786"
            ],
            [
             0.5555555555555556,
             "#d8576b"
            ],
            [
             0.6666666666666666,
             "#ed7953"
            ],
            [
             0.7777777777777778,
             "#fb9f3a"
            ],
            [
             0.8888888888888888,
             "#fdca26"
            ],
            [
             1,
             "#f0f921"
            ]
           ]
          },
          "colorway": [
           "#636efa",
           "#EF553B",
           "#00cc96",
           "#ab63fa",
           "#FFA15A",
           "#19d3f3",
           "#FF6692",
           "#B6E880",
           "#FF97FF",
           "#FECB52"
          ],
          "font": {
           "color": "#2a3f5f"
          },
          "geo": {
           "bgcolor": "white",
           "lakecolor": "white",
           "landcolor": "#E5ECF6",
           "showlakes": true,
           "showland": true,
           "subunitcolor": "white"
          },
          "hoverlabel": {
           "align": "left"
          },
          "hovermode": "closest",
          "mapbox": {
           "style": "light"
          },
          "paper_bgcolor": "white",
          "plot_bgcolor": "#E5ECF6",
          "polar": {
           "angularaxis": {
            "gridcolor": "white",
            "linecolor": "white",
            "ticks": ""
           },
           "bgcolor": "#E5ECF6",
           "radialaxis": {
            "gridcolor": "white",
            "linecolor": "white",
            "ticks": ""
           }
          },
          "scene": {
           "xaxis": {
            "backgroundcolor": "#E5ECF6",
            "gridcolor": "white",
            "gridwidth": 2,
            "linecolor": "white",
            "showbackground": true,
            "ticks": "",
            "zerolinecolor": "white"
           },
           "yaxis": {
            "backgroundcolor": "#E5ECF6",
            "gridcolor": "white",
            "gridwidth": 2,
            "linecolor": "white",
            "showbackground": true,
            "ticks": "",
            "zerolinecolor": "white"
           },
           "zaxis": {
            "backgroundcolor": "#E5ECF6",
            "gridcolor": "white",
            "gridwidth": 2,
            "linecolor": "white",
            "showbackground": true,
            "ticks": "",
            "zerolinecolor": "white"
           }
          },
          "shapedefaults": {
           "line": {
            "color": "#2a3f5f"
           }
          },
          "ternary": {
           "aaxis": {
            "gridcolor": "white",
            "linecolor": "white",
            "ticks": ""
           },
           "baxis": {
            "gridcolor": "white",
            "linecolor": "white",
            "ticks": ""
           },
           "bgcolor": "#E5ECF6",
           "caxis": {
            "gridcolor": "white",
            "linecolor": "white",
            "ticks": ""
           }
          },
          "title": {
           "x": 0.05
          },
          "xaxis": {
           "automargin": true,
           "gridcolor": "white",
           "linecolor": "white",
           "ticks": "",
           "title": {
            "standoff": 15
           },
           "zerolinecolor": "white",
           "zerolinewidth": 2
          },
          "yaxis": {
           "automargin": true,
           "gridcolor": "white",
           "linecolor": "white",
           "ticks": "",
           "title": {
            "standoff": 15
           },
           "zerolinecolor": "white",
           "zerolinewidth": 2
          }
         }
        },
        "xaxis": {
         "anchor": "y",
         "domain": [
          0,
          1
         ],
         "title": {
          "text": "date"
         }
        },
        "yaxis": {
         "anchor": "x",
         "domain": [
          0,
          1
         ],
         "title": {
          "text": "NDCI_median"
         }
        }
       }
      },
      "text/html": [
       "<div>                            <div id=\"e6451f85-6e12-46e6-a8ab-b530fd4de4c8\" class=\"plotly-graph-div\" style=\"height:525px; width:100%;\"></div>            <script type=\"text/javascript\">                require([\"plotly\"], function(Plotly) {                    window.PLOTLYENV=window.PLOTLYENV || {};                                    if (document.getElementById(\"e6451f85-6e12-46e6-a8ab-b530fd4de4c8\")) {                    Plotly.newPlot(                        \"e6451f85-6e12-46e6-a8ab-b530fd4de4c8\",                        [{\"hovertemplate\":\"date=%{x}<br>NDCI_median=%{y}<extra></extra>\",\"legendgroup\":\"\",\"marker\":{\"color\":\"#636efa\",\"symbol\":\"circle\"},\"mode\":\"markers\",\"name\":\"\",\"orientation\":\"v\",\"showlegend\":false,\"x\":[\"2018-12-29T13:40:40\",\"2019-01-25T13:30:47\",\"2019-01-28T13:40:43\",\"2019-02-07T13:40:43\",\"2019-02-09T13:30:51\",\"2019-02-14T13:30:47\",\"2019-02-19T13:30:50\",\"2019-02-22T13:40:45\",\"2019-03-01T13:30:49\",\"2019-03-14T13:40:44\",\"2019-03-16T13:30:47\",\"2019-03-21T13:30:50\",\"2019-03-24T13:40:47\",\"2019-03-26T13:30:50\",\"2019-04-03T13:40:49\",\"2019-04-10T13:30:55\",\"2019-05-18T13:40:50\",\"2019-05-25T13:30:54\",\"2019-07-07T13:40:51\",\"2019-07-12T13:40:55\",\"2019-08-03T13:30:55\",\"2019-08-06T13:40:50\",\"2019-08-11T13:40:53\",\"2019-09-02T13:30:51\",\"2019-09-15T13:40:45\",\"2019-09-22T13:30:51\",\"2019-09-25T13:40:47\",\"2019-09-30T13:40:47\",\"2019-10-07T13:30:52\",\"2019-10-12T13:30:53\",\"2019-11-06T13:30:51\",\"2019-11-16T13:30:49\",\"2019-11-19T13:40:44\",\"2019-11-21T13:30:52\",\"2019-11-29T13:40:42\",\"2019-12-04T13:40:44\",\"2019-12-06T13:30:45\",\"2019-12-09T13:40:40\",\"2019-12-11T13:30:47\",\"2019-12-19T13:40:41\",\"2019-12-24T13:40:40\",\"2019-12-26T13:30:46\",\"2020-01-05T13:30:46\",\"2020-01-10T13:30:45\",\"2020-01-18T13:40:40\",\"2020-01-20T13:30:44\",\"2020-01-25T13:30:44\",\"2020-02-02T13:40:38\",\"2020-02-07T13:40:40\",\"2020-02-22T13:40:41\",\"2020-02-24T13:30:47\",\"2020-02-27T13:40:43\",\"2020-02-29T13:30:46\",\"2020-03-03T13:40:42\",\"2020-03-05T13:30:48\",\"2020-03-08T13:40:44\",\"2020-03-13T13:40:42\",\"2020-03-23T13:40:42\",\"2020-03-25T13:30:48\",\"2020-03-30T13:30:47\",\"2020-04-04T13:30:42\",\"2020-04-04T13:30:49\",\"2020-04-07T13:40:43\",\"2020-04-12T13:40:45\",\"2020-04-19T13:30:51\",\"2020-05-02T13:40:49\",\"2020-05-04T13:30:48\",\"2020-05-07T13:40:44\",\"2020-05-09T13:30:55\",\"2020-05-14T13:30:50\",\"2020-05-17T13:40:46\",\"2020-05-19T13:30:56\",\"2020-05-27T13:40:47\",\"2020-05-29T13:30:57\",\"2020-06-01T13:40:52\",\"2020-06-16T13:40:49\",\"2020-06-21T13:40:52\",\"2020-06-28T13:30:56\",\"2020-07-03T13:30:53\",\"2020-07-13T13:30:52\",\"2020-07-26T13:40:49\",\"2020-07-31T13:40:52\",\"2020-08-05T13:40:49\",\"2020-08-10T13:40:52\",\"2020-08-17T13:30:56\",\"2020-08-22T13:30:54\",\"2020-09-21T13:30:53\",\"2020-09-24T13:40:49\",\"2020-09-29T13:40:52\",\"2020-10-11T13:30:54\",\"2020-10-19T13:40:52\",\"2020-11-23T13:40:46\",\"2020-12-10T13:30:48\",\"2020-12-15T13:30:48\",\"2020-12-18T13:40:44\",\"2020-12-23T13:40:43\",\"2020-12-30T13:30:49\",\"2021-01-02T13:40:45\",\"2021-01-09T13:30:50\",\"2021-01-19T13:30:50\",\"2021-02-08T13:30:50\",\"2021-02-13T13:30:49\",\"2021-02-21T13:40:44\",\"2021-02-26T13:40:46\",\"2021-03-13T13:40:45\",\"2021-03-20T13:30:50\",\"2021-03-25T13:30:49\",\"2021-04-04T13:30:47\",\"2021-04-07T13:40:42\",\"2021-04-09T13:30:48\",\"2021-04-14T13:30:45\",\"2021-04-22T13:40:40\",\"2021-04-24T13:30:47\",\"2021-04-27T13:40:43\",\"2021-04-29T13:30:46\",\"2021-05-02T13:40:43\",\"2021-05-07T13:40:45\",\"2021-05-09T13:30:49\",\"2021-05-12T13:40:45\",\"2021-05-24T13:30:51\",\"2021-05-27T13:40:47\",\"2021-05-29T13:30:51\",\"2021-06-01T13:40:47\",\"2021-06-03T13:30:51\",\"2021-06-13T13:30:51\",\"2021-06-16T13:40:46\",\"2021-07-03T13:30:53\",\"2021-07-08T13:30:52\",\"2021-07-16T13:40:49\",\"2021-07-18T13:30:53\",\"2021-07-21T13:40:48\",\"2021-07-23T13:30:54\",\"2021-07-31T13:40:48\",\"2021-08-07T13:30:52\",\"2021-08-27T13:30:49\",\"2021-08-30T13:40:43\",\"2021-09-16T13:30:47\",\"2021-10-19T13:40:48\",\"2021-10-21T13:30:56\",\"2021-10-24T13:40:51\",\"2021-10-26T13:30:52\",\"2021-10-29T13:40:47\",\"2021-10-31T13:30:55\",\"2021-11-08T13:40:46\",\"2021-11-13T13:40:48\",\"2021-11-20T13:30:51\",\"2021-12-10T13:30:49\",\"2021-12-20T13:30:52\",\"2021-12-25T13:30:46\",\"2021-12-28T13:40:42\",\"2021-12-30T13:30:52\",\"2022-01-12T13:40:47\",\"2022-01-14T13:30:46\",\"2022-01-19T13:30:51\",\"2022-01-22T13:40:46\",\"2022-01-24T13:30:45\",\"2022-02-03T13:30:45\",\"2022-02-11T13:40:45\",\"2022-02-16T13:40:40\",\"2022-02-26T13:40:42\",\"2022-03-03T13:40:50\",\"2022-03-05T13:30:48\",\"2022-03-28T13:40:43\",\"2022-04-02T13:40:48\",\"2022-04-14T13:30:47\",\"2022-04-19T13:30:55\",\"2022-04-24T13:30:45\",\"2022-04-29T13:30:56\",\"2022-05-07T13:40:43\",\"2022-05-09T13:30:55\",\"2022-05-12T13:40:49\"],\"xaxis\":\"x\",\"y\":[-0.02934176400912322,-0.005874790032353388,-0.01368299271596738,-0.0293063101723885,-0.009748404748366607,-0.04493537374524587,-0.027284396906097894,-0.027292596435307334,-0.07424606358458447,-0.09573768966722493,-0.06655889767225465,-0.05087201546797101,-0.09571499643537937,-0.08205809580017226,-0.060528615217954815,-0.09569621817561132,-0.035188111050872745,-0.04101753800336872,-0.1055852946359379,-0.10743463491855523,-0.0020933036887389378,-0.01751911158225478,-0.021522211867194493,-0.04489298534311623,-0.025366280018148824,-0.04102693486943494,-0.0431974975059765,-0.03710855221469061,-0.0449446767107215,-0.025436918557398838,-0.00974345486691302,-0.03497098559784771,-0.02149417079665868,-0.017557215724510106,-0.017572640813566354,-0.013730270480187943,-0.04100727056172533,-0.025383845992512304,-0.03320398746276808,-0.013648655696272875,-0.03317861949034024,-0.017535863622916006,-0.029288595874475885,-0.011641590490776272,-0.0116458986309059,0.009781193236916267,-0.029266105001346077,-0.021472790467457946,0.009774447452185808,-0.025373163738887403,-0.03321483564109079,-0.04285748540470976,-0.04285571840502442,-0.037111622414417796,-0.04492339518914825,-0.04101253368365614,-0.037106384890149766,-0.04491731205468005,-0.029308329298677376,-0.02928842086270192,-0.05276932118290348,-0.013643053970094965,-0.025378798444371423,-0.058623991221437494,0.0018957950408711776,-0.04297342657274927,-0.03316310200645627,-0.0488160487830296,-0.04487028904663708,-0.05055317386720343,-0.07420751804706006,-0.035001713864542636,-0.05071412103247434,-0.060506881566001675,-0.09571356709361901,-0.08398518121766939,-0.08007848711268958,-0.09765212442862772,0.005908558158173687,-0.009748333241006891,-0.0665175920628866,-0.08987811847978917,-0.0761923722689342,-0.07227112692482453,-0.07620755362491279,-0.07615342551967164,-0.0449283998793732,-0.03513789805872898,-0.025409552146254486,-0.04495694755132802,-0.025351850996271363,-0.017518151255219862,-0.033192780712027574,-0.05277004627009392,0.005863810258734686,0.01753025976064087,0.056683784830744544,0.03326620805447817,0.06446922619053352,0.019727299383607524,-0.03324773523556451,-0.0175428509866687,-0.02926837327801311,-0.03711120759463511,-0.04292771521309889,-0.04492103931022037,-0.05076361908413035,-0.05272080835028712,-0.058517761707454395,-0.03317672261202508,-0.03496808434573856,0.0038089794389744693,-0.017552887002298505,-0.021441198971953512,-0.021451909782526445,-0.037095110096722624,-0.025370132610019507,-0.03501764448149628,-0.02924777275109754,0.04295286107920935,0.003976999589336145,-0.0020639698224916595,-0.04103836116594671,-0.04881919022272372,-0.05273650372259912,-0.048875474647563005,-0.01367593632668332,-0.019476804908612918,-0.03319619976215523,0.009789530214778063,0.005887537644269931,0.009818208071743514,-0.033216335520671846,-0.017556329976789603,-0.005817183146371746,-0.021485557372374592,-0.0058348486892978845,-0.033212647057829794,-0.03711474541947253,-0.029277581542302013,-0.04099421758727736,0.0019016947012686564,0.005867674960743248,-0.019412328270017973,-0.00583184081662102,-0.03706401710275804,-0.019352715174232024,-0.0020573760149866197,-0.017528799906143616,-0.02147435699866209,0.005887452325429074,-0.013634962618516242,-0.004104624971103394,-0.013649243572854781,0.025423645426212938,0.02931975029632242,0.0224597381024344,0.004901219467761966,-0.01073033169319772,0.0029529986978707548,0.0009190276340338084,0.002930442086051404,-0.028301613246904726,-0.028322035215611146,-0.020523841156124604,-0.025366133151030507,-0.020501849533011016,-0.01269531059272385,-0.008776165692918994,-0.016604092325931786,-0.02157127147197379],\"yaxis\":\"y\",\"type\":\"scatter\"}],                        {\"template\":{\"data\":{\"bar\":[{\"error_x\":{\"color\":\"#2a3f5f\"},\"error_y\":{\"color\":\"#2a3f5f\"},\"marker\":{\"line\":{\"color\":\"#E5ECF6\",\"width\":0.5},\"pattern\":{\"fillmode\":\"overlay\",\"size\":10,\"solidity\":0.2}},\"type\":\"bar\"}],\"barpolar\":[{\"marker\":{\"line\":{\"color\":\"#E5ECF6\",\"width\":0.5},\"pattern\":{\"fillmode\":\"overlay\",\"size\":10,\"solidity\":0.2}},\"type\":\"barpolar\"}],\"carpet\":[{\"aaxis\":{\"endlinecolor\":\"#2a3f5f\",\"gridcolor\":\"white\",\"linecolor\":\"white\",\"minorgridcolor\":\"white\",\"startlinecolor\":\"#2a3f5f\"},\"baxis\":{\"endlinecolor\":\"#2a3f5f\",\"gridcolor\":\"white\",\"linecolor\":\"white\",\"minorgridcolor\":\"white\",\"startlinecolor\":\"#2a3f5f\"},\"type\":\"carpet\"}],\"choropleth\":[{\"colorbar\":{\"outlinewidth\":0,\"ticks\":\"\"},\"type\":\"choropleth\"}],\"contour\":[{\"colorbar\":{\"outlinewidth\":0,\"ticks\":\"\"},\"colorscale\":[[0.0,\"#0d0887\"],[0.1111111111111111,\"#46039f\"],[0.2222222222222222,\"#7201a8\"],[0.3333333333333333,\"#9c179e\"],[0.4444444444444444,\"#bd3786\"],[0.5555555555555556,\"#d8576b\"],[0.6666666666666666,\"#ed7953\"],[0.7777777777777778,\"#fb9f3a\"],[0.8888888888888888,\"#fdca26\"],[1.0,\"#f0f921\"]],\"type\":\"contour\"}],\"contourcarpet\":[{\"colorbar\":{\"outlinewidth\":0,\"ticks\":\"\"},\"type\":\"contourcarpet\"}],\"heatmap\":[{\"colorbar\":{\"outlinewidth\":0,\"ticks\":\"\"},\"colorscale\":[[0.0,\"#0d0887\"],[0.1111111111111111,\"#46039f\"],[0.2222222222222222,\"#7201a8\"],[0.3333333333333333,\"#9c179e\"],[0.4444444444444444,\"#bd3786\"],[0.5555555555555556,\"#d8576b\"],[0.6666666666666666,\"#ed7953\"],[0.7777777777777778,\"#fb9f3a\"],[0.8888888888888888,\"#fdca26\"],[1.0,\"#f0f921\"]],\"type\":\"heatmap\"}],\"heatmapgl\":[{\"colorbar\":{\"outlinewidth\":0,\"ticks\":\"\"},\"colorscale\":[[0.0,\"#0d0887\"],[0.1111111111111111,\"#46039f\"],[0.2222222222222222,\"#7201a8\"],[0.3333333333333333,\"#9c179e\"],[0.4444444444444444,\"#bd3786\"],[0.5555555555555556,\"#d8576b\"],[0.6666666666666666,\"#ed7953\"],[0.7777777777777778,\"#fb9f3a\"],[0.8888888888888888,\"#fdca26\"],[1.0,\"#f0f921\"]],\"type\":\"heatmapgl\"}],\"histogram\":[{\"marker\":{\"pattern\":{\"fillmode\":\"overlay\",\"size\":10,\"solidity\":0.2}},\"type\":\"histogram\"}],\"histogram2d\":[{\"colorbar\":{\"outlinewidth\":0,\"ticks\":\"\"},\"colorscale\":[[0.0,\"#0d0887\"],[0.1111111111111111,\"#46039f\"],[0.2222222222222222,\"#7201a8\"],[0.3333333333333333,\"#9c179e\"],[0.4444444444444444,\"#bd3786\"],[0.5555555555555556,\"#d8576b\"],[0.6666666666666666,\"#ed7953\"],[0.7777777777777778,\"#fb9f3a\"],[0.8888888888888888,\"#fdca26\"],[1.0,\"#f0f921\"]],\"type\":\"histogram2d\"}],\"histogram2dcontour\":[{\"colorbar\":{\"outlinewidth\":0,\"ticks\":\"\"},\"colorscale\":[[0.0,\"#0d0887\"],[0.1111111111111111,\"#46039f\"],[0.2222222222222222,\"#7201a8\"],[0.3333333333333333,\"#9c179e\"],[0.4444444444444444,\"#bd3786\"],[0.5555555555555556,\"#d8576b\"],[0.6666666666666666,\"#ed7953\"],[0.7777777777777778,\"#fb9f3a\"],[0.8888888888888888,\"#fdca26\"],[1.0,\"#f0f921\"]],\"type\":\"histogram2dcontour\"}],\"mesh3d\":[{\"colorbar\":{\"outlinewidth\":0,\"ticks\":\"\"},\"type\":\"mesh3d\"}],\"parcoords\":[{\"line\":{\"colorbar\":{\"outlinewidth\":0,\"ticks\":\"\"}},\"type\":\"parcoords\"}],\"pie\":[{\"automargin\":true,\"type\":\"pie\"}],\"scatter\":[{\"marker\":{\"colorbar\":{\"outlinewidth\":0,\"ticks\":\"\"}},\"type\":\"scatter\"}],\"scatter3d\":[{\"line\":{\"colorbar\":{\"outlinewidth\":0,\"ticks\":\"\"}},\"marker\":{\"colorbar\":{\"outlinewidth\":0,\"ticks\":\"\"}},\"type\":\"scatter3d\"}],\"scattercarpet\":[{\"marker\":{\"colorbar\":{\"outlinewidth\":0,\"ticks\":\"\"}},\"type\":\"scattercarpet\"}],\"scattergeo\":[{\"marker\":{\"colorbar\":{\"outlinewidth\":0,\"ticks\":\"\"}},\"type\":\"scattergeo\"}],\"scattergl\":[{\"marker\":{\"colorbar\":{\"outlinewidth\":0,\"ticks\":\"\"}},\"type\":\"scattergl\"}],\"scattermapbox\":[{\"marker\":{\"colorbar\":{\"outlinewidth\":0,\"ticks\":\"\"}},\"type\":\"scattermapbox\"}],\"scatterpolar\":[{\"marker\":{\"colorbar\":{\"outlinewidth\":0,\"ticks\":\"\"}},\"type\":\"scatterpolar\"}],\"scatterpolargl\":[{\"marker\":{\"colorbar\":{\"outlinewidth\":0,\"ticks\":\"\"}},\"type\":\"scatterpolargl\"}],\"scatterternary\":[{\"marker\":{\"colorbar\":{\"outlinewidth\":0,\"ticks\":\"\"}},\"type\":\"scatterternary\"}],\"surface\":[{\"colorbar\":{\"outlinewidth\":0,\"ticks\":\"\"},\"colorscale\":[[0.0,\"#0d0887\"],[0.1111111111111111,\"#46039f\"],[0.2222222222222222,\"#7201a8\"],[0.3333333333333333,\"#9c179e\"],[0.4444444444444444,\"#bd3786\"],[0.5555555555555556,\"#d8576b\"],[0.6666666666666666,\"#ed7953\"],[0.7777777777777778,\"#fb9f3a\"],[0.8888888888888888,\"#fdca26\"],[1.0,\"#f0f921\"]],\"type\":\"surface\"}],\"table\":[{\"cells\":{\"fill\":{\"color\":\"#EBF0F8\"},\"line\":{\"color\":\"white\"}},\"header\":{\"fill\":{\"color\":\"#C8D4E3\"},\"line\":{\"color\":\"white\"}},\"type\":\"table\"}]},\"layout\":{\"annotationdefaults\":{\"arrowcolor\":\"#2a3f5f\",\"arrowhead\":0,\"arrowwidth\":1},\"autotypenumbers\":\"strict\",\"coloraxis\":{\"colorbar\":{\"outlinewidth\":0,\"ticks\":\"\"}},\"colorscale\":{\"diverging\":[[0,\"#8e0152\"],[0.1,\"#c51b7d\"],[0.2,\"#de77ae\"],[0.3,\"#f1b6da\"],[0.4,\"#fde0ef\"],[0.5,\"#f7f7f7\"],[0.6,\"#e6f5d0\"],[0.7,\"#b8e186\"],[0.8,\"#7fbc41\"],[0.9,\"#4d9221\"],[1,\"#276419\"]],\"sequential\":[[0.0,\"#0d0887\"],[0.1111111111111111,\"#46039f\"],[0.2222222222222222,\"#7201a8\"],[0.3333333333333333,\"#9c179e\"],[0.4444444444444444,\"#bd3786\"],[0.5555555555555556,\"#d8576b\"],[0.6666666666666666,\"#ed7953\"],[0.7777777777777778,\"#fb9f3a\"],[0.8888888888888888,\"#fdca26\"],[1.0,\"#f0f921\"]],\"sequentialminus\":[[0.0,\"#0d0887\"],[0.1111111111111111,\"#46039f\"],[0.2222222222222222,\"#7201a8\"],[0.3333333333333333,\"#9c179e\"],[0.4444444444444444,\"#bd3786\"],[0.5555555555555556,\"#d8576b\"],[0.6666666666666666,\"#ed7953\"],[0.7777777777777778,\"#fb9f3a\"],[0.8888888888888888,\"#fdca26\"],[1.0,\"#f0f921\"]]},\"colorway\":[\"#636efa\",\"#EF553B\",\"#00cc96\",\"#ab63fa\",\"#FFA15A\",\"#19d3f3\",\"#FF6692\",\"#B6E880\",\"#FF97FF\",\"#FECB52\"],\"font\":{\"color\":\"#2a3f5f\"},\"geo\":{\"bgcolor\":\"white\",\"lakecolor\":\"white\",\"landcolor\":\"#E5ECF6\",\"showlakes\":true,\"showland\":true,\"subunitcolor\":\"white\"},\"hoverlabel\":{\"align\":\"left\"},\"hovermode\":\"closest\",\"mapbox\":{\"style\":\"light\"},\"paper_bgcolor\":\"white\",\"plot_bgcolor\":\"#E5ECF6\",\"polar\":{\"angularaxis\":{\"gridcolor\":\"white\",\"linecolor\":\"white\",\"ticks\":\"\"},\"bgcolor\":\"#E5ECF6\",\"radialaxis\":{\"gridcolor\":\"white\",\"linecolor\":\"white\",\"ticks\":\"\"}},\"scene\":{\"xaxis\":{\"backgroundcolor\":\"#E5ECF6\",\"gridcolor\":\"white\",\"gridwidth\":2,\"linecolor\":\"white\",\"showbackground\":true,\"ticks\":\"\",\"zerolinecolor\":\"white\"},\"yaxis\":{\"backgroundcolor\":\"#E5ECF6\",\"gridcolor\":\"white\",\"gridwidth\":2,\"linecolor\":\"white\",\"showbackground\":true,\"ticks\":\"\",\"zerolinecolor\":\"white\"},\"zaxis\":{\"backgroundcolor\":\"#E5ECF6\",\"gridcolor\":\"white\",\"gridwidth\":2,\"linecolor\":\"white\",\"showbackground\":true,\"ticks\":\"\",\"zerolinecolor\":\"white\"}},\"shapedefaults\":{\"line\":{\"color\":\"#2a3f5f\"}},\"ternary\":{\"aaxis\":{\"gridcolor\":\"white\",\"linecolor\":\"white\",\"ticks\":\"\"},\"baxis\":{\"gridcolor\":\"white\",\"linecolor\":\"white\",\"ticks\":\"\"},\"bgcolor\":\"#E5ECF6\",\"caxis\":{\"gridcolor\":\"white\",\"linecolor\":\"white\",\"ticks\":\"\"}},\"title\":{\"x\":0.05},\"xaxis\":{\"automargin\":true,\"gridcolor\":\"white\",\"linecolor\":\"white\",\"ticks\":\"\",\"title\":{\"standoff\":15},\"zerolinecolor\":\"white\",\"zerolinewidth\":2},\"yaxis\":{\"automargin\":true,\"gridcolor\":\"white\",\"linecolor\":\"white\",\"ticks\":\"\",\"title\":{\"standoff\":15},\"zerolinecolor\":\"white\",\"zerolinewidth\":2}}},\"xaxis\":{\"anchor\":\"y\",\"domain\":[0.0,1.0],\"title\":{\"text\":\"date\"}},\"yaxis\":{\"anchor\":\"x\",\"domain\":[0.0,1.0],\"title\":{\"text\":\"NDCI_median\"}},\"legend\":{\"tracegroupgap\":0},\"margin\":{\"t\":60}},                        {\"responsive\": true}                    ).then(function(){\n",
       "                            \n",
       "var gd = document.getElementById('e6451f85-6e12-46e6-a8ab-b530fd4de4c8');\n",
       "var x = new MutationObserver(function (mutations, observer) {{\n",
       "        var display = window.getComputedStyle(gd).display;\n",
       "        if (!display || display === 'none') {{\n",
       "            console.log([gd, 'removed!']);\n",
       "            Plotly.purge(gd);\n",
       "            observer.disconnect();\n",
       "        }}\n",
       "}});\n",
       "\n",
       "// Listen for the removal of the full notebook cells\n",
       "var notebookContainer = gd.closest('#notebook-container');\n",
       "if (notebookContainer) {{\n",
       "    x.observe(notebookContainer, {childList: true});\n",
       "}}\n",
       "\n",
       "// Listen for the clearing of the current output cell\n",
       "var outputEl = gd.closest('.output');\n",
       "if (outputEl) {{\n",
       "    x.observe(outputEl, {childList: true});\n",
       "}}\n",
       "\n",
       "                        })                };                });            </script>        </div>"
      ]
     },
     "metadata": {},
     "output_type": "display_data"
    }
   ],
   "source": [
    "px.scatter(df_ndci, x=\"date\", y=\"NDCI_median\")"
   ]
  },
  {
   "cell_type": "markdown",
   "metadata": {},
   "source": [
    "As séries de NDVI e NDCI apresentam uma variação sazonal com maiores valores no verão e menores no inverno, condizente com o esperado. Destaca-se que a série de NDCI parece mais instável."
   ]
  },
  {
   "cell_type": "code",
   "execution_count": 38,
   "metadata": {},
   "outputs": [],
   "source": [
    "df_gee = df_ndvi.merge(df_ndci, on=[\"millis\", \"date\"])"
   ]
  },
  {
   "cell_type": "code",
   "execution_count": 39,
   "metadata": {},
   "outputs": [
    {
     "data": {
      "text/html": [
       "<div>\n",
       "<style scoped>\n",
       "    .dataframe tbody tr th:only-of-type {\n",
       "        vertical-align: middle;\n",
       "    }\n",
       "\n",
       "    .dataframe tbody tr th {\n",
       "        vertical-align: top;\n",
       "    }\n",
       "\n",
       "    .dataframe thead th {\n",
       "        text-align: right;\n",
       "    }\n",
       "</style>\n",
       "<table border=\"1\" class=\"dataframe\">\n",
       "  <thead>\n",
       "    <tr style=\"text-align: right;\">\n",
       "      <th></th>\n",
       "      <th>millis</th>\n",
       "      <th>date</th>\n",
       "      <th>NDVI_min</th>\n",
       "      <th>NDVI_max</th>\n",
       "      <th>NDVI_mean</th>\n",
       "      <th>NDVI_median</th>\n",
       "      <th>NDVI_stdDev</th>\n",
       "      <th>NDCI_min</th>\n",
       "      <th>NDCI_max</th>\n",
       "      <th>NDCI_mean</th>\n",
       "      <th>NDCI_median</th>\n",
       "      <th>NDCI_stdDev</th>\n",
       "    </tr>\n",
       "  </thead>\n",
       "  <tbody>\n",
       "    <tr>\n",
       "      <th>0</th>\n",
       "      <td>1546090840000</td>\n",
       "      <td>2018-12-29 13:40:40</td>\n",
       "      <td>-0.784057</td>\n",
       "      <td>0.914034</td>\n",
       "      <td>-0.320348</td>\n",
       "      <td>-0.308634</td>\n",
       "      <td>0.129478</td>\n",
       "      <td>-0.167931</td>\n",
       "      <td>0.634409</td>\n",
       "      <td>-0.023233</td>\n",
       "      <td>-0.029342</td>\n",
       "      <td>0.034691</td>\n",
       "    </tr>\n",
       "    <tr>\n",
       "      <th>1</th>\n",
       "      <td>1548423047000</td>\n",
       "      <td>2019-01-25 13:30:47</td>\n",
       "      <td>-0.671004</td>\n",
       "      <td>0.923810</td>\n",
       "      <td>-0.394626</td>\n",
       "      <td>-0.402299</td>\n",
       "      <td>0.109197</td>\n",
       "      <td>-0.180560</td>\n",
       "      <td>0.633309</td>\n",
       "      <td>-0.005937</td>\n",
       "      <td>-0.005875</td>\n",
       "      <td>0.035793</td>\n",
       "    </tr>\n",
       "    <tr>\n",
       "      <th>2</th>\n",
       "      <td>1548682843000</td>\n",
       "      <td>2019-01-28 13:40:43</td>\n",
       "      <td>-0.578635</td>\n",
       "      <td>0.917371</td>\n",
       "      <td>-0.317525</td>\n",
       "      <td>-0.316366</td>\n",
       "      <td>0.086279</td>\n",
       "      <td>-0.158893</td>\n",
       "      <td>0.647395</td>\n",
       "      <td>-0.010855</td>\n",
       "      <td>-0.013683</td>\n",
       "      <td>0.033420</td>\n",
       "    </tr>\n",
       "    <tr>\n",
       "      <th>3</th>\n",
       "      <td>1549546843000</td>\n",
       "      <td>2019-02-07 13:40:43</td>\n",
       "      <td>-0.727873</td>\n",
       "      <td>0.924584</td>\n",
       "      <td>-0.425313</td>\n",
       "      <td>-0.417968</td>\n",
       "      <td>0.125853</td>\n",
       "      <td>-0.193239</td>\n",
       "      <td>0.638596</td>\n",
       "      <td>-0.030255</td>\n",
       "      <td>-0.029306</td>\n",
       "      <td>0.040513</td>\n",
       "    </tr>\n",
       "    <tr>\n",
       "      <th>4</th>\n",
       "      <td>1549719051000</td>\n",
       "      <td>2019-02-09 13:30:51</td>\n",
       "      <td>-0.995249</td>\n",
       "      <td>0.907998</td>\n",
       "      <td>-0.540698</td>\n",
       "      <td>-0.542969</td>\n",
       "      <td>0.130706</td>\n",
       "      <td>-0.176221</td>\n",
       "      <td>0.622495</td>\n",
       "      <td>-0.012386</td>\n",
       "      <td>-0.009748</td>\n",
       "      <td>0.045008</td>\n",
       "    </tr>\n",
       "    <tr>\n",
       "      <th>...</th>\n",
       "      <td>...</td>\n",
       "      <td>...</td>\n",
       "      <td>...</td>\n",
       "      <td>...</td>\n",
       "      <td>...</td>\n",
       "      <td>...</td>\n",
       "      <td>...</td>\n",
       "      <td>...</td>\n",
       "      <td>...</td>\n",
       "      <td>...</td>\n",
       "      <td>...</td>\n",
       "      <td>...</td>\n",
       "    </tr>\n",
       "    <tr>\n",
       "      <th>166</th>\n",
       "      <td>1650807045250</td>\n",
       "      <td>2022-04-24 13:30:45</td>\n",
       "      <td>-0.244416</td>\n",
       "      <td>0.699890</td>\n",
       "      <td>-0.170517</td>\n",
       "      <td>-0.173774</td>\n",
       "      <td>0.061692</td>\n",
       "      <td>-0.114764</td>\n",
       "      <td>0.291866</td>\n",
       "      <td>-0.018705</td>\n",
       "      <td>-0.020502</td>\n",
       "      <td>0.020489</td>\n",
       "    </tr>\n",
       "    <tr>\n",
       "      <th>167</th>\n",
       "      <td>1651239056300</td>\n",
       "      <td>2022-04-29 13:30:56</td>\n",
       "      <td>-0.260390</td>\n",
       "      <td>0.682045</td>\n",
       "      <td>-0.144146</td>\n",
       "      <td>-0.166080</td>\n",
       "      <td>0.077135</td>\n",
       "      <td>-0.111469</td>\n",
       "      <td>0.297750</td>\n",
       "      <td>-0.013373</td>\n",
       "      <td>-0.012695</td>\n",
       "      <td>0.021745</td>\n",
       "    </tr>\n",
       "    <tr>\n",
       "      <th>168</th>\n",
       "      <td>1651930843010</td>\n",
       "      <td>2022-05-07 13:40:43</td>\n",
       "      <td>-0.265924</td>\n",
       "      <td>0.681657</td>\n",
       "      <td>-0.141280</td>\n",
       "      <td>-0.154302</td>\n",
       "      <td>0.075562</td>\n",
       "      <td>-0.094701</td>\n",
       "      <td>0.294320</td>\n",
       "      <td>-0.009096</td>\n",
       "      <td>-0.008776</td>\n",
       "      <td>0.017226</td>\n",
       "    </tr>\n",
       "    <tr>\n",
       "      <th>169</th>\n",
       "      <td>1652103055120</td>\n",
       "      <td>2022-05-09 13:30:55</td>\n",
       "      <td>-0.327605</td>\n",
       "      <td>0.697630</td>\n",
       "      <td>-0.188140</td>\n",
       "      <td>-0.191566</td>\n",
       "      <td>0.059146</td>\n",
       "      <td>-0.139696</td>\n",
       "      <td>0.301840</td>\n",
       "      <td>-0.015969</td>\n",
       "      <td>-0.016604</td>\n",
       "      <td>0.016212</td>\n",
       "    </tr>\n",
       "    <tr>\n",
       "      <th>170</th>\n",
       "      <td>1652362849938</td>\n",
       "      <td>2022-05-12 13:40:49</td>\n",
       "      <td>-0.472712</td>\n",
       "      <td>0.679034</td>\n",
       "      <td>-0.161049</td>\n",
       "      <td>-0.167985</td>\n",
       "      <td>0.062049</td>\n",
       "      <td>-0.311440</td>\n",
       "      <td>0.312731</td>\n",
       "      <td>-0.019939</td>\n",
       "      <td>-0.021571</td>\n",
       "      <td>0.015933</td>\n",
       "    </tr>\n",
       "  </tbody>\n",
       "</table>\n",
       "<p>171 rows × 12 columns</p>\n",
       "</div>"
      ],
      "text/plain": [
       "            millis                date  NDVI_min  NDVI_max  NDVI_mean  \\\n",
       "0    1546090840000 2018-12-29 13:40:40 -0.784057  0.914034  -0.320348   \n",
       "1    1548423047000 2019-01-25 13:30:47 -0.671004  0.923810  -0.394626   \n",
       "2    1548682843000 2019-01-28 13:40:43 -0.578635  0.917371  -0.317525   \n",
       "3    1549546843000 2019-02-07 13:40:43 -0.727873  0.924584  -0.425313   \n",
       "4    1549719051000 2019-02-09 13:30:51 -0.995249  0.907998  -0.540698   \n",
       "..             ...                 ...       ...       ...        ...   \n",
       "166  1650807045250 2022-04-24 13:30:45 -0.244416  0.699890  -0.170517   \n",
       "167  1651239056300 2022-04-29 13:30:56 -0.260390  0.682045  -0.144146   \n",
       "168  1651930843010 2022-05-07 13:40:43 -0.265924  0.681657  -0.141280   \n",
       "169  1652103055120 2022-05-09 13:30:55 -0.327605  0.697630  -0.188140   \n",
       "170  1652362849938 2022-05-12 13:40:49 -0.472712  0.679034  -0.161049   \n",
       "\n",
       "     NDVI_median  NDVI_stdDev  NDCI_min  NDCI_max  NDCI_mean  NDCI_median  \\\n",
       "0      -0.308634     0.129478 -0.167931  0.634409  -0.023233    -0.029342   \n",
       "1      -0.402299     0.109197 -0.180560  0.633309  -0.005937    -0.005875   \n",
       "2      -0.316366     0.086279 -0.158893  0.647395  -0.010855    -0.013683   \n",
       "3      -0.417968     0.125853 -0.193239  0.638596  -0.030255    -0.029306   \n",
       "4      -0.542969     0.130706 -0.176221  0.622495  -0.012386    -0.009748   \n",
       "..           ...          ...       ...       ...        ...          ...   \n",
       "166    -0.173774     0.061692 -0.114764  0.291866  -0.018705    -0.020502   \n",
       "167    -0.166080     0.077135 -0.111469  0.297750  -0.013373    -0.012695   \n",
       "168    -0.154302     0.075562 -0.094701  0.294320  -0.009096    -0.008776   \n",
       "169    -0.191566     0.059146 -0.139696  0.301840  -0.015969    -0.016604   \n",
       "170    -0.167985     0.062049 -0.311440  0.312731  -0.019939    -0.021571   \n",
       "\n",
       "     NDCI_stdDev  \n",
       "0       0.034691  \n",
       "1       0.035793  \n",
       "2       0.033420  \n",
       "3       0.040513  \n",
       "4       0.045008  \n",
       "..           ...  \n",
       "166     0.020489  \n",
       "167     0.021745  \n",
       "168     0.017226  \n",
       "169     0.016212  \n",
       "170     0.015933  \n",
       "\n",
       "[171 rows x 12 columns]"
      ]
     },
     "execution_count": 39,
     "metadata": {},
     "output_type": "execute_result"
    }
   ],
   "source": [
    "df_gee"
   ]
  },
  {
   "cell_type": "markdown",
   "metadata": {},
   "source": [
    "### 2.3. Cruzamento com dados locais"
   ]
  },
  {
   "cell_type": "markdown",
   "metadata": {},
   "source": [
    "#### 2.3.1. RS Água"
   ]
  },
  {
   "cell_type": "markdown",
   "metadata": {},
   "source": [
    "Estação \t87442000"
   ]
  },
  {
   "cell_type": "code",
   "execution_count": 43,
   "metadata": {},
   "outputs": [],
   "source": [
    "rs_agua = pd.read_excel(\"../../data/external/rsagua/Dados_20220515181337.xls\", sheet_name=\"Dados_Brutos\")"
   ]
  },
  {
   "cell_type": "code",
   "execution_count": 47,
   "metadata": {},
   "outputs": [],
   "source": [
    "def read_rs_agua(file_dir, ratio_censurado=0.5):\n",
    "    \"\"\"Faz a leitura de arquivo Excel oriundo do RS Água e transforma em formato long\"\"\"\n",
    "    \n",
    "    rs_agua_raw = pd.read_excel(file_dir, sheet_name=\"Dados_Brutos\")\n",
    "    \n",
    "    rs_agua_raw.columns = rs_agua_raw.columns.\\\n",
    "        str.strip().str.lower().\\\n",
    "        str.replace(\" \", \"_\").\\\n",
    "        str.replace(\"á\", \"a\").\\\n",
    "        str.replace(\"ã\", \"a\").\\\n",
    "        str.replace(\"ê\", \"e\").\\\n",
    "        str.replace(\"é\", \"e\").\\\n",
    "        str.replace(\"í\", \"i\").\\\n",
    "        str.replace(\"ó\", \"o\").\\\n",
    "        str.replace(\"ç\", \"c\").\\\n",
    "        str.replace(\"__-_\", \"_\").\\\n",
    "        str.replace(\"(\", \"\").\\\n",
    "        str.replace(\")\", \"\")\n",
    "    \n",
    "    valores_fixos = rs_agua_raw[[\"indice\",\n",
    "                       \"cod._estacao\",\n",
    "                       \"latitude\",\n",
    "                       \"longitude\",\n",
    "                       \"bacia_hidrografica\",\n",
    "                       \"recurso_hidrico\",\n",
    "                       \"regiao\",\n",
    "                       \"municipio\",\n",
    "                       \"ambiente\"]]\n",
    "    \n",
    "    resultados = rs_agua_raw.drop(valores_fixos, axis=1)\n",
    "    \n",
    "    resultados_long = pd.melt(resultados,\n",
    "        id_vars=[\"data_coleta\", \"hora_coleta\", \"chuva_24h\"],\n",
    "        var_name=\"parametro\",\n",
    "        value_name=\"resultado\")\n",
    "    \n",
    "    # flag de dados censurados\n",
    "    resultados_long[\"censurado_esquerda\"]=resultados_long[\"resultado\"].str.contains(\"<\")\n",
    "\n",
    "    # remove valores especiais\n",
    "    resultados_long[\"resultado\"] = resultados_long.resultado.str.strip().str.replace(\" \", \"\").\\\n",
    "        str.replace(\",\", \".\").\\\n",
    "        str.replace(r\"[A-Z]*\", \"\").\\\n",
    "        str.replace(\"=\", \"\").\\\n",
    "        str.replace(\"<\", \"\")\n",
    "    \n",
    "    resultados_long[\"resultado\"] = pd.to_numeric(resultados_long[\"resultado\"])\n",
    "    \n",
    "    resultados_long.loc[\n",
    "        resultados_long[\"censurado_esquerda\"]==True,\n",
    "                        \"resultado\"] = resultados_long.loc[resultados_long[\"censurado_esquerda\"]==True,\n",
    "                       \"resultado\"].apply(lambda x: x * ratio_censurado)\n",
    "    \n",
    "    return resultados_long"
   ]
  },
  {
   "cell_type": "code",
   "execution_count": 49,
   "metadata": {},
   "outputs": [
    {
     "name": "stderr",
     "output_type": "stream",
     "text": [
      "<ipython-input-47-ffaae50c2e21>:6: FutureWarning:\n",
      "\n",
      "The default value of regex will change from True to False in a future version. In addition, single character regular expressions will *not* be treated as literal strings when regex=True.\n",
      "\n",
      "<ipython-input-47-ffaae50c2e21>:6: FutureWarning:\n",
      "\n",
      "The default value of regex will change from True to False in a future version. In addition, single character regular expressions will *not* be treated as literal strings when regex=True.\n",
      "\n",
      "<ipython-input-47-ffaae50c2e21>:41: FutureWarning:\n",
      "\n",
      "The default value of regex will change from True to False in a future version.\n",
      "\n"
     ]
    }
   ],
   "source": [
    "guaiba_fepam = read_rs_agua(\"../../data/external/rsagua/Dados_20220515181337.xls\")"
   ]
  },
  {
   "cell_type": "code",
   "execution_count": 52,
   "metadata": {},
   "outputs": [
    {
     "data": {
      "text/plain": [
       "alcalinidade                             11\n",
       "salinidade                               11\n",
       "nitrogenio_amoniacal                     11\n",
       "nitrogenio_orgânico                      11\n",
       "nitrogenio_total_kjeldahl                11\n",
       "oxigenio_dissolvido                      11\n",
       "ph                                       11\n",
       "profundidade_coleta                      11\n",
       "profundidade_total                       11\n",
       "solidos_dissolvidos_totais               11\n",
       "niquel                                   11\n",
       "solidos_suspensos_totais                 11\n",
       "solidos_totais                           11\n",
       "temperatura_da_agua                      11\n",
       "temperatura_do_ar                        11\n",
       "transparencia_da_agua                    11\n",
       "turbidez                                 11\n",
       "vazao_recurso_hidrico                    11\n",
       "nitrato                                  11\n",
       "mercúrio_em_micrograma_por_litro_ug/l    11\n",
       "aluminio                                 11\n",
       "condutividade                            11\n",
       "cadmio                                   11\n",
       "chumbo                                   11\n",
       "cloreto                                  11\n",
       "clorofila_a                              11\n",
       "cobre                                    11\n",
       "coliformes_termotolerantes               11\n",
       "coliformes_totais                        11\n",
       "cromo_total                              11\n",
       "manganes                                 11\n",
       "demanda_bioquimica_de_oxigenio           11\n",
       "demanda_quimica_de_oxigenio              11\n",
       "escherichia_coli                         11\n",
       "ferro                                    11\n",
       "fitoplancton_cianobacterias              11\n",
       "fosfato_orto                             11\n",
       "fosforo_total                            11\n",
       "zinco                                    11\n",
       "Name: parametro, dtype: int64"
      ]
     },
     "execution_count": 52,
     "metadata": {},
     "output_type": "execute_result"
    }
   ],
   "source": [
    "guaiba_fepam[\"parametro\"].value_counts()"
   ]
  },
  {
   "cell_type": "code",
   "execution_count": 53,
   "metadata": {},
   "outputs": [],
   "source": [
    "ciano_fepam = guaiba_fepam.loc[guaiba_fepam[\"parametro\"]==\"fitoplancton_cianobacterias\"]\n",
    "clorofila_fepam = guaiba_fepam.loc[guaiba_fepam[\"parametro\"]==\"clorofila_a\"]"
   ]
  },
  {
   "cell_type": "markdown",
   "metadata": {},
   "source": [
    "Cruzamento para dados da mesma semana"
   ]
  },
  {
   "cell_type": "code",
   "execution_count": 60,
   "metadata": {},
   "outputs": [],
   "source": [
    "guaiba_fepam[\"week\"] = pd.to_datetime(guaiba_fepam[\"data_coleta\"]).dt.to_period(\"W\")\n",
    "ciano_fepam = guaiba_fepam.loc[guaiba_fepam[\"parametro\"]==\"fitoplancton_cianobacterias\"]\n",
    "clorofila_fepam = guaiba_fepam.loc[guaiba_fepam[\"parametro\"]==\"clorofila_a\"]\n",
    "\n",
    "df_gee[\"week\"] = pd.to_datetime(df_gee[\"date\"]).dt.to_period(\"W\")\n",
    "fepam_gee = pd.merge(clorofila_fepam, df_gee, on=\"week\")"
   ]
  },
  {
   "cell_type": "markdown",
   "metadata": {},
   "source": [
    "Apenas 3 cruzamentos"
   ]
  },
  {
   "cell_type": "code",
   "execution_count": 61,
   "metadata": {},
   "outputs": [
    {
     "data": {
      "text/html": [
       "<div>\n",
       "<style scoped>\n",
       "    .dataframe tbody tr th:only-of-type {\n",
       "        vertical-align: middle;\n",
       "    }\n",
       "\n",
       "    .dataframe tbody tr th {\n",
       "        vertical-align: top;\n",
       "    }\n",
       "\n",
       "    .dataframe thead th {\n",
       "        text-align: right;\n",
       "    }\n",
       "</style>\n",
       "<table border=\"1\" class=\"dataframe\">\n",
       "  <thead>\n",
       "    <tr style=\"text-align: right;\">\n",
       "      <th></th>\n",
       "      <th>data_coleta</th>\n",
       "      <th>hora_coleta</th>\n",
       "      <th>chuva_24h</th>\n",
       "      <th>parametro</th>\n",
       "      <th>resultado</th>\n",
       "      <th>censurado_esquerda</th>\n",
       "      <th>week</th>\n",
       "      <th>millis</th>\n",
       "      <th>date</th>\n",
       "      <th>NDVI_min</th>\n",
       "      <th>NDVI_max</th>\n",
       "      <th>NDVI_mean</th>\n",
       "      <th>NDVI_median</th>\n",
       "      <th>NDVI_stdDev</th>\n",
       "      <th>NDCI_min</th>\n",
       "      <th>NDCI_max</th>\n",
       "      <th>NDCI_mean</th>\n",
       "      <th>NDCI_median</th>\n",
       "      <th>NDCI_stdDev</th>\n",
       "    </tr>\n",
       "  </thead>\n",
       "  <tbody>\n",
       "    <tr>\n",
       "      <th>0</th>\n",
       "      <td>2019-02-13</td>\n",
       "      <td>2022-05-15 11:15:00</td>\n",
       "      <td>MÉDIA</td>\n",
       "      <td>clorofila_a</td>\n",
       "      <td>2.86</td>\n",
       "      <td>False</td>\n",
       "      <td>2019-02-11/2019-02-17</td>\n",
       "      <td>1550151047000</td>\n",
       "      <td>2019-02-14 13:30:47</td>\n",
       "      <td>-0.914530</td>\n",
       "      <td>0.927669</td>\n",
       "      <td>-0.579319</td>\n",
       "      <td>-0.589906</td>\n",
       "      <td>0.138667</td>\n",
       "      <td>-0.273986</td>\n",
       "      <td>0.653631</td>\n",
       "      <td>-0.046042</td>\n",
       "      <td>-0.044935</td>\n",
       "      <td>0.049084</td>\n",
       "    </tr>\n",
       "    <tr>\n",
       "      <th>1</th>\n",
       "      <td>2019-05-15</td>\n",
       "      <td>2022-05-15 10:06:00</td>\n",
       "      <td>FRACA</td>\n",
       "      <td>clorofila_a</td>\n",
       "      <td>0.04</td>\n",
       "      <td>True</td>\n",
       "      <td>2019-05-13/2019-05-19</td>\n",
       "      <td>1558186850000</td>\n",
       "      <td>2019-05-18 13:40:50</td>\n",
       "      <td>-0.969231</td>\n",
       "      <td>0.991597</td>\n",
       "      <td>-0.491666</td>\n",
       "      <td>-0.566438</td>\n",
       "      <td>0.209613</td>\n",
       "      <td>-0.428571</td>\n",
       "      <td>0.942857</td>\n",
       "      <td>-0.031008</td>\n",
       "      <td>-0.035188</td>\n",
       "      <td>0.048194</td>\n",
       "    </tr>\n",
       "    <tr>\n",
       "      <th>2</th>\n",
       "      <td>2019-11-13</td>\n",
       "      <td>2022-05-15 10:39:00</td>\n",
       "      <td>AUSENTE</td>\n",
       "      <td>clorofila_a</td>\n",
       "      <td>2.94</td>\n",
       "      <td>False</td>\n",
       "      <td>2019-11-11/2019-11-17</td>\n",
       "      <td>1573911049528</td>\n",
       "      <td>2019-11-16 13:30:49</td>\n",
       "      <td>-0.932773</td>\n",
       "      <td>0.917513</td>\n",
       "      <td>-0.470467</td>\n",
       "      <td>-0.503928</td>\n",
       "      <td>0.155848</td>\n",
       "      <td>-0.410409</td>\n",
       "      <td>0.644769</td>\n",
       "      <td>-0.030755</td>\n",
       "      <td>-0.034971</td>\n",
       "      <td>0.032933</td>\n",
       "    </tr>\n",
       "  </tbody>\n",
       "</table>\n",
       "</div>"
      ],
      "text/plain": [
       "  data_coleta         hora_coleta chuva_24h    parametro  resultado  \\\n",
       "0  2019-02-13 2022-05-15 11:15:00     MÉDIA  clorofila_a       2.86   \n",
       "1  2019-05-15 2022-05-15 10:06:00     FRACA  clorofila_a       0.04   \n",
       "2  2019-11-13 2022-05-15 10:39:00   AUSENTE  clorofila_a       2.94   \n",
       "\n",
       "  censurado_esquerda                   week         millis  \\\n",
       "0              False  2019-02-11/2019-02-17  1550151047000   \n",
       "1               True  2019-05-13/2019-05-19  1558186850000   \n",
       "2              False  2019-11-11/2019-11-17  1573911049528   \n",
       "\n",
       "                 date  NDVI_min  NDVI_max  NDVI_mean  NDVI_median  \\\n",
       "0 2019-02-14 13:30:47 -0.914530  0.927669  -0.579319    -0.589906   \n",
       "1 2019-05-18 13:40:50 -0.969231  0.991597  -0.491666    -0.566438   \n",
       "2 2019-11-16 13:30:49 -0.932773  0.917513  -0.470467    -0.503928   \n",
       "\n",
       "   NDVI_stdDev  NDCI_min  NDCI_max  NDCI_mean  NDCI_median  NDCI_stdDev  \n",
       "0     0.138667 -0.273986  0.653631  -0.046042    -0.044935     0.049084  \n",
       "1     0.209613 -0.428571  0.942857  -0.031008    -0.035188     0.048194  \n",
       "2     0.155848 -0.410409  0.644769  -0.030755    -0.034971     0.032933  "
      ]
     },
     "execution_count": 61,
     "metadata": {},
     "output_type": "execute_result"
    }
   ],
   "source": [
    "fepam_gee"
   ]
  },
  {
   "cell_type": "markdown",
   "metadata": {},
   "source": [
    "#### 2.3.2. Vigiágua"
   ]
  },
  {
   "cell_type": "code",
   "execution_count": 78,
   "metadata": {},
   "outputs": [],
   "source": [
    "import urllib\n",
    "\n",
    "VIGILANCIA_URL = \"https://sage.saude.gov.br/dados/sisagua/controle_mensal_demais_parametros.zip\"\n",
    "DOWNLOAD_DIR = os.path.join(\"..\", \"..\", \"data\", \"external\", \"vigilancia\")\n",
    "MUNICIPIO = \"PORTO ALEGRE\"\n",
    "MANANCIAL = \"GUAIBA\"\n",
    "\n",
    "def read_vigilancia(download_dir=DOWNLOAD_DIR, municipio=MUNICIPIO, manancial=MANANCIAL, url=VIGILANCIA_URL):\n",
    "    \"\"\"Realiza a leitura de dados baixados da Vigilancia (controle mensal demais parametros)\"\"\"\n",
    "    \n",
    "    filename = os.path.join(DOWNLOAD_DIR, \"controle_mensal_demais_parametros.zip\")\n",
    "    \n",
    "    if not os.path.isfile(filename):\n",
    "        urllib.request.urlretrieve(url, filename)\n",
    "        \n",
    "    vigilancia = pd.read_csv(filename,\n",
    "           compression=\"zip\",\n",
    "            sep=\";\",\n",
    "            decimal=\",\",\n",
    "            encoding=\"latin-1\",\n",
    "            parse_dates=[\"Data de preenchimento do relatório mensal\",\n",
    "                        \"Data da coleta\"])\n",
    "    \n",
    "    vigilancia =  vigilancia.loc[( vigilancia[\"Município\"] == municipio) &\n",
    "          (vigilancia[\"Nome do manancial superficial\"] == manancial), :]\n",
    "    \n",
    "    return vigilancia"
   ]
  },
  {
   "cell_type": "code",
   "execution_count": 79,
   "metadata": {},
   "outputs": [
    {
     "name": "stderr",
     "output_type": "stream",
     "text": [
      "<ipython-input-78-4bb0d4ecd859>:16: DtypeWarning:\n",
      "\n",
      "Columns (6,9,14,21,22,23,24,27) have mixed types. Specify dtype option on import or set low_memory=False.\n",
      "\n"
     ]
    }
   ],
   "source": [
    "vigi = read_vigilancia()"
   ]
  },
  {
   "cell_type": "code",
   "execution_count": 85,
   "metadata": {},
   "outputs": [
    {
     "data": {
      "text/plain": [
       "Parâmetro         Unidade                   \n",
       "Escherichia coli  E.coli/100mL                  1968\n",
       "Cianobactérias    Total de cianobactérias       1337\n",
       "                  Outro(s) gênero(s)*           1285\n",
       "                  Planktothrix sp.                90\n",
       "                  Cylindrospermopsis sp.          69\n",
       "                  Pseudoanabaena sp.              63\n",
       "Cianotoxinas      Microcistina (µg/L)             63\n",
       "Cryptosporidium   oocistos/L                      38\n",
       "Giardia           Cistos/L                        38\n",
       "Cianobactérias    Microcystis sp.                 34\n",
       "                  Aphanocapsa sp.                 24\n",
       "Cianotoxinas      Saxitoxina (µg/L)               20\n",
       "Cianobactérias    Dolichospermum sp.              14\n",
       "Cianotoxinas      Cilindrospermopsina (µg/L)       8\n",
       "Cianobactérias    Planktolyngbya sp.               5\n",
       "                  Geitlerinema sp.                 2\n",
       "                  Anabaena sp.                     2\n",
       "                  Aphanothece sp.                  1\n",
       "dtype: int64"
      ]
     },
     "execution_count": 85,
     "metadata": {},
     "output_type": "execute_result"
    }
   ],
   "source": [
    "vigi[[\"Parâmetro\", \"Unidade\"]].value_counts()"
   ]
  },
  {
   "cell_type": "code",
   "execution_count": 90,
   "metadata": {},
   "outputs": [
    {
     "data": {
      "text/plain": [
       "MOINHOS DE VENTO          277\n",
       "SÃO JOÃO                  275\n",
       "JOSÉ LOUREIRO DA SILVA    264\n",
       "BELÉM NOVO                261\n",
       "TRISTEZA                  260\n",
       "Name: Nome da ETA / UTA, dtype: int64"
      ]
     },
     "execution_count": 90,
     "metadata": {},
     "output_type": "execute_result"
    }
   ],
   "source": [
    "ciano_vigi = vigi.loc[(vigi[\"Parâmetro\"]==\"Cianobactérias\") & (vigi[\"Unidade\"]==\"Total de cianobactérias\")]\n",
    "ciano_vigi[\"Nome da ETA / UTA\"].value_counts()"
   ]
  },
  {
   "cell_type": "code",
   "execution_count": 94,
   "metadata": {},
   "outputs": [
    {
     "name": "stderr",
     "output_type": "stream",
     "text": [
      "<ipython-input-94-dafa8d495715>:1: SettingWithCopyWarning:\n",
      "\n",
      "\n",
      "A value is trying to be set on a copy of a slice from a DataFrame.\n",
      "Try using .loc[row_indexer,col_indexer] = value instead\n",
      "\n",
      "See the caveats in the documentation: https://pandas.pydata.org/pandas-docs/stable/user_guide/indexing.html#returning-a-view-versus-a-copy\n",
      "\n"
     ]
    }
   ],
   "source": [
    "ciano_vigi[\"week\"] = pd.to_datetime(ciano_vigi[\"Data da coleta\"]).dt.to_period(\"W\")"
   ]
  },
  {
   "cell_type": "code",
   "execution_count": 105,
   "metadata": {},
   "outputs": [],
   "source": [
    "vigi_gee = pd.merge(ciano_vigi.loc[:, [\"Data da coleta\",\"Nome da ETA / UTA\", \"Resultado\", \"week\"]], df_gee, on=\"week\")\n",
    "vigi_gee = vigi_gee.loc[vigi_gee[\"Nome da ETA / UTA\"]==\"BELÉM NOVO\"].reset_index(drop=True)"
   ]
  },
  {
   "cell_type": "code",
   "execution_count": 111,
   "metadata": {},
   "outputs": [
    {
     "data": {
      "application/vnd.plotly.v1+json": {
       "config": {
        "plotlyServerURL": "https://plot.ly"
       },
       "data": [
        {
         "hovertemplate": "NDVI_median=%{x}<br>Resultado=%{y}<extra></extra>",
         "legendgroup": "",
         "marker": {
          "color": "#636efa",
          "symbol": "circle"
         },
         "mode": "markers",
         "name": "",
         "orientation": "h",
         "showlegend": false,
         "type": "scatter",
         "x": [
          -0.644520524022017,
          -0.23038613113609824,
          -0.6758949606244595,
          -0.5508353120781205,
          -0.5352412233414073,
          -0.5274226569935896,
          -0.5663773397094963,
          -0.6523904851402916,
          -0.2071161289650694,
          -0.5900057337228287,
          -0.6446566724084454,
          -0.27744693600358245,
          -0.41804666824178616,
          -0.3163664894535802,
          -0.5274653957956856,
          -0.589905890101365,
          -0.49621117942112786,
          -0.582006988881994,
          -0.6446515362746084,
          -0.6133373613484423,
          -0.503947326190808,
          -0.4727063838871465,
          -0.5742379406551515,
          -0.5819962364115455,
          -0.433681462951789,
          -0.49604654754556765,
          -0.5507955854049618,
          -0.22268699248908788,
          -0.582042084929301,
          -0.5899085498892966,
          -0.3398141581231145,
          -0.15822355873484822,
          -0.5351324305374457,
          -0.23052171412209593,
          -0.3945368305817702,
          -0.23820055028039097,
          -0.5663438249316511,
          -0.5195593652133377,
          -0.5117528713263756,
          -0.3242511746604523,
          -0.3632438100752554,
          -0.2695103891445294,
          -0.26950382189264377,
          -0.5037253717412303,
          -0.4962662850110327,
          -0.5273896645682418,
          -0.5664356141171353,
          -0.5273673368773559,
          -0.3945075644385861,
          -0.5430432120695071,
          -0.3085933957617922
         ],
         "xaxis": "x",
         "y": [
          501,
          0,
          0,
          0,
          7,
          7,
          7,
          2459,
          2459,
          162,
          0,
          2318,
          2318,
          0,
          24,
          0,
          0,
          0,
          0,
          0,
          108,
          108,
          0,
          0,
          59,
          59,
          0,
          0,
          0,
          0,
          0,
          452,
          2429,
          2429,
          0,
          0,
          0,
          0,
          0,
          214,
          214,
          0,
          0,
          0,
          0,
          1343,
          1343,
          50,
          0,
          0,
          0
         ],
         "yaxis": "y"
        }
       ],
       "layout": {
        "legend": {
         "tracegroupgap": 0
        },
        "margin": {
         "t": 60
        },
        "template": {
         "data": {
          "bar": [
           {
            "error_x": {
             "color": "#2a3f5f"
            },
            "error_y": {
             "color": "#2a3f5f"
            },
            "marker": {
             "line": {
              "color": "#E5ECF6",
              "width": 0.5
             },
             "pattern": {
              "fillmode": "overlay",
              "size": 10,
              "solidity": 0.2
             }
            },
            "type": "bar"
           }
          ],
          "barpolar": [
           {
            "marker": {
             "line": {
              "color": "#E5ECF6",
              "width": 0.5
             },
             "pattern": {
              "fillmode": "overlay",
              "size": 10,
              "solidity": 0.2
             }
            },
            "type": "barpolar"
           }
          ],
          "carpet": [
           {
            "aaxis": {
             "endlinecolor": "#2a3f5f",
             "gridcolor": "white",
             "linecolor": "white",
             "minorgridcolor": "white",
             "startlinecolor": "#2a3f5f"
            },
            "baxis": {
             "endlinecolor": "#2a3f5f",
             "gridcolor": "white",
             "linecolor": "white",
             "minorgridcolor": "white",
             "startlinecolor": "#2a3f5f"
            },
            "type": "carpet"
           }
          ],
          "choropleth": [
           {
            "colorbar": {
             "outlinewidth": 0,
             "ticks": ""
            },
            "type": "choropleth"
           }
          ],
          "contour": [
           {
            "colorbar": {
             "outlinewidth": 0,
             "ticks": ""
            },
            "colorscale": [
             [
              0,
              "#0d0887"
             ],
             [
              0.1111111111111111,
              "#46039f"
             ],
             [
              0.2222222222222222,
              "#7201a8"
             ],
             [
              0.3333333333333333,
              "#9c179e"
             ],
             [
              0.4444444444444444,
              "#bd3786"
             ],
             [
              0.5555555555555556,
              "#d8576b"
             ],
             [
              0.6666666666666666,
              "#ed7953"
             ],
             [
              0.7777777777777778,
              "#fb9f3a"
             ],
             [
              0.8888888888888888,
              "#fdca26"
             ],
             [
              1,
              "#f0f921"
             ]
            ],
            "type": "contour"
           }
          ],
          "contourcarpet": [
           {
            "colorbar": {
             "outlinewidth": 0,
             "ticks": ""
            },
            "type": "contourcarpet"
           }
          ],
          "heatmap": [
           {
            "colorbar": {
             "outlinewidth": 0,
             "ticks": ""
            },
            "colorscale": [
             [
              0,
              "#0d0887"
             ],
             [
              0.1111111111111111,
              "#46039f"
             ],
             [
              0.2222222222222222,
              "#7201a8"
             ],
             [
              0.3333333333333333,
              "#9c179e"
             ],
             [
              0.4444444444444444,
              "#bd3786"
             ],
             [
              0.5555555555555556,
              "#d8576b"
             ],
             [
              0.6666666666666666,
              "#ed7953"
             ],
             [
              0.7777777777777778,
              "#fb9f3a"
             ],
             [
              0.8888888888888888,
              "#fdca26"
             ],
             [
              1,
              "#f0f921"
             ]
            ],
            "type": "heatmap"
           }
          ],
          "heatmapgl": [
           {
            "colorbar": {
             "outlinewidth": 0,
             "ticks": ""
            },
            "colorscale": [
             [
              0,
              "#0d0887"
             ],
             [
              0.1111111111111111,
              "#46039f"
             ],
             [
              0.2222222222222222,
              "#7201a8"
             ],
             [
              0.3333333333333333,
              "#9c179e"
             ],
             [
              0.4444444444444444,
              "#bd3786"
             ],
             [
              0.5555555555555556,
              "#d8576b"
             ],
             [
              0.6666666666666666,
              "#ed7953"
             ],
             [
              0.7777777777777778,
              "#fb9f3a"
             ],
             [
              0.8888888888888888,
              "#fdca26"
             ],
             [
              1,
              "#f0f921"
             ]
            ],
            "type": "heatmapgl"
           }
          ],
          "histogram": [
           {
            "marker": {
             "pattern": {
              "fillmode": "overlay",
              "size": 10,
              "solidity": 0.2
             }
            },
            "type": "histogram"
           }
          ],
          "histogram2d": [
           {
            "colorbar": {
             "outlinewidth": 0,
             "ticks": ""
            },
            "colorscale": [
             [
              0,
              "#0d0887"
             ],
             [
              0.1111111111111111,
              "#46039f"
             ],
             [
              0.2222222222222222,
              "#7201a8"
             ],
             [
              0.3333333333333333,
              "#9c179e"
             ],
             [
              0.4444444444444444,
              "#bd3786"
             ],
             [
              0.5555555555555556,
              "#d8576b"
             ],
             [
              0.6666666666666666,
              "#ed7953"
             ],
             [
              0.7777777777777778,
              "#fb9f3a"
             ],
             [
              0.8888888888888888,
              "#fdca26"
             ],
             [
              1,
              "#f0f921"
             ]
            ],
            "type": "histogram2d"
           }
          ],
          "histogram2dcontour": [
           {
            "colorbar": {
             "outlinewidth": 0,
             "ticks": ""
            },
            "colorscale": [
             [
              0,
              "#0d0887"
             ],
             [
              0.1111111111111111,
              "#46039f"
             ],
             [
              0.2222222222222222,
              "#7201a8"
             ],
             [
              0.3333333333333333,
              "#9c179e"
             ],
             [
              0.4444444444444444,
              "#bd3786"
             ],
             [
              0.5555555555555556,
              "#d8576b"
             ],
             [
              0.6666666666666666,
              "#ed7953"
             ],
             [
              0.7777777777777778,
              "#fb9f3a"
             ],
             [
              0.8888888888888888,
              "#fdca26"
             ],
             [
              1,
              "#f0f921"
             ]
            ],
            "type": "histogram2dcontour"
           }
          ],
          "mesh3d": [
           {
            "colorbar": {
             "outlinewidth": 0,
             "ticks": ""
            },
            "type": "mesh3d"
           }
          ],
          "parcoords": [
           {
            "line": {
             "colorbar": {
              "outlinewidth": 0,
              "ticks": ""
             }
            },
            "type": "parcoords"
           }
          ],
          "pie": [
           {
            "automargin": true,
            "type": "pie"
           }
          ],
          "scatter": [
           {
            "marker": {
             "colorbar": {
              "outlinewidth": 0,
              "ticks": ""
             }
            },
            "type": "scatter"
           }
          ],
          "scatter3d": [
           {
            "line": {
             "colorbar": {
              "outlinewidth": 0,
              "ticks": ""
             }
            },
            "marker": {
             "colorbar": {
              "outlinewidth": 0,
              "ticks": ""
             }
            },
            "type": "scatter3d"
           }
          ],
          "scattercarpet": [
           {
            "marker": {
             "colorbar": {
              "outlinewidth": 0,
              "ticks": ""
             }
            },
            "type": "scattercarpet"
           }
          ],
          "scattergeo": [
           {
            "marker": {
             "colorbar": {
              "outlinewidth": 0,
              "ticks": ""
             }
            },
            "type": "scattergeo"
           }
          ],
          "scattergl": [
           {
            "marker": {
             "colorbar": {
              "outlinewidth": 0,
              "ticks": ""
             }
            },
            "type": "scattergl"
           }
          ],
          "scattermapbox": [
           {
            "marker": {
             "colorbar": {
              "outlinewidth": 0,
              "ticks": ""
             }
            },
            "type": "scattermapbox"
           }
          ],
          "scatterpolar": [
           {
            "marker": {
             "colorbar": {
              "outlinewidth": 0,
              "ticks": ""
             }
            },
            "type": "scatterpolar"
           }
          ],
          "scatterpolargl": [
           {
            "marker": {
             "colorbar": {
              "outlinewidth": 0,
              "ticks": ""
             }
            },
            "type": "scatterpolargl"
           }
          ],
          "scatterternary": [
           {
            "marker": {
             "colorbar": {
              "outlinewidth": 0,
              "ticks": ""
             }
            },
            "type": "scatterternary"
           }
          ],
          "surface": [
           {
            "colorbar": {
             "outlinewidth": 0,
             "ticks": ""
            },
            "colorscale": [
             [
              0,
              "#0d0887"
             ],
             [
              0.1111111111111111,
              "#46039f"
             ],
             [
              0.2222222222222222,
              "#7201a8"
             ],
             [
              0.3333333333333333,
              "#9c179e"
             ],
             [
              0.4444444444444444,
              "#bd3786"
             ],
             [
              0.5555555555555556,
              "#d8576b"
             ],
             [
              0.6666666666666666,
              "#ed7953"
             ],
             [
              0.7777777777777778,
              "#fb9f3a"
             ],
             [
              0.8888888888888888,
              "#fdca26"
             ],
             [
              1,
              "#f0f921"
             ]
            ],
            "type": "surface"
           }
          ],
          "table": [
           {
            "cells": {
             "fill": {
              "color": "#EBF0F8"
             },
             "line": {
              "color": "white"
             }
            },
            "header": {
             "fill": {
              "color": "#C8D4E3"
             },
             "line": {
              "color": "white"
             }
            },
            "type": "table"
           }
          ]
         },
         "layout": {
          "annotationdefaults": {
           "arrowcolor": "#2a3f5f",
           "arrowhead": 0,
           "arrowwidth": 1
          },
          "autotypenumbers": "strict",
          "coloraxis": {
           "colorbar": {
            "outlinewidth": 0,
            "ticks": ""
           }
          },
          "colorscale": {
           "diverging": [
            [
             0,
             "#8e0152"
            ],
            [
             0.1,
             "#c51b7d"
            ],
            [
             0.2,
             "#de77ae"
            ],
            [
             0.3,
             "#f1b6da"
            ],
            [
             0.4,
             "#fde0ef"
            ],
            [
             0.5,
             "#f7f7f7"
            ],
            [
             0.6,
             "#e6f5d0"
            ],
            [
             0.7,
             "#b8e186"
            ],
            [
             0.8,
             "#7fbc41"
            ],
            [
             0.9,
             "#4d9221"
            ],
            [
             1,
             "#276419"
            ]
           ],
           "sequential": [
            [
             0,
             "#0d0887"
            ],
            [
             0.1111111111111111,
             "#46039f"
            ],
            [
             0.2222222222222222,
             "#7201a8"
            ],
            [
             0.3333333333333333,
             "#9c179e"
            ],
            [
             0.4444444444444444,
             "#bd3786"
            ],
            [
             0.5555555555555556,
             "#d8576b"
            ],
            [
             0.6666666666666666,
             "#ed7953"
            ],
            [
             0.7777777777777778,
             "#fb9f3a"
            ],
            [
             0.8888888888888888,
             "#fdca26"
            ],
            [
             1,
             "#f0f921"
            ]
           ],
           "sequentialminus": [
            [
             0,
             "#0d0887"
            ],
            [
             0.1111111111111111,
             "#46039f"
            ],
            [
             0.2222222222222222,
             "#7201a8"
            ],
            [
             0.3333333333333333,
             "#9c179e"
            ],
            [
             0.4444444444444444,
             "#bd3786"
            ],
            [
             0.5555555555555556,
             "#d8576b"
            ],
            [
             0.6666666666666666,
             "#ed7953"
            ],
            [
             0.7777777777777778,
             "#fb9f3a"
            ],
            [
             0.8888888888888888,
             "#fdca26"
            ],
            [
             1,
             "#f0f921"
            ]
           ]
          },
          "colorway": [
           "#636efa",
           "#EF553B",
           "#00cc96",
           "#ab63fa",
           "#FFA15A",
           "#19d3f3",
           "#FF6692",
           "#B6E880",
           "#FF97FF",
           "#FECB52"
          ],
          "font": {
           "color": "#2a3f5f"
          },
          "geo": {
           "bgcolor": "white",
           "lakecolor": "white",
           "landcolor": "#E5ECF6",
           "showlakes": true,
           "showland": true,
           "subunitcolor": "white"
          },
          "hoverlabel": {
           "align": "left"
          },
          "hovermode": "closest",
          "mapbox": {
           "style": "light"
          },
          "paper_bgcolor": "white",
          "plot_bgcolor": "#E5ECF6",
          "polar": {
           "angularaxis": {
            "gridcolor": "white",
            "linecolor": "white",
            "ticks": ""
           },
           "bgcolor": "#E5ECF6",
           "radialaxis": {
            "gridcolor": "white",
            "linecolor": "white",
            "ticks": ""
           }
          },
          "scene": {
           "xaxis": {
            "backgroundcolor": "#E5ECF6",
            "gridcolor": "white",
            "gridwidth": 2,
            "linecolor": "white",
            "showbackground": true,
            "ticks": "",
            "zerolinecolor": "white"
           },
           "yaxis": {
            "backgroundcolor": "#E5ECF6",
            "gridcolor": "white",
            "gridwidth": 2,
            "linecolor": "white",
            "showbackground": true,
            "ticks": "",
            "zerolinecolor": "white"
           },
           "zaxis": {
            "backgroundcolor": "#E5ECF6",
            "gridcolor": "white",
            "gridwidth": 2,
            "linecolor": "white",
            "showbackground": true,
            "ticks": "",
            "zerolinecolor": "white"
           }
          },
          "shapedefaults": {
           "line": {
            "color": "#2a3f5f"
           }
          },
          "ternary": {
           "aaxis": {
            "gridcolor": "white",
            "linecolor": "white",
            "ticks": ""
           },
           "baxis": {
            "gridcolor": "white",
            "linecolor": "white",
            "ticks": ""
           },
           "bgcolor": "#E5ECF6",
           "caxis": {
            "gridcolor": "white",
            "linecolor": "white",
            "ticks": ""
           }
          },
          "title": {
           "x": 0.05
          },
          "xaxis": {
           "automargin": true,
           "gridcolor": "white",
           "linecolor": "white",
           "ticks": "",
           "title": {
            "standoff": 15
           },
           "zerolinecolor": "white",
           "zerolinewidth": 2
          },
          "yaxis": {
           "automargin": true,
           "gridcolor": "white",
           "linecolor": "white",
           "ticks": "",
           "title": {
            "standoff": 15
           },
           "zerolinecolor": "white",
           "zerolinewidth": 2
          }
         }
        },
        "xaxis": {
         "anchor": "y",
         "domain": [
          0,
          1
         ],
         "title": {
          "text": "NDVI_median"
         }
        },
        "yaxis": {
         "anchor": "x",
         "domain": [
          0,
          1
         ],
         "title": {
          "text": "Resultado"
         }
        }
       }
      },
      "text/html": [
       "<div>                            <div id=\"f056866e-f7f9-4f3c-91c9-24ed23da61de\" class=\"plotly-graph-div\" style=\"height:525px; width:100%;\"></div>            <script type=\"text/javascript\">                require([\"plotly\"], function(Plotly) {                    window.PLOTLYENV=window.PLOTLYENV || {};                                    if (document.getElementById(\"f056866e-f7f9-4f3c-91c9-24ed23da61de\")) {                    Plotly.newPlot(                        \"f056866e-f7f9-4f3c-91c9-24ed23da61de\",                        [{\"hovertemplate\":\"NDVI_median=%{x}<br>Resultado=%{y}<extra></extra>\",\"legendgroup\":\"\",\"marker\":{\"color\":\"#636efa\",\"symbol\":\"circle\"},\"mode\":\"markers\",\"name\":\"\",\"orientation\":\"h\",\"showlegend\":false,\"x\":[-0.644520524022017,-0.23038613113609824,-0.6758949606244595,-0.5508353120781205,-0.5352412233414073,-0.5274226569935896,-0.5663773397094963,-0.6523904851402916,-0.2071161289650694,-0.5900057337228287,-0.6446566724084454,-0.27744693600358245,-0.41804666824178616,-0.3163664894535802,-0.5274653957956856,-0.589905890101365,-0.49621117942112786,-0.582006988881994,-0.6446515362746084,-0.6133373613484423,-0.503947326190808,-0.4727063838871465,-0.5742379406551515,-0.5819962364115455,-0.433681462951789,-0.49604654754556765,-0.5507955854049618,-0.22268699248908788,-0.582042084929301,-0.5899085498892966,-0.3398141581231145,-0.15822355873484822,-0.5351324305374457,-0.23052171412209593,-0.3945368305817702,-0.23820055028039097,-0.5663438249316511,-0.5195593652133377,-0.5117528713263756,-0.3242511746604523,-0.3632438100752554,-0.2695103891445294,-0.26950382189264377,-0.5037253717412303,-0.4962662850110327,-0.5273896645682418,-0.5664356141171353,-0.5273673368773559,-0.3945075644385861,-0.5430432120695071,-0.3085933957617922],\"xaxis\":\"x\",\"y\":[501.0,0.0,0.0,0.0,7.0,7.0,7.0,2459.0,2459.0,162.0,0.0,2318.0,2318.0,0.0,24.0,0.0,0.0,0.0,0.0,0.0,108.0,108.0,0.0,0.0,59.0,59.0,0.0,0.0,0.0,0.0,0.0,452.0,2429.0,2429.0,0.0,0.0,0.0,0.0,0.0,214.0,214.0,0.0,0.0,0.0,0.0,1343.0,1343.0,50.0,0.0,0.0,0.0],\"yaxis\":\"y\",\"type\":\"scatter\"}],                        {\"template\":{\"data\":{\"bar\":[{\"error_x\":{\"color\":\"#2a3f5f\"},\"error_y\":{\"color\":\"#2a3f5f\"},\"marker\":{\"line\":{\"color\":\"#E5ECF6\",\"width\":0.5},\"pattern\":{\"fillmode\":\"overlay\",\"size\":10,\"solidity\":0.2}},\"type\":\"bar\"}],\"barpolar\":[{\"marker\":{\"line\":{\"color\":\"#E5ECF6\",\"width\":0.5},\"pattern\":{\"fillmode\":\"overlay\",\"size\":10,\"solidity\":0.2}},\"type\":\"barpolar\"}],\"carpet\":[{\"aaxis\":{\"endlinecolor\":\"#2a3f5f\",\"gridcolor\":\"white\",\"linecolor\":\"white\",\"minorgridcolor\":\"white\",\"startlinecolor\":\"#2a3f5f\"},\"baxis\":{\"endlinecolor\":\"#2a3f5f\",\"gridcolor\":\"white\",\"linecolor\":\"white\",\"minorgridcolor\":\"white\",\"startlinecolor\":\"#2a3f5f\"},\"type\":\"carpet\"}],\"choropleth\":[{\"colorbar\":{\"outlinewidth\":0,\"ticks\":\"\"},\"type\":\"choropleth\"}],\"contour\":[{\"colorbar\":{\"outlinewidth\":0,\"ticks\":\"\"},\"colorscale\":[[0.0,\"#0d0887\"],[0.1111111111111111,\"#46039f\"],[0.2222222222222222,\"#7201a8\"],[0.3333333333333333,\"#9c179e\"],[0.4444444444444444,\"#bd3786\"],[0.5555555555555556,\"#d8576b\"],[0.6666666666666666,\"#ed7953\"],[0.7777777777777778,\"#fb9f3a\"],[0.8888888888888888,\"#fdca26\"],[1.0,\"#f0f921\"]],\"type\":\"contour\"}],\"contourcarpet\":[{\"colorbar\":{\"outlinewidth\":0,\"ticks\":\"\"},\"type\":\"contourcarpet\"}],\"heatmap\":[{\"colorbar\":{\"outlinewidth\":0,\"ticks\":\"\"},\"colorscale\":[[0.0,\"#0d0887\"],[0.1111111111111111,\"#46039f\"],[0.2222222222222222,\"#7201a8\"],[0.3333333333333333,\"#9c179e\"],[0.4444444444444444,\"#bd3786\"],[0.5555555555555556,\"#d8576b\"],[0.6666666666666666,\"#ed7953\"],[0.7777777777777778,\"#fb9f3a\"],[0.8888888888888888,\"#fdca26\"],[1.0,\"#f0f921\"]],\"type\":\"heatmap\"}],\"heatmapgl\":[{\"colorbar\":{\"outlinewidth\":0,\"ticks\":\"\"},\"colorscale\":[[0.0,\"#0d0887\"],[0.1111111111111111,\"#46039f\"],[0.2222222222222222,\"#7201a8\"],[0.3333333333333333,\"#9c179e\"],[0.4444444444444444,\"#bd3786\"],[0.5555555555555556,\"#d8576b\"],[0.6666666666666666,\"#ed7953\"],[0.7777777777777778,\"#fb9f3a\"],[0.8888888888888888,\"#fdca26\"],[1.0,\"#f0f921\"]],\"type\":\"heatmapgl\"}],\"histogram\":[{\"marker\":{\"pattern\":{\"fillmode\":\"overlay\",\"size\":10,\"solidity\":0.2}},\"type\":\"histogram\"}],\"histogram2d\":[{\"colorbar\":{\"outlinewidth\":0,\"ticks\":\"\"},\"colorscale\":[[0.0,\"#0d0887\"],[0.1111111111111111,\"#46039f\"],[0.2222222222222222,\"#7201a8\"],[0.3333333333333333,\"#9c179e\"],[0.4444444444444444,\"#bd3786\"],[0.5555555555555556,\"#d8576b\"],[0.6666666666666666,\"#ed7953\"],[0.7777777777777778,\"#fb9f3a\"],[0.8888888888888888,\"#fdca26\"],[1.0,\"#f0f921\"]],\"type\":\"histogram2d\"}],\"histogram2dcontour\":[{\"colorbar\":{\"outlinewidth\":0,\"ticks\":\"\"},\"colorscale\":[[0.0,\"#0d0887\"],[0.1111111111111111,\"#46039f\"],[0.2222222222222222,\"#7201a8\"],[0.3333333333333333,\"#9c179e\"],[0.4444444444444444,\"#bd3786\"],[0.5555555555555556,\"#d8576b\"],[0.6666666666666666,\"#ed7953\"],[0.7777777777777778,\"#fb9f3a\"],[0.8888888888888888,\"#fdca26\"],[1.0,\"#f0f921\"]],\"type\":\"histogram2dcontour\"}],\"mesh3d\":[{\"colorbar\":{\"outlinewidth\":0,\"ticks\":\"\"},\"type\":\"mesh3d\"}],\"parcoords\":[{\"line\":{\"colorbar\":{\"outlinewidth\":0,\"ticks\":\"\"}},\"type\":\"parcoords\"}],\"pie\":[{\"automargin\":true,\"type\":\"pie\"}],\"scatter\":[{\"marker\":{\"colorbar\":{\"outlinewidth\":0,\"ticks\":\"\"}},\"type\":\"scatter\"}],\"scatter3d\":[{\"line\":{\"colorbar\":{\"outlinewidth\":0,\"ticks\":\"\"}},\"marker\":{\"colorbar\":{\"outlinewidth\":0,\"ticks\":\"\"}},\"type\":\"scatter3d\"}],\"scattercarpet\":[{\"marker\":{\"colorbar\":{\"outlinewidth\":0,\"ticks\":\"\"}},\"type\":\"scattercarpet\"}],\"scattergeo\":[{\"marker\":{\"colorbar\":{\"outlinewidth\":0,\"ticks\":\"\"}},\"type\":\"scattergeo\"}],\"scattergl\":[{\"marker\":{\"colorbar\":{\"outlinewidth\":0,\"ticks\":\"\"}},\"type\":\"scattergl\"}],\"scattermapbox\":[{\"marker\":{\"colorbar\":{\"outlinewidth\":0,\"ticks\":\"\"}},\"type\":\"scattermapbox\"}],\"scatterpolar\":[{\"marker\":{\"colorbar\":{\"outlinewidth\":0,\"ticks\":\"\"}},\"type\":\"scatterpolar\"}],\"scatterpolargl\":[{\"marker\":{\"colorbar\":{\"outlinewidth\":0,\"ticks\":\"\"}},\"type\":\"scatterpolargl\"}],\"scatterternary\":[{\"marker\":{\"colorbar\":{\"outlinewidth\":0,\"ticks\":\"\"}},\"type\":\"scatterternary\"}],\"surface\":[{\"colorbar\":{\"outlinewidth\":0,\"ticks\":\"\"},\"colorscale\":[[0.0,\"#0d0887\"],[0.1111111111111111,\"#46039f\"],[0.2222222222222222,\"#7201a8\"],[0.3333333333333333,\"#9c179e\"],[0.4444444444444444,\"#bd3786\"],[0.5555555555555556,\"#d8576b\"],[0.6666666666666666,\"#ed7953\"],[0.7777777777777778,\"#fb9f3a\"],[0.8888888888888888,\"#fdca26\"],[1.0,\"#f0f921\"]],\"type\":\"surface\"}],\"table\":[{\"cells\":{\"fill\":{\"color\":\"#EBF0F8\"},\"line\":{\"color\":\"white\"}},\"header\":{\"fill\":{\"color\":\"#C8D4E3\"},\"line\":{\"color\":\"white\"}},\"type\":\"table\"}]},\"layout\":{\"annotationdefaults\":{\"arrowcolor\":\"#2a3f5f\",\"arrowhead\":0,\"arrowwidth\":1},\"autotypenumbers\":\"strict\",\"coloraxis\":{\"colorbar\":{\"outlinewidth\":0,\"ticks\":\"\"}},\"colorscale\":{\"diverging\":[[0,\"#8e0152\"],[0.1,\"#c51b7d\"],[0.2,\"#de77ae\"],[0.3,\"#f1b6da\"],[0.4,\"#fde0ef\"],[0.5,\"#f7f7f7\"],[0.6,\"#e6f5d0\"],[0.7,\"#b8e186\"],[0.8,\"#7fbc41\"],[0.9,\"#4d9221\"],[1,\"#276419\"]],\"sequential\":[[0.0,\"#0d0887\"],[0.1111111111111111,\"#46039f\"],[0.2222222222222222,\"#7201a8\"],[0.3333333333333333,\"#9c179e\"],[0.4444444444444444,\"#bd3786\"],[0.5555555555555556,\"#d8576b\"],[0.6666666666666666,\"#ed7953\"],[0.7777777777777778,\"#fb9f3a\"],[0.8888888888888888,\"#fdca26\"],[1.0,\"#f0f921\"]],\"sequentialminus\":[[0.0,\"#0d0887\"],[0.1111111111111111,\"#46039f\"],[0.2222222222222222,\"#7201a8\"],[0.3333333333333333,\"#9c179e\"],[0.4444444444444444,\"#bd3786\"],[0.5555555555555556,\"#d8576b\"],[0.6666666666666666,\"#ed7953\"],[0.7777777777777778,\"#fb9f3a\"],[0.8888888888888888,\"#fdca26\"],[1.0,\"#f0f921\"]]},\"colorway\":[\"#636efa\",\"#EF553B\",\"#00cc96\",\"#ab63fa\",\"#FFA15A\",\"#19d3f3\",\"#FF6692\",\"#B6E880\",\"#FF97FF\",\"#FECB52\"],\"font\":{\"color\":\"#2a3f5f\"},\"geo\":{\"bgcolor\":\"white\",\"lakecolor\":\"white\",\"landcolor\":\"#E5ECF6\",\"showlakes\":true,\"showland\":true,\"subunitcolor\":\"white\"},\"hoverlabel\":{\"align\":\"left\"},\"hovermode\":\"closest\",\"mapbox\":{\"style\":\"light\"},\"paper_bgcolor\":\"white\",\"plot_bgcolor\":\"#E5ECF6\",\"polar\":{\"angularaxis\":{\"gridcolor\":\"white\",\"linecolor\":\"white\",\"ticks\":\"\"},\"bgcolor\":\"#E5ECF6\",\"radialaxis\":{\"gridcolor\":\"white\",\"linecolor\":\"white\",\"ticks\":\"\"}},\"scene\":{\"xaxis\":{\"backgroundcolor\":\"#E5ECF6\",\"gridcolor\":\"white\",\"gridwidth\":2,\"linecolor\":\"white\",\"showbackground\":true,\"ticks\":\"\",\"zerolinecolor\":\"white\"},\"yaxis\":{\"backgroundcolor\":\"#E5ECF6\",\"gridcolor\":\"white\",\"gridwidth\":2,\"linecolor\":\"white\",\"showbackground\":true,\"ticks\":\"\",\"zerolinecolor\":\"white\"},\"zaxis\":{\"backgroundcolor\":\"#E5ECF6\",\"gridcolor\":\"white\",\"gridwidth\":2,\"linecolor\":\"white\",\"showbackground\":true,\"ticks\":\"\",\"zerolinecolor\":\"white\"}},\"shapedefaults\":{\"line\":{\"color\":\"#2a3f5f\"}},\"ternary\":{\"aaxis\":{\"gridcolor\":\"white\",\"linecolor\":\"white\",\"ticks\":\"\"},\"baxis\":{\"gridcolor\":\"white\",\"linecolor\":\"white\",\"ticks\":\"\"},\"bgcolor\":\"#E5ECF6\",\"caxis\":{\"gridcolor\":\"white\",\"linecolor\":\"white\",\"ticks\":\"\"}},\"title\":{\"x\":0.05},\"xaxis\":{\"automargin\":true,\"gridcolor\":\"white\",\"linecolor\":\"white\",\"ticks\":\"\",\"title\":{\"standoff\":15},\"zerolinecolor\":\"white\",\"zerolinewidth\":2},\"yaxis\":{\"automargin\":true,\"gridcolor\":\"white\",\"linecolor\":\"white\",\"ticks\":\"\",\"title\":{\"standoff\":15},\"zerolinecolor\":\"white\",\"zerolinewidth\":2}}},\"xaxis\":{\"anchor\":\"y\",\"domain\":[0.0,1.0],\"title\":{\"text\":\"NDVI_median\"}},\"yaxis\":{\"anchor\":\"x\",\"domain\":[0.0,1.0],\"title\":{\"text\":\"Resultado\"}},\"legend\":{\"tracegroupgap\":0},\"margin\":{\"t\":60}},                        {\"responsive\": true}                    ).then(function(){\n",
       "                            \n",
       "var gd = document.getElementById('f056866e-f7f9-4f3c-91c9-24ed23da61de');\n",
       "var x = new MutationObserver(function (mutations, observer) {{\n",
       "        var display = window.getComputedStyle(gd).display;\n",
       "        if (!display || display === 'none') {{\n",
       "            console.log([gd, 'removed!']);\n",
       "            Plotly.purge(gd);\n",
       "            observer.disconnect();\n",
       "        }}\n",
       "}});\n",
       "\n",
       "// Listen for the removal of the full notebook cells\n",
       "var notebookContainer = gd.closest('#notebook-container');\n",
       "if (notebookContainer) {{\n",
       "    x.observe(notebookContainer, {childList: true});\n",
       "}}\n",
       "\n",
       "// Listen for the clearing of the current output cell\n",
       "var outputEl = gd.closest('.output');\n",
       "if (outputEl) {{\n",
       "    x.observe(outputEl, {childList: true});\n",
       "}}\n",
       "\n",
       "                        })                };                });            </script>        </div>"
      ]
     },
     "metadata": {},
     "output_type": "display_data"
    }
   ],
   "source": [
    "px.scatter(vigi_gee, x=\"NDVI_median\", y=\"Resultado\")"
   ]
  },
  {
   "cell_type": "markdown",
   "metadata": {},
   "source": [
    "## 3. Extraindo série temporal somente para ponto de amostragem"
   ]
  },
  {
   "cell_type": "markdown",
   "metadata": {},
   "source": [
    "### 3.1. Extraindo dados GEE"
   ]
  },
  {
   "cell_type": "code",
   "execution_count": 173,
   "metadata": {},
   "outputs": [],
   "source": [
    "p_lon = -51.215679\n",
    "p_lat = -30.012175\n",
    "amostragem_ponto = ee.Geometry.Point(p_lon, p_lat)\n",
    "amostragem_buffer = amostragem_ponto.buffer(75)\n",
    "\n",
    "region_amostragem = ee.Geometry.Polygon(\n",
    "[[[-51.21646818059103,-30.013957938688517],\n",
    " [-51.21572789090292,-30.013855747123724],\n",
    " [-51.21486958401815,-30.013298336735033],\n",
    " [-51.214097107821864,-30.011923377716094],\n",
    " [-51.21371086972372,-30.011217310272695],\n",
    " [-51.214086378985805,-30.01047407595533],\n",
    " [-51.215556229525966,-30.009888775010992],\n",
    " [-51.21617850201742,-30.01054839963767],\n",
    " [-51.21665057080404,-30.010920017214005],\n",
    " [-51.21725138562338,-30.012257828961395],\n",
    " [-51.2176161660494,-30.01333549752507],\n",
    " [-51.21691879170553,-30.013744265296616],\n",
    " [-51.21646818059103,-30.013957938688517]]])"
   ]
  },
  {
   "cell_type": "code",
   "execution_count": 174,
   "metadata": {},
   "outputs": [],
   "source": [
    "def clp_region_amostragem(img):\n",
    "    return img.clip(region_amostragem)"
   ]
  },
  {
   "cell_type": "code",
   "execution_count": 175,
   "metadata": {},
   "outputs": [],
   "source": [
    "s2a_amostragem = ee.ImageCollection(\"COPERNICUS/S2_SR\")\\\n",
    "    .filterBounds(amostragem_buffer)\\\n",
    "    .filter(ee.Filter.lte(\"CLOUDY_PIXEL_PERCENTAGE\", 30))\\\n",
    "    .map(mask_s2a_clouds)\\\n",
    "    .map(clp_region_amostragem)\\\n",
    "    .map(add_s2a_ndci_ndvi).map(add_id_date)"
   ]
  },
  {
   "cell_type": "code",
   "execution_count": 176,
   "metadata": {},
   "outputs": [],
   "source": [
    "df_ndvi = create_df(s2a_amostragem, \"NDVI\")"
   ]
  },
  {
   "cell_type": "code",
   "execution_count": 177,
   "metadata": {},
   "outputs": [
    {
     "data": {
      "application/vnd.plotly.v1+json": {
       "config": {
        "plotlyServerURL": "https://plot.ly"
       },
       "data": [
        {
         "hovertemplate": "date=%{x}<br>NDVI_median=%{y}<extra></extra>",
         "legendgroup": "",
         "marker": {
          "color": "#636efa",
          "symbol": "circle"
         },
         "mode": "markers",
         "name": "",
         "orientation": "v",
         "showlegend": false,
         "type": "scatter",
         "x": [
          "2018-12-24T13:40:42",
          "2018-12-29T13:40:40",
          "2019-01-13T13:40:45",
          "2019-01-25T13:30:47",
          "2019-01-28T13:40:43",
          "2019-02-07T13:40:43",
          "2019-02-09T13:30:51",
          "2019-02-14T13:30:47",
          "2019-02-19T13:30:50",
          "2019-02-22T13:40:45",
          "2019-03-01T13:30:49",
          "2019-03-14T13:40:44",
          "2019-03-16T13:30:47",
          "2019-03-19T13:40:44",
          "2019-03-21T13:30:50",
          "2019-03-24T13:40:47",
          "2019-03-26T13:30:50",
          "2019-04-03T13:40:49",
          "2019-04-10T13:30:55",
          "2019-04-30T13:30:58",
          "2019-05-18T13:40:50",
          "2019-05-25T13:30:54",
          "2019-07-07T13:40:51",
          "2019-07-12T13:40:55",
          "2019-08-03T13:30:55",
          "2019-08-06T13:40:50",
          "2019-08-11T13:40:53",
          "2019-08-28T13:30:55",
          "2019-09-02T13:30:51",
          "2019-09-15T13:40:45",
          "2019-09-20T13:40:45",
          "2019-09-22T13:30:51",
          "2019-09-25T13:40:47",
          "2019-09-27T13:30:51",
          "2019-09-30T13:40:47",
          "2019-10-07T13:30:52",
          "2019-10-12T13:30:53",
          "2019-10-25T13:40:49",
          "2019-11-06T13:30:51",
          "2019-11-16T13:30:49",
          "2019-11-19T13:40:44",
          "2019-11-21T13:30:52",
          "2019-11-29T13:40:42",
          "2019-12-01T13:30:49",
          "2019-12-04T13:40:44",
          "2019-12-06T13:30:45",
          "2019-12-09T13:40:40",
          "2019-12-11T13:30:47",
          "2019-12-19T13:40:41",
          "2019-12-24T13:40:40",
          "2019-12-26T13:30:46",
          "2020-01-05T13:30:46",
          "2020-01-08T13:40:41",
          "2020-01-10T13:30:45",
          "2020-01-18T13:40:40",
          "2020-01-20T13:30:44",
          "2020-01-25T13:30:44",
          "2020-02-02T13:40:38",
          "2020-02-07T13:40:40",
          "2020-02-12T13:40:39",
          "2020-02-22T13:40:41",
          "2020-02-24T13:30:47",
          "2020-02-27T13:40:43",
          "2020-02-29T13:30:46",
          "2020-03-03T13:40:42",
          "2020-03-05T13:30:48",
          "2020-03-08T13:40:44",
          "2020-03-10T13:30:47",
          "2020-03-13T13:40:42",
          "2020-03-23T13:40:42",
          "2020-03-25T13:30:48",
          "2020-03-28T13:40:44",
          "2020-03-30T13:30:47",
          "2020-04-04T13:30:42",
          "2020-04-04T13:30:49",
          "2020-04-07T13:40:43",
          "2020-04-12T13:40:45",
          "2020-04-19T13:30:51",
          "2020-05-02T13:40:49",
          "2020-05-04T13:30:48",
          "2020-05-07T13:40:44",
          "2020-05-09T13:30:55",
          "2020-05-14T13:30:50",
          "2020-05-17T13:40:46",
          "2020-05-19T13:30:56",
          "2020-05-27T13:40:47",
          "2020-05-29T13:30:57",
          "2020-06-01T13:40:52",
          "2020-06-08T13:30:57",
          "2020-06-16T13:40:49",
          "2020-06-21T13:40:52",
          "2020-06-28T13:30:56",
          "2020-07-03T13:30:53",
          "2020-07-13T13:30:52",
          "2020-07-18T13:30:56",
          "2020-07-26T13:40:49",
          "2020-07-31T13:40:52",
          "2020-08-05T13:40:49",
          "2020-08-10T13:40:52",
          "2020-08-17T13:30:56",
          "2020-08-22T13:30:54",
          "2020-09-21T13:30:53",
          "2020-09-24T13:40:49",
          "2020-09-29T13:40:52",
          "2020-10-06T13:30:56",
          "2020-10-11T13:30:54",
          "2020-10-14T13:40:50",
          "2020-10-19T13:40:52",
          "2020-11-20T13:30:51",
          "2020-11-23T13:40:46",
          "2020-12-10T13:30:48",
          "2020-12-15T13:30:48",
          "2020-12-18T13:40:44",
          "2020-12-23T13:40:43",
          "2020-12-30T13:30:49",
          "2021-01-02T13:40:45",
          "2021-01-04T13:30:51",
          "2021-01-09T13:30:50",
          "2021-01-19T13:30:50",
          "2021-01-24T13:30:51",
          "2021-02-06T13:40:45",
          "2021-02-08T13:30:50",
          "2021-02-13T13:30:49",
          "2021-02-21T13:40:44",
          "2021-02-26T13:40:46",
          "2021-03-10T13:30:50",
          "2021-03-13T13:40:45",
          "2021-03-20T13:30:50",
          "2021-03-25T13:30:49",
          "2021-04-04T13:30:47",
          "2021-04-07T13:40:42",
          "2021-04-09T13:30:48",
          "2021-04-14T13:30:45",
          "2021-04-19T13:30:46",
          "2021-04-22T13:40:40",
          "2021-04-27T13:40:43",
          "2021-04-29T13:30:46",
          "2021-05-02T13:40:43",
          "2021-05-07T13:40:45",
          "2021-05-09T13:30:49",
          "2021-05-12T13:40:45",
          "2021-05-24T13:30:51",
          "2021-05-27T13:40:47",
          "2021-05-29T13:30:51",
          "2021-06-01T13:40:47",
          "2021-06-03T13:30:51",
          "2021-06-13T13:30:51",
          "2021-06-16T13:40:46",
          "2021-07-03T13:30:53",
          "2021-07-08T13:30:52",
          "2021-07-11T13:40:48",
          "2021-07-16T13:40:49",
          "2021-07-18T13:30:53",
          "2021-07-21T13:40:48",
          "2021-07-23T13:30:54",
          "2021-07-31T13:40:48",
          "2021-08-07T13:30:52",
          "2021-08-27T13:30:49",
          "2021-08-30T13:40:43",
          "2021-09-26T13:30:49",
          "2021-10-14T13:40:45",
          "2021-10-19T13:40:48",
          "2021-10-21T13:30:56",
          "2021-10-24T13:40:51",
          "2021-10-26T13:30:52",
          "2021-10-29T13:40:47",
          "2021-10-31T13:30:55",
          "2021-11-08T13:40:46",
          "2021-11-13T13:40:48",
          "2021-11-20T13:30:51",
          "2021-12-10T13:30:49",
          "2021-12-20T13:30:52",
          "2021-12-23T13:40:47",
          "2021-12-25T13:30:46",
          "2021-12-28T13:40:42",
          "2021-12-30T13:30:52",
          "2022-01-12T13:40:47",
          "2022-01-14T13:30:46",
          "2022-01-19T13:30:51",
          "2022-01-24T13:30:45",
          "2022-01-29T13:30:51",
          "2022-02-03T13:30:45",
          "2022-02-11T13:40:45",
          "2022-02-16T13:40:40",
          "2022-02-18T13:30:52",
          "2022-02-26T13:40:42",
          "2022-03-03T13:40:50",
          "2022-03-05T13:30:48",
          "2022-03-28T13:40:43",
          "2022-04-02T13:40:48",
          "2022-04-14T13:30:47",
          "2022-04-19T13:30:55",
          "2022-04-22T13:40:51",
          "2022-04-24T13:30:45",
          "2022-04-29T13:30:56",
          "2022-05-07T13:40:43",
          "2022-05-09T13:30:55",
          "2022-05-12T13:40:49"
         ],
         "xaxis": "x",
         "y": [
          -0.2796141730777435,
          -0.2286630444887426,
          0.020257206968797892,
          -0.5214003700650363,
          -0.45063063928437047,
          -0.6105322535092942,
          -0.4085449663145649,
          -0.6919100224976988,
          -0.7628345055753226,
          -0.41465578200977815,
          -0.7744964378153082,
          -0.6420627272996888,
          -0.5463559333654006,
          -0.02371266651734744,
          -0.6076913362866442,
          -0.6207551566349763,
          -0.5922036940659234,
          -0.5073894962900188,
          -0.6576363589481986,
          -0.05690085660914205,
          -0.5805917077274422,
          -0.5333101273190246,
          -0.6773786740201134,
          -0.5755781021218055,
          -0.47778172568043226,
          -0.512804577893924,
          -0.5471293577644019,
          -0.5421580861229981,
          -0.5535731411915736,
          -0.4599847483760886,
          -0.020566460347293723,
          -0.5147186272683472,
          -0.526094507982788,
          -0.3801802760088108,
          -0.48985059415387283,
          -0.4780420697668755,
          -0.5285313376987839,
          0.033794253332202547,
          -0.3430285333193357,
          0.0556268370221211,
          -0.15317637914124227,
          -0.4972019201665516,
          -0.5321964802951459,
          -0.39984639750337675,
          -0.1629745627608244,
          -0.6373176259331951,
          -0.12973355579640525,
          -0.4640332905895609,
          -0.149737395411771,
          -0.08876385607031437,
          -0.3700783900592066,
          -0.6776962408722115,
          -0.003560894686629116,
          -0.7081325846414762,
          -0.14294889274626993,
          0.08265243812884271,
          -0.4287691854053781,
          -0.2625379166329843,
          -0.24351945801209712,
          -0.4303469111253121,
          0.08248581676419565,
          -0.6651679669719806,
          -0.4658869395711501,
          -0.6,
          -0.43619709650498045,
          -0.5737459655198482,
          -0.465664854699825,
          -0.399136481665819,
          -0.45861261927156344,
          -0.551548568677773,
          -0.6513726719573295,
          0.02229349973678681,
          -0.6816828727552167,
          -0.4347212299381878,
          -0.4346265224181813,
          -0.6035834566811127,
          -0.6608745526966654,
          -0.6969687274387736,
          -0.5633747214725052,
          -0.6204834030735583,
          -0.6479781349266932,
          -0.6685082872928176,
          -0.5757358045633444,
          -0.7059961469693966,
          -0.6886415282607184,
          -0.7137440519831515,
          -0.6712772933621469,
          -0.5683111219242306,
          -0.017708419966896174,
          -0.5887516719196052,
          -0.6099211231900723,
          -0.5297803736658883,
          -0.41676630001897497,
          -0.4640105959676212,
          -0.5205062472657374,
          -0.6503787631520542,
          -0.5906046949377507,
          -0.517346081055462,
          -0.48237351580146454,
          -0.5521068368230381,
          -0.5974094350530692,
          -0.5423869689629871,
          -0.5870907451483919,
          -0.38756863225966665,
          -0.33107982713007916,
          -0.46934833323951,
          -0.3180637549383643,
          -0.41631960887539365,
          0.01683646097728907,
          -0.16120545522231547,
          -0.4419304667830346,
          -0.6552480778762227,
          -0.12163683993811955,
          -0.07724901107480321,
          -0.47108703780672667,
          -0.0955835011499922,
          -0.5654074923040618,
          -0.45569318272303055,
          -0.5083366954190053,
          -0.6528597466968452,
          -0.3405028793191325,
          -0.6097511133717104,
          -0.5982197603996101,
          -0.41843815028587705,
          -0.46746683554355617,
          -0.5120709407226465,
          -0.43561442534812045,
          -0.6346726312671873,
          -0.7144717261904763,
          -0.5796495196495196,
          -0.6334770114942527,
          -0.5761187250160331,
          -0.5837388535936124,
          -0.5367281803431814,
          -0.5493766910525683,
          -0.6107601671511446,
          -0.587403138514623,
          -0.5366616884871411,
          -0.1923308441276769,
          -0.6705157616331878,
          -0.6221169293853477,
          -0.6741770779328596,
          -0.6636371494972763,
          -0.5147664053474214,
          -0.5005746534336123,
          -0.38371475931596494,
          -0.6271586395605855,
          -0.4809989142236698,
          -0.4548326943926483,
          -0.497584858168508,
          -0.14941356450790416,
          -0.4158504007123775,
          -0.4915842223414188,
          -0.5631292905995368,
          -0.5620468888526624,
          -0.6549806919054044,
          -0.6143140342609082,
          -0.01641827598685403,
          -0.479515896435182,
          -0.4405813040090106,
          -0.3780231841899845,
          0.018621514565936293,
          -0.5414012738853503,
          -0.288760322910647,
          -0.5549701166058488,
          -0.24163926114640913,
          -0.5347164057995661,
          -0.17455917024395443,
          -0.22565829677457394,
          -0.5639116035096893,
          -0.44882354095728455,
          -0.635850603118778,
          0.05408840541142317,
          -0.5949664109286553,
          -0.17694740529295405,
          -0.5795691558538277,
          -0.09067919690234585,
          -0.4742012733161604,
          -0.9931464035985045,
          -0.4206580474035901,
          -0.14182051365274773,
          0.04889449569108661,
          -0.09043443419916797,
          -0.10033760704573115,
          -0.11120370715619024,
          -0.07650651303985492,
          -0.12817284471822485,
          -0.1194210595109609,
          -0.22743223162261553,
          -0.15105850115621128,
          -0.16466326285498784,
          -0.13666077677742985,
          -0.129555173761695,
          -0.12998719425371397,
          -0.14367407163479043,
          -0.11085591509975087,
          -0.1730684265567658,
          -0.15512022824228117
         ],
         "yaxis": "y"
        }
       ],
       "layout": {
        "legend": {
         "tracegroupgap": 0
        },
        "margin": {
         "t": 60
        },
        "template": {
         "data": {
          "bar": [
           {
            "error_x": {
             "color": "#2a3f5f"
            },
            "error_y": {
             "color": "#2a3f5f"
            },
            "marker": {
             "line": {
              "color": "#E5ECF6",
              "width": 0.5
             },
             "pattern": {
              "fillmode": "overlay",
              "size": 10,
              "solidity": 0.2
             }
            },
            "type": "bar"
           }
          ],
          "barpolar": [
           {
            "marker": {
             "line": {
              "color": "#E5ECF6",
              "width": 0.5
             },
             "pattern": {
              "fillmode": "overlay",
              "size": 10,
              "solidity": 0.2
             }
            },
            "type": "barpolar"
           }
          ],
          "carpet": [
           {
            "aaxis": {
             "endlinecolor": "#2a3f5f",
             "gridcolor": "white",
             "linecolor": "white",
             "minorgridcolor": "white",
             "startlinecolor": "#2a3f5f"
            },
            "baxis": {
             "endlinecolor": "#2a3f5f",
             "gridcolor": "white",
             "linecolor": "white",
             "minorgridcolor": "white",
             "startlinecolor": "#2a3f5f"
            },
            "type": "carpet"
           }
          ],
          "choropleth": [
           {
            "colorbar": {
             "outlinewidth": 0,
             "ticks": ""
            },
            "type": "choropleth"
           }
          ],
          "contour": [
           {
            "colorbar": {
             "outlinewidth": 0,
             "ticks": ""
            },
            "colorscale": [
             [
              0,
              "#0d0887"
             ],
             [
              0.1111111111111111,
              "#46039f"
             ],
             [
              0.2222222222222222,
              "#7201a8"
             ],
             [
              0.3333333333333333,
              "#9c179e"
             ],
             [
              0.4444444444444444,
              "#bd3786"
             ],
             [
              0.5555555555555556,
              "#d8576b"
             ],
             [
              0.6666666666666666,
              "#ed7953"
             ],
             [
              0.7777777777777778,
              "#fb9f3a"
             ],
             [
              0.8888888888888888,
              "#fdca26"
             ],
             [
              1,
              "#f0f921"
             ]
            ],
            "type": "contour"
           }
          ],
          "contourcarpet": [
           {
            "colorbar": {
             "outlinewidth": 0,
             "ticks": ""
            },
            "type": "contourcarpet"
           }
          ],
          "heatmap": [
           {
            "colorbar": {
             "outlinewidth": 0,
             "ticks": ""
            },
            "colorscale": [
             [
              0,
              "#0d0887"
             ],
             [
              0.1111111111111111,
              "#46039f"
             ],
             [
              0.2222222222222222,
              "#7201a8"
             ],
             [
              0.3333333333333333,
              "#9c179e"
             ],
             [
              0.4444444444444444,
              "#bd3786"
             ],
             [
              0.5555555555555556,
              "#d8576b"
             ],
             [
              0.6666666666666666,
              "#ed7953"
             ],
             [
              0.7777777777777778,
              "#fb9f3a"
             ],
             [
              0.8888888888888888,
              "#fdca26"
             ],
             [
              1,
              "#f0f921"
             ]
            ],
            "type": "heatmap"
           }
          ],
          "heatmapgl": [
           {
            "colorbar": {
             "outlinewidth": 0,
             "ticks": ""
            },
            "colorscale": [
             [
              0,
              "#0d0887"
             ],
             [
              0.1111111111111111,
              "#46039f"
             ],
             [
              0.2222222222222222,
              "#7201a8"
             ],
             [
              0.3333333333333333,
              "#9c179e"
             ],
             [
              0.4444444444444444,
              "#bd3786"
             ],
             [
              0.5555555555555556,
              "#d8576b"
             ],
             [
              0.6666666666666666,
              "#ed7953"
             ],
             [
              0.7777777777777778,
              "#fb9f3a"
             ],
             [
              0.8888888888888888,
              "#fdca26"
             ],
             [
              1,
              "#f0f921"
             ]
            ],
            "type": "heatmapgl"
           }
          ],
          "histogram": [
           {
            "marker": {
             "pattern": {
              "fillmode": "overlay",
              "size": 10,
              "solidity": 0.2
             }
            },
            "type": "histogram"
           }
          ],
          "histogram2d": [
           {
            "colorbar": {
             "outlinewidth": 0,
             "ticks": ""
            },
            "colorscale": [
             [
              0,
              "#0d0887"
             ],
             [
              0.1111111111111111,
              "#46039f"
             ],
             [
              0.2222222222222222,
              "#7201a8"
             ],
             [
              0.3333333333333333,
              "#9c179e"
             ],
             [
              0.4444444444444444,
              "#bd3786"
             ],
             [
              0.5555555555555556,
              "#d8576b"
             ],
             [
              0.6666666666666666,
              "#ed7953"
             ],
             [
              0.7777777777777778,
              "#fb9f3a"
             ],
             [
              0.8888888888888888,
              "#fdca26"
             ],
             [
              1,
              "#f0f921"
             ]
            ],
            "type": "histogram2d"
           }
          ],
          "histogram2dcontour": [
           {
            "colorbar": {
             "outlinewidth": 0,
             "ticks": ""
            },
            "colorscale": [
             [
              0,
              "#0d0887"
             ],
             [
              0.1111111111111111,
              "#46039f"
             ],
             [
              0.2222222222222222,
              "#7201a8"
             ],
             [
              0.3333333333333333,
              "#9c179e"
             ],
             [
              0.4444444444444444,
              "#bd3786"
             ],
             [
              0.5555555555555556,
              "#d8576b"
             ],
             [
              0.6666666666666666,
              "#ed7953"
             ],
             [
              0.7777777777777778,
              "#fb9f3a"
             ],
             [
              0.8888888888888888,
              "#fdca26"
             ],
             [
              1,
              "#f0f921"
             ]
            ],
            "type": "histogram2dcontour"
           }
          ],
          "mesh3d": [
           {
            "colorbar": {
             "outlinewidth": 0,
             "ticks": ""
            },
            "type": "mesh3d"
           }
          ],
          "parcoords": [
           {
            "line": {
             "colorbar": {
              "outlinewidth": 0,
              "ticks": ""
             }
            },
            "type": "parcoords"
           }
          ],
          "pie": [
           {
            "automargin": true,
            "type": "pie"
           }
          ],
          "scatter": [
           {
            "marker": {
             "colorbar": {
              "outlinewidth": 0,
              "ticks": ""
             }
            },
            "type": "scatter"
           }
          ],
          "scatter3d": [
           {
            "line": {
             "colorbar": {
              "outlinewidth": 0,
              "ticks": ""
             }
            },
            "marker": {
             "colorbar": {
              "outlinewidth": 0,
              "ticks": ""
             }
            },
            "type": "scatter3d"
           }
          ],
          "scattercarpet": [
           {
            "marker": {
             "colorbar": {
              "outlinewidth": 0,
              "ticks": ""
             }
            },
            "type": "scattercarpet"
           }
          ],
          "scattergeo": [
           {
            "marker": {
             "colorbar": {
              "outlinewidth": 0,
              "ticks": ""
             }
            },
            "type": "scattergeo"
           }
          ],
          "scattergl": [
           {
            "marker": {
             "colorbar": {
              "outlinewidth": 0,
              "ticks": ""
             }
            },
            "type": "scattergl"
           }
          ],
          "scattermapbox": [
           {
            "marker": {
             "colorbar": {
              "outlinewidth": 0,
              "ticks": ""
             }
            },
            "type": "scattermapbox"
           }
          ],
          "scatterpolar": [
           {
            "marker": {
             "colorbar": {
              "outlinewidth": 0,
              "ticks": ""
             }
            },
            "type": "scatterpolar"
           }
          ],
          "scatterpolargl": [
           {
            "marker": {
             "colorbar": {
              "outlinewidth": 0,
              "ticks": ""
             }
            },
            "type": "scatterpolargl"
           }
          ],
          "scatterternary": [
           {
            "marker": {
             "colorbar": {
              "outlinewidth": 0,
              "ticks": ""
             }
            },
            "type": "scatterternary"
           }
          ],
          "surface": [
           {
            "colorbar": {
             "outlinewidth": 0,
             "ticks": ""
            },
            "colorscale": [
             [
              0,
              "#0d0887"
             ],
             [
              0.1111111111111111,
              "#46039f"
             ],
             [
              0.2222222222222222,
              "#7201a8"
             ],
             [
              0.3333333333333333,
              "#9c179e"
             ],
             [
              0.4444444444444444,
              "#bd3786"
             ],
             [
              0.5555555555555556,
              "#d8576b"
             ],
             [
              0.6666666666666666,
              "#ed7953"
             ],
             [
              0.7777777777777778,
              "#fb9f3a"
             ],
             [
              0.8888888888888888,
              "#fdca26"
             ],
             [
              1,
              "#f0f921"
             ]
            ],
            "type": "surface"
           }
          ],
          "table": [
           {
            "cells": {
             "fill": {
              "color": "#EBF0F8"
             },
             "line": {
              "color": "white"
             }
            },
            "header": {
             "fill": {
              "color": "#C8D4E3"
             },
             "line": {
              "color": "white"
             }
            },
            "type": "table"
           }
          ]
         },
         "layout": {
          "annotationdefaults": {
           "arrowcolor": "#2a3f5f",
           "arrowhead": 0,
           "arrowwidth": 1
          },
          "autotypenumbers": "strict",
          "coloraxis": {
           "colorbar": {
            "outlinewidth": 0,
            "ticks": ""
           }
          },
          "colorscale": {
           "diverging": [
            [
             0,
             "#8e0152"
            ],
            [
             0.1,
             "#c51b7d"
            ],
            [
             0.2,
             "#de77ae"
            ],
            [
             0.3,
             "#f1b6da"
            ],
            [
             0.4,
             "#fde0ef"
            ],
            [
             0.5,
             "#f7f7f7"
            ],
            [
             0.6,
             "#e6f5d0"
            ],
            [
             0.7,
             "#b8e186"
            ],
            [
             0.8,
             "#7fbc41"
            ],
            [
             0.9,
             "#4d9221"
            ],
            [
             1,
             "#276419"
            ]
           ],
           "sequential": [
            [
             0,
             "#0d0887"
            ],
            [
             0.1111111111111111,
             "#46039f"
            ],
            [
             0.2222222222222222,
             "#7201a8"
            ],
            [
             0.3333333333333333,
             "#9c179e"
            ],
            [
             0.4444444444444444,
             "#bd3786"
            ],
            [
             0.5555555555555556,
             "#d8576b"
            ],
            [
             0.6666666666666666,
             "#ed7953"
            ],
            [
             0.7777777777777778,
             "#fb9f3a"
            ],
            [
             0.8888888888888888,
             "#fdca26"
            ],
            [
             1,
             "#f0f921"
            ]
           ],
           "sequentialminus": [
            [
             0,
             "#0d0887"
            ],
            [
             0.1111111111111111,
             "#46039f"
            ],
            [
             0.2222222222222222,
             "#7201a8"
            ],
            [
             0.3333333333333333,
             "#9c179e"
            ],
            [
             0.4444444444444444,
             "#bd3786"
            ],
            [
             0.5555555555555556,
             "#d8576b"
            ],
            [
             0.6666666666666666,
             "#ed7953"
            ],
            [
             0.7777777777777778,
             "#fb9f3a"
            ],
            [
             0.8888888888888888,
             "#fdca26"
            ],
            [
             1,
             "#f0f921"
            ]
           ]
          },
          "colorway": [
           "#636efa",
           "#EF553B",
           "#00cc96",
           "#ab63fa",
           "#FFA15A",
           "#19d3f3",
           "#FF6692",
           "#B6E880",
           "#FF97FF",
           "#FECB52"
          ],
          "font": {
           "color": "#2a3f5f"
          },
          "geo": {
           "bgcolor": "white",
           "lakecolor": "white",
           "landcolor": "#E5ECF6",
           "showlakes": true,
           "showland": true,
           "subunitcolor": "white"
          },
          "hoverlabel": {
           "align": "left"
          },
          "hovermode": "closest",
          "mapbox": {
           "style": "light"
          },
          "paper_bgcolor": "white",
          "plot_bgcolor": "#E5ECF6",
          "polar": {
           "angularaxis": {
            "gridcolor": "white",
            "linecolor": "white",
            "ticks": ""
           },
           "bgcolor": "#E5ECF6",
           "radialaxis": {
            "gridcolor": "white",
            "linecolor": "white",
            "ticks": ""
           }
          },
          "scene": {
           "xaxis": {
            "backgroundcolor": "#E5ECF6",
            "gridcolor": "white",
            "gridwidth": 2,
            "linecolor": "white",
            "showbackground": true,
            "ticks": "",
            "zerolinecolor": "white"
           },
           "yaxis": {
            "backgroundcolor": "#E5ECF6",
            "gridcolor": "white",
            "gridwidth": 2,
            "linecolor": "white",
            "showbackground": true,
            "ticks": "",
            "zerolinecolor": "white"
           },
           "zaxis": {
            "backgroundcolor": "#E5ECF6",
            "gridcolor": "white",
            "gridwidth": 2,
            "linecolor": "white",
            "showbackground": true,
            "ticks": "",
            "zerolinecolor": "white"
           }
          },
          "shapedefaults": {
           "line": {
            "color": "#2a3f5f"
           }
          },
          "ternary": {
           "aaxis": {
            "gridcolor": "white",
            "linecolor": "white",
            "ticks": ""
           },
           "baxis": {
            "gridcolor": "white",
            "linecolor": "white",
            "ticks": ""
           },
           "bgcolor": "#E5ECF6",
           "caxis": {
            "gridcolor": "white",
            "linecolor": "white",
            "ticks": ""
           }
          },
          "title": {
           "x": 0.05
          },
          "xaxis": {
           "automargin": true,
           "gridcolor": "white",
           "linecolor": "white",
           "ticks": "",
           "title": {
            "standoff": 15
           },
           "zerolinecolor": "white",
           "zerolinewidth": 2
          },
          "yaxis": {
           "automargin": true,
           "gridcolor": "white",
           "linecolor": "white",
           "ticks": "",
           "title": {
            "standoff": 15
           },
           "zerolinecolor": "white",
           "zerolinewidth": 2
          }
         }
        },
        "xaxis": {
         "anchor": "y",
         "domain": [
          0,
          1
         ],
         "title": {
          "text": "date"
         }
        },
        "yaxis": {
         "anchor": "x",
         "domain": [
          0,
          1
         ],
         "title": {
          "text": "NDVI_median"
         }
        }
       }
      },
      "text/html": [
       "<div>                            <div id=\"2bd3934b-e76d-48c9-83ea-46f9d88e8a6a\" class=\"plotly-graph-div\" style=\"height:525px; width:100%;\"></div>            <script type=\"text/javascript\">                require([\"plotly\"], function(Plotly) {                    window.PLOTLYENV=window.PLOTLYENV || {};                                    if (document.getElementById(\"2bd3934b-e76d-48c9-83ea-46f9d88e8a6a\")) {                    Plotly.newPlot(                        \"2bd3934b-e76d-48c9-83ea-46f9d88e8a6a\",                        [{\"hovertemplate\":\"date=%{x}<br>NDVI_median=%{y}<extra></extra>\",\"legendgroup\":\"\",\"marker\":{\"color\":\"#636efa\",\"symbol\":\"circle\"},\"mode\":\"markers\",\"name\":\"\",\"orientation\":\"v\",\"showlegend\":false,\"x\":[\"2018-12-24T13:40:42\",\"2018-12-29T13:40:40\",\"2019-01-13T13:40:45\",\"2019-01-25T13:30:47\",\"2019-01-28T13:40:43\",\"2019-02-07T13:40:43\",\"2019-02-09T13:30:51\",\"2019-02-14T13:30:47\",\"2019-02-19T13:30:50\",\"2019-02-22T13:40:45\",\"2019-03-01T13:30:49\",\"2019-03-14T13:40:44\",\"2019-03-16T13:30:47\",\"2019-03-19T13:40:44\",\"2019-03-21T13:30:50\",\"2019-03-24T13:40:47\",\"2019-03-26T13:30:50\",\"2019-04-03T13:40:49\",\"2019-04-10T13:30:55\",\"2019-04-30T13:30:58\",\"2019-05-18T13:40:50\",\"2019-05-25T13:30:54\",\"2019-07-07T13:40:51\",\"2019-07-12T13:40:55\",\"2019-08-03T13:30:55\",\"2019-08-06T13:40:50\",\"2019-08-11T13:40:53\",\"2019-08-28T13:30:55\",\"2019-09-02T13:30:51\",\"2019-09-15T13:40:45\",\"2019-09-20T13:40:45\",\"2019-09-22T13:30:51\",\"2019-09-25T13:40:47\",\"2019-09-27T13:30:51\",\"2019-09-30T13:40:47\",\"2019-10-07T13:30:52\",\"2019-10-12T13:30:53\",\"2019-10-25T13:40:49\",\"2019-11-06T13:30:51\",\"2019-11-16T13:30:49\",\"2019-11-19T13:40:44\",\"2019-11-21T13:30:52\",\"2019-11-29T13:40:42\",\"2019-12-01T13:30:49\",\"2019-12-04T13:40:44\",\"2019-12-06T13:30:45\",\"2019-12-09T13:40:40\",\"2019-12-11T13:30:47\",\"2019-12-19T13:40:41\",\"2019-12-24T13:40:40\",\"2019-12-26T13:30:46\",\"2020-01-05T13:30:46\",\"2020-01-08T13:40:41\",\"2020-01-10T13:30:45\",\"2020-01-18T13:40:40\",\"2020-01-20T13:30:44\",\"2020-01-25T13:30:44\",\"2020-02-02T13:40:38\",\"2020-02-07T13:40:40\",\"2020-02-12T13:40:39\",\"2020-02-22T13:40:41\",\"2020-02-24T13:30:47\",\"2020-02-27T13:40:43\",\"2020-02-29T13:30:46\",\"2020-03-03T13:40:42\",\"2020-03-05T13:30:48\",\"2020-03-08T13:40:44\",\"2020-03-10T13:30:47\",\"2020-03-13T13:40:42\",\"2020-03-23T13:40:42\",\"2020-03-25T13:30:48\",\"2020-03-28T13:40:44\",\"2020-03-30T13:30:47\",\"2020-04-04T13:30:42\",\"2020-04-04T13:30:49\",\"2020-04-07T13:40:43\",\"2020-04-12T13:40:45\",\"2020-04-19T13:30:51\",\"2020-05-02T13:40:49\",\"2020-05-04T13:30:48\",\"2020-05-07T13:40:44\",\"2020-05-09T13:30:55\",\"2020-05-14T13:30:50\",\"2020-05-17T13:40:46\",\"2020-05-19T13:30:56\",\"2020-05-27T13:40:47\",\"2020-05-29T13:30:57\",\"2020-06-01T13:40:52\",\"2020-06-08T13:30:57\",\"2020-06-16T13:40:49\",\"2020-06-21T13:40:52\",\"2020-06-28T13:30:56\",\"2020-07-03T13:30:53\",\"2020-07-13T13:30:52\",\"2020-07-18T13:30:56\",\"2020-07-26T13:40:49\",\"2020-07-31T13:40:52\",\"2020-08-05T13:40:49\",\"2020-08-10T13:40:52\",\"2020-08-17T13:30:56\",\"2020-08-22T13:30:54\",\"2020-09-21T13:30:53\",\"2020-09-24T13:40:49\",\"2020-09-29T13:40:52\",\"2020-10-06T13:30:56\",\"2020-10-11T13:30:54\",\"2020-10-14T13:40:50\",\"2020-10-19T13:40:52\",\"2020-11-20T13:30:51\",\"2020-11-23T13:40:46\",\"2020-12-10T13:30:48\",\"2020-12-15T13:30:48\",\"2020-12-18T13:40:44\",\"2020-12-23T13:40:43\",\"2020-12-30T13:30:49\",\"2021-01-02T13:40:45\",\"2021-01-04T13:30:51\",\"2021-01-09T13:30:50\",\"2021-01-19T13:30:50\",\"2021-01-24T13:30:51\",\"2021-02-06T13:40:45\",\"2021-02-08T13:30:50\",\"2021-02-13T13:30:49\",\"2021-02-21T13:40:44\",\"2021-02-26T13:40:46\",\"2021-03-10T13:30:50\",\"2021-03-13T13:40:45\",\"2021-03-20T13:30:50\",\"2021-03-25T13:30:49\",\"2021-04-04T13:30:47\",\"2021-04-07T13:40:42\",\"2021-04-09T13:30:48\",\"2021-04-14T13:30:45\",\"2021-04-19T13:30:46\",\"2021-04-22T13:40:40\",\"2021-04-27T13:40:43\",\"2021-04-29T13:30:46\",\"2021-05-02T13:40:43\",\"2021-05-07T13:40:45\",\"2021-05-09T13:30:49\",\"2021-05-12T13:40:45\",\"2021-05-24T13:30:51\",\"2021-05-27T13:40:47\",\"2021-05-29T13:30:51\",\"2021-06-01T13:40:47\",\"2021-06-03T13:30:51\",\"2021-06-13T13:30:51\",\"2021-06-16T13:40:46\",\"2021-07-03T13:30:53\",\"2021-07-08T13:30:52\",\"2021-07-11T13:40:48\",\"2021-07-16T13:40:49\",\"2021-07-18T13:30:53\",\"2021-07-21T13:40:48\",\"2021-07-23T13:30:54\",\"2021-07-31T13:40:48\",\"2021-08-07T13:30:52\",\"2021-08-27T13:30:49\",\"2021-08-30T13:40:43\",\"2021-09-26T13:30:49\",\"2021-10-14T13:40:45\",\"2021-10-19T13:40:48\",\"2021-10-21T13:30:56\",\"2021-10-24T13:40:51\",\"2021-10-26T13:30:52\",\"2021-10-29T13:40:47\",\"2021-10-31T13:30:55\",\"2021-11-08T13:40:46\",\"2021-11-13T13:40:48\",\"2021-11-20T13:30:51\",\"2021-12-10T13:30:49\",\"2021-12-20T13:30:52\",\"2021-12-23T13:40:47\",\"2021-12-25T13:30:46\",\"2021-12-28T13:40:42\",\"2021-12-30T13:30:52\",\"2022-01-12T13:40:47\",\"2022-01-14T13:30:46\",\"2022-01-19T13:30:51\",\"2022-01-24T13:30:45\",\"2022-01-29T13:30:51\",\"2022-02-03T13:30:45\",\"2022-02-11T13:40:45\",\"2022-02-16T13:40:40\",\"2022-02-18T13:30:52\",\"2022-02-26T13:40:42\",\"2022-03-03T13:40:50\",\"2022-03-05T13:30:48\",\"2022-03-28T13:40:43\",\"2022-04-02T13:40:48\",\"2022-04-14T13:30:47\",\"2022-04-19T13:30:55\",\"2022-04-22T13:40:51\",\"2022-04-24T13:30:45\",\"2022-04-29T13:30:56\",\"2022-05-07T13:40:43\",\"2022-05-09T13:30:55\",\"2022-05-12T13:40:49\"],\"xaxis\":\"x\",\"y\":[-0.2796141730777435,-0.2286630444887426,0.020257206968797892,-0.5214003700650363,-0.45063063928437047,-0.6105322535092942,-0.4085449663145649,-0.6919100224976988,-0.7628345055753226,-0.41465578200977815,-0.7744964378153082,-0.6420627272996888,-0.5463559333654006,-0.02371266651734744,-0.6076913362866442,-0.6207551566349763,-0.5922036940659234,-0.5073894962900188,-0.6576363589481986,-0.05690085660914205,-0.5805917077274422,-0.5333101273190246,-0.6773786740201134,-0.5755781021218055,-0.47778172568043226,-0.512804577893924,-0.5471293577644019,-0.5421580861229981,-0.5535731411915736,-0.4599847483760886,-0.020566460347293723,-0.5147186272683472,-0.526094507982788,-0.3801802760088108,-0.48985059415387283,-0.4780420697668755,-0.5285313376987839,0.033794253332202547,-0.3430285333193357,0.0556268370221211,-0.15317637914124227,-0.4972019201665516,-0.5321964802951459,-0.39984639750337675,-0.1629745627608244,-0.6373176259331951,-0.12973355579640525,-0.4640332905895609,-0.149737395411771,-0.08876385607031437,-0.3700783900592066,-0.6776962408722115,-0.003560894686629116,-0.7081325846414762,-0.14294889274626993,0.08265243812884271,-0.4287691854053781,-0.2625379166329843,-0.24351945801209712,-0.4303469111253121,0.08248581676419565,-0.6651679669719806,-0.4658869395711501,-0.6,-0.43619709650498045,-0.5737459655198482,-0.465664854699825,-0.399136481665819,-0.45861261927156344,-0.551548568677773,-0.6513726719573295,0.02229349973678681,-0.6816828727552167,-0.4347212299381878,-0.4346265224181813,-0.6035834566811127,-0.6608745526966654,-0.6969687274387736,-0.5633747214725052,-0.6204834030735583,-0.6479781349266932,-0.6685082872928176,-0.5757358045633444,-0.7059961469693966,-0.6886415282607184,-0.7137440519831515,-0.6712772933621469,-0.5683111219242306,-0.017708419966896174,-0.5887516719196052,-0.6099211231900723,-0.5297803736658883,-0.41676630001897497,-0.4640105959676212,-0.5205062472657374,-0.6503787631520542,-0.5906046949377507,-0.517346081055462,-0.48237351580146454,-0.5521068368230381,-0.5974094350530692,-0.5423869689629871,-0.5870907451483919,-0.38756863225966665,-0.33107982713007916,-0.46934833323951,-0.3180637549383643,-0.41631960887539365,0.01683646097728907,-0.16120545522231547,-0.4419304667830346,-0.6552480778762227,-0.12163683993811955,-0.07724901107480321,-0.47108703780672667,-0.0955835011499922,-0.5654074923040618,-0.45569318272303055,-0.5083366954190053,-0.6528597466968452,-0.3405028793191325,-0.6097511133717104,-0.5982197603996101,-0.41843815028587705,-0.46746683554355617,-0.5120709407226465,-0.43561442534812045,-0.6346726312671873,-0.7144717261904763,-0.5796495196495196,-0.6334770114942527,-0.5761187250160331,-0.5837388535936124,-0.5367281803431814,-0.5493766910525683,-0.6107601671511446,-0.587403138514623,-0.5366616884871411,-0.1923308441276769,-0.6705157616331878,-0.6221169293853477,-0.6741770779328596,-0.6636371494972763,-0.5147664053474214,-0.5005746534336123,-0.38371475931596494,-0.6271586395605855,-0.4809989142236698,-0.4548326943926483,-0.497584858168508,-0.14941356450790416,-0.4158504007123775,-0.4915842223414188,-0.5631292905995368,-0.5620468888526624,-0.6549806919054044,-0.6143140342609082,-0.01641827598685403,-0.479515896435182,-0.4405813040090106,-0.3780231841899845,0.018621514565936293,-0.5414012738853503,-0.288760322910647,-0.5549701166058488,-0.24163926114640913,-0.5347164057995661,-0.17455917024395443,-0.22565829677457394,-0.5639116035096893,-0.44882354095728455,-0.635850603118778,0.05408840541142317,-0.5949664109286553,-0.17694740529295405,-0.5795691558538277,-0.09067919690234585,-0.4742012733161604,-0.9931464035985045,-0.4206580474035901,-0.14182051365274773,0.04889449569108661,-0.09043443419916797,-0.10033760704573115,-0.11120370715619024,-0.07650651303985492,-0.12817284471822485,-0.1194210595109609,-0.22743223162261553,-0.15105850115621128,-0.16466326285498784,-0.13666077677742985,-0.129555173761695,-0.12998719425371397,-0.14367407163479043,-0.11085591509975087,-0.1730684265567658,-0.15512022824228117],\"yaxis\":\"y\",\"type\":\"scatter\"}],                        {\"template\":{\"data\":{\"bar\":[{\"error_x\":{\"color\":\"#2a3f5f\"},\"error_y\":{\"color\":\"#2a3f5f\"},\"marker\":{\"line\":{\"color\":\"#E5ECF6\",\"width\":0.5},\"pattern\":{\"fillmode\":\"overlay\",\"size\":10,\"solidity\":0.2}},\"type\":\"bar\"}],\"barpolar\":[{\"marker\":{\"line\":{\"color\":\"#E5ECF6\",\"width\":0.5},\"pattern\":{\"fillmode\":\"overlay\",\"size\":10,\"solidity\":0.2}},\"type\":\"barpolar\"}],\"carpet\":[{\"aaxis\":{\"endlinecolor\":\"#2a3f5f\",\"gridcolor\":\"white\",\"linecolor\":\"white\",\"minorgridcolor\":\"white\",\"startlinecolor\":\"#2a3f5f\"},\"baxis\":{\"endlinecolor\":\"#2a3f5f\",\"gridcolor\":\"white\",\"linecolor\":\"white\",\"minorgridcolor\":\"white\",\"startlinecolor\":\"#2a3f5f\"},\"type\":\"carpet\"}],\"choropleth\":[{\"colorbar\":{\"outlinewidth\":0,\"ticks\":\"\"},\"type\":\"choropleth\"}],\"contour\":[{\"colorbar\":{\"outlinewidth\":0,\"ticks\":\"\"},\"colorscale\":[[0.0,\"#0d0887\"],[0.1111111111111111,\"#46039f\"],[0.2222222222222222,\"#7201a8\"],[0.3333333333333333,\"#9c179e\"],[0.4444444444444444,\"#bd3786\"],[0.5555555555555556,\"#d8576b\"],[0.6666666666666666,\"#ed7953\"],[0.7777777777777778,\"#fb9f3a\"],[0.8888888888888888,\"#fdca26\"],[1.0,\"#f0f921\"]],\"type\":\"contour\"}],\"contourcarpet\":[{\"colorbar\":{\"outlinewidth\":0,\"ticks\":\"\"},\"type\":\"contourcarpet\"}],\"heatmap\":[{\"colorbar\":{\"outlinewidth\":0,\"ticks\":\"\"},\"colorscale\":[[0.0,\"#0d0887\"],[0.1111111111111111,\"#46039f\"],[0.2222222222222222,\"#7201a8\"],[0.3333333333333333,\"#9c179e\"],[0.4444444444444444,\"#bd3786\"],[0.5555555555555556,\"#d8576b\"],[0.6666666666666666,\"#ed7953\"],[0.7777777777777778,\"#fb9f3a\"],[0.8888888888888888,\"#fdca26\"],[1.0,\"#f0f921\"]],\"type\":\"heatmap\"}],\"heatmapgl\":[{\"colorbar\":{\"outlinewidth\":0,\"ticks\":\"\"},\"colorscale\":[[0.0,\"#0d0887\"],[0.1111111111111111,\"#46039f\"],[0.2222222222222222,\"#7201a8\"],[0.3333333333333333,\"#9c179e\"],[0.4444444444444444,\"#bd3786\"],[0.5555555555555556,\"#d8576b\"],[0.6666666666666666,\"#ed7953\"],[0.7777777777777778,\"#fb9f3a\"],[0.8888888888888888,\"#fdca26\"],[1.0,\"#f0f921\"]],\"type\":\"heatmapgl\"}],\"histogram\":[{\"marker\":{\"pattern\":{\"fillmode\":\"overlay\",\"size\":10,\"solidity\":0.2}},\"type\":\"histogram\"}],\"histogram2d\":[{\"colorbar\":{\"outlinewidth\":0,\"ticks\":\"\"},\"colorscale\":[[0.0,\"#0d0887\"],[0.1111111111111111,\"#46039f\"],[0.2222222222222222,\"#7201a8\"],[0.3333333333333333,\"#9c179e\"],[0.4444444444444444,\"#bd3786\"],[0.5555555555555556,\"#d8576b\"],[0.6666666666666666,\"#ed7953\"],[0.7777777777777778,\"#fb9f3a\"],[0.8888888888888888,\"#fdca26\"],[1.0,\"#f0f921\"]],\"type\":\"histogram2d\"}],\"histogram2dcontour\":[{\"colorbar\":{\"outlinewidth\":0,\"ticks\":\"\"},\"colorscale\":[[0.0,\"#0d0887\"],[0.1111111111111111,\"#46039f\"],[0.2222222222222222,\"#7201a8\"],[0.3333333333333333,\"#9c179e\"],[0.4444444444444444,\"#bd3786\"],[0.5555555555555556,\"#d8576b\"],[0.6666666666666666,\"#ed7953\"],[0.7777777777777778,\"#fb9f3a\"],[0.8888888888888888,\"#fdca26\"],[1.0,\"#f0f921\"]],\"type\":\"histogram2dcontour\"}],\"mesh3d\":[{\"colorbar\":{\"outlinewidth\":0,\"ticks\":\"\"},\"type\":\"mesh3d\"}],\"parcoords\":[{\"line\":{\"colorbar\":{\"outlinewidth\":0,\"ticks\":\"\"}},\"type\":\"parcoords\"}],\"pie\":[{\"automargin\":true,\"type\":\"pie\"}],\"scatter\":[{\"marker\":{\"colorbar\":{\"outlinewidth\":0,\"ticks\":\"\"}},\"type\":\"scatter\"}],\"scatter3d\":[{\"line\":{\"colorbar\":{\"outlinewidth\":0,\"ticks\":\"\"}},\"marker\":{\"colorbar\":{\"outlinewidth\":0,\"ticks\":\"\"}},\"type\":\"scatter3d\"}],\"scattercarpet\":[{\"marker\":{\"colorbar\":{\"outlinewidth\":0,\"ticks\":\"\"}},\"type\":\"scattercarpet\"}],\"scattergeo\":[{\"marker\":{\"colorbar\":{\"outlinewidth\":0,\"ticks\":\"\"}},\"type\":\"scattergeo\"}],\"scattergl\":[{\"marker\":{\"colorbar\":{\"outlinewidth\":0,\"ticks\":\"\"}},\"type\":\"scattergl\"}],\"scattermapbox\":[{\"marker\":{\"colorbar\":{\"outlinewidth\":0,\"ticks\":\"\"}},\"type\":\"scattermapbox\"}],\"scatterpolar\":[{\"marker\":{\"colorbar\":{\"outlinewidth\":0,\"ticks\":\"\"}},\"type\":\"scatterpolar\"}],\"scatterpolargl\":[{\"marker\":{\"colorbar\":{\"outlinewidth\":0,\"ticks\":\"\"}},\"type\":\"scatterpolargl\"}],\"scatterternary\":[{\"marker\":{\"colorbar\":{\"outlinewidth\":0,\"ticks\":\"\"}},\"type\":\"scatterternary\"}],\"surface\":[{\"colorbar\":{\"outlinewidth\":0,\"ticks\":\"\"},\"colorscale\":[[0.0,\"#0d0887\"],[0.1111111111111111,\"#46039f\"],[0.2222222222222222,\"#7201a8\"],[0.3333333333333333,\"#9c179e\"],[0.4444444444444444,\"#bd3786\"],[0.5555555555555556,\"#d8576b\"],[0.6666666666666666,\"#ed7953\"],[0.7777777777777778,\"#fb9f3a\"],[0.8888888888888888,\"#fdca26\"],[1.0,\"#f0f921\"]],\"type\":\"surface\"}],\"table\":[{\"cells\":{\"fill\":{\"color\":\"#EBF0F8\"},\"line\":{\"color\":\"white\"}},\"header\":{\"fill\":{\"color\":\"#C8D4E3\"},\"line\":{\"color\":\"white\"}},\"type\":\"table\"}]},\"layout\":{\"annotationdefaults\":{\"arrowcolor\":\"#2a3f5f\",\"arrowhead\":0,\"arrowwidth\":1},\"autotypenumbers\":\"strict\",\"coloraxis\":{\"colorbar\":{\"outlinewidth\":0,\"ticks\":\"\"}},\"colorscale\":{\"diverging\":[[0,\"#8e0152\"],[0.1,\"#c51b7d\"],[0.2,\"#de77ae\"],[0.3,\"#f1b6da\"],[0.4,\"#fde0ef\"],[0.5,\"#f7f7f7\"],[0.6,\"#e6f5d0\"],[0.7,\"#b8e186\"],[0.8,\"#7fbc41\"],[0.9,\"#4d9221\"],[1,\"#276419\"]],\"sequential\":[[0.0,\"#0d0887\"],[0.1111111111111111,\"#46039f\"],[0.2222222222222222,\"#7201a8\"],[0.3333333333333333,\"#9c179e\"],[0.4444444444444444,\"#bd3786\"],[0.5555555555555556,\"#d8576b\"],[0.6666666666666666,\"#ed7953\"],[0.7777777777777778,\"#fb9f3a\"],[0.8888888888888888,\"#fdca26\"],[1.0,\"#f0f921\"]],\"sequentialminus\":[[0.0,\"#0d0887\"],[0.1111111111111111,\"#46039f\"],[0.2222222222222222,\"#7201a8\"],[0.3333333333333333,\"#9c179e\"],[0.4444444444444444,\"#bd3786\"],[0.5555555555555556,\"#d8576b\"],[0.6666666666666666,\"#ed7953\"],[0.7777777777777778,\"#fb9f3a\"],[0.8888888888888888,\"#fdca26\"],[1.0,\"#f0f921\"]]},\"colorway\":[\"#636efa\",\"#EF553B\",\"#00cc96\",\"#ab63fa\",\"#FFA15A\",\"#19d3f3\",\"#FF6692\",\"#B6E880\",\"#FF97FF\",\"#FECB52\"],\"font\":{\"color\":\"#2a3f5f\"},\"geo\":{\"bgcolor\":\"white\",\"lakecolor\":\"white\",\"landcolor\":\"#E5ECF6\",\"showlakes\":true,\"showland\":true,\"subunitcolor\":\"white\"},\"hoverlabel\":{\"align\":\"left\"},\"hovermode\":\"closest\",\"mapbox\":{\"style\":\"light\"},\"paper_bgcolor\":\"white\",\"plot_bgcolor\":\"#E5ECF6\",\"polar\":{\"angularaxis\":{\"gridcolor\":\"white\",\"linecolor\":\"white\",\"ticks\":\"\"},\"bgcolor\":\"#E5ECF6\",\"radialaxis\":{\"gridcolor\":\"white\",\"linecolor\":\"white\",\"ticks\":\"\"}},\"scene\":{\"xaxis\":{\"backgroundcolor\":\"#E5ECF6\",\"gridcolor\":\"white\",\"gridwidth\":2,\"linecolor\":\"white\",\"showbackground\":true,\"ticks\":\"\",\"zerolinecolor\":\"white\"},\"yaxis\":{\"backgroundcolor\":\"#E5ECF6\",\"gridcolor\":\"white\",\"gridwidth\":2,\"linecolor\":\"white\",\"showbackground\":true,\"ticks\":\"\",\"zerolinecolor\":\"white\"},\"zaxis\":{\"backgroundcolor\":\"#E5ECF6\",\"gridcolor\":\"white\",\"gridwidth\":2,\"linecolor\":\"white\",\"showbackground\":true,\"ticks\":\"\",\"zerolinecolor\":\"white\"}},\"shapedefaults\":{\"line\":{\"color\":\"#2a3f5f\"}},\"ternary\":{\"aaxis\":{\"gridcolor\":\"white\",\"linecolor\":\"white\",\"ticks\":\"\"},\"baxis\":{\"gridcolor\":\"white\",\"linecolor\":\"white\",\"ticks\":\"\"},\"bgcolor\":\"#E5ECF6\",\"caxis\":{\"gridcolor\":\"white\",\"linecolor\":\"white\",\"ticks\":\"\"}},\"title\":{\"x\":0.05},\"xaxis\":{\"automargin\":true,\"gridcolor\":\"white\",\"linecolor\":\"white\",\"ticks\":\"\",\"title\":{\"standoff\":15},\"zerolinecolor\":\"white\",\"zerolinewidth\":2},\"yaxis\":{\"automargin\":true,\"gridcolor\":\"white\",\"linecolor\":\"white\",\"ticks\":\"\",\"title\":{\"standoff\":15},\"zerolinecolor\":\"white\",\"zerolinewidth\":2}}},\"xaxis\":{\"anchor\":\"y\",\"domain\":[0.0,1.0],\"title\":{\"text\":\"date\"}},\"yaxis\":{\"anchor\":\"x\",\"domain\":[0.0,1.0],\"title\":{\"text\":\"NDVI_median\"}},\"legend\":{\"tracegroupgap\":0},\"margin\":{\"t\":60}},                        {\"responsive\": true}                    ).then(function(){\n",
       "                            \n",
       "var gd = document.getElementById('2bd3934b-e76d-48c9-83ea-46f9d88e8a6a');\n",
       "var x = new MutationObserver(function (mutations, observer) {{\n",
       "        var display = window.getComputedStyle(gd).display;\n",
       "        if (!display || display === 'none') {{\n",
       "            console.log([gd, 'removed!']);\n",
       "            Plotly.purge(gd);\n",
       "            observer.disconnect();\n",
       "        }}\n",
       "}});\n",
       "\n",
       "// Listen for the removal of the full notebook cells\n",
       "var notebookContainer = gd.closest('#notebook-container');\n",
       "if (notebookContainer) {{\n",
       "    x.observe(notebookContainer, {childList: true});\n",
       "}}\n",
       "\n",
       "// Listen for the clearing of the current output cell\n",
       "var outputEl = gd.closest('.output');\n",
       "if (outputEl) {{\n",
       "    x.observe(outputEl, {childList: true});\n",
       "}}\n",
       "\n",
       "                        })                };                });            </script>        </div>"
      ]
     },
     "metadata": {},
     "output_type": "display_data"
    }
   ],
   "source": [
    "px.scatter(df_ndvi, x=\"date\", y=\"NDVI_median\")"
   ]
  },
  {
   "cell_type": "code",
   "execution_count": 178,
   "metadata": {},
   "outputs": [],
   "source": [
    "df_ndci = create_df(s2a_amostragem, \"NDCI\")"
   ]
  },
  {
   "cell_type": "code",
   "execution_count": 179,
   "metadata": {},
   "outputs": [
    {
     "data": {
      "application/vnd.plotly.v1+json": {
       "config": {
        "plotlyServerURL": "https://plot.ly"
       },
       "data": [
        {
         "hovertemplate": "date=%{x}<br>NDCI_median=%{y}<extra></extra>",
         "legendgroup": "",
         "marker": {
          "color": "#636efa",
          "symbol": "circle"
         },
         "mode": "markers",
         "name": "",
         "orientation": "v",
         "showlegend": false,
         "type": "scatter",
         "x": [
          "2018-12-24T13:40:42",
          "2018-12-29T13:40:40",
          "2019-01-13T13:40:45",
          "2019-01-25T13:30:47",
          "2019-01-28T13:40:43",
          "2019-02-07T13:40:43",
          "2019-02-09T13:30:51",
          "2019-02-14T13:30:47",
          "2019-02-19T13:30:50",
          "2019-02-22T13:40:45",
          "2019-03-01T13:30:49",
          "2019-03-14T13:40:44",
          "2019-03-16T13:30:47",
          "2019-03-19T13:40:44",
          "2019-03-21T13:30:50",
          "2019-03-24T13:40:47",
          "2019-03-26T13:30:50",
          "2019-04-03T13:40:49",
          "2019-04-10T13:30:55",
          "2019-04-30T13:30:58",
          "2019-05-18T13:40:50",
          "2019-05-25T13:30:54",
          "2019-07-07T13:40:51",
          "2019-07-12T13:40:55",
          "2019-08-03T13:30:55",
          "2019-08-06T13:40:50",
          "2019-08-11T13:40:53",
          "2019-08-28T13:30:55",
          "2019-09-02T13:30:51",
          "2019-09-15T13:40:45",
          "2019-09-20T13:40:45",
          "2019-09-22T13:30:51",
          "2019-09-25T13:40:47",
          "2019-09-27T13:30:51",
          "2019-09-30T13:40:47",
          "2019-10-07T13:30:52",
          "2019-10-12T13:30:53",
          "2019-10-25T13:40:49",
          "2019-11-06T13:30:51",
          "2019-11-16T13:30:49",
          "2019-11-19T13:40:44",
          "2019-11-21T13:30:52",
          "2019-11-29T13:40:42",
          "2019-12-01T13:30:49",
          "2019-12-04T13:40:44",
          "2019-12-06T13:30:45",
          "2019-12-09T13:40:40",
          "2019-12-11T13:30:47",
          "2019-12-19T13:40:41",
          "2019-12-24T13:40:40",
          "2019-12-26T13:30:46",
          "2020-01-05T13:30:46",
          "2020-01-08T13:40:41",
          "2020-01-10T13:30:45",
          "2020-01-18T13:40:40",
          "2020-01-20T13:30:44",
          "2020-01-25T13:30:44",
          "2020-02-02T13:40:38",
          "2020-02-07T13:40:40",
          "2020-02-12T13:40:39",
          "2020-02-22T13:40:41",
          "2020-02-24T13:30:47",
          "2020-02-27T13:40:43",
          "2020-02-29T13:30:46",
          "2020-03-03T13:40:42",
          "2020-03-05T13:30:48",
          "2020-03-08T13:40:44",
          "2020-03-10T13:30:47",
          "2020-03-13T13:40:42",
          "2020-03-23T13:40:42",
          "2020-03-25T13:30:48",
          "2020-03-28T13:40:44",
          "2020-03-30T13:30:47",
          "2020-04-04T13:30:42",
          "2020-04-04T13:30:49",
          "2020-04-07T13:40:43",
          "2020-04-12T13:40:45",
          "2020-04-19T13:30:51",
          "2020-05-02T13:40:49",
          "2020-05-04T13:30:48",
          "2020-05-07T13:40:44",
          "2020-05-09T13:30:55",
          "2020-05-14T13:30:50",
          "2020-05-17T13:40:46",
          "2020-05-19T13:30:56",
          "2020-05-27T13:40:47",
          "2020-05-29T13:30:57",
          "2020-06-01T13:40:52",
          "2020-06-08T13:30:57",
          "2020-06-16T13:40:49",
          "2020-06-21T13:40:52",
          "2020-06-28T13:30:56",
          "2020-07-03T13:30:53",
          "2020-07-13T13:30:52",
          "2020-07-18T13:30:56",
          "2020-07-26T13:40:49",
          "2020-07-31T13:40:52",
          "2020-08-05T13:40:49",
          "2020-08-10T13:40:52",
          "2020-08-17T13:30:56",
          "2020-08-22T13:30:54",
          "2020-09-21T13:30:53",
          "2020-09-24T13:40:49",
          "2020-09-29T13:40:52",
          "2020-10-06T13:30:56",
          "2020-10-11T13:30:54",
          "2020-10-14T13:40:50",
          "2020-10-19T13:40:52",
          "2020-11-20T13:30:51",
          "2020-11-23T13:40:46",
          "2020-12-10T13:30:48",
          "2020-12-15T13:30:48",
          "2020-12-18T13:40:44",
          "2020-12-23T13:40:43",
          "2020-12-30T13:30:49",
          "2021-01-02T13:40:45",
          "2021-01-04T13:30:51",
          "2021-01-09T13:30:50",
          "2021-01-19T13:30:50",
          "2021-01-24T13:30:51",
          "2021-02-06T13:40:45",
          "2021-02-08T13:30:50",
          "2021-02-13T13:30:49",
          "2021-02-21T13:40:44",
          "2021-02-26T13:40:46",
          "2021-03-10T13:30:50",
          "2021-03-13T13:40:45",
          "2021-03-20T13:30:50",
          "2021-03-25T13:30:49",
          "2021-04-04T13:30:47",
          "2021-04-07T13:40:42",
          "2021-04-09T13:30:48",
          "2021-04-14T13:30:45",
          "2021-04-19T13:30:46",
          "2021-04-22T13:40:40",
          "2021-04-27T13:40:43",
          "2021-04-29T13:30:46",
          "2021-05-02T13:40:43",
          "2021-05-07T13:40:45",
          "2021-05-09T13:30:49",
          "2021-05-12T13:40:45",
          "2021-05-24T13:30:51",
          "2021-05-27T13:40:47",
          "2021-05-29T13:30:51",
          "2021-06-01T13:40:47",
          "2021-06-03T13:30:51",
          "2021-06-13T13:30:51",
          "2021-06-16T13:40:46",
          "2021-07-03T13:30:53",
          "2021-07-08T13:30:52",
          "2021-07-11T13:40:48",
          "2021-07-16T13:40:49",
          "2021-07-18T13:30:53",
          "2021-07-21T13:40:48",
          "2021-07-23T13:30:54",
          "2021-07-31T13:40:48",
          "2021-08-07T13:30:52",
          "2021-08-27T13:30:49",
          "2021-08-30T13:40:43",
          "2021-09-26T13:30:49",
          "2021-10-14T13:40:45",
          "2021-10-19T13:40:48",
          "2021-10-21T13:30:56",
          "2021-10-24T13:40:51",
          "2021-10-26T13:30:52",
          "2021-10-29T13:40:47",
          "2021-10-31T13:30:55",
          "2021-11-08T13:40:46",
          "2021-11-13T13:40:48",
          "2021-11-20T13:30:51",
          "2021-12-10T13:30:49",
          "2021-12-20T13:30:52",
          "2021-12-23T13:40:47",
          "2021-12-25T13:30:46",
          "2021-12-28T13:40:42",
          "2021-12-30T13:30:52",
          "2022-01-12T13:40:47",
          "2022-01-14T13:30:46",
          "2022-01-19T13:30:51",
          "2022-01-24T13:30:45",
          "2022-01-29T13:30:51",
          "2022-02-03T13:30:45",
          "2022-02-11T13:40:45",
          "2022-02-16T13:40:40",
          "2022-02-18T13:30:52",
          "2022-02-26T13:40:42",
          "2022-03-03T13:40:50",
          "2022-03-05T13:30:48",
          "2022-03-28T13:40:43",
          "2022-04-02T13:40:48",
          "2022-04-14T13:30:47",
          "2022-04-19T13:30:55",
          "2022-04-22T13:40:51",
          "2022-04-24T13:30:45",
          "2022-04-29T13:30:56",
          "2022-05-07T13:40:43",
          "2022-05-09T13:30:55",
          "2022-05-12T13:40:49"
         ],
         "xaxis": "x",
         "y": [
          -0.04394352467627451,
          -0.02204682542327853,
          0.029204641612020642,
          -0.031645816765635666,
          -0.03612334085804092,
          -0.05971800290582487,
          -0.026827798732440157,
          -0.1012992786743374,
          -0.1047981059585857,
          -0.04072382903561589,
          -0.13398340463525787,
          -0.08097386540981658,
          -0.05936323622601756,
          0.03518722737232209,
          -0.09879453653471433,
          -0.09510460713652494,
          -0.08911179850587092,
          -0.03686293297691746,
          -0.11746770015168828,
          0.01235888170246704,
          -0.04649155662675891,
          -0.06290374119358924,
          -0.11903614148274404,
          -0.08125877432123522,
          -0.01964837215287604,
          -0.025624625489169238,
          -0.04528512089525209,
          -0.0395545212923866,
          -0.07333437516278586,
          -0.009407560047640831,
          0.01776955096527532,
          -0.03945485311902269,
          -0.04612130464150749,
          -0.014327130632221635,
          -0.03584998835931613,
          -0.006588787344935625,
          -0.033752067997056594,
          0.03687361236053867,
          0.008569756649257005,
          0.005071854611844601,
          -0.014226624248237283,
          -0.02301092304729477,
          -0.06142990876625563,
          -0.0317931068625913,
          -0.010931840128484778,
          -0.07115068164254643,
          -0.00594421582075901,
          -0.021985750797275782,
          -0.012079750184832086,
          -0.0021524447402848086,
          0.02975250566242041,
          -0.07082594871700319,
          0.019181466385035994,
          0.024039183805851735,
          -0.010878004113607018,
          0.0612205607787301,
          -0.030085820692471166,
          -0.011105843009287233,
          0.021883218431434273,
          -0.05586624761888931,
          0.024169792886505916,
          -0.10185220625888192,
          -0.058057721825018435,
          -0.04333333333333336,
          -0.061105773573998795,
          -0.07675973579846633,
          -0.050265864069350144,
          0.020706455542021926,
          -0.05199236650302622,
          -0.07172113494490816,
          -0.10211428405037286,
          0.022729698460067206,
          -0.07519599154469012,
          -0.08292270831894383,
          -0.08300317101905487,
          -0.14732909459835064,
          -0.09246239476366765,
          -0.12682055712208312,
          -0.09743807681702575,
          -0.09159959664921406,
          -0.1330318499127909,
          -0.132140429071937,
          -0.044456578444267446,
          -0.1304143137273057,
          -0.08243804376972196,
          -0.13178294573643404,
          -0.12816682084631026,
          -0.09336201156751985,
          0.014077996703669934,
          -0.08234061632888622,
          -0.0729703264816796,
          -0.08422433943767049,
          0.00039348887663629166,
          -0.0144395821050554,
          -0.04142136253180992,
          -0.09517381964103451,
          -0.06989010314311515,
          -0.04047711256823526,
          -0.051779965200074114,
          -0.06144934669429627,
          -0.07017586050441457,
          -0.06035771892604866,
          -0.03205175362980425,
          -0.019074374659168274,
          -0.020081069660762153,
          -0.02237147235964144,
          -0.014183430903460232,
          -0.032534012740724656,
          0.022009377899080265,
          -0.01349723003982753,
          0.006002558439420557,
          0.0425826564333692,
          0.023025121351718976,
          0.01913935881691852,
          0.04229228876306583,
          0.014997038261037519,
          -0.004738244119599076,
          0.038817841824874105,
          -0.006135166361567165,
          -0.03978936672131883,
          -0.03424132808388457,
          -0.05211915633936798,
          -0.034898840008972205,
          -0.016851454331666474,
          -0.03801919815268254,
          -0.028439093904604695,
          0.01016850450762497,
          -0.09102105031023283,
          -0.08967305662224806,
          -0.06763526992500249,
          -0.041534570173551597,
          -0.047895356320960175,
          -0.08573171634587323,
          -0.061225740368692924,
          -0.08460316558241499,
          -0.09923884328913946,
          -0.0593905224695577,
          -0.05050885601097827,
          -0.03007278596886617,
          -0.08908114524119008,
          -0.06716631915443215,
          -0.11747764011284557,
          -0.1087989509518588,
          -0.08126671798495923,
          -0.014840865139370319,
          -0.031374607154568274,
          -0.06940386461064865,
          -0.057019925793936534,
          -0.015739115273835202,
          -0.019076405482351635,
          0.022761557911424476,
          -0.02967367096809936,
          -0.05491207693289301,
          -0.07526721299274174,
          -0.06529589906046758,
          -0.11167337358860335,
          -0.07176490282353347,
          0.013040850096228952,
          -0.011483248467253066,
          -0.021893876255646483,
          -0.027780613051034377,
          0.02884929309551062,
          -0.05785097978796756,
          -0.03846610688429026,
          -0.04475077886372429,
          -0.016972677370754224,
          -0.04222555195727746,
          -0.008054759339586036,
          -0.029223856296402964,
          -0.059472146565722715,
          -0.02905758699272006,
          -0.06602263623043966,
          0.033392024806180795,
          -0.07593835829560892,
          -0.03249688431852491,
          -0.0465937977495457,
          0.03477858586305765,
          0.08432873983955183,
          -0.0017571513640432174,
          0.043977385319010034,
          -0.0215863476359712,
          0.02869694963810884,
          -0.005467647441988284,
          -0.012828297152074054,
          -0.018242533011484603,
          0.0014908478272486487,
          -0.020643514032753264,
          -0.0017942071982195939,
          -0.02265939877059634,
          -0.02615520233291381,
          -0.02874284196230204,
          -0.016665664231986965,
          -0.00939422647955088,
          -0.02039303576734979,
          -0.02912598809228701,
          -0.007150038323619467,
          -0.01769830986896689,
          -0.023886779995022544
         ],
         "yaxis": "y"
        }
       ],
       "layout": {
        "legend": {
         "tracegroupgap": 0
        },
        "margin": {
         "t": 60
        },
        "template": {
         "data": {
          "bar": [
           {
            "error_x": {
             "color": "#2a3f5f"
            },
            "error_y": {
             "color": "#2a3f5f"
            },
            "marker": {
             "line": {
              "color": "#E5ECF6",
              "width": 0.5
             },
             "pattern": {
              "fillmode": "overlay",
              "size": 10,
              "solidity": 0.2
             }
            },
            "type": "bar"
           }
          ],
          "barpolar": [
           {
            "marker": {
             "line": {
              "color": "#E5ECF6",
              "width": 0.5
             },
             "pattern": {
              "fillmode": "overlay",
              "size": 10,
              "solidity": 0.2
             }
            },
            "type": "barpolar"
           }
          ],
          "carpet": [
           {
            "aaxis": {
             "endlinecolor": "#2a3f5f",
             "gridcolor": "white",
             "linecolor": "white",
             "minorgridcolor": "white",
             "startlinecolor": "#2a3f5f"
            },
            "baxis": {
             "endlinecolor": "#2a3f5f",
             "gridcolor": "white",
             "linecolor": "white",
             "minorgridcolor": "white",
             "startlinecolor": "#2a3f5f"
            },
            "type": "carpet"
           }
          ],
          "choropleth": [
           {
            "colorbar": {
             "outlinewidth": 0,
             "ticks": ""
            },
            "type": "choropleth"
           }
          ],
          "contour": [
           {
            "colorbar": {
             "outlinewidth": 0,
             "ticks": ""
            },
            "colorscale": [
             [
              0,
              "#0d0887"
             ],
             [
              0.1111111111111111,
              "#46039f"
             ],
             [
              0.2222222222222222,
              "#7201a8"
             ],
             [
              0.3333333333333333,
              "#9c179e"
             ],
             [
              0.4444444444444444,
              "#bd3786"
             ],
             [
              0.5555555555555556,
              "#d8576b"
             ],
             [
              0.6666666666666666,
              "#ed7953"
             ],
             [
              0.7777777777777778,
              "#fb9f3a"
             ],
             [
              0.8888888888888888,
              "#fdca26"
             ],
             [
              1,
              "#f0f921"
             ]
            ],
            "type": "contour"
           }
          ],
          "contourcarpet": [
           {
            "colorbar": {
             "outlinewidth": 0,
             "ticks": ""
            },
            "type": "contourcarpet"
           }
          ],
          "heatmap": [
           {
            "colorbar": {
             "outlinewidth": 0,
             "ticks": ""
            },
            "colorscale": [
             [
              0,
              "#0d0887"
             ],
             [
              0.1111111111111111,
              "#46039f"
             ],
             [
              0.2222222222222222,
              "#7201a8"
             ],
             [
              0.3333333333333333,
              "#9c179e"
             ],
             [
              0.4444444444444444,
              "#bd3786"
             ],
             [
              0.5555555555555556,
              "#d8576b"
             ],
             [
              0.6666666666666666,
              "#ed7953"
             ],
             [
              0.7777777777777778,
              "#fb9f3a"
             ],
             [
              0.8888888888888888,
              "#fdca26"
             ],
             [
              1,
              "#f0f921"
             ]
            ],
            "type": "heatmap"
           }
          ],
          "heatmapgl": [
           {
            "colorbar": {
             "outlinewidth": 0,
             "ticks": ""
            },
            "colorscale": [
             [
              0,
              "#0d0887"
             ],
             [
              0.1111111111111111,
              "#46039f"
             ],
             [
              0.2222222222222222,
              "#7201a8"
             ],
             [
              0.3333333333333333,
              "#9c179e"
             ],
             [
              0.4444444444444444,
              "#bd3786"
             ],
             [
              0.5555555555555556,
              "#d8576b"
             ],
             [
              0.6666666666666666,
              "#ed7953"
             ],
             [
              0.7777777777777778,
              "#fb9f3a"
             ],
             [
              0.8888888888888888,
              "#fdca26"
             ],
             [
              1,
              "#f0f921"
             ]
            ],
            "type": "heatmapgl"
           }
          ],
          "histogram": [
           {
            "marker": {
             "pattern": {
              "fillmode": "overlay",
              "size": 10,
              "solidity": 0.2
             }
            },
            "type": "histogram"
           }
          ],
          "histogram2d": [
           {
            "colorbar": {
             "outlinewidth": 0,
             "ticks": ""
            },
            "colorscale": [
             [
              0,
              "#0d0887"
             ],
             [
              0.1111111111111111,
              "#46039f"
             ],
             [
              0.2222222222222222,
              "#7201a8"
             ],
             [
              0.3333333333333333,
              "#9c179e"
             ],
             [
              0.4444444444444444,
              "#bd3786"
             ],
             [
              0.5555555555555556,
              "#d8576b"
             ],
             [
              0.6666666666666666,
              "#ed7953"
             ],
             [
              0.7777777777777778,
              "#fb9f3a"
             ],
             [
              0.8888888888888888,
              "#fdca26"
             ],
             [
              1,
              "#f0f921"
             ]
            ],
            "type": "histogram2d"
           }
          ],
          "histogram2dcontour": [
           {
            "colorbar": {
             "outlinewidth": 0,
             "ticks": ""
            },
            "colorscale": [
             [
              0,
              "#0d0887"
             ],
             [
              0.1111111111111111,
              "#46039f"
             ],
             [
              0.2222222222222222,
              "#7201a8"
             ],
             [
              0.3333333333333333,
              "#9c179e"
             ],
             [
              0.4444444444444444,
              "#bd3786"
             ],
             [
              0.5555555555555556,
              "#d8576b"
             ],
             [
              0.6666666666666666,
              "#ed7953"
             ],
             [
              0.7777777777777778,
              "#fb9f3a"
             ],
             [
              0.8888888888888888,
              "#fdca26"
             ],
             [
              1,
              "#f0f921"
             ]
            ],
            "type": "histogram2dcontour"
           }
          ],
          "mesh3d": [
           {
            "colorbar": {
             "outlinewidth": 0,
             "ticks": ""
            },
            "type": "mesh3d"
           }
          ],
          "parcoords": [
           {
            "line": {
             "colorbar": {
              "outlinewidth": 0,
              "ticks": ""
             }
            },
            "type": "parcoords"
           }
          ],
          "pie": [
           {
            "automargin": true,
            "type": "pie"
           }
          ],
          "scatter": [
           {
            "marker": {
             "colorbar": {
              "outlinewidth": 0,
              "ticks": ""
             }
            },
            "type": "scatter"
           }
          ],
          "scatter3d": [
           {
            "line": {
             "colorbar": {
              "outlinewidth": 0,
              "ticks": ""
             }
            },
            "marker": {
             "colorbar": {
              "outlinewidth": 0,
              "ticks": ""
             }
            },
            "type": "scatter3d"
           }
          ],
          "scattercarpet": [
           {
            "marker": {
             "colorbar": {
              "outlinewidth": 0,
              "ticks": ""
             }
            },
            "type": "scattercarpet"
           }
          ],
          "scattergeo": [
           {
            "marker": {
             "colorbar": {
              "outlinewidth": 0,
              "ticks": ""
             }
            },
            "type": "scattergeo"
           }
          ],
          "scattergl": [
           {
            "marker": {
             "colorbar": {
              "outlinewidth": 0,
              "ticks": ""
             }
            },
            "type": "scattergl"
           }
          ],
          "scattermapbox": [
           {
            "marker": {
             "colorbar": {
              "outlinewidth": 0,
              "ticks": ""
             }
            },
            "type": "scattermapbox"
           }
          ],
          "scatterpolar": [
           {
            "marker": {
             "colorbar": {
              "outlinewidth": 0,
              "ticks": ""
             }
            },
            "type": "scatterpolar"
           }
          ],
          "scatterpolargl": [
           {
            "marker": {
             "colorbar": {
              "outlinewidth": 0,
              "ticks": ""
             }
            },
            "type": "scatterpolargl"
           }
          ],
          "scatterternary": [
           {
            "marker": {
             "colorbar": {
              "outlinewidth": 0,
              "ticks": ""
             }
            },
            "type": "scatterternary"
           }
          ],
          "surface": [
           {
            "colorbar": {
             "outlinewidth": 0,
             "ticks": ""
            },
            "colorscale": [
             [
              0,
              "#0d0887"
             ],
             [
              0.1111111111111111,
              "#46039f"
             ],
             [
              0.2222222222222222,
              "#7201a8"
             ],
             [
              0.3333333333333333,
              "#9c179e"
             ],
             [
              0.4444444444444444,
              "#bd3786"
             ],
             [
              0.5555555555555556,
              "#d8576b"
             ],
             [
              0.6666666666666666,
              "#ed7953"
             ],
             [
              0.7777777777777778,
              "#fb9f3a"
             ],
             [
              0.8888888888888888,
              "#fdca26"
             ],
             [
              1,
              "#f0f921"
             ]
            ],
            "type": "surface"
           }
          ],
          "table": [
           {
            "cells": {
             "fill": {
              "color": "#EBF0F8"
             },
             "line": {
              "color": "white"
             }
            },
            "header": {
             "fill": {
              "color": "#C8D4E3"
             },
             "line": {
              "color": "white"
             }
            },
            "type": "table"
           }
          ]
         },
         "layout": {
          "annotationdefaults": {
           "arrowcolor": "#2a3f5f",
           "arrowhead": 0,
           "arrowwidth": 1
          },
          "autotypenumbers": "strict",
          "coloraxis": {
           "colorbar": {
            "outlinewidth": 0,
            "ticks": ""
           }
          },
          "colorscale": {
           "diverging": [
            [
             0,
             "#8e0152"
            ],
            [
             0.1,
             "#c51b7d"
            ],
            [
             0.2,
             "#de77ae"
            ],
            [
             0.3,
             "#f1b6da"
            ],
            [
             0.4,
             "#fde0ef"
            ],
            [
             0.5,
             "#f7f7f7"
            ],
            [
             0.6,
             "#e6f5d0"
            ],
            [
             0.7,
             "#b8e186"
            ],
            [
             0.8,
             "#7fbc41"
            ],
            [
             0.9,
             "#4d9221"
            ],
            [
             1,
             "#276419"
            ]
           ],
           "sequential": [
            [
             0,
             "#0d0887"
            ],
            [
             0.1111111111111111,
             "#46039f"
            ],
            [
             0.2222222222222222,
             "#7201a8"
            ],
            [
             0.3333333333333333,
             "#9c179e"
            ],
            [
             0.4444444444444444,
             "#bd3786"
            ],
            [
             0.5555555555555556,
             "#d8576b"
            ],
            [
             0.6666666666666666,
             "#ed7953"
            ],
            [
             0.7777777777777778,
             "#fb9f3a"
            ],
            [
             0.8888888888888888,
             "#fdca26"
            ],
            [
             1,
             "#f0f921"
            ]
           ],
           "sequentialminus": [
            [
             0,
             "#0d0887"
            ],
            [
             0.1111111111111111,
             "#46039f"
            ],
            [
             0.2222222222222222,
             "#7201a8"
            ],
            [
             0.3333333333333333,
             "#9c179e"
            ],
            [
             0.4444444444444444,
             "#bd3786"
            ],
            [
             0.5555555555555556,
             "#d8576b"
            ],
            [
             0.6666666666666666,
             "#ed7953"
            ],
            [
             0.7777777777777778,
             "#fb9f3a"
            ],
            [
             0.8888888888888888,
             "#fdca26"
            ],
            [
             1,
             "#f0f921"
            ]
           ]
          },
          "colorway": [
           "#636efa",
           "#EF553B",
           "#00cc96",
           "#ab63fa",
           "#FFA15A",
           "#19d3f3",
           "#FF6692",
           "#B6E880",
           "#FF97FF",
           "#FECB52"
          ],
          "font": {
           "color": "#2a3f5f"
          },
          "geo": {
           "bgcolor": "white",
           "lakecolor": "white",
           "landcolor": "#E5ECF6",
           "showlakes": true,
           "showland": true,
           "subunitcolor": "white"
          },
          "hoverlabel": {
           "align": "left"
          },
          "hovermode": "closest",
          "mapbox": {
           "style": "light"
          },
          "paper_bgcolor": "white",
          "plot_bgcolor": "#E5ECF6",
          "polar": {
           "angularaxis": {
            "gridcolor": "white",
            "linecolor": "white",
            "ticks": ""
           },
           "bgcolor": "#E5ECF6",
           "radialaxis": {
            "gridcolor": "white",
            "linecolor": "white",
            "ticks": ""
           }
          },
          "scene": {
           "xaxis": {
            "backgroundcolor": "#E5ECF6",
            "gridcolor": "white",
            "gridwidth": 2,
            "linecolor": "white",
            "showbackground": true,
            "ticks": "",
            "zerolinecolor": "white"
           },
           "yaxis": {
            "backgroundcolor": "#E5ECF6",
            "gridcolor": "white",
            "gridwidth": 2,
            "linecolor": "white",
            "showbackground": true,
            "ticks": "",
            "zerolinecolor": "white"
           },
           "zaxis": {
            "backgroundcolor": "#E5ECF6",
            "gridcolor": "white",
            "gridwidth": 2,
            "linecolor": "white",
            "showbackground": true,
            "ticks": "",
            "zerolinecolor": "white"
           }
          },
          "shapedefaults": {
           "line": {
            "color": "#2a3f5f"
           }
          },
          "ternary": {
           "aaxis": {
            "gridcolor": "white",
            "linecolor": "white",
            "ticks": ""
           },
           "baxis": {
            "gridcolor": "white",
            "linecolor": "white",
            "ticks": ""
           },
           "bgcolor": "#E5ECF6",
           "caxis": {
            "gridcolor": "white",
            "linecolor": "white",
            "ticks": ""
           }
          },
          "title": {
           "x": 0.05
          },
          "xaxis": {
           "automargin": true,
           "gridcolor": "white",
           "linecolor": "white",
           "ticks": "",
           "title": {
            "standoff": 15
           },
           "zerolinecolor": "white",
           "zerolinewidth": 2
          },
          "yaxis": {
           "automargin": true,
           "gridcolor": "white",
           "linecolor": "white",
           "ticks": "",
           "title": {
            "standoff": 15
           },
           "zerolinecolor": "white",
           "zerolinewidth": 2
          }
         }
        },
        "xaxis": {
         "anchor": "y",
         "domain": [
          0,
          1
         ],
         "title": {
          "text": "date"
         }
        },
        "yaxis": {
         "anchor": "x",
         "domain": [
          0,
          1
         ],
         "title": {
          "text": "NDCI_median"
         }
        }
       }
      },
      "text/html": [
       "<div>                            <div id=\"eb3db4a1-a623-4419-a24f-53791170c0da\" class=\"plotly-graph-div\" style=\"height:525px; width:100%;\"></div>            <script type=\"text/javascript\">                require([\"plotly\"], function(Plotly) {                    window.PLOTLYENV=window.PLOTLYENV || {};                                    if (document.getElementById(\"eb3db4a1-a623-4419-a24f-53791170c0da\")) {                    Plotly.newPlot(                        \"eb3db4a1-a623-4419-a24f-53791170c0da\",                        [{\"hovertemplate\":\"date=%{x}<br>NDCI_median=%{y}<extra></extra>\",\"legendgroup\":\"\",\"marker\":{\"color\":\"#636efa\",\"symbol\":\"circle\"},\"mode\":\"markers\",\"name\":\"\",\"orientation\":\"v\",\"showlegend\":false,\"x\":[\"2018-12-24T13:40:42\",\"2018-12-29T13:40:40\",\"2019-01-13T13:40:45\",\"2019-01-25T13:30:47\",\"2019-01-28T13:40:43\",\"2019-02-07T13:40:43\",\"2019-02-09T13:30:51\",\"2019-02-14T13:30:47\",\"2019-02-19T13:30:50\",\"2019-02-22T13:40:45\",\"2019-03-01T13:30:49\",\"2019-03-14T13:40:44\",\"2019-03-16T13:30:47\",\"2019-03-19T13:40:44\",\"2019-03-21T13:30:50\",\"2019-03-24T13:40:47\",\"2019-03-26T13:30:50\",\"2019-04-03T13:40:49\",\"2019-04-10T13:30:55\",\"2019-04-30T13:30:58\",\"2019-05-18T13:40:50\",\"2019-05-25T13:30:54\",\"2019-07-07T13:40:51\",\"2019-07-12T13:40:55\",\"2019-08-03T13:30:55\",\"2019-08-06T13:40:50\",\"2019-08-11T13:40:53\",\"2019-08-28T13:30:55\",\"2019-09-02T13:30:51\",\"2019-09-15T13:40:45\",\"2019-09-20T13:40:45\",\"2019-09-22T13:30:51\",\"2019-09-25T13:40:47\",\"2019-09-27T13:30:51\",\"2019-09-30T13:40:47\",\"2019-10-07T13:30:52\",\"2019-10-12T13:30:53\",\"2019-10-25T13:40:49\",\"2019-11-06T13:30:51\",\"2019-11-16T13:30:49\",\"2019-11-19T13:40:44\",\"2019-11-21T13:30:52\",\"2019-11-29T13:40:42\",\"2019-12-01T13:30:49\",\"2019-12-04T13:40:44\",\"2019-12-06T13:30:45\",\"2019-12-09T13:40:40\",\"2019-12-11T13:30:47\",\"2019-12-19T13:40:41\",\"2019-12-24T13:40:40\",\"2019-12-26T13:30:46\",\"2020-01-05T13:30:46\",\"2020-01-08T13:40:41\",\"2020-01-10T13:30:45\",\"2020-01-18T13:40:40\",\"2020-01-20T13:30:44\",\"2020-01-25T13:30:44\",\"2020-02-02T13:40:38\",\"2020-02-07T13:40:40\",\"2020-02-12T13:40:39\",\"2020-02-22T13:40:41\",\"2020-02-24T13:30:47\",\"2020-02-27T13:40:43\",\"2020-02-29T13:30:46\",\"2020-03-03T13:40:42\",\"2020-03-05T13:30:48\",\"2020-03-08T13:40:44\",\"2020-03-10T13:30:47\",\"2020-03-13T13:40:42\",\"2020-03-23T13:40:42\",\"2020-03-25T13:30:48\",\"2020-03-28T13:40:44\",\"2020-03-30T13:30:47\",\"2020-04-04T13:30:42\",\"2020-04-04T13:30:49\",\"2020-04-07T13:40:43\",\"2020-04-12T13:40:45\",\"2020-04-19T13:30:51\",\"2020-05-02T13:40:49\",\"2020-05-04T13:30:48\",\"2020-05-07T13:40:44\",\"2020-05-09T13:30:55\",\"2020-05-14T13:30:50\",\"2020-05-17T13:40:46\",\"2020-05-19T13:30:56\",\"2020-05-27T13:40:47\",\"2020-05-29T13:30:57\",\"2020-06-01T13:40:52\",\"2020-06-08T13:30:57\",\"2020-06-16T13:40:49\",\"2020-06-21T13:40:52\",\"2020-06-28T13:30:56\",\"2020-07-03T13:30:53\",\"2020-07-13T13:30:52\",\"2020-07-18T13:30:56\",\"2020-07-26T13:40:49\",\"2020-07-31T13:40:52\",\"2020-08-05T13:40:49\",\"2020-08-10T13:40:52\",\"2020-08-17T13:30:56\",\"2020-08-22T13:30:54\",\"2020-09-21T13:30:53\",\"2020-09-24T13:40:49\",\"2020-09-29T13:40:52\",\"2020-10-06T13:30:56\",\"2020-10-11T13:30:54\",\"2020-10-14T13:40:50\",\"2020-10-19T13:40:52\",\"2020-11-20T13:30:51\",\"2020-11-23T13:40:46\",\"2020-12-10T13:30:48\",\"2020-12-15T13:30:48\",\"2020-12-18T13:40:44\",\"2020-12-23T13:40:43\",\"2020-12-30T13:30:49\",\"2021-01-02T13:40:45\",\"2021-01-04T13:30:51\",\"2021-01-09T13:30:50\",\"2021-01-19T13:30:50\",\"2021-01-24T13:30:51\",\"2021-02-06T13:40:45\",\"2021-02-08T13:30:50\",\"2021-02-13T13:30:49\",\"2021-02-21T13:40:44\",\"2021-02-26T13:40:46\",\"2021-03-10T13:30:50\",\"2021-03-13T13:40:45\",\"2021-03-20T13:30:50\",\"2021-03-25T13:30:49\",\"2021-04-04T13:30:47\",\"2021-04-07T13:40:42\",\"2021-04-09T13:30:48\",\"2021-04-14T13:30:45\",\"2021-04-19T13:30:46\",\"2021-04-22T13:40:40\",\"2021-04-27T13:40:43\",\"2021-04-29T13:30:46\",\"2021-05-02T13:40:43\",\"2021-05-07T13:40:45\",\"2021-05-09T13:30:49\",\"2021-05-12T13:40:45\",\"2021-05-24T13:30:51\",\"2021-05-27T13:40:47\",\"2021-05-29T13:30:51\",\"2021-06-01T13:40:47\",\"2021-06-03T13:30:51\",\"2021-06-13T13:30:51\",\"2021-06-16T13:40:46\",\"2021-07-03T13:30:53\",\"2021-07-08T13:30:52\",\"2021-07-11T13:40:48\",\"2021-07-16T13:40:49\",\"2021-07-18T13:30:53\",\"2021-07-21T13:40:48\",\"2021-07-23T13:30:54\",\"2021-07-31T13:40:48\",\"2021-08-07T13:30:52\",\"2021-08-27T13:30:49\",\"2021-08-30T13:40:43\",\"2021-09-26T13:30:49\",\"2021-10-14T13:40:45\",\"2021-10-19T13:40:48\",\"2021-10-21T13:30:56\",\"2021-10-24T13:40:51\",\"2021-10-26T13:30:52\",\"2021-10-29T13:40:47\",\"2021-10-31T13:30:55\",\"2021-11-08T13:40:46\",\"2021-11-13T13:40:48\",\"2021-11-20T13:30:51\",\"2021-12-10T13:30:49\",\"2021-12-20T13:30:52\",\"2021-12-23T13:40:47\",\"2021-12-25T13:30:46\",\"2021-12-28T13:40:42\",\"2021-12-30T13:30:52\",\"2022-01-12T13:40:47\",\"2022-01-14T13:30:46\",\"2022-01-19T13:30:51\",\"2022-01-24T13:30:45\",\"2022-01-29T13:30:51\",\"2022-02-03T13:30:45\",\"2022-02-11T13:40:45\",\"2022-02-16T13:40:40\",\"2022-02-18T13:30:52\",\"2022-02-26T13:40:42\",\"2022-03-03T13:40:50\",\"2022-03-05T13:30:48\",\"2022-03-28T13:40:43\",\"2022-04-02T13:40:48\",\"2022-04-14T13:30:47\",\"2022-04-19T13:30:55\",\"2022-04-22T13:40:51\",\"2022-04-24T13:30:45\",\"2022-04-29T13:30:56\",\"2022-05-07T13:40:43\",\"2022-05-09T13:30:55\",\"2022-05-12T13:40:49\"],\"xaxis\":\"x\",\"y\":[-0.04394352467627451,-0.02204682542327853,0.029204641612020642,-0.031645816765635666,-0.03612334085804092,-0.05971800290582487,-0.026827798732440157,-0.1012992786743374,-0.1047981059585857,-0.04072382903561589,-0.13398340463525787,-0.08097386540981658,-0.05936323622601756,0.03518722737232209,-0.09879453653471433,-0.09510460713652494,-0.08911179850587092,-0.03686293297691746,-0.11746770015168828,0.01235888170246704,-0.04649155662675891,-0.06290374119358924,-0.11903614148274404,-0.08125877432123522,-0.01964837215287604,-0.025624625489169238,-0.04528512089525209,-0.0395545212923866,-0.07333437516278586,-0.009407560047640831,0.01776955096527532,-0.03945485311902269,-0.04612130464150749,-0.014327130632221635,-0.03584998835931613,-0.006588787344935625,-0.033752067997056594,0.03687361236053867,0.008569756649257005,0.005071854611844601,-0.014226624248237283,-0.02301092304729477,-0.06142990876625563,-0.0317931068625913,-0.010931840128484778,-0.07115068164254643,-0.00594421582075901,-0.021985750797275782,-0.012079750184832086,-0.0021524447402848086,0.02975250566242041,-0.07082594871700319,0.019181466385035994,0.024039183805851735,-0.010878004113607018,0.0612205607787301,-0.030085820692471166,-0.011105843009287233,0.021883218431434273,-0.05586624761888931,0.024169792886505916,-0.10185220625888192,-0.058057721825018435,-0.04333333333333336,-0.061105773573998795,-0.07675973579846633,-0.050265864069350144,0.020706455542021926,-0.05199236650302622,-0.07172113494490816,-0.10211428405037286,0.022729698460067206,-0.07519599154469012,-0.08292270831894383,-0.08300317101905487,-0.14732909459835064,-0.09246239476366765,-0.12682055712208312,-0.09743807681702575,-0.09159959664921406,-0.1330318499127909,-0.132140429071937,-0.044456578444267446,-0.1304143137273057,-0.08243804376972196,-0.13178294573643404,-0.12816682084631026,-0.09336201156751985,0.014077996703669934,-0.08234061632888622,-0.0729703264816796,-0.08422433943767049,0.00039348887663629166,-0.0144395821050554,-0.04142136253180992,-0.09517381964103451,-0.06989010314311515,-0.04047711256823526,-0.051779965200074114,-0.06144934669429627,-0.07017586050441457,-0.06035771892604866,-0.03205175362980425,-0.019074374659168274,-0.020081069660762153,-0.02237147235964144,-0.014183430903460232,-0.032534012740724656,0.022009377899080265,-0.01349723003982753,0.006002558439420557,0.0425826564333692,0.023025121351718976,0.01913935881691852,0.04229228876306583,0.014997038261037519,-0.004738244119599076,0.038817841824874105,-0.006135166361567165,-0.03978936672131883,-0.03424132808388457,-0.05211915633936798,-0.034898840008972205,-0.016851454331666474,-0.03801919815268254,-0.028439093904604695,0.01016850450762497,-0.09102105031023283,-0.08967305662224806,-0.06763526992500249,-0.041534570173551597,-0.047895356320960175,-0.08573171634587323,-0.061225740368692924,-0.08460316558241499,-0.09923884328913946,-0.0593905224695577,-0.05050885601097827,-0.03007278596886617,-0.08908114524119008,-0.06716631915443215,-0.11747764011284557,-0.1087989509518588,-0.08126671798495923,-0.014840865139370319,-0.031374607154568274,-0.06940386461064865,-0.057019925793936534,-0.015739115273835202,-0.019076405482351635,0.022761557911424476,-0.02967367096809936,-0.05491207693289301,-0.07526721299274174,-0.06529589906046758,-0.11167337358860335,-0.07176490282353347,0.013040850096228952,-0.011483248467253066,-0.021893876255646483,-0.027780613051034377,0.02884929309551062,-0.05785097978796756,-0.03846610688429026,-0.04475077886372429,-0.016972677370754224,-0.04222555195727746,-0.008054759339586036,-0.029223856296402964,-0.059472146565722715,-0.02905758699272006,-0.06602263623043966,0.033392024806180795,-0.07593835829560892,-0.03249688431852491,-0.0465937977495457,0.03477858586305765,0.08432873983955183,-0.0017571513640432174,0.043977385319010034,-0.0215863476359712,0.02869694963810884,-0.005467647441988284,-0.012828297152074054,-0.018242533011484603,0.0014908478272486487,-0.020643514032753264,-0.0017942071982195939,-0.02265939877059634,-0.02615520233291381,-0.02874284196230204,-0.016665664231986965,-0.00939422647955088,-0.02039303576734979,-0.02912598809228701,-0.007150038323619467,-0.01769830986896689,-0.023886779995022544],\"yaxis\":\"y\",\"type\":\"scatter\"}],                        {\"template\":{\"data\":{\"bar\":[{\"error_x\":{\"color\":\"#2a3f5f\"},\"error_y\":{\"color\":\"#2a3f5f\"},\"marker\":{\"line\":{\"color\":\"#E5ECF6\",\"width\":0.5},\"pattern\":{\"fillmode\":\"overlay\",\"size\":10,\"solidity\":0.2}},\"type\":\"bar\"}],\"barpolar\":[{\"marker\":{\"line\":{\"color\":\"#E5ECF6\",\"width\":0.5},\"pattern\":{\"fillmode\":\"overlay\",\"size\":10,\"solidity\":0.2}},\"type\":\"barpolar\"}],\"carpet\":[{\"aaxis\":{\"endlinecolor\":\"#2a3f5f\",\"gridcolor\":\"white\",\"linecolor\":\"white\",\"minorgridcolor\":\"white\",\"startlinecolor\":\"#2a3f5f\"},\"baxis\":{\"endlinecolor\":\"#2a3f5f\",\"gridcolor\":\"white\",\"linecolor\":\"white\",\"minorgridcolor\":\"white\",\"startlinecolor\":\"#2a3f5f\"},\"type\":\"carpet\"}],\"choropleth\":[{\"colorbar\":{\"outlinewidth\":0,\"ticks\":\"\"},\"type\":\"choropleth\"}],\"contour\":[{\"colorbar\":{\"outlinewidth\":0,\"ticks\":\"\"},\"colorscale\":[[0.0,\"#0d0887\"],[0.1111111111111111,\"#46039f\"],[0.2222222222222222,\"#7201a8\"],[0.3333333333333333,\"#9c179e\"],[0.4444444444444444,\"#bd3786\"],[0.5555555555555556,\"#d8576b\"],[0.6666666666666666,\"#ed7953\"],[0.7777777777777778,\"#fb9f3a\"],[0.8888888888888888,\"#fdca26\"],[1.0,\"#f0f921\"]],\"type\":\"contour\"}],\"contourcarpet\":[{\"colorbar\":{\"outlinewidth\":0,\"ticks\":\"\"},\"type\":\"contourcarpet\"}],\"heatmap\":[{\"colorbar\":{\"outlinewidth\":0,\"ticks\":\"\"},\"colorscale\":[[0.0,\"#0d0887\"],[0.1111111111111111,\"#46039f\"],[0.2222222222222222,\"#7201a8\"],[0.3333333333333333,\"#9c179e\"],[0.4444444444444444,\"#bd3786\"],[0.5555555555555556,\"#d8576b\"],[0.6666666666666666,\"#ed7953\"],[0.7777777777777778,\"#fb9f3a\"],[0.8888888888888888,\"#fdca26\"],[1.0,\"#f0f921\"]],\"type\":\"heatmap\"}],\"heatmapgl\":[{\"colorbar\":{\"outlinewidth\":0,\"ticks\":\"\"},\"colorscale\":[[0.0,\"#0d0887\"],[0.1111111111111111,\"#46039f\"],[0.2222222222222222,\"#7201a8\"],[0.3333333333333333,\"#9c179e\"],[0.4444444444444444,\"#bd3786\"],[0.5555555555555556,\"#d8576b\"],[0.6666666666666666,\"#ed7953\"],[0.7777777777777778,\"#fb9f3a\"],[0.8888888888888888,\"#fdca26\"],[1.0,\"#f0f921\"]],\"type\":\"heatmapgl\"}],\"histogram\":[{\"marker\":{\"pattern\":{\"fillmode\":\"overlay\",\"size\":10,\"solidity\":0.2}},\"type\":\"histogram\"}],\"histogram2d\":[{\"colorbar\":{\"outlinewidth\":0,\"ticks\":\"\"},\"colorscale\":[[0.0,\"#0d0887\"],[0.1111111111111111,\"#46039f\"],[0.2222222222222222,\"#7201a8\"],[0.3333333333333333,\"#9c179e\"],[0.4444444444444444,\"#bd3786\"],[0.5555555555555556,\"#d8576b\"],[0.6666666666666666,\"#ed7953\"],[0.7777777777777778,\"#fb9f3a\"],[0.8888888888888888,\"#fdca26\"],[1.0,\"#f0f921\"]],\"type\":\"histogram2d\"}],\"histogram2dcontour\":[{\"colorbar\":{\"outlinewidth\":0,\"ticks\":\"\"},\"colorscale\":[[0.0,\"#0d0887\"],[0.1111111111111111,\"#46039f\"],[0.2222222222222222,\"#7201a8\"],[0.3333333333333333,\"#9c179e\"],[0.4444444444444444,\"#bd3786\"],[0.5555555555555556,\"#d8576b\"],[0.6666666666666666,\"#ed7953\"],[0.7777777777777778,\"#fb9f3a\"],[0.8888888888888888,\"#fdca26\"],[1.0,\"#f0f921\"]],\"type\":\"histogram2dcontour\"}],\"mesh3d\":[{\"colorbar\":{\"outlinewidth\":0,\"ticks\":\"\"},\"type\":\"mesh3d\"}],\"parcoords\":[{\"line\":{\"colorbar\":{\"outlinewidth\":0,\"ticks\":\"\"}},\"type\":\"parcoords\"}],\"pie\":[{\"automargin\":true,\"type\":\"pie\"}],\"scatter\":[{\"marker\":{\"colorbar\":{\"outlinewidth\":0,\"ticks\":\"\"}},\"type\":\"scatter\"}],\"scatter3d\":[{\"line\":{\"colorbar\":{\"outlinewidth\":0,\"ticks\":\"\"}},\"marker\":{\"colorbar\":{\"outlinewidth\":0,\"ticks\":\"\"}},\"type\":\"scatter3d\"}],\"scattercarpet\":[{\"marker\":{\"colorbar\":{\"outlinewidth\":0,\"ticks\":\"\"}},\"type\":\"scattercarpet\"}],\"scattergeo\":[{\"marker\":{\"colorbar\":{\"outlinewidth\":0,\"ticks\":\"\"}},\"type\":\"scattergeo\"}],\"scattergl\":[{\"marker\":{\"colorbar\":{\"outlinewidth\":0,\"ticks\":\"\"}},\"type\":\"scattergl\"}],\"scattermapbox\":[{\"marker\":{\"colorbar\":{\"outlinewidth\":0,\"ticks\":\"\"}},\"type\":\"scattermapbox\"}],\"scatterpolar\":[{\"marker\":{\"colorbar\":{\"outlinewidth\":0,\"ticks\":\"\"}},\"type\":\"scatterpolar\"}],\"scatterpolargl\":[{\"marker\":{\"colorbar\":{\"outlinewidth\":0,\"ticks\":\"\"}},\"type\":\"scatterpolargl\"}],\"scatterternary\":[{\"marker\":{\"colorbar\":{\"outlinewidth\":0,\"ticks\":\"\"}},\"type\":\"scatterternary\"}],\"surface\":[{\"colorbar\":{\"outlinewidth\":0,\"ticks\":\"\"},\"colorscale\":[[0.0,\"#0d0887\"],[0.1111111111111111,\"#46039f\"],[0.2222222222222222,\"#7201a8\"],[0.3333333333333333,\"#9c179e\"],[0.4444444444444444,\"#bd3786\"],[0.5555555555555556,\"#d8576b\"],[0.6666666666666666,\"#ed7953\"],[0.7777777777777778,\"#fb9f3a\"],[0.8888888888888888,\"#fdca26\"],[1.0,\"#f0f921\"]],\"type\":\"surface\"}],\"table\":[{\"cells\":{\"fill\":{\"color\":\"#EBF0F8\"},\"line\":{\"color\":\"white\"}},\"header\":{\"fill\":{\"color\":\"#C8D4E3\"},\"line\":{\"color\":\"white\"}},\"type\":\"table\"}]},\"layout\":{\"annotationdefaults\":{\"arrowcolor\":\"#2a3f5f\",\"arrowhead\":0,\"arrowwidth\":1},\"autotypenumbers\":\"strict\",\"coloraxis\":{\"colorbar\":{\"outlinewidth\":0,\"ticks\":\"\"}},\"colorscale\":{\"diverging\":[[0,\"#8e0152\"],[0.1,\"#c51b7d\"],[0.2,\"#de77ae\"],[0.3,\"#f1b6da\"],[0.4,\"#fde0ef\"],[0.5,\"#f7f7f7\"],[0.6,\"#e6f5d0\"],[0.7,\"#b8e186\"],[0.8,\"#7fbc41\"],[0.9,\"#4d9221\"],[1,\"#276419\"]],\"sequential\":[[0.0,\"#0d0887\"],[0.1111111111111111,\"#46039f\"],[0.2222222222222222,\"#7201a8\"],[0.3333333333333333,\"#9c179e\"],[0.4444444444444444,\"#bd3786\"],[0.5555555555555556,\"#d8576b\"],[0.6666666666666666,\"#ed7953\"],[0.7777777777777778,\"#fb9f3a\"],[0.8888888888888888,\"#fdca26\"],[1.0,\"#f0f921\"]],\"sequentialminus\":[[0.0,\"#0d0887\"],[0.1111111111111111,\"#46039f\"],[0.2222222222222222,\"#7201a8\"],[0.3333333333333333,\"#9c179e\"],[0.4444444444444444,\"#bd3786\"],[0.5555555555555556,\"#d8576b\"],[0.6666666666666666,\"#ed7953\"],[0.7777777777777778,\"#fb9f3a\"],[0.8888888888888888,\"#fdca26\"],[1.0,\"#f0f921\"]]},\"colorway\":[\"#636efa\",\"#EF553B\",\"#00cc96\",\"#ab63fa\",\"#FFA15A\",\"#19d3f3\",\"#FF6692\",\"#B6E880\",\"#FF97FF\",\"#FECB52\"],\"font\":{\"color\":\"#2a3f5f\"},\"geo\":{\"bgcolor\":\"white\",\"lakecolor\":\"white\",\"landcolor\":\"#E5ECF6\",\"showlakes\":true,\"showland\":true,\"subunitcolor\":\"white\"},\"hoverlabel\":{\"align\":\"left\"},\"hovermode\":\"closest\",\"mapbox\":{\"style\":\"light\"},\"paper_bgcolor\":\"white\",\"plot_bgcolor\":\"#E5ECF6\",\"polar\":{\"angularaxis\":{\"gridcolor\":\"white\",\"linecolor\":\"white\",\"ticks\":\"\"},\"bgcolor\":\"#E5ECF6\",\"radialaxis\":{\"gridcolor\":\"white\",\"linecolor\":\"white\",\"ticks\":\"\"}},\"scene\":{\"xaxis\":{\"backgroundcolor\":\"#E5ECF6\",\"gridcolor\":\"white\",\"gridwidth\":2,\"linecolor\":\"white\",\"showbackground\":true,\"ticks\":\"\",\"zerolinecolor\":\"white\"},\"yaxis\":{\"backgroundcolor\":\"#E5ECF6\",\"gridcolor\":\"white\",\"gridwidth\":2,\"linecolor\":\"white\",\"showbackground\":true,\"ticks\":\"\",\"zerolinecolor\":\"white\"},\"zaxis\":{\"backgroundcolor\":\"#E5ECF6\",\"gridcolor\":\"white\",\"gridwidth\":2,\"linecolor\":\"white\",\"showbackground\":true,\"ticks\":\"\",\"zerolinecolor\":\"white\"}},\"shapedefaults\":{\"line\":{\"color\":\"#2a3f5f\"}},\"ternary\":{\"aaxis\":{\"gridcolor\":\"white\",\"linecolor\":\"white\",\"ticks\":\"\"},\"baxis\":{\"gridcolor\":\"white\",\"linecolor\":\"white\",\"ticks\":\"\"},\"bgcolor\":\"#E5ECF6\",\"caxis\":{\"gridcolor\":\"white\",\"linecolor\":\"white\",\"ticks\":\"\"}},\"title\":{\"x\":0.05},\"xaxis\":{\"automargin\":true,\"gridcolor\":\"white\",\"linecolor\":\"white\",\"ticks\":\"\",\"title\":{\"standoff\":15},\"zerolinecolor\":\"white\",\"zerolinewidth\":2},\"yaxis\":{\"automargin\":true,\"gridcolor\":\"white\",\"linecolor\":\"white\",\"ticks\":\"\",\"title\":{\"standoff\":15},\"zerolinecolor\":\"white\",\"zerolinewidth\":2}}},\"xaxis\":{\"anchor\":\"y\",\"domain\":[0.0,1.0],\"title\":{\"text\":\"date\"}},\"yaxis\":{\"anchor\":\"x\",\"domain\":[0.0,1.0],\"title\":{\"text\":\"NDCI_median\"}},\"legend\":{\"tracegroupgap\":0},\"margin\":{\"t\":60}},                        {\"responsive\": true}                    ).then(function(){\n",
       "                            \n",
       "var gd = document.getElementById('eb3db4a1-a623-4419-a24f-53791170c0da');\n",
       "var x = new MutationObserver(function (mutations, observer) {{\n",
       "        var display = window.getComputedStyle(gd).display;\n",
       "        if (!display || display === 'none') {{\n",
       "            console.log([gd, 'removed!']);\n",
       "            Plotly.purge(gd);\n",
       "            observer.disconnect();\n",
       "        }}\n",
       "}});\n",
       "\n",
       "// Listen for the removal of the full notebook cells\n",
       "var notebookContainer = gd.closest('#notebook-container');\n",
       "if (notebookContainer) {{\n",
       "    x.observe(notebookContainer, {childList: true});\n",
       "}}\n",
       "\n",
       "// Listen for the clearing of the current output cell\n",
       "var outputEl = gd.closest('.output');\n",
       "if (outputEl) {{\n",
       "    x.observe(outputEl, {childList: true});\n",
       "}}\n",
       "\n",
       "                        })                };                });            </script>        </div>"
      ]
     },
     "metadata": {},
     "output_type": "display_data"
    }
   ],
   "source": [
    "px.scatter(df_ndci, x=\"date\", y=\"NDCI_median\")"
   ]
  },
  {
   "cell_type": "code",
   "execution_count": 180,
   "metadata": {},
   "outputs": [],
   "source": [
    "df_gee = df_ndvi.merge(df_ndci, on=[\"millis\", \"date\"])"
   ]
  },
  {
   "cell_type": "code",
   "execution_count": 181,
   "metadata": {},
   "outputs": [
    {
     "data": {
      "text/html": [
       "<div>\n",
       "<style scoped>\n",
       "    .dataframe tbody tr th:only-of-type {\n",
       "        vertical-align: middle;\n",
       "    }\n",
       "\n",
       "    .dataframe tbody tr th {\n",
       "        vertical-align: top;\n",
       "    }\n",
       "\n",
       "    .dataframe thead th {\n",
       "        text-align: right;\n",
       "    }\n",
       "</style>\n",
       "<table border=\"1\" class=\"dataframe\">\n",
       "  <thead>\n",
       "    <tr style=\"text-align: right;\">\n",
       "      <th></th>\n",
       "      <th>millis</th>\n",
       "      <th>date</th>\n",
       "      <th>NDVI_min</th>\n",
       "      <th>NDVI_max</th>\n",
       "      <th>NDVI_mean</th>\n",
       "      <th>NDVI_median</th>\n",
       "      <th>NDVI_stdDev</th>\n",
       "      <th>NDCI_min</th>\n",
       "      <th>NDCI_max</th>\n",
       "      <th>NDCI_mean</th>\n",
       "      <th>NDCI_median</th>\n",
       "      <th>NDCI_stdDev</th>\n",
       "    </tr>\n",
       "  </thead>\n",
       "  <tbody>\n",
       "    <tr>\n",
       "      <th>0</th>\n",
       "      <td>1545658842000</td>\n",
       "      <td>2018-12-24 13:40:42</td>\n",
       "      <td>-0.586489</td>\n",
       "      <td>0.031217</td>\n",
       "      <td>-0.277986</td>\n",
       "      <td>-0.279614</td>\n",
       "      <td>0.085956</td>\n",
       "      <td>-0.153374</td>\n",
       "      <td>0.104317</td>\n",
       "      <td>-0.041278</td>\n",
       "      <td>-0.043944</td>\n",
       "      <td>0.025978</td>\n",
       "    </tr>\n",
       "    <tr>\n",
       "      <th>1</th>\n",
       "      <td>1546090840000</td>\n",
       "      <td>2018-12-29 13:40:40</td>\n",
       "      <td>-0.253764</td>\n",
       "      <td>-0.186165</td>\n",
       "      <td>-0.225873</td>\n",
       "      <td>-0.228663</td>\n",
       "      <td>0.014526</td>\n",
       "      <td>-0.037541</td>\n",
       "      <td>-0.005307</td>\n",
       "      <td>-0.022225</td>\n",
       "      <td>-0.022047</td>\n",
       "      <td>0.005300</td>\n",
       "    </tr>\n",
       "    <tr>\n",
       "      <th>2</th>\n",
       "      <td>1547386845000</td>\n",
       "      <td>2019-01-13 13:40:45</td>\n",
       "      <td>-0.376233</td>\n",
       "      <td>0.100970</td>\n",
       "      <td>0.015251</td>\n",
       "      <td>0.020257</td>\n",
       "      <td>0.049139</td>\n",
       "      <td>-0.021277</td>\n",
       "      <td>0.077296</td>\n",
       "      <td>0.028922</td>\n",
       "      <td>0.029205</td>\n",
       "      <td>0.014447</td>\n",
       "    </tr>\n",
       "    <tr>\n",
       "      <th>3</th>\n",
       "      <td>1548423047000</td>\n",
       "      <td>2019-01-25 13:30:47</td>\n",
       "      <td>-0.591954</td>\n",
       "      <td>0.021592</td>\n",
       "      <td>-0.512259</td>\n",
       "      <td>-0.521400</td>\n",
       "      <td>0.085056</td>\n",
       "      <td>-0.143822</td>\n",
       "      <td>0.101890</td>\n",
       "      <td>-0.030640</td>\n",
       "      <td>-0.031646</td>\n",
       "      <td>0.020816</td>\n",
       "    </tr>\n",
       "    <tr>\n",
       "      <th>4</th>\n",
       "      <td>1548682843000</td>\n",
       "      <td>2019-01-28 13:40:43</td>\n",
       "      <td>-0.565017</td>\n",
       "      <td>0.015712</td>\n",
       "      <td>-0.438463</td>\n",
       "      <td>-0.450631</td>\n",
       "      <td>0.089356</td>\n",
       "      <td>-0.097502</td>\n",
       "      <td>0.170153</td>\n",
       "      <td>-0.034595</td>\n",
       "      <td>-0.036123</td>\n",
       "      <td>0.026164</td>\n",
       "    </tr>\n",
       "    <tr>\n",
       "      <th>...</th>\n",
       "      <td>...</td>\n",
       "      <td>...</td>\n",
       "      <td>...</td>\n",
       "      <td>...</td>\n",
       "      <td>...</td>\n",
       "      <td>...</td>\n",
       "      <td>...</td>\n",
       "      <td>...</td>\n",
       "      <td>...</td>\n",
       "      <td>...</td>\n",
       "      <td>...</td>\n",
       "      <td>...</td>\n",
       "    </tr>\n",
       "    <tr>\n",
       "      <th>193</th>\n",
       "      <td>1650807045250</td>\n",
       "      <td>2022-04-24 13:30:45</td>\n",
       "      <td>-0.137812</td>\n",
       "      <td>-0.094512</td>\n",
       "      <td>-0.128355</td>\n",
       "      <td>-0.129987</td>\n",
       "      <td>0.006810</td>\n",
       "      <td>-0.043509</td>\n",
       "      <td>-0.002809</td>\n",
       "      <td>-0.020015</td>\n",
       "      <td>-0.020393</td>\n",
       "      <td>0.003762</td>\n",
       "    </tr>\n",
       "    <tr>\n",
       "      <th>194</th>\n",
       "      <td>1651239056300</td>\n",
       "      <td>2022-04-29 13:30:56</td>\n",
       "      <td>-0.156018</td>\n",
       "      <td>-0.114633</td>\n",
       "      <td>-0.142452</td>\n",
       "      <td>-0.143674</td>\n",
       "      <td>0.006458</td>\n",
       "      <td>-0.043827</td>\n",
       "      <td>-0.017696</td>\n",
       "      <td>-0.028983</td>\n",
       "      <td>-0.029126</td>\n",
       "      <td>0.003615</td>\n",
       "    </tr>\n",
       "    <tr>\n",
       "      <th>195</th>\n",
       "      <td>1651930843010</td>\n",
       "      <td>2022-05-07 13:40:43</td>\n",
       "      <td>-0.193469</td>\n",
       "      <td>-0.010076</td>\n",
       "      <td>-0.113817</td>\n",
       "      <td>-0.110856</td>\n",
       "      <td>0.038607</td>\n",
       "      <td>-0.023400</td>\n",
       "      <td>0.029009</td>\n",
       "      <td>-0.007149</td>\n",
       "      <td>-0.007150</td>\n",
       "      <td>0.007053</td>\n",
       "    </tr>\n",
       "    <tr>\n",
       "      <th>196</th>\n",
       "      <td>1652103055120</td>\n",
       "      <td>2022-05-09 13:30:55</td>\n",
       "      <td>-0.185109</td>\n",
       "      <td>-0.064431</td>\n",
       "      <td>-0.170978</td>\n",
       "      <td>-0.173068</td>\n",
       "      <td>0.013165</td>\n",
       "      <td>-0.031863</td>\n",
       "      <td>0.018947</td>\n",
       "      <td>-0.017292</td>\n",
       "      <td>-0.017698</td>\n",
       "      <td>0.005595</td>\n",
       "    </tr>\n",
       "    <tr>\n",
       "      <th>197</th>\n",
       "      <td>1652362849938</td>\n",
       "      <td>2022-05-12 13:40:49</td>\n",
       "      <td>-0.164681</td>\n",
       "      <td>-0.105192</td>\n",
       "      <td>-0.154551</td>\n",
       "      <td>-0.155120</td>\n",
       "      <td>0.006801</td>\n",
       "      <td>-0.032298</td>\n",
       "      <td>-0.010163</td>\n",
       "      <td>-0.023651</td>\n",
       "      <td>-0.023887</td>\n",
       "      <td>0.003510</td>\n",
       "    </tr>\n",
       "  </tbody>\n",
       "</table>\n",
       "<p>198 rows × 12 columns</p>\n",
       "</div>"
      ],
      "text/plain": [
       "            millis                date  NDVI_min  NDVI_max  NDVI_mean  \\\n",
       "0    1545658842000 2018-12-24 13:40:42 -0.586489  0.031217  -0.277986   \n",
       "1    1546090840000 2018-12-29 13:40:40 -0.253764 -0.186165  -0.225873   \n",
       "2    1547386845000 2019-01-13 13:40:45 -0.376233  0.100970   0.015251   \n",
       "3    1548423047000 2019-01-25 13:30:47 -0.591954  0.021592  -0.512259   \n",
       "4    1548682843000 2019-01-28 13:40:43 -0.565017  0.015712  -0.438463   \n",
       "..             ...                 ...       ...       ...        ...   \n",
       "193  1650807045250 2022-04-24 13:30:45 -0.137812 -0.094512  -0.128355   \n",
       "194  1651239056300 2022-04-29 13:30:56 -0.156018 -0.114633  -0.142452   \n",
       "195  1651930843010 2022-05-07 13:40:43 -0.193469 -0.010076  -0.113817   \n",
       "196  1652103055120 2022-05-09 13:30:55 -0.185109 -0.064431  -0.170978   \n",
       "197  1652362849938 2022-05-12 13:40:49 -0.164681 -0.105192  -0.154551   \n",
       "\n",
       "     NDVI_median  NDVI_stdDev  NDCI_min  NDCI_max  NDCI_mean  NDCI_median  \\\n",
       "0      -0.279614     0.085956 -0.153374  0.104317  -0.041278    -0.043944   \n",
       "1      -0.228663     0.014526 -0.037541 -0.005307  -0.022225    -0.022047   \n",
       "2       0.020257     0.049139 -0.021277  0.077296   0.028922     0.029205   \n",
       "3      -0.521400     0.085056 -0.143822  0.101890  -0.030640    -0.031646   \n",
       "4      -0.450631     0.089356 -0.097502  0.170153  -0.034595    -0.036123   \n",
       "..           ...          ...       ...       ...        ...          ...   \n",
       "193    -0.129987     0.006810 -0.043509 -0.002809  -0.020015    -0.020393   \n",
       "194    -0.143674     0.006458 -0.043827 -0.017696  -0.028983    -0.029126   \n",
       "195    -0.110856     0.038607 -0.023400  0.029009  -0.007149    -0.007150   \n",
       "196    -0.173068     0.013165 -0.031863  0.018947  -0.017292    -0.017698   \n",
       "197    -0.155120     0.006801 -0.032298 -0.010163  -0.023651    -0.023887   \n",
       "\n",
       "     NDCI_stdDev  \n",
       "0       0.025978  \n",
       "1       0.005300  \n",
       "2       0.014447  \n",
       "3       0.020816  \n",
       "4       0.026164  \n",
       "..           ...  \n",
       "193     0.003762  \n",
       "194     0.003615  \n",
       "195     0.007053  \n",
       "196     0.005595  \n",
       "197     0.003510  \n",
       "\n",
       "[198 rows x 12 columns]"
      ]
     },
     "execution_count": 181,
     "metadata": {},
     "output_type": "execute_result"
    }
   ],
   "source": [
    "df_gee"
   ]
  },
  {
   "cell_type": "markdown",
   "metadata": {},
   "source": [
    "### 3.2. Cruzando com dados da Viligância"
   ]
  },
  {
   "cell_type": "code",
   "execution_count": 182,
   "metadata": {},
   "outputs": [],
   "source": [
    "captacao = ciano_vigi.loc[ciano_vigi[\"Nome da ETA / UTA\"] == \"MOINHOS DE VENTO\",\n",
    "                          [\"Data da coleta\",\"Nome da ETA / UTA\", \"Resultado\", \"week\"]].reset_index(drop=True)\n",
    "\n",
    "df_gee[\"week\"] = pd.to_datetime(df_gee[\"date\"]).dt.to_period(\"W\")\n",
    "\n",
    "captacao_gee = pd.merge(captacao, df_gee, on=\"week\")"
   ]
  },
  {
   "cell_type": "code",
   "execution_count": 183,
   "metadata": {},
   "outputs": [
    {
     "data": {
      "text/html": [
       "<div>\n",
       "<style scoped>\n",
       "    .dataframe tbody tr th:only-of-type {\n",
       "        vertical-align: middle;\n",
       "    }\n",
       "\n",
       "    .dataframe tbody tr th {\n",
       "        vertical-align: top;\n",
       "    }\n",
       "\n",
       "    .dataframe thead th {\n",
       "        text-align: right;\n",
       "    }\n",
       "</style>\n",
       "<table border=\"1\" class=\"dataframe\">\n",
       "  <thead>\n",
       "    <tr style=\"text-align: right;\">\n",
       "      <th></th>\n",
       "      <th>Data da coleta</th>\n",
       "      <th>Nome da ETA / UTA</th>\n",
       "      <th>Resultado</th>\n",
       "      <th>week</th>\n",
       "    </tr>\n",
       "  </thead>\n",
       "  <tbody>\n",
       "    <tr>\n",
       "      <th>0</th>\n",
       "      <td>2014-01-27 00:00:00</td>\n",
       "      <td>MOINHOS DE VENTO</td>\n",
       "      <td>42.0</td>\n",
       "      <td>2014-01-27/2014-02-02</td>\n",
       "    </tr>\n",
       "    <tr>\n",
       "      <th>1</th>\n",
       "      <td>2014-03-11 00:00:00</td>\n",
       "      <td>MOINHOS DE VENTO</td>\n",
       "      <td>79.0</td>\n",
       "      <td>2014-03-10/2014-03-16</td>\n",
       "    </tr>\n",
       "    <tr>\n",
       "      <th>2</th>\n",
       "      <td>2014-06-16 00:00:00</td>\n",
       "      <td>MOINHOS DE VENTO</td>\n",
       "      <td>380.0</td>\n",
       "      <td>2014-06-16/2014-06-22</td>\n",
       "    </tr>\n",
       "    <tr>\n",
       "      <th>3</th>\n",
       "      <td>2014-10-20 00:00:00</td>\n",
       "      <td>MOINHOS DE VENTO</td>\n",
       "      <td>133.0</td>\n",
       "      <td>2014-10-20/2014-10-26</td>\n",
       "    </tr>\n",
       "    <tr>\n",
       "      <th>4</th>\n",
       "      <td>2014-07-09 00:00:00</td>\n",
       "      <td>MOINHOS DE VENTO</td>\n",
       "      <td>14.0</td>\n",
       "      <td>2014-07-07/2014-07-13</td>\n",
       "    </tr>\n",
       "    <tr>\n",
       "      <th>...</th>\n",
       "      <td>...</td>\n",
       "      <td>...</td>\n",
       "      <td>...</td>\n",
       "      <td>...</td>\n",
       "    </tr>\n",
       "    <tr>\n",
       "      <th>272</th>\n",
       "      <td>2020-10-06 00:00:00</td>\n",
       "      <td>MOINHOS DE VENTO</td>\n",
       "      <td>216.0</td>\n",
       "      <td>2020-10-05/2020-10-11</td>\n",
       "    </tr>\n",
       "    <tr>\n",
       "      <th>273</th>\n",
       "      <td>2021-03-10 00:00:00</td>\n",
       "      <td>MOINHOS DE VENTO</td>\n",
       "      <td>10387.0</td>\n",
       "      <td>2021-03-08/2021-03-14</td>\n",
       "    </tr>\n",
       "    <tr>\n",
       "      <th>274</th>\n",
       "      <td>2022-03-03 00:00:00</td>\n",
       "      <td>MOINHOS DE VENTO</td>\n",
       "      <td>3077.0</td>\n",
       "      <td>2022-02-28/2022-03-06</td>\n",
       "    </tr>\n",
       "    <tr>\n",
       "      <th>275</th>\n",
       "      <td>2022-03-23 00:00:00</td>\n",
       "      <td>MOINHOS DE VENTO</td>\n",
       "      <td>3446.0</td>\n",
       "      <td>2022-03-21/2022-03-27</td>\n",
       "    </tr>\n",
       "    <tr>\n",
       "      <th>276</th>\n",
       "      <td>2022-02-23 00:00:00</td>\n",
       "      <td>MOINHOS DE VENTO</td>\n",
       "      <td>4915.0</td>\n",
       "      <td>2022-02-21/2022-02-27</td>\n",
       "    </tr>\n",
       "  </tbody>\n",
       "</table>\n",
       "<p>277 rows × 4 columns</p>\n",
       "</div>"
      ],
      "text/plain": [
       "          Data da coleta Nome da ETA / UTA Resultado                   week\n",
       "0    2014-01-27 00:00:00  MOINHOS DE VENTO      42.0  2014-01-27/2014-02-02\n",
       "1    2014-03-11 00:00:00  MOINHOS DE VENTO      79.0  2014-03-10/2014-03-16\n",
       "2    2014-06-16 00:00:00  MOINHOS DE VENTO     380.0  2014-06-16/2014-06-22\n",
       "3    2014-10-20 00:00:00  MOINHOS DE VENTO     133.0  2014-10-20/2014-10-26\n",
       "4    2014-07-09 00:00:00  MOINHOS DE VENTO      14.0  2014-07-07/2014-07-13\n",
       "..                   ...               ...       ...                    ...\n",
       "272  2020-10-06 00:00:00  MOINHOS DE VENTO     216.0  2020-10-05/2020-10-11\n",
       "273  2021-03-10 00:00:00  MOINHOS DE VENTO   10387.0  2021-03-08/2021-03-14\n",
       "274  2022-03-03 00:00:00  MOINHOS DE VENTO    3077.0  2022-02-28/2022-03-06\n",
       "275  2022-03-23 00:00:00  MOINHOS DE VENTO    3446.0  2022-03-21/2022-03-27\n",
       "276  2022-02-23 00:00:00  MOINHOS DE VENTO    4915.0  2022-02-21/2022-02-27\n",
       "\n",
       "[277 rows x 4 columns]"
      ]
     },
     "execution_count": 183,
     "metadata": {},
     "output_type": "execute_result"
    }
   ],
   "source": [
    "captacao"
   ]
  },
  {
   "cell_type": "code",
   "execution_count": 184,
   "metadata": {},
   "outputs": [
    {
     "data": {
      "text/html": [
       "<div>\n",
       "<style scoped>\n",
       "    .dataframe tbody tr th:only-of-type {\n",
       "        vertical-align: middle;\n",
       "    }\n",
       "\n",
       "    .dataframe tbody tr th {\n",
       "        vertical-align: top;\n",
       "    }\n",
       "\n",
       "    .dataframe thead th {\n",
       "        text-align: right;\n",
       "    }\n",
       "</style>\n",
       "<table border=\"1\" class=\"dataframe\">\n",
       "  <thead>\n",
       "    <tr style=\"text-align: right;\">\n",
       "      <th></th>\n",
       "      <th>Data da coleta</th>\n",
       "      <th>Nome da ETA / UTA</th>\n",
       "      <th>Resultado</th>\n",
       "      <th>week</th>\n",
       "    </tr>\n",
       "  </thead>\n",
       "  <tbody>\n",
       "    <tr>\n",
       "      <th>25</th>\n",
       "      <td>2019-02-25 00:00:00</td>\n",
       "      <td>MOINHOS DE VENTO</td>\n",
       "      <td>298.0</td>\n",
       "      <td>2019-02-25/2019-03-03</td>\n",
       "    </tr>\n",
       "    <tr>\n",
       "      <th>26</th>\n",
       "      <td>2019-06-03 00:00:00</td>\n",
       "      <td>MOINHOS DE VENTO</td>\n",
       "      <td>102.0</td>\n",
       "      <td>2019-06-03/2019-06-09</td>\n",
       "    </tr>\n",
       "    <tr>\n",
       "      <th>27</th>\n",
       "      <td>2019-12-20 00:00:00</td>\n",
       "      <td>MOINHOS DE VENTO</td>\n",
       "      <td>0.0</td>\n",
       "      <td>2019-12-16/2019-12-22</td>\n",
       "    </tr>\n",
       "    <tr>\n",
       "      <th>28</th>\n",
       "      <td>2020-12-09 00:00:00</td>\n",
       "      <td>MOINHOS DE VENTO</td>\n",
       "      <td>1486.0</td>\n",
       "      <td>2020-12-07/2020-12-13</td>\n",
       "    </tr>\n",
       "    <tr>\n",
       "      <th>29</th>\n",
       "      <td>2021-01-26 00:00:00</td>\n",
       "      <td>MOINHOS DE VENTO</td>\n",
       "      <td>364.0</td>\n",
       "      <td>2021-01-25/2021-01-31</td>\n",
       "    </tr>\n",
       "    <tr>\n",
       "      <th>...</th>\n",
       "      <td>...</td>\n",
       "      <td>...</td>\n",
       "      <td>...</td>\n",
       "      <td>...</td>\n",
       "    </tr>\n",
       "    <tr>\n",
       "      <th>272</th>\n",
       "      <td>2020-10-06 00:00:00</td>\n",
       "      <td>MOINHOS DE VENTO</td>\n",
       "      <td>216.0</td>\n",
       "      <td>2020-10-05/2020-10-11</td>\n",
       "    </tr>\n",
       "    <tr>\n",
       "      <th>273</th>\n",
       "      <td>2021-03-10 00:00:00</td>\n",
       "      <td>MOINHOS DE VENTO</td>\n",
       "      <td>10387.0</td>\n",
       "      <td>2021-03-08/2021-03-14</td>\n",
       "    </tr>\n",
       "    <tr>\n",
       "      <th>274</th>\n",
       "      <td>2022-03-03 00:00:00</td>\n",
       "      <td>MOINHOS DE VENTO</td>\n",
       "      <td>3077.0</td>\n",
       "      <td>2022-02-28/2022-03-06</td>\n",
       "    </tr>\n",
       "    <tr>\n",
       "      <th>275</th>\n",
       "      <td>2022-03-23 00:00:00</td>\n",
       "      <td>MOINHOS DE VENTO</td>\n",
       "      <td>3446.0</td>\n",
       "      <td>2022-03-21/2022-03-27</td>\n",
       "    </tr>\n",
       "    <tr>\n",
       "      <th>276</th>\n",
       "      <td>2022-02-23 00:00:00</td>\n",
       "      <td>MOINHOS DE VENTO</td>\n",
       "      <td>4915.0</td>\n",
       "      <td>2022-02-21/2022-02-27</td>\n",
       "    </tr>\n",
       "  </tbody>\n",
       "</table>\n",
       "<p>64 rows × 4 columns</p>\n",
       "</div>"
      ],
      "text/plain": [
       "          Data da coleta Nome da ETA / UTA Resultado                   week\n",
       "25   2019-02-25 00:00:00  MOINHOS DE VENTO     298.0  2019-02-25/2019-03-03\n",
       "26   2019-06-03 00:00:00  MOINHOS DE VENTO     102.0  2019-06-03/2019-06-09\n",
       "27   2019-12-20 00:00:00  MOINHOS DE VENTO       0.0  2019-12-16/2019-12-22\n",
       "28   2020-12-09 00:00:00  MOINHOS DE VENTO    1486.0  2020-12-07/2020-12-13\n",
       "29   2021-01-26 00:00:00  MOINHOS DE VENTO     364.0  2021-01-25/2021-01-31\n",
       "..                   ...               ...       ...                    ...\n",
       "272  2020-10-06 00:00:00  MOINHOS DE VENTO     216.0  2020-10-05/2020-10-11\n",
       "273  2021-03-10 00:00:00  MOINHOS DE VENTO   10387.0  2021-03-08/2021-03-14\n",
       "274  2022-03-03 00:00:00  MOINHOS DE VENTO    3077.0  2022-02-28/2022-03-06\n",
       "275  2022-03-23 00:00:00  MOINHOS DE VENTO    3446.0  2022-03-21/2022-03-27\n",
       "276  2022-02-23 00:00:00  MOINHOS DE VENTO    4915.0  2022-02-21/2022-02-27\n",
       "\n",
       "[64 rows x 4 columns]"
      ]
     },
     "execution_count": 184,
     "metadata": {},
     "output_type": "execute_result"
    }
   ],
   "source": [
    "captacao.loc[pd.to_datetime(captacao[\"Data da coleta\"]) > \"2019-01-27\"]"
   ]
  },
  {
   "cell_type": "code",
   "execution_count": 185,
   "metadata": {},
   "outputs": [
    {
     "data": {
      "application/vnd.plotly.v1+json": {
       "config": {
        "plotlyServerURL": "https://plot.ly"
       },
       "data": [
        {
         "hovertemplate": "Data da coleta=%{x}<br>Resultado=%{y}<extra></extra>",
         "legendgroup": "",
         "marker": {
          "color": "#636efa",
          "symbol": "circle"
         },
         "mode": "markers",
         "name": "",
         "orientation": "v",
         "showlegend": false,
         "type": "scatter",
         "x": [
          "2014-01-27T00:00:00",
          "2014-03-11T00:00:00",
          "2014-06-16T00:00:00",
          "2014-10-20T00:00:00",
          "2014-07-09T00:00:00",
          "2015-06-11T00:00:00",
          "2015-03-23T00:00:00",
          "2015-05-25T00:00:00",
          "2015-04-22T00:00:00",
          "2015-10-10T00:00:00",
          "2015-10-16T00:00:00",
          "2015-09-10T00:00:00",
          "2015-11-23T00:00:00",
          "2015-12-21T00:00:00",
          "2016-02-10T00:00:00",
          "2016-02-16T00:00:00",
          "2016-03-08T00:00:00",
          "2016-03-29T00:00:00",
          "2016-05-17T00:00:00",
          "2016-09-14T00:00:00",
          "2016-11-29T00:00:00",
          "2017-07-24T00:00:00",
          "2017-12-05T00:00:00",
          "2017-11-13T00:00:00",
          "2018-11-06T00:00:00",
          "2019-02-25T00:00:00",
          "2019-06-03T00:00:00",
          "2019-12-20T00:00:00",
          "2020-12-09T00:00:00",
          "2021-01-26T00:00:00",
          "2014-11-17T00:00:00",
          "2014-06-24T00:00:00",
          "2014-08-11T00:00:00",
          "2014-08-25T00:00:00",
          "2015-02-18T00:00:00",
          "2015-01-06T00:00:00",
          "2015-04-27T00:00:00",
          "2015-08-05T00:00:00",
          "2016-02-01T00:00:00",
          "2016-07-04T00:00:00",
          "2016-10-19T00:00:00",
          "2016-12-06T00:00:00",
          "2016-12-12T00:00:00",
          "2017-08-28T00:00:00",
          "2017-07-11T00:00:00",
          "2017-10-30T00:00:00",
          "2017-06-19T00:00:00",
          "2017-09-04T00:00:00",
          "2018-04-04T00:00:00",
          "2018-05-08T00:00:00",
          "2018-01-24T00:00:00",
          "2018-02-08T00:00:00",
          "2019-07-01T00:00:00",
          "2019-10-14T00:00:00",
          "2019-11-18T00:00:00",
          "2020-06-23T00:00:00",
          "2021-02-25T00:00:00",
          "2021-12-29T00:00:00",
          "2022-01-11T00:00:00",
          "2014-09-09T00:00:00",
          "2014-09-16T00:00:00",
          "2014-06-10T00:00:00",
          "2014-12-02T00:00:00",
          "2014-10-08T00:00:00",
          "2014-02-11T00:00:00",
          "2014-02-17T00:00:00",
          "2014-02-24T00:00:00",
          "2015-02-11T00:00:00",
          "2015-06-22T00:00:00",
          "2015-03-02T00:00:00",
          "2015-07-13T00:00:00",
          "2015-07-27T00:00:00",
          "2015-09-01T00:00:00",
          "2015-09-16T00:00:00",
          "2015-11-03T00:00:00",
          "2016-05-10T00:00:00",
          "2016-07-12T00:00:00",
          "2016-07-25T00:00:00",
          "2017-03-13T00:00:00",
          "2017-04-25T00:00:00",
          "2017-07-18T00:00:00",
          "2017-05-15T00:00:00",
          "2017-06-26T00:00:00",
          "2017-11-20T00:00:00",
          "2018-06-08T00:00:00",
          "2018-05-22T00:00:00",
          "2018-03-07T00:00:00",
          "2018-11-21T00:00:00",
          "2019-03-18T00:00:00",
          "2019-01-28T00:00:00",
          "2019-05-20T00:00:00",
          "2019-12-02T00:00:00",
          "2020-01-06T00:00:00",
          "2020-01-21T00:00:00",
          "2020-05-26T00:00:00",
          "2020-09-24T00:00:00",
          "2020-12-23T00:00:00",
          "2020-12-30T00:00:00",
          "2021-06-10T00:00:00",
          "2021-08-19T00:00:00",
          "2022-01-05T00:00:00",
          "2022-03-16T00:00:00",
          "2022-02-10T00:00:00",
          "2022-02-16T00:00:00",
          "2014-03-19T00:00:00",
          "2014-03-24T00:00:00",
          "2014-11-27T00:00:00",
          "2015-01-13T00:00:00",
          "2015-04-07T00:00:00",
          "2015-08-17T00:00:00",
          "2015-12-15T00:00:00",
          "2015-12-29T00:00:00",
          "2016-01-18T00:00:00",
          "2016-03-15T00:00:00",
          "2016-04-18T00:00:00",
          "2016-04-25T00:00:00",
          "2016-06-16T00:00:00",
          "2016-08-09T00:00:00",
          "2016-08-15T00:00:00",
          "2016-08-22T00:00:00",
          "2016-09-19T00:00:00",
          "2016-09-26T00:00:00",
          "2016-10-03T00:00:00",
          "2016-11-01T00:00:00",
          "2017-01-03T00:00:00",
          "2017-01-17T00:00:00",
          "2017-03-01T00:00:00",
          "2017-03-20T00:00:00",
          "2017-04-17T00:00:00",
          "2017-10-02T00:00:00",
          "2017-05-22T00:00:00",
          "2017-09-26T00:00:00",
          "2018-04-23T00:00:00",
          "2018-10-25T00:00:00",
          "2019-07-15T00:00:00",
          "2020-02-26T00:00:00",
          "2020-04-29T00:00:00",
          "2021-05-13T00:00:00",
          "2021-04-14T00:00:00",
          "2021-12-17T00:00:00",
          "2022-01-20T00:00:00",
          "2014-12-15T00:00:00",
          "2014-12-23T00:00:00",
          "2014-10-01T00:00:00",
          "2014-04-07T00:00:00",
          "2014-04-22T00:00:00",
          "2015-02-03T00:00:00",
          "2015-01-26T00:00:00",
          "2015-03-16T00:00:00",
          "2015-08-11T00:00:00",
          "2015-12-08T00:00:00",
          "2016-02-25T00:00:00",
          "2016-03-21T00:00:00",
          "2016-05-23T00:00:00",
          "2016-06-29T00:00:00",
          "2016-09-06T00:00:00",
          "2017-08-21T00:00:00",
          "2017-12-11T00:00:00",
          "2017-10-16T00:00:00",
          "2017-05-10T00:00:00",
          "2017-11-07T00:00:00",
          "2017-09-12T00:00:00",
          "2017-09-18T00:00:00",
          "2018-04-12T00:00:00",
          "2018-01-08T00:00:00",
          "2018-02-28T00:00:00",
          "2018-10-08T00:00:00",
          "2019-01-18T00:00:00",
          "2019-09-02T00:00:00",
          "2021-09-15T00:00:00",
          "2021-12-13T00:00:00",
          "2014-09-01T00:00:00",
          "2014-06-02T00:00:00",
          "2014-12-30T00:00:00",
          "2014-08-18T00:00:00",
          "2015-01-20T00:00:00",
          "2015-03-10T00:00:00",
          "2015-05-12T00:00:00",
          "2015-10-07T00:00:00",
          "2016-07-18T00:00:00",
          "2016-10-24T00:00:00",
          "2016-11-15T00:00:00",
          "2016-12-19T00:00:00",
          "2017-02-07T00:00:00",
          "2017-02-13T00:00:00",
          "2017-02-20T00:00:00",
          "2017-12-26T00:00:00",
          "2017-05-03T00:00:00",
          "2017-06-06T00:00:00",
          "2018-06-19T00:00:00",
          "2018-07-31T00:00:00",
          "2018-08-13T00:00:00",
          "2019-05-13T00:00:00",
          "2019-07-29T00:00:00",
          "2019-06-17T00:00:00",
          "2019-09-23T00:00:00",
          "2019-08-19T00:00:00",
          "2020-03-16T00:00:00",
          "2020-07-21T00:00:00",
          "2020-08-06T00:00:00",
          "2021-12-09T00:00:00",
          "2022-01-26T00:00:00",
          "2014-01-07T00:00:00",
          "2014-09-22T00:00:00",
          "2014-11-04T00:00:00",
          "2014-05-19T00:00:00",
          "2014-05-26T00:00:00",
          "2014-10-13T00:00:00",
          "2014-04-15T00:00:00",
          "2014-04-28T00:00:00",
          "2015-02-23T00:00:00",
          "2015-05-04T00:00:00",
          "2015-04-13T00:00:00",
          "2015-07-07T00:00:00",
          "2015-07-20T00:00:00",
          "2016-02-04T00:00:00",
          "2016-01-12T00:00:00",
          "2016-04-06T00:00:00",
          "2016-06-07T00:00:00",
          "2016-10-11T00:00:00",
          "2016-11-08T00:00:00",
          "2017-01-23T00:00:00",
          "2017-03-07T00:00:00",
          "2017-07-03T00:00:00",
          "2017-12-18T00:00:00",
          "2018-03-23T00:00:00",
          "2018-09-24T00:00:00",
          "2018-12-19T00:00:00",
          "2019-02-11T00:00:00",
          "2019-04-09T00:00:00",
          "2021-04-12T00:00:00",
          "2021-07-14T00:00:00",
          "2021-11-15T00:00:00",
          "2021-10-06T00:00:00",
          "2022-03-09T00:00:00",
          "2014-01-13T00:00:00",
          "2014-01-20T00:00:00",
          "2014-03-06T00:00:00",
          "2014-11-12T00:00:00",
          "2014-05-05T00:00:00",
          "2014-05-13T00:00:00",
          "2014-02-04T00:00:00",
          "2015-06-01T00:00:00",
          "2015-06-15T00:00:00",
          "2015-05-19T00:00:00",
          "2015-08-24T00:00:00",
          "2015-10-20T00:00:00",
          "2015-09-21T00:00:00",
          "2015-11-10T00:00:00",
          "2015-11-16T00:00:00",
          "2016-01-25T00:00:00",
          "2016-04-12T00:00:00",
          "2016-05-04T00:00:00",
          "2016-06-20T00:00:00",
          "2016-08-02T00:00:00",
          "2016-12-27T00:00:00",
          "2017-01-10T00:00:00",
          "2017-02-24T00:00:00",
          "2017-04-03T00:00:00",
          "2017-04-11T00:00:00",
          "2017-08-08T00:00:00",
          "2017-08-14T00:00:00",
          "2017-10-23T00:00:00",
          "2017-06-12T00:00:00",
          "2017-11-27T00:00:00",
          "2018-02-21T00:00:00",
          "2018-09-10T00:00:00",
          "2018-12-03T00:00:00",
          "2019-03-26T00:00:00",
          "2019-04-23T00:00:00",
          "2019-09-30T00:00:00",
          "2019-11-04T00:00:00",
          "2020-10-06T00:00:00",
          "2021-03-10T00:00:00",
          "2022-03-03T00:00:00",
          "2022-03-23T00:00:00",
          "2022-02-23T00:00:00"
         ],
         "xaxis": "x",
         "y": [
          42,
          79,
          380,
          133,
          14,
          54,
          13,
          92,
          19,
          18,
          16,
          18,
          188,
          117,
          160,
          77,
          28,
          30,
          27,
          22,
          5,
          94,
          63,
          18,
          0,
          298,
          102,
          0,
          1486,
          364,
          0,
          166,
          20,
          0,
          21,
          106,
          171,
          48,
          759,
          14,
          0,
          9,
          0,
          48,
          27,
          1,
          133,
          14,
          261,
          274,
          14,
          2312,
          600,
          0,
          0,
          556,
          612,
          2772,
          28508,
          26,
          0,
          54,
          41,
          6,
          197,
          221,
          61,
          0,
          169,
          46,
          80,
          13,
          3,
          22,
          77,
          55,
          47,
          37,
          7,
          75,
          0,
          64,
          139,
          9,
          0,
          19,
          1692,
          0,
          76,
          251,
          374,
          0,
          1404,
          150,
          1897,
          0,
          25659,
          1766,
          1529,
          1664,
          1783,
          614,
          10557,
          1793,
          76,
          48,
          10,
          37,
          0,
          20,
          40,
          140,
          119,
          226,
          30,
          74,
          9,
          43,
          25,
          10,
          16,
          0,
          19,
          0,
          24,
          163,
          69,
          43,
          684,
          70,
          53,
          47,
          20,
          492,
          20,
          360,
          386,
          6997,
          2228,
          9667,
          10674,
          48,
          136,
          0,
          16,
          55,
          61,
          0,
          62,
          26,
          117,
          128,
          74,
          48,
          55,
          39,
          98,
          107,
          0,
          51,
          41,
          34,
          20,
          0,
          0,
          35,
          9,
          0,
          0,
          1716,
          13889,
          24,
          84,
          92,
          13,
          0,
          63,
          88,
          375,
          12,
          0,
          53,
          50,
          22,
          37,
          157,
          159,
          16,
          439,
          0,
          311,
          0,
          12,
          70,
          134,
          8,
          65,
          40,
          129,
          364,
          8323,
          6142,
          233,
          0,
          16,
          176,
          0,
          6,
          71,
          79,
          36,
          100,
          100,
          18,
          4,
          827,
          102,
          53,
          77,
          0,
          0,
          17,
          1326,
          2389,
          0,
          58,
          0,
          719,
          335,
          26,
          0,
          0,
          1836,
          594,
          9023,
          86,
          41,
          19,
          0,
          57,
          79,
          62,
          148,
          14,
          89,
          0,
          46,
          22,
          7,
          318,
          545,
          12,
          12,
          66,
          58,
          0,
          32,
          318,
          23,
          73,
          55,
          38,
          11,
          170,
          26,
          1420,
          0,
          73,
          186,
          0,
          0,
          0,
          216,
          10387,
          3077,
          3446,
          4915
         ],
         "yaxis": "y"
        }
       ],
       "layout": {
        "legend": {
         "tracegroupgap": 0
        },
        "margin": {
         "t": 60
        },
        "template": {
         "data": {
          "bar": [
           {
            "error_x": {
             "color": "#2a3f5f"
            },
            "error_y": {
             "color": "#2a3f5f"
            },
            "marker": {
             "line": {
              "color": "#E5ECF6",
              "width": 0.5
             },
             "pattern": {
              "fillmode": "overlay",
              "size": 10,
              "solidity": 0.2
             }
            },
            "type": "bar"
           }
          ],
          "barpolar": [
           {
            "marker": {
             "line": {
              "color": "#E5ECF6",
              "width": 0.5
             },
             "pattern": {
              "fillmode": "overlay",
              "size": 10,
              "solidity": 0.2
             }
            },
            "type": "barpolar"
           }
          ],
          "carpet": [
           {
            "aaxis": {
             "endlinecolor": "#2a3f5f",
             "gridcolor": "white",
             "linecolor": "white",
             "minorgridcolor": "white",
             "startlinecolor": "#2a3f5f"
            },
            "baxis": {
             "endlinecolor": "#2a3f5f",
             "gridcolor": "white",
             "linecolor": "white",
             "minorgridcolor": "white",
             "startlinecolor": "#2a3f5f"
            },
            "type": "carpet"
           }
          ],
          "choropleth": [
           {
            "colorbar": {
             "outlinewidth": 0,
             "ticks": ""
            },
            "type": "choropleth"
           }
          ],
          "contour": [
           {
            "colorbar": {
             "outlinewidth": 0,
             "ticks": ""
            },
            "colorscale": [
             [
              0,
              "#0d0887"
             ],
             [
              0.1111111111111111,
              "#46039f"
             ],
             [
              0.2222222222222222,
              "#7201a8"
             ],
             [
              0.3333333333333333,
              "#9c179e"
             ],
             [
              0.4444444444444444,
              "#bd3786"
             ],
             [
              0.5555555555555556,
              "#d8576b"
             ],
             [
              0.6666666666666666,
              "#ed7953"
             ],
             [
              0.7777777777777778,
              "#fb9f3a"
             ],
             [
              0.8888888888888888,
              "#fdca26"
             ],
             [
              1,
              "#f0f921"
             ]
            ],
            "type": "contour"
           }
          ],
          "contourcarpet": [
           {
            "colorbar": {
             "outlinewidth": 0,
             "ticks": ""
            },
            "type": "contourcarpet"
           }
          ],
          "heatmap": [
           {
            "colorbar": {
             "outlinewidth": 0,
             "ticks": ""
            },
            "colorscale": [
             [
              0,
              "#0d0887"
             ],
             [
              0.1111111111111111,
              "#46039f"
             ],
             [
              0.2222222222222222,
              "#7201a8"
             ],
             [
              0.3333333333333333,
              "#9c179e"
             ],
             [
              0.4444444444444444,
              "#bd3786"
             ],
             [
              0.5555555555555556,
              "#d8576b"
             ],
             [
              0.6666666666666666,
              "#ed7953"
             ],
             [
              0.7777777777777778,
              "#fb9f3a"
             ],
             [
              0.8888888888888888,
              "#fdca26"
             ],
             [
              1,
              "#f0f921"
             ]
            ],
            "type": "heatmap"
           }
          ],
          "heatmapgl": [
           {
            "colorbar": {
             "outlinewidth": 0,
             "ticks": ""
            },
            "colorscale": [
             [
              0,
              "#0d0887"
             ],
             [
              0.1111111111111111,
              "#46039f"
             ],
             [
              0.2222222222222222,
              "#7201a8"
             ],
             [
              0.3333333333333333,
              "#9c179e"
             ],
             [
              0.4444444444444444,
              "#bd3786"
             ],
             [
              0.5555555555555556,
              "#d8576b"
             ],
             [
              0.6666666666666666,
              "#ed7953"
             ],
             [
              0.7777777777777778,
              "#fb9f3a"
             ],
             [
              0.8888888888888888,
              "#fdca26"
             ],
             [
              1,
              "#f0f921"
             ]
            ],
            "type": "heatmapgl"
           }
          ],
          "histogram": [
           {
            "marker": {
             "pattern": {
              "fillmode": "overlay",
              "size": 10,
              "solidity": 0.2
             }
            },
            "type": "histogram"
           }
          ],
          "histogram2d": [
           {
            "colorbar": {
             "outlinewidth": 0,
             "ticks": ""
            },
            "colorscale": [
             [
              0,
              "#0d0887"
             ],
             [
              0.1111111111111111,
              "#46039f"
             ],
             [
              0.2222222222222222,
              "#7201a8"
             ],
             [
              0.3333333333333333,
              "#9c179e"
             ],
             [
              0.4444444444444444,
              "#bd3786"
             ],
             [
              0.5555555555555556,
              "#d8576b"
             ],
             [
              0.6666666666666666,
              "#ed7953"
             ],
             [
              0.7777777777777778,
              "#fb9f3a"
             ],
             [
              0.8888888888888888,
              "#fdca26"
             ],
             [
              1,
              "#f0f921"
             ]
            ],
            "type": "histogram2d"
           }
          ],
          "histogram2dcontour": [
           {
            "colorbar": {
             "outlinewidth": 0,
             "ticks": ""
            },
            "colorscale": [
             [
              0,
              "#0d0887"
             ],
             [
              0.1111111111111111,
              "#46039f"
             ],
             [
              0.2222222222222222,
              "#7201a8"
             ],
             [
              0.3333333333333333,
              "#9c179e"
             ],
             [
              0.4444444444444444,
              "#bd3786"
             ],
             [
              0.5555555555555556,
              "#d8576b"
             ],
             [
              0.6666666666666666,
              "#ed7953"
             ],
             [
              0.7777777777777778,
              "#fb9f3a"
             ],
             [
              0.8888888888888888,
              "#fdca26"
             ],
             [
              1,
              "#f0f921"
             ]
            ],
            "type": "histogram2dcontour"
           }
          ],
          "mesh3d": [
           {
            "colorbar": {
             "outlinewidth": 0,
             "ticks": ""
            },
            "type": "mesh3d"
           }
          ],
          "parcoords": [
           {
            "line": {
             "colorbar": {
              "outlinewidth": 0,
              "ticks": ""
             }
            },
            "type": "parcoords"
           }
          ],
          "pie": [
           {
            "automargin": true,
            "type": "pie"
           }
          ],
          "scatter": [
           {
            "marker": {
             "colorbar": {
              "outlinewidth": 0,
              "ticks": ""
             }
            },
            "type": "scatter"
           }
          ],
          "scatter3d": [
           {
            "line": {
             "colorbar": {
              "outlinewidth": 0,
              "ticks": ""
             }
            },
            "marker": {
             "colorbar": {
              "outlinewidth": 0,
              "ticks": ""
             }
            },
            "type": "scatter3d"
           }
          ],
          "scattercarpet": [
           {
            "marker": {
             "colorbar": {
              "outlinewidth": 0,
              "ticks": ""
             }
            },
            "type": "scattercarpet"
           }
          ],
          "scattergeo": [
           {
            "marker": {
             "colorbar": {
              "outlinewidth": 0,
              "ticks": ""
             }
            },
            "type": "scattergeo"
           }
          ],
          "scattergl": [
           {
            "marker": {
             "colorbar": {
              "outlinewidth": 0,
              "ticks": ""
             }
            },
            "type": "scattergl"
           }
          ],
          "scattermapbox": [
           {
            "marker": {
             "colorbar": {
              "outlinewidth": 0,
              "ticks": ""
             }
            },
            "type": "scattermapbox"
           }
          ],
          "scatterpolar": [
           {
            "marker": {
             "colorbar": {
              "outlinewidth": 0,
              "ticks": ""
             }
            },
            "type": "scatterpolar"
           }
          ],
          "scatterpolargl": [
           {
            "marker": {
             "colorbar": {
              "outlinewidth": 0,
              "ticks": ""
             }
            },
            "type": "scatterpolargl"
           }
          ],
          "scatterternary": [
           {
            "marker": {
             "colorbar": {
              "outlinewidth": 0,
              "ticks": ""
             }
            },
            "type": "scatterternary"
           }
          ],
          "surface": [
           {
            "colorbar": {
             "outlinewidth": 0,
             "ticks": ""
            },
            "colorscale": [
             [
              0,
              "#0d0887"
             ],
             [
              0.1111111111111111,
              "#46039f"
             ],
             [
              0.2222222222222222,
              "#7201a8"
             ],
             [
              0.3333333333333333,
              "#9c179e"
             ],
             [
              0.4444444444444444,
              "#bd3786"
             ],
             [
              0.5555555555555556,
              "#d8576b"
             ],
             [
              0.6666666666666666,
              "#ed7953"
             ],
             [
              0.7777777777777778,
              "#fb9f3a"
             ],
             [
              0.8888888888888888,
              "#fdca26"
             ],
             [
              1,
              "#f0f921"
             ]
            ],
            "type": "surface"
           }
          ],
          "table": [
           {
            "cells": {
             "fill": {
              "color": "#EBF0F8"
             },
             "line": {
              "color": "white"
             }
            },
            "header": {
             "fill": {
              "color": "#C8D4E3"
             },
             "line": {
              "color": "white"
             }
            },
            "type": "table"
           }
          ]
         },
         "layout": {
          "annotationdefaults": {
           "arrowcolor": "#2a3f5f",
           "arrowhead": 0,
           "arrowwidth": 1
          },
          "autotypenumbers": "strict",
          "coloraxis": {
           "colorbar": {
            "outlinewidth": 0,
            "ticks": ""
           }
          },
          "colorscale": {
           "diverging": [
            [
             0,
             "#8e0152"
            ],
            [
             0.1,
             "#c51b7d"
            ],
            [
             0.2,
             "#de77ae"
            ],
            [
             0.3,
             "#f1b6da"
            ],
            [
             0.4,
             "#fde0ef"
            ],
            [
             0.5,
             "#f7f7f7"
            ],
            [
             0.6,
             "#e6f5d0"
            ],
            [
             0.7,
             "#b8e186"
            ],
            [
             0.8,
             "#7fbc41"
            ],
            [
             0.9,
             "#4d9221"
            ],
            [
             1,
             "#276419"
            ]
           ],
           "sequential": [
            [
             0,
             "#0d0887"
            ],
            [
             0.1111111111111111,
             "#46039f"
            ],
            [
             0.2222222222222222,
             "#7201a8"
            ],
            [
             0.3333333333333333,
             "#9c179e"
            ],
            [
             0.4444444444444444,
             "#bd3786"
            ],
            [
             0.5555555555555556,
             "#d8576b"
            ],
            [
             0.6666666666666666,
             "#ed7953"
            ],
            [
             0.7777777777777778,
             "#fb9f3a"
            ],
            [
             0.8888888888888888,
             "#fdca26"
            ],
            [
             1,
             "#f0f921"
            ]
           ],
           "sequentialminus": [
            [
             0,
             "#0d0887"
            ],
            [
             0.1111111111111111,
             "#46039f"
            ],
            [
             0.2222222222222222,
             "#7201a8"
            ],
            [
             0.3333333333333333,
             "#9c179e"
            ],
            [
             0.4444444444444444,
             "#bd3786"
            ],
            [
             0.5555555555555556,
             "#d8576b"
            ],
            [
             0.6666666666666666,
             "#ed7953"
            ],
            [
             0.7777777777777778,
             "#fb9f3a"
            ],
            [
             0.8888888888888888,
             "#fdca26"
            ],
            [
             1,
             "#f0f921"
            ]
           ]
          },
          "colorway": [
           "#636efa",
           "#EF553B",
           "#00cc96",
           "#ab63fa",
           "#FFA15A",
           "#19d3f3",
           "#FF6692",
           "#B6E880",
           "#FF97FF",
           "#FECB52"
          ],
          "font": {
           "color": "#2a3f5f"
          },
          "geo": {
           "bgcolor": "white",
           "lakecolor": "white",
           "landcolor": "#E5ECF6",
           "showlakes": true,
           "showland": true,
           "subunitcolor": "white"
          },
          "hoverlabel": {
           "align": "left"
          },
          "hovermode": "closest",
          "mapbox": {
           "style": "light"
          },
          "paper_bgcolor": "white",
          "plot_bgcolor": "#E5ECF6",
          "polar": {
           "angularaxis": {
            "gridcolor": "white",
            "linecolor": "white",
            "ticks": ""
           },
           "bgcolor": "#E5ECF6",
           "radialaxis": {
            "gridcolor": "white",
            "linecolor": "white",
            "ticks": ""
           }
          },
          "scene": {
           "xaxis": {
            "backgroundcolor": "#E5ECF6",
            "gridcolor": "white",
            "gridwidth": 2,
            "linecolor": "white",
            "showbackground": true,
            "ticks": "",
            "zerolinecolor": "white"
           },
           "yaxis": {
            "backgroundcolor": "#E5ECF6",
            "gridcolor": "white",
            "gridwidth": 2,
            "linecolor": "white",
            "showbackground": true,
            "ticks": "",
            "zerolinecolor": "white"
           },
           "zaxis": {
            "backgroundcolor": "#E5ECF6",
            "gridcolor": "white",
            "gridwidth": 2,
            "linecolor": "white",
            "showbackground": true,
            "ticks": "",
            "zerolinecolor": "white"
           }
          },
          "shapedefaults": {
           "line": {
            "color": "#2a3f5f"
           }
          },
          "ternary": {
           "aaxis": {
            "gridcolor": "white",
            "linecolor": "white",
            "ticks": ""
           },
           "baxis": {
            "gridcolor": "white",
            "linecolor": "white",
            "ticks": ""
           },
           "bgcolor": "#E5ECF6",
           "caxis": {
            "gridcolor": "white",
            "linecolor": "white",
            "ticks": ""
           }
          },
          "title": {
           "x": 0.05
          },
          "xaxis": {
           "automargin": true,
           "gridcolor": "white",
           "linecolor": "white",
           "ticks": "",
           "title": {
            "standoff": 15
           },
           "zerolinecolor": "white",
           "zerolinewidth": 2
          },
          "yaxis": {
           "automargin": true,
           "gridcolor": "white",
           "linecolor": "white",
           "ticks": "",
           "title": {
            "standoff": 15
           },
           "zerolinecolor": "white",
           "zerolinewidth": 2
          }
         }
        },
        "xaxis": {
         "anchor": "y",
         "domain": [
          0,
          1
         ],
         "title": {
          "text": "Data da coleta"
         }
        },
        "yaxis": {
         "anchor": "x",
         "domain": [
          0,
          1
         ],
         "title": {
          "text": "Resultado"
         }
        }
       }
      },
      "text/html": [
       "<div>                            <div id=\"f386c81c-8092-4bae-bd90-5e92e1e559f2\" class=\"plotly-graph-div\" style=\"height:525px; width:100%;\"></div>            <script type=\"text/javascript\">                require([\"plotly\"], function(Plotly) {                    window.PLOTLYENV=window.PLOTLYENV || {};                                    if (document.getElementById(\"f386c81c-8092-4bae-bd90-5e92e1e559f2\")) {                    Plotly.newPlot(                        \"f386c81c-8092-4bae-bd90-5e92e1e559f2\",                        [{\"hovertemplate\":\"Data da coleta=%{x}<br>Resultado=%{y}<extra></extra>\",\"legendgroup\":\"\",\"marker\":{\"color\":\"#636efa\",\"symbol\":\"circle\"},\"mode\":\"markers\",\"name\":\"\",\"orientation\":\"v\",\"showlegend\":false,\"x\":[\"2014-01-27T00:00:00\",\"2014-03-11T00:00:00\",\"2014-06-16T00:00:00\",\"2014-10-20T00:00:00\",\"2014-07-09T00:00:00\",\"2015-06-11T00:00:00\",\"2015-03-23T00:00:00\",\"2015-05-25T00:00:00\",\"2015-04-22T00:00:00\",\"2015-10-10T00:00:00\",\"2015-10-16T00:00:00\",\"2015-09-10T00:00:00\",\"2015-11-23T00:00:00\",\"2015-12-21T00:00:00\",\"2016-02-10T00:00:00\",\"2016-02-16T00:00:00\",\"2016-03-08T00:00:00\",\"2016-03-29T00:00:00\",\"2016-05-17T00:00:00\",\"2016-09-14T00:00:00\",\"2016-11-29T00:00:00\",\"2017-07-24T00:00:00\",\"2017-12-05T00:00:00\",\"2017-11-13T00:00:00\",\"2018-11-06T00:00:00\",\"2019-02-25T00:00:00\",\"2019-06-03T00:00:00\",\"2019-12-20T00:00:00\",\"2020-12-09T00:00:00\",\"2021-01-26T00:00:00\",\"2014-11-17T00:00:00\",\"2014-06-24T00:00:00\",\"2014-08-11T00:00:00\",\"2014-08-25T00:00:00\",\"2015-02-18T00:00:00\",\"2015-01-06T00:00:00\",\"2015-04-27T00:00:00\",\"2015-08-05T00:00:00\",\"2016-02-01T00:00:00\",\"2016-07-04T00:00:00\",\"2016-10-19T00:00:00\",\"2016-12-06T00:00:00\",\"2016-12-12T00:00:00\",\"2017-08-28T00:00:00\",\"2017-07-11T00:00:00\",\"2017-10-30T00:00:00\",\"2017-06-19T00:00:00\",\"2017-09-04T00:00:00\",\"2018-04-04T00:00:00\",\"2018-05-08T00:00:00\",\"2018-01-24T00:00:00\",\"2018-02-08T00:00:00\",\"2019-07-01T00:00:00\",\"2019-10-14T00:00:00\",\"2019-11-18T00:00:00\",\"2020-06-23T00:00:00\",\"2021-02-25T00:00:00\",\"2021-12-29T00:00:00\",\"2022-01-11T00:00:00\",\"2014-09-09T00:00:00\",\"2014-09-16T00:00:00\",\"2014-06-10T00:00:00\",\"2014-12-02T00:00:00\",\"2014-10-08T00:00:00\",\"2014-02-11T00:00:00\",\"2014-02-17T00:00:00\",\"2014-02-24T00:00:00\",\"2015-02-11T00:00:00\",\"2015-06-22T00:00:00\",\"2015-03-02T00:00:00\",\"2015-07-13T00:00:00\",\"2015-07-27T00:00:00\",\"2015-09-01T00:00:00\",\"2015-09-16T00:00:00\",\"2015-11-03T00:00:00\",\"2016-05-10T00:00:00\",\"2016-07-12T00:00:00\",\"2016-07-25T00:00:00\",\"2017-03-13T00:00:00\",\"2017-04-25T00:00:00\",\"2017-07-18T00:00:00\",\"2017-05-15T00:00:00\",\"2017-06-26T00:00:00\",\"2017-11-20T00:00:00\",\"2018-06-08T00:00:00\",\"2018-05-22T00:00:00\",\"2018-03-07T00:00:00\",\"2018-11-21T00:00:00\",\"2019-03-18T00:00:00\",\"2019-01-28T00:00:00\",\"2019-05-20T00:00:00\",\"2019-12-02T00:00:00\",\"2020-01-06T00:00:00\",\"2020-01-21T00:00:00\",\"2020-05-26T00:00:00\",\"2020-09-24T00:00:00\",\"2020-12-23T00:00:00\",\"2020-12-30T00:00:00\",\"2021-06-10T00:00:00\",\"2021-08-19T00:00:00\",\"2022-01-05T00:00:00\",\"2022-03-16T00:00:00\",\"2022-02-10T00:00:00\",\"2022-02-16T00:00:00\",\"2014-03-19T00:00:00\",\"2014-03-24T00:00:00\",\"2014-11-27T00:00:00\",\"2015-01-13T00:00:00\",\"2015-04-07T00:00:00\",\"2015-08-17T00:00:00\",\"2015-12-15T00:00:00\",\"2015-12-29T00:00:00\",\"2016-01-18T00:00:00\",\"2016-03-15T00:00:00\",\"2016-04-18T00:00:00\",\"2016-04-25T00:00:00\",\"2016-06-16T00:00:00\",\"2016-08-09T00:00:00\",\"2016-08-15T00:00:00\",\"2016-08-22T00:00:00\",\"2016-09-19T00:00:00\",\"2016-09-26T00:00:00\",\"2016-10-03T00:00:00\",\"2016-11-01T00:00:00\",\"2017-01-03T00:00:00\",\"2017-01-17T00:00:00\",\"2017-03-01T00:00:00\",\"2017-03-20T00:00:00\",\"2017-04-17T00:00:00\",\"2017-10-02T00:00:00\",\"2017-05-22T00:00:00\",\"2017-09-26T00:00:00\",\"2018-04-23T00:00:00\",\"2018-10-25T00:00:00\",\"2019-07-15T00:00:00\",\"2020-02-26T00:00:00\",\"2020-04-29T00:00:00\",\"2021-05-13T00:00:00\",\"2021-04-14T00:00:00\",\"2021-12-17T00:00:00\",\"2022-01-20T00:00:00\",\"2014-12-15T00:00:00\",\"2014-12-23T00:00:00\",\"2014-10-01T00:00:00\",\"2014-04-07T00:00:00\",\"2014-04-22T00:00:00\",\"2015-02-03T00:00:00\",\"2015-01-26T00:00:00\",\"2015-03-16T00:00:00\",\"2015-08-11T00:00:00\",\"2015-12-08T00:00:00\",\"2016-02-25T00:00:00\",\"2016-03-21T00:00:00\",\"2016-05-23T00:00:00\",\"2016-06-29T00:00:00\",\"2016-09-06T00:00:00\",\"2017-08-21T00:00:00\",\"2017-12-11T00:00:00\",\"2017-10-16T00:00:00\",\"2017-05-10T00:00:00\",\"2017-11-07T00:00:00\",\"2017-09-12T00:00:00\",\"2017-09-18T00:00:00\",\"2018-04-12T00:00:00\",\"2018-01-08T00:00:00\",\"2018-02-28T00:00:00\",\"2018-10-08T00:00:00\",\"2019-01-18T00:00:00\",\"2019-09-02T00:00:00\",\"2021-09-15T00:00:00\",\"2021-12-13T00:00:00\",\"2014-09-01T00:00:00\",\"2014-06-02T00:00:00\",\"2014-12-30T00:00:00\",\"2014-08-18T00:00:00\",\"2015-01-20T00:00:00\",\"2015-03-10T00:00:00\",\"2015-05-12T00:00:00\",\"2015-10-07T00:00:00\",\"2016-07-18T00:00:00\",\"2016-10-24T00:00:00\",\"2016-11-15T00:00:00\",\"2016-12-19T00:00:00\",\"2017-02-07T00:00:00\",\"2017-02-13T00:00:00\",\"2017-02-20T00:00:00\",\"2017-12-26T00:00:00\",\"2017-05-03T00:00:00\",\"2017-06-06T00:00:00\",\"2018-06-19T00:00:00\",\"2018-07-31T00:00:00\",\"2018-08-13T00:00:00\",\"2019-05-13T00:00:00\",\"2019-07-29T00:00:00\",\"2019-06-17T00:00:00\",\"2019-09-23T00:00:00\",\"2019-08-19T00:00:00\",\"2020-03-16T00:00:00\",\"2020-07-21T00:00:00\",\"2020-08-06T00:00:00\",\"2021-12-09T00:00:00\",\"2022-01-26T00:00:00\",\"2014-01-07T00:00:00\",\"2014-09-22T00:00:00\",\"2014-11-04T00:00:00\",\"2014-05-19T00:00:00\",\"2014-05-26T00:00:00\",\"2014-10-13T00:00:00\",\"2014-04-15T00:00:00\",\"2014-04-28T00:00:00\",\"2015-02-23T00:00:00\",\"2015-05-04T00:00:00\",\"2015-04-13T00:00:00\",\"2015-07-07T00:00:00\",\"2015-07-20T00:00:00\",\"2016-02-04T00:00:00\",\"2016-01-12T00:00:00\",\"2016-04-06T00:00:00\",\"2016-06-07T00:00:00\",\"2016-10-11T00:00:00\",\"2016-11-08T00:00:00\",\"2017-01-23T00:00:00\",\"2017-03-07T00:00:00\",\"2017-07-03T00:00:00\",\"2017-12-18T00:00:00\",\"2018-03-23T00:00:00\",\"2018-09-24T00:00:00\",\"2018-12-19T00:00:00\",\"2019-02-11T00:00:00\",\"2019-04-09T00:00:00\",\"2021-04-12T00:00:00\",\"2021-07-14T00:00:00\",\"2021-11-15T00:00:00\",\"2021-10-06T00:00:00\",\"2022-03-09T00:00:00\",\"2014-01-13T00:00:00\",\"2014-01-20T00:00:00\",\"2014-03-06T00:00:00\",\"2014-11-12T00:00:00\",\"2014-05-05T00:00:00\",\"2014-05-13T00:00:00\",\"2014-02-04T00:00:00\",\"2015-06-01T00:00:00\",\"2015-06-15T00:00:00\",\"2015-05-19T00:00:00\",\"2015-08-24T00:00:00\",\"2015-10-20T00:00:00\",\"2015-09-21T00:00:00\",\"2015-11-10T00:00:00\",\"2015-11-16T00:00:00\",\"2016-01-25T00:00:00\",\"2016-04-12T00:00:00\",\"2016-05-04T00:00:00\",\"2016-06-20T00:00:00\",\"2016-08-02T00:00:00\",\"2016-12-27T00:00:00\",\"2017-01-10T00:00:00\",\"2017-02-24T00:00:00\",\"2017-04-03T00:00:00\",\"2017-04-11T00:00:00\",\"2017-08-08T00:00:00\",\"2017-08-14T00:00:00\",\"2017-10-23T00:00:00\",\"2017-06-12T00:00:00\",\"2017-11-27T00:00:00\",\"2018-02-21T00:00:00\",\"2018-09-10T00:00:00\",\"2018-12-03T00:00:00\",\"2019-03-26T00:00:00\",\"2019-04-23T00:00:00\",\"2019-09-30T00:00:00\",\"2019-11-04T00:00:00\",\"2020-10-06T00:00:00\",\"2021-03-10T00:00:00\",\"2022-03-03T00:00:00\",\"2022-03-23T00:00:00\",\"2022-02-23T00:00:00\"],\"xaxis\":\"x\",\"y\":[42.0,79.0,380.0,133.0,14.0,54.0,13.0,92.0,19.0,18.0,16.0,18.0,188.0,117.0,160.0,77.0,28.0,30.0,27.0,22.0,5.0,94.0,63.0,18.0,0.0,298.0,102.0,0.0,1486.0,364.0,0.0,166.0,20.0,0.0,21.0,106.0,171.0,48.0,759.0,14.0,0.0,9.0,0.0,48.0,27.0,1.0,133.0,14.0,261.0,274.0,14.0,2312.0,600.0,0.0,0.0,556.0,612.0,2772.0,28508.0,26.0,0.0,54.0,41.0,6.0,197.0,221.0,61.0,0.0,169.0,46.0,80.0,13.0,3.0,22.0,77.0,55.0,47.0,37.0,7.0,75.0,0.0,64.0,139.0,9.0,0.0,19.0,1692.0,0.0,76.0,251.0,374.0,0.0,1404.0,150.0,1897.0,0.0,25659.0,1766.0,1529.0,1664.0,1783.0,614.0,10557.0,1793.0,76.0,48.0,10.0,37.0,0.0,20.0,40.0,140.0,119.0,226.0,30.0,74.0,9.0,43.0,25.0,10.0,16.0,0.0,19.0,0.0,24.0,163.0,69.0,43.0,684.0,70.0,53.0,47.0,20.0,492.0,20.0,360.0,386.0,6997.0,2228.0,9667.0,10674.0,48.0,136.0,0.0,16.0,55.0,61.0,0.0,62.0,26.0,117.0,128.0,74.0,48.0,55.0,39.0,98.0,107.0,0.0,51.0,41.0,34.0,20.0,0.0,0.0,35.0,9.0,0.0,0.0,1716.0,13889.0,24.0,84.0,92.0,13.0,0.0,63.0,88.0,375.0,12.0,0.0,53.0,50.0,22.0,37.0,157.0,159.0,16.0,439.0,0.0,311.0,0.0,12.0,70.0,134.0,8.0,65.0,40.0,129.0,364.0,8323.0,6142.0,233.0,0.0,16.0,176.0,0.0,6.0,71.0,79.0,36.0,100.0,100.0,18.0,4.0,827.0,102.0,53.0,77.0,0.0,0.0,17.0,1326.0,2389.0,0.0,58.0,0.0,719.0,335.0,26.0,0.0,0.0,1836.0,594.0,9023.0,86.0,41.0,19.0,0.0,57.0,79.0,62.0,148.0,14.0,89.0,0.0,46.0,22.0,7.0,318.0,545.0,12.0,12.0,66.0,58.0,0.0,32.0,318.0,23.0,73.0,55.0,38.0,11.0,170.0,26.0,1420.0,0.0,73.0,186.0,0.0,0.0,0.0,216.0,10387.0,3077.0,3446.0,4915.0],\"yaxis\":\"y\",\"type\":\"scatter\"}],                        {\"template\":{\"data\":{\"bar\":[{\"error_x\":{\"color\":\"#2a3f5f\"},\"error_y\":{\"color\":\"#2a3f5f\"},\"marker\":{\"line\":{\"color\":\"#E5ECF6\",\"width\":0.5},\"pattern\":{\"fillmode\":\"overlay\",\"size\":10,\"solidity\":0.2}},\"type\":\"bar\"}],\"barpolar\":[{\"marker\":{\"line\":{\"color\":\"#E5ECF6\",\"width\":0.5},\"pattern\":{\"fillmode\":\"overlay\",\"size\":10,\"solidity\":0.2}},\"type\":\"barpolar\"}],\"carpet\":[{\"aaxis\":{\"endlinecolor\":\"#2a3f5f\",\"gridcolor\":\"white\",\"linecolor\":\"white\",\"minorgridcolor\":\"white\",\"startlinecolor\":\"#2a3f5f\"},\"baxis\":{\"endlinecolor\":\"#2a3f5f\",\"gridcolor\":\"white\",\"linecolor\":\"white\",\"minorgridcolor\":\"white\",\"startlinecolor\":\"#2a3f5f\"},\"type\":\"carpet\"}],\"choropleth\":[{\"colorbar\":{\"outlinewidth\":0,\"ticks\":\"\"},\"type\":\"choropleth\"}],\"contour\":[{\"colorbar\":{\"outlinewidth\":0,\"ticks\":\"\"},\"colorscale\":[[0.0,\"#0d0887\"],[0.1111111111111111,\"#46039f\"],[0.2222222222222222,\"#7201a8\"],[0.3333333333333333,\"#9c179e\"],[0.4444444444444444,\"#bd3786\"],[0.5555555555555556,\"#d8576b\"],[0.6666666666666666,\"#ed7953\"],[0.7777777777777778,\"#fb9f3a\"],[0.8888888888888888,\"#fdca26\"],[1.0,\"#f0f921\"]],\"type\":\"contour\"}],\"contourcarpet\":[{\"colorbar\":{\"outlinewidth\":0,\"ticks\":\"\"},\"type\":\"contourcarpet\"}],\"heatmap\":[{\"colorbar\":{\"outlinewidth\":0,\"ticks\":\"\"},\"colorscale\":[[0.0,\"#0d0887\"],[0.1111111111111111,\"#46039f\"],[0.2222222222222222,\"#7201a8\"],[0.3333333333333333,\"#9c179e\"],[0.4444444444444444,\"#bd3786\"],[0.5555555555555556,\"#d8576b\"],[0.6666666666666666,\"#ed7953\"],[0.7777777777777778,\"#fb9f3a\"],[0.8888888888888888,\"#fdca26\"],[1.0,\"#f0f921\"]],\"type\":\"heatmap\"}],\"heatmapgl\":[{\"colorbar\":{\"outlinewidth\":0,\"ticks\":\"\"},\"colorscale\":[[0.0,\"#0d0887\"],[0.1111111111111111,\"#46039f\"],[0.2222222222222222,\"#7201a8\"],[0.3333333333333333,\"#9c179e\"],[0.4444444444444444,\"#bd3786\"],[0.5555555555555556,\"#d8576b\"],[0.6666666666666666,\"#ed7953\"],[0.7777777777777778,\"#fb9f3a\"],[0.8888888888888888,\"#fdca26\"],[1.0,\"#f0f921\"]],\"type\":\"heatmapgl\"}],\"histogram\":[{\"marker\":{\"pattern\":{\"fillmode\":\"overlay\",\"size\":10,\"solidity\":0.2}},\"type\":\"histogram\"}],\"histogram2d\":[{\"colorbar\":{\"outlinewidth\":0,\"ticks\":\"\"},\"colorscale\":[[0.0,\"#0d0887\"],[0.1111111111111111,\"#46039f\"],[0.2222222222222222,\"#7201a8\"],[0.3333333333333333,\"#9c179e\"],[0.4444444444444444,\"#bd3786\"],[0.5555555555555556,\"#d8576b\"],[0.6666666666666666,\"#ed7953\"],[0.7777777777777778,\"#fb9f3a\"],[0.8888888888888888,\"#fdca26\"],[1.0,\"#f0f921\"]],\"type\":\"histogram2d\"}],\"histogram2dcontour\":[{\"colorbar\":{\"outlinewidth\":0,\"ticks\":\"\"},\"colorscale\":[[0.0,\"#0d0887\"],[0.1111111111111111,\"#46039f\"],[0.2222222222222222,\"#7201a8\"],[0.3333333333333333,\"#9c179e\"],[0.4444444444444444,\"#bd3786\"],[0.5555555555555556,\"#d8576b\"],[0.6666666666666666,\"#ed7953\"],[0.7777777777777778,\"#fb9f3a\"],[0.8888888888888888,\"#fdca26\"],[1.0,\"#f0f921\"]],\"type\":\"histogram2dcontour\"}],\"mesh3d\":[{\"colorbar\":{\"outlinewidth\":0,\"ticks\":\"\"},\"type\":\"mesh3d\"}],\"parcoords\":[{\"line\":{\"colorbar\":{\"outlinewidth\":0,\"ticks\":\"\"}},\"type\":\"parcoords\"}],\"pie\":[{\"automargin\":true,\"type\":\"pie\"}],\"scatter\":[{\"marker\":{\"colorbar\":{\"outlinewidth\":0,\"ticks\":\"\"}},\"type\":\"scatter\"}],\"scatter3d\":[{\"line\":{\"colorbar\":{\"outlinewidth\":0,\"ticks\":\"\"}},\"marker\":{\"colorbar\":{\"outlinewidth\":0,\"ticks\":\"\"}},\"type\":\"scatter3d\"}],\"scattercarpet\":[{\"marker\":{\"colorbar\":{\"outlinewidth\":0,\"ticks\":\"\"}},\"type\":\"scattercarpet\"}],\"scattergeo\":[{\"marker\":{\"colorbar\":{\"outlinewidth\":0,\"ticks\":\"\"}},\"type\":\"scattergeo\"}],\"scattergl\":[{\"marker\":{\"colorbar\":{\"outlinewidth\":0,\"ticks\":\"\"}},\"type\":\"scattergl\"}],\"scattermapbox\":[{\"marker\":{\"colorbar\":{\"outlinewidth\":0,\"ticks\":\"\"}},\"type\":\"scattermapbox\"}],\"scatterpolar\":[{\"marker\":{\"colorbar\":{\"outlinewidth\":0,\"ticks\":\"\"}},\"type\":\"scatterpolar\"}],\"scatterpolargl\":[{\"marker\":{\"colorbar\":{\"outlinewidth\":0,\"ticks\":\"\"}},\"type\":\"scatterpolargl\"}],\"scatterternary\":[{\"marker\":{\"colorbar\":{\"outlinewidth\":0,\"ticks\":\"\"}},\"type\":\"scatterternary\"}],\"surface\":[{\"colorbar\":{\"outlinewidth\":0,\"ticks\":\"\"},\"colorscale\":[[0.0,\"#0d0887\"],[0.1111111111111111,\"#46039f\"],[0.2222222222222222,\"#7201a8\"],[0.3333333333333333,\"#9c179e\"],[0.4444444444444444,\"#bd3786\"],[0.5555555555555556,\"#d8576b\"],[0.6666666666666666,\"#ed7953\"],[0.7777777777777778,\"#fb9f3a\"],[0.8888888888888888,\"#fdca26\"],[1.0,\"#f0f921\"]],\"type\":\"surface\"}],\"table\":[{\"cells\":{\"fill\":{\"color\":\"#EBF0F8\"},\"line\":{\"color\":\"white\"}},\"header\":{\"fill\":{\"color\":\"#C8D4E3\"},\"line\":{\"color\":\"white\"}},\"type\":\"table\"}]},\"layout\":{\"annotationdefaults\":{\"arrowcolor\":\"#2a3f5f\",\"arrowhead\":0,\"arrowwidth\":1},\"autotypenumbers\":\"strict\",\"coloraxis\":{\"colorbar\":{\"outlinewidth\":0,\"ticks\":\"\"}},\"colorscale\":{\"diverging\":[[0,\"#8e0152\"],[0.1,\"#c51b7d\"],[0.2,\"#de77ae\"],[0.3,\"#f1b6da\"],[0.4,\"#fde0ef\"],[0.5,\"#f7f7f7\"],[0.6,\"#e6f5d0\"],[0.7,\"#b8e186\"],[0.8,\"#7fbc41\"],[0.9,\"#4d9221\"],[1,\"#276419\"]],\"sequential\":[[0.0,\"#0d0887\"],[0.1111111111111111,\"#46039f\"],[0.2222222222222222,\"#7201a8\"],[0.3333333333333333,\"#9c179e\"],[0.4444444444444444,\"#bd3786\"],[0.5555555555555556,\"#d8576b\"],[0.6666666666666666,\"#ed7953\"],[0.7777777777777778,\"#fb9f3a\"],[0.8888888888888888,\"#fdca26\"],[1.0,\"#f0f921\"]],\"sequentialminus\":[[0.0,\"#0d0887\"],[0.1111111111111111,\"#46039f\"],[0.2222222222222222,\"#7201a8\"],[0.3333333333333333,\"#9c179e\"],[0.4444444444444444,\"#bd3786\"],[0.5555555555555556,\"#d8576b\"],[0.6666666666666666,\"#ed7953\"],[0.7777777777777778,\"#fb9f3a\"],[0.8888888888888888,\"#fdca26\"],[1.0,\"#f0f921\"]]},\"colorway\":[\"#636efa\",\"#EF553B\",\"#00cc96\",\"#ab63fa\",\"#FFA15A\",\"#19d3f3\",\"#FF6692\",\"#B6E880\",\"#FF97FF\",\"#FECB52\"],\"font\":{\"color\":\"#2a3f5f\"},\"geo\":{\"bgcolor\":\"white\",\"lakecolor\":\"white\",\"landcolor\":\"#E5ECF6\",\"showlakes\":true,\"showland\":true,\"subunitcolor\":\"white\"},\"hoverlabel\":{\"align\":\"left\"},\"hovermode\":\"closest\",\"mapbox\":{\"style\":\"light\"},\"paper_bgcolor\":\"white\",\"plot_bgcolor\":\"#E5ECF6\",\"polar\":{\"angularaxis\":{\"gridcolor\":\"white\",\"linecolor\":\"white\",\"ticks\":\"\"},\"bgcolor\":\"#E5ECF6\",\"radialaxis\":{\"gridcolor\":\"white\",\"linecolor\":\"white\",\"ticks\":\"\"}},\"scene\":{\"xaxis\":{\"backgroundcolor\":\"#E5ECF6\",\"gridcolor\":\"white\",\"gridwidth\":2,\"linecolor\":\"white\",\"showbackground\":true,\"ticks\":\"\",\"zerolinecolor\":\"white\"},\"yaxis\":{\"backgroundcolor\":\"#E5ECF6\",\"gridcolor\":\"white\",\"gridwidth\":2,\"linecolor\":\"white\",\"showbackground\":true,\"ticks\":\"\",\"zerolinecolor\":\"white\"},\"zaxis\":{\"backgroundcolor\":\"#E5ECF6\",\"gridcolor\":\"white\",\"gridwidth\":2,\"linecolor\":\"white\",\"showbackground\":true,\"ticks\":\"\",\"zerolinecolor\":\"white\"}},\"shapedefaults\":{\"line\":{\"color\":\"#2a3f5f\"}},\"ternary\":{\"aaxis\":{\"gridcolor\":\"white\",\"linecolor\":\"white\",\"ticks\":\"\"},\"baxis\":{\"gridcolor\":\"white\",\"linecolor\":\"white\",\"ticks\":\"\"},\"bgcolor\":\"#E5ECF6\",\"caxis\":{\"gridcolor\":\"white\",\"linecolor\":\"white\",\"ticks\":\"\"}},\"title\":{\"x\":0.05},\"xaxis\":{\"automargin\":true,\"gridcolor\":\"white\",\"linecolor\":\"white\",\"ticks\":\"\",\"title\":{\"standoff\":15},\"zerolinecolor\":\"white\",\"zerolinewidth\":2},\"yaxis\":{\"automargin\":true,\"gridcolor\":\"white\",\"linecolor\":\"white\",\"ticks\":\"\",\"title\":{\"standoff\":15},\"zerolinecolor\":\"white\",\"zerolinewidth\":2}}},\"xaxis\":{\"anchor\":\"y\",\"domain\":[0.0,1.0],\"title\":{\"text\":\"Data da coleta\"}},\"yaxis\":{\"anchor\":\"x\",\"domain\":[0.0,1.0],\"title\":{\"text\":\"Resultado\"}},\"legend\":{\"tracegroupgap\":0},\"margin\":{\"t\":60}},                        {\"responsive\": true}                    ).then(function(){\n",
       "                            \n",
       "var gd = document.getElementById('f386c81c-8092-4bae-bd90-5e92e1e559f2');\n",
       "var x = new MutationObserver(function (mutations, observer) {{\n",
       "        var display = window.getComputedStyle(gd).display;\n",
       "        if (!display || display === 'none') {{\n",
       "            console.log([gd, 'removed!']);\n",
       "            Plotly.purge(gd);\n",
       "            observer.disconnect();\n",
       "        }}\n",
       "}});\n",
       "\n",
       "// Listen for the removal of the full notebook cells\n",
       "var notebookContainer = gd.closest('#notebook-container');\n",
       "if (notebookContainer) {{\n",
       "    x.observe(notebookContainer, {childList: true});\n",
       "}}\n",
       "\n",
       "// Listen for the clearing of the current output cell\n",
       "var outputEl = gd.closest('.output');\n",
       "if (outputEl) {{\n",
       "    x.observe(outputEl, {childList: true});\n",
       "}}\n",
       "\n",
       "                        })                };                });            </script>        </div>"
      ]
     },
     "metadata": {},
     "output_type": "display_data"
    }
   ],
   "source": [
    "px.scatter(captacao, x=\"Data da coleta\", y=\"Resultado\")"
   ]
  },
  {
   "cell_type": "code",
   "execution_count": 186,
   "metadata": {},
   "outputs": [
    {
     "data": {
      "text/html": [
       "<div>\n",
       "<style scoped>\n",
       "    .dataframe tbody tr th:only-of-type {\n",
       "        vertical-align: middle;\n",
       "    }\n",
       "\n",
       "    .dataframe tbody tr th {\n",
       "        vertical-align: top;\n",
       "    }\n",
       "\n",
       "    .dataframe thead th {\n",
       "        text-align: right;\n",
       "    }\n",
       "</style>\n",
       "<table border=\"1\" class=\"dataframe\">\n",
       "  <thead>\n",
       "    <tr style=\"text-align: right;\">\n",
       "      <th></th>\n",
       "      <th>Data da coleta</th>\n",
       "      <th>Nome da ETA / UTA</th>\n",
       "      <th>Resultado</th>\n",
       "      <th>week</th>\n",
       "      <th>millis</th>\n",
       "      <th>date</th>\n",
       "      <th>NDVI_min</th>\n",
       "      <th>NDVI_max</th>\n",
       "      <th>NDVI_mean</th>\n",
       "      <th>NDVI_median</th>\n",
       "      <th>NDVI_stdDev</th>\n",
       "      <th>NDCI_min</th>\n",
       "      <th>NDCI_max</th>\n",
       "      <th>NDCI_mean</th>\n",
       "      <th>NDCI_median</th>\n",
       "      <th>NDCI_stdDev</th>\n",
       "    </tr>\n",
       "  </thead>\n",
       "  <tbody>\n",
       "    <tr>\n",
       "      <th>0</th>\n",
       "      <td>2019-02-25 00:00:00</td>\n",
       "      <td>MOINHOS DE VENTO</td>\n",
       "      <td>298.0</td>\n",
       "      <td>2019-02-25/2019-03-03</td>\n",
       "      <td>1551447049000</td>\n",
       "      <td>2019-03-01 13:30:49</td>\n",
       "      <td>-0.828571</td>\n",
       "      <td>-0.573477</td>\n",
       "      <td>-0.763509</td>\n",
       "      <td>-0.774496</td>\n",
       "      <td>0.043055</td>\n",
       "      <td>-0.165597</td>\n",
       "      <td>-0.077844</td>\n",
       "      <td>-0.133148</td>\n",
       "      <td>-0.133983</td>\n",
       "      <td>0.014468</td>\n",
       "    </tr>\n",
       "    <tr>\n",
       "      <th>1</th>\n",
       "      <td>2019-12-20 00:00:00</td>\n",
       "      <td>MOINHOS DE VENTO</td>\n",
       "      <td>0.0</td>\n",
       "      <td>2019-12-16/2019-12-22</td>\n",
       "      <td>1576762841487</td>\n",
       "      <td>2019-12-19 13:40:41</td>\n",
       "      <td>-0.311755</td>\n",
       "      <td>-0.076738</td>\n",
       "      <td>-0.149319</td>\n",
       "      <td>-0.149737</td>\n",
       "      <td>0.034107</td>\n",
       "      <td>-0.074586</td>\n",
       "      <td>0.020568</td>\n",
       "      <td>-0.011791</td>\n",
       "      <td>-0.012080</td>\n",
       "      <td>0.013551</td>\n",
       "    </tr>\n",
       "    <tr>\n",
       "      <th>2</th>\n",
       "      <td>2020-12-09 00:00:00</td>\n",
       "      <td>MOINHOS DE VENTO</td>\n",
       "      <td>1486.0</td>\n",
       "      <td>2020-12-07/2020-12-13</td>\n",
       "      <td>1607607048511</td>\n",
       "      <td>2020-12-10 13:30:48</td>\n",
       "      <td>-0.524517</td>\n",
       "      <td>-0.394636</td>\n",
       "      <td>-0.447150</td>\n",
       "      <td>-0.441930</td>\n",
       "      <td>0.029317</td>\n",
       "      <td>-0.065366</td>\n",
       "      <td>0.046065</td>\n",
       "      <td>0.007673</td>\n",
       "      <td>0.006003</td>\n",
       "      <td>0.017724</td>\n",
       "    </tr>\n",
       "    <tr>\n",
       "      <th>3</th>\n",
       "      <td>2019-07-01 00:00:00</td>\n",
       "      <td>MOINHOS DE VENTO</td>\n",
       "      <td>600.0</td>\n",
       "      <td>2019-07-01/2019-07-07</td>\n",
       "      <td>1562506851691</td>\n",
       "      <td>2019-07-07 13:40:51</td>\n",
       "      <td>-0.709642</td>\n",
       "      <td>-0.541345</td>\n",
       "      <td>-0.673113</td>\n",
       "      <td>-0.677379</td>\n",
       "      <td>0.024047</td>\n",
       "      <td>-0.142647</td>\n",
       "      <td>-0.086957</td>\n",
       "      <td>-0.118189</td>\n",
       "      <td>-0.119036</td>\n",
       "      <td>0.009877</td>\n",
       "    </tr>\n",
       "    <tr>\n",
       "      <th>4</th>\n",
       "      <td>2019-11-18 00:00:00</td>\n",
       "      <td>MOINHOS DE VENTO</td>\n",
       "      <td>0.0</td>\n",
       "      <td>2019-11-18/2019-11-24</td>\n",
       "      <td>1574170844418</td>\n",
       "      <td>2019-11-19 13:40:44</td>\n",
       "      <td>-0.205027</td>\n",
       "      <td>-0.101992</td>\n",
       "      <td>-0.153193</td>\n",
       "      <td>-0.153176</td>\n",
       "      <td>0.013656</td>\n",
       "      <td>-0.035714</td>\n",
       "      <td>0.017448</td>\n",
       "      <td>-0.014060</td>\n",
       "      <td>-0.014227</td>\n",
       "      <td>0.007739</td>\n",
       "    </tr>\n",
       "    <tr>\n",
       "      <th>...</th>\n",
       "      <td>...</td>\n",
       "      <td>...</td>\n",
       "      <td>...</td>\n",
       "      <td>...</td>\n",
       "      <td>...</td>\n",
       "      <td>...</td>\n",
       "      <td>...</td>\n",
       "      <td>...</td>\n",
       "      <td>...</td>\n",
       "      <td>...</td>\n",
       "      <td>...</td>\n",
       "      <td>...</td>\n",
       "      <td>...</td>\n",
       "      <td>...</td>\n",
       "      <td>...</td>\n",
       "      <td>...</td>\n",
       "    </tr>\n",
       "    <tr>\n",
       "      <th>62</th>\n",
       "      <td>2021-03-10 00:00:00</td>\n",
       "      <td>MOINHOS DE VENTO</td>\n",
       "      <td>10387.0</td>\n",
       "      <td>2021-03-08/2021-03-14</td>\n",
       "      <td>1615383050394</td>\n",
       "      <td>2021-03-10 13:30:50</td>\n",
       "      <td>-0.567164</td>\n",
       "      <td>-0.351779</td>\n",
       "      <td>-0.508083</td>\n",
       "      <td>-0.512071</td>\n",
       "      <td>0.037167</td>\n",
       "      <td>-0.070140</td>\n",
       "      <td>0.023576</td>\n",
       "      <td>-0.027926</td>\n",
       "      <td>-0.028439</td>\n",
       "      <td>0.013782</td>\n",
       "    </tr>\n",
       "    <tr>\n",
       "      <th>63</th>\n",
       "      <td>2021-03-10 00:00:00</td>\n",
       "      <td>MOINHOS DE VENTO</td>\n",
       "      <td>10387.0</td>\n",
       "      <td>2021-03-08/2021-03-14</td>\n",
       "      <td>1615642845931</td>\n",
       "      <td>2021-03-13 13:40:45</td>\n",
       "      <td>-0.544787</td>\n",
       "      <td>-0.020255</td>\n",
       "      <td>-0.444582</td>\n",
       "      <td>-0.435614</td>\n",
       "      <td>0.058292</td>\n",
       "      <td>-0.061074</td>\n",
       "      <td>0.173104</td>\n",
       "      <td>0.008578</td>\n",
       "      <td>0.010169</td>\n",
       "      <td>0.027803</td>\n",
       "    </tr>\n",
       "    <tr>\n",
       "      <th>64</th>\n",
       "      <td>2022-03-03 00:00:00</td>\n",
       "      <td>MOINHOS DE VENTO</td>\n",
       "      <td>3077.0</td>\n",
       "      <td>2022-02-28/2022-03-06</td>\n",
       "      <td>1646314850256</td>\n",
       "      <td>2022-03-03 13:40:50</td>\n",
       "      <td>-0.140201</td>\n",
       "      <td>-0.051784</td>\n",
       "      <td>-0.127099</td>\n",
       "      <td>-0.128173</td>\n",
       "      <td>0.009201</td>\n",
       "      <td>-0.031960</td>\n",
       "      <td>0.012504</td>\n",
       "      <td>-0.020226</td>\n",
       "      <td>-0.020644</td>\n",
       "      <td>0.005527</td>\n",
       "    </tr>\n",
       "    <tr>\n",
       "      <th>65</th>\n",
       "      <td>2022-03-03 00:00:00</td>\n",
       "      <td>MOINHOS DE VENTO</td>\n",
       "      <td>3077.0</td>\n",
       "      <td>2022-02-28/2022-03-06</td>\n",
       "      <td>1646487048426</td>\n",
       "      <td>2022-03-05 13:30:48</td>\n",
       "      <td>-0.129697</td>\n",
       "      <td>-0.041494</td>\n",
       "      <td>-0.117631</td>\n",
       "      <td>-0.119421</td>\n",
       "      <td>0.010159</td>\n",
       "      <td>-0.016254</td>\n",
       "      <td>0.058677</td>\n",
       "      <td>-0.000821</td>\n",
       "      <td>-0.001794</td>\n",
       "      <td>0.007323</td>\n",
       "    </tr>\n",
       "    <tr>\n",
       "      <th>66</th>\n",
       "      <td>2022-02-23 00:00:00</td>\n",
       "      <td>MOINHOS DE VENTO</td>\n",
       "      <td>4915.0</td>\n",
       "      <td>2022-02-21/2022-02-27</td>\n",
       "      <td>1645882842525</td>\n",
       "      <td>2022-02-26 13:40:42</td>\n",
       "      <td>-0.089233</td>\n",
       "      <td>0.010920</td>\n",
       "      <td>-0.074774</td>\n",
       "      <td>-0.076507</td>\n",
       "      <td>0.009596</td>\n",
       "      <td>-0.053414</td>\n",
       "      <td>0.096421</td>\n",
       "      <td>0.001952</td>\n",
       "      <td>0.001491</td>\n",
       "      <td>0.012428</td>\n",
       "    </tr>\n",
       "  </tbody>\n",
       "</table>\n",
       "<p>67 rows × 16 columns</p>\n",
       "</div>"
      ],
      "text/plain": [
       "         Data da coleta Nome da ETA / UTA Resultado                   week  \\\n",
       "0   2019-02-25 00:00:00  MOINHOS DE VENTO     298.0  2019-02-25/2019-03-03   \n",
       "1   2019-12-20 00:00:00  MOINHOS DE VENTO       0.0  2019-12-16/2019-12-22   \n",
       "2   2020-12-09 00:00:00  MOINHOS DE VENTO    1486.0  2020-12-07/2020-12-13   \n",
       "3   2019-07-01 00:00:00  MOINHOS DE VENTO     600.0  2019-07-01/2019-07-07   \n",
       "4   2019-11-18 00:00:00  MOINHOS DE VENTO       0.0  2019-11-18/2019-11-24   \n",
       "..                  ...               ...       ...                    ...   \n",
       "62  2021-03-10 00:00:00  MOINHOS DE VENTO   10387.0  2021-03-08/2021-03-14   \n",
       "63  2021-03-10 00:00:00  MOINHOS DE VENTO   10387.0  2021-03-08/2021-03-14   \n",
       "64  2022-03-03 00:00:00  MOINHOS DE VENTO    3077.0  2022-02-28/2022-03-06   \n",
       "65  2022-03-03 00:00:00  MOINHOS DE VENTO    3077.0  2022-02-28/2022-03-06   \n",
       "66  2022-02-23 00:00:00  MOINHOS DE VENTO    4915.0  2022-02-21/2022-02-27   \n",
       "\n",
       "           millis                date  NDVI_min  NDVI_max  NDVI_mean  \\\n",
       "0   1551447049000 2019-03-01 13:30:49 -0.828571 -0.573477  -0.763509   \n",
       "1   1576762841487 2019-12-19 13:40:41 -0.311755 -0.076738  -0.149319   \n",
       "2   1607607048511 2020-12-10 13:30:48 -0.524517 -0.394636  -0.447150   \n",
       "3   1562506851691 2019-07-07 13:40:51 -0.709642 -0.541345  -0.673113   \n",
       "4   1574170844418 2019-11-19 13:40:44 -0.205027 -0.101992  -0.153193   \n",
       "..            ...                 ...       ...       ...        ...   \n",
       "62  1615383050394 2021-03-10 13:30:50 -0.567164 -0.351779  -0.508083   \n",
       "63  1615642845931 2021-03-13 13:40:45 -0.544787 -0.020255  -0.444582   \n",
       "64  1646314850256 2022-03-03 13:40:50 -0.140201 -0.051784  -0.127099   \n",
       "65  1646487048426 2022-03-05 13:30:48 -0.129697 -0.041494  -0.117631   \n",
       "66  1645882842525 2022-02-26 13:40:42 -0.089233  0.010920  -0.074774   \n",
       "\n",
       "    NDVI_median  NDVI_stdDev  NDCI_min  NDCI_max  NDCI_mean  NDCI_median  \\\n",
       "0     -0.774496     0.043055 -0.165597 -0.077844  -0.133148    -0.133983   \n",
       "1     -0.149737     0.034107 -0.074586  0.020568  -0.011791    -0.012080   \n",
       "2     -0.441930     0.029317 -0.065366  0.046065   0.007673     0.006003   \n",
       "3     -0.677379     0.024047 -0.142647 -0.086957  -0.118189    -0.119036   \n",
       "4     -0.153176     0.013656 -0.035714  0.017448  -0.014060    -0.014227   \n",
       "..          ...          ...       ...       ...        ...          ...   \n",
       "62    -0.512071     0.037167 -0.070140  0.023576  -0.027926    -0.028439   \n",
       "63    -0.435614     0.058292 -0.061074  0.173104   0.008578     0.010169   \n",
       "64    -0.128173     0.009201 -0.031960  0.012504  -0.020226    -0.020644   \n",
       "65    -0.119421     0.010159 -0.016254  0.058677  -0.000821    -0.001794   \n",
       "66    -0.076507     0.009596 -0.053414  0.096421   0.001952     0.001491   \n",
       "\n",
       "    NDCI_stdDev  \n",
       "0      0.014468  \n",
       "1      0.013551  \n",
       "2      0.017724  \n",
       "3      0.009877  \n",
       "4      0.007739  \n",
       "..          ...  \n",
       "62     0.013782  \n",
       "63     0.027803  \n",
       "64     0.005527  \n",
       "65     0.007323  \n",
       "66     0.012428  \n",
       "\n",
       "[67 rows x 16 columns]"
      ]
     },
     "execution_count": 186,
     "metadata": {},
     "output_type": "execute_result"
    }
   ],
   "source": [
    "captacao_gee"
   ]
  },
  {
   "cell_type": "code",
   "execution_count": 187,
   "metadata": {},
   "outputs": [
    {
     "data": {
      "application/vnd.plotly.v1+json": {
       "config": {
        "plotlyServerURL": "https://plot.ly"
       },
       "data": [
        {
         "hovertemplate": "NDVI_median=%{x}<br>Resultado=%{y}<extra></extra>",
         "legendgroup": "",
         "marker": {
          "color": "#636efa",
          "symbol": "circle"
         },
         "mode": "markers",
         "name": "",
         "orientation": "h",
         "showlegend": false,
         "type": "scatter",
         "x": [
          -0.7744964378153082,
          -0.149737395411771,
          -0.4419304667830346,
          -0.6773786740201134,
          -0.15317637914124227,
          -0.4972019201665516,
          -0.5297803736658883,
          -0.46746683554355617,
          -0.17694740529295405,
          -0.5795691558538277,
          -0.09067919690234585,
          -0.4742012733161604,
          -0.02371266651734744,
          -0.6076913362866442,
          -0.6207551566349763,
          -0.45063063928437047,
          -0.5333101273190246,
          -0.1629745627608244,
          -0.6373176259331951,
          -0.003560894686629116,
          -0.7081325846414762,
          0.08265243812884271,
          -0.4287691854053781,
          -0.7137440519831515,
          -0.6712772933621469,
          -0.5423869689629871,
          -0.5870907451483919,
          -0.07724901107480321,
          -0.47108703780672667,
          -0.0955835011499922,
          -0.6271586395605855,
          -0.09043443419916797,
          -0.10033760704573115,
          -0.11120370715619024,
          -0.6651679669719806,
          -0.4658869395711501,
          -0.6,
          -0.5633747214725052,
          -0.6221169293853477,
          -0.5837388535936124,
          -0.5837388535936124,
          -0.9931464035985045,
          -0.5535731411915736,
          -0.5805917077274422,
          -0.47778172568043226,
          -0.526094507982788,
          -0.3801802760088108,
          -0.6503787631520542,
          -0.517346081055462,
          -0.44882354095728455,
          -0.4206580474035901,
          -0.14182051365274773,
          -0.6919100224976988,
          -0.6576363589481986,
          -0.4158504007123775,
          -0.4915842223414188,
          -0.5639116035096893,
          -0.5922036940659234,
          -0.48985059415387283,
          -0.3430285333193357,
          -0.33107982713007916,
          -0.46934833323951,
          -0.5120709407226465,
          -0.43561442534812045,
          -0.12817284471822485,
          -0.1194210595109609,
          -0.07650651303985492
         ],
         "xaxis": "x",
         "y": [
          298,
          0,
          1486,
          600,
          0,
          0,
          556,
          612,
          2772,
          2772,
          28508,
          28508,
          76,
          76,
          76,
          251,
          374,
          0,
          0,
          1404,
          1404,
          150,
          150,
          1897,
          1897,
          0,
          0,
          25659,
          1766,
          1766,
          1529,
          10557,
          1793,
          1793,
          360,
          360,
          360,
          386,
          6997,
          2228,
          0,
          10674,
          0,
          12,
          70,
          8,
          8,
          129,
          364,
          8323,
          6142,
          6142,
          335,
          26,
          0,
          0,
          1836,
          186,
          0,
          0,
          216,
          216,
          10387,
          10387,
          3077,
          3077,
          4915
         ],
         "yaxis": "y"
        }
       ],
       "layout": {
        "legend": {
         "tracegroupgap": 0
        },
        "margin": {
         "t": 60
        },
        "template": {
         "data": {
          "bar": [
           {
            "error_x": {
             "color": "#2a3f5f"
            },
            "error_y": {
             "color": "#2a3f5f"
            },
            "marker": {
             "line": {
              "color": "#E5ECF6",
              "width": 0.5
             },
             "pattern": {
              "fillmode": "overlay",
              "size": 10,
              "solidity": 0.2
             }
            },
            "type": "bar"
           }
          ],
          "barpolar": [
           {
            "marker": {
             "line": {
              "color": "#E5ECF6",
              "width": 0.5
             },
             "pattern": {
              "fillmode": "overlay",
              "size": 10,
              "solidity": 0.2
             }
            },
            "type": "barpolar"
           }
          ],
          "carpet": [
           {
            "aaxis": {
             "endlinecolor": "#2a3f5f",
             "gridcolor": "white",
             "linecolor": "white",
             "minorgridcolor": "white",
             "startlinecolor": "#2a3f5f"
            },
            "baxis": {
             "endlinecolor": "#2a3f5f",
             "gridcolor": "white",
             "linecolor": "white",
             "minorgridcolor": "white",
             "startlinecolor": "#2a3f5f"
            },
            "type": "carpet"
           }
          ],
          "choropleth": [
           {
            "colorbar": {
             "outlinewidth": 0,
             "ticks": ""
            },
            "type": "choropleth"
           }
          ],
          "contour": [
           {
            "colorbar": {
             "outlinewidth": 0,
             "ticks": ""
            },
            "colorscale": [
             [
              0,
              "#0d0887"
             ],
             [
              0.1111111111111111,
              "#46039f"
             ],
             [
              0.2222222222222222,
              "#7201a8"
             ],
             [
              0.3333333333333333,
              "#9c179e"
             ],
             [
              0.4444444444444444,
              "#bd3786"
             ],
             [
              0.5555555555555556,
              "#d8576b"
             ],
             [
              0.6666666666666666,
              "#ed7953"
             ],
             [
              0.7777777777777778,
              "#fb9f3a"
             ],
             [
              0.8888888888888888,
              "#fdca26"
             ],
             [
              1,
              "#f0f921"
             ]
            ],
            "type": "contour"
           }
          ],
          "contourcarpet": [
           {
            "colorbar": {
             "outlinewidth": 0,
             "ticks": ""
            },
            "type": "contourcarpet"
           }
          ],
          "heatmap": [
           {
            "colorbar": {
             "outlinewidth": 0,
             "ticks": ""
            },
            "colorscale": [
             [
              0,
              "#0d0887"
             ],
             [
              0.1111111111111111,
              "#46039f"
             ],
             [
              0.2222222222222222,
              "#7201a8"
             ],
             [
              0.3333333333333333,
              "#9c179e"
             ],
             [
              0.4444444444444444,
              "#bd3786"
             ],
             [
              0.5555555555555556,
              "#d8576b"
             ],
             [
              0.6666666666666666,
              "#ed7953"
             ],
             [
              0.7777777777777778,
              "#fb9f3a"
             ],
             [
              0.8888888888888888,
              "#fdca26"
             ],
             [
              1,
              "#f0f921"
             ]
            ],
            "type": "heatmap"
           }
          ],
          "heatmapgl": [
           {
            "colorbar": {
             "outlinewidth": 0,
             "ticks": ""
            },
            "colorscale": [
             [
              0,
              "#0d0887"
             ],
             [
              0.1111111111111111,
              "#46039f"
             ],
             [
              0.2222222222222222,
              "#7201a8"
             ],
             [
              0.3333333333333333,
              "#9c179e"
             ],
             [
              0.4444444444444444,
              "#bd3786"
             ],
             [
              0.5555555555555556,
              "#d8576b"
             ],
             [
              0.6666666666666666,
              "#ed7953"
             ],
             [
              0.7777777777777778,
              "#fb9f3a"
             ],
             [
              0.8888888888888888,
              "#fdca26"
             ],
             [
              1,
              "#f0f921"
             ]
            ],
            "type": "heatmapgl"
           }
          ],
          "histogram": [
           {
            "marker": {
             "pattern": {
              "fillmode": "overlay",
              "size": 10,
              "solidity": 0.2
             }
            },
            "type": "histogram"
           }
          ],
          "histogram2d": [
           {
            "colorbar": {
             "outlinewidth": 0,
             "ticks": ""
            },
            "colorscale": [
             [
              0,
              "#0d0887"
             ],
             [
              0.1111111111111111,
              "#46039f"
             ],
             [
              0.2222222222222222,
              "#7201a8"
             ],
             [
              0.3333333333333333,
              "#9c179e"
             ],
             [
              0.4444444444444444,
              "#bd3786"
             ],
             [
              0.5555555555555556,
              "#d8576b"
             ],
             [
              0.6666666666666666,
              "#ed7953"
             ],
             [
              0.7777777777777778,
              "#fb9f3a"
             ],
             [
              0.8888888888888888,
              "#fdca26"
             ],
             [
              1,
              "#f0f921"
             ]
            ],
            "type": "histogram2d"
           }
          ],
          "histogram2dcontour": [
           {
            "colorbar": {
             "outlinewidth": 0,
             "ticks": ""
            },
            "colorscale": [
             [
              0,
              "#0d0887"
             ],
             [
              0.1111111111111111,
              "#46039f"
             ],
             [
              0.2222222222222222,
              "#7201a8"
             ],
             [
              0.3333333333333333,
              "#9c179e"
             ],
             [
              0.4444444444444444,
              "#bd3786"
             ],
             [
              0.5555555555555556,
              "#d8576b"
             ],
             [
              0.6666666666666666,
              "#ed7953"
             ],
             [
              0.7777777777777778,
              "#fb9f3a"
             ],
             [
              0.8888888888888888,
              "#fdca26"
             ],
             [
              1,
              "#f0f921"
             ]
            ],
            "type": "histogram2dcontour"
           }
          ],
          "mesh3d": [
           {
            "colorbar": {
             "outlinewidth": 0,
             "ticks": ""
            },
            "type": "mesh3d"
           }
          ],
          "parcoords": [
           {
            "line": {
             "colorbar": {
              "outlinewidth": 0,
              "ticks": ""
             }
            },
            "type": "parcoords"
           }
          ],
          "pie": [
           {
            "automargin": true,
            "type": "pie"
           }
          ],
          "scatter": [
           {
            "marker": {
             "colorbar": {
              "outlinewidth": 0,
              "ticks": ""
             }
            },
            "type": "scatter"
           }
          ],
          "scatter3d": [
           {
            "line": {
             "colorbar": {
              "outlinewidth": 0,
              "ticks": ""
             }
            },
            "marker": {
             "colorbar": {
              "outlinewidth": 0,
              "ticks": ""
             }
            },
            "type": "scatter3d"
           }
          ],
          "scattercarpet": [
           {
            "marker": {
             "colorbar": {
              "outlinewidth": 0,
              "ticks": ""
             }
            },
            "type": "scattercarpet"
           }
          ],
          "scattergeo": [
           {
            "marker": {
             "colorbar": {
              "outlinewidth": 0,
              "ticks": ""
             }
            },
            "type": "scattergeo"
           }
          ],
          "scattergl": [
           {
            "marker": {
             "colorbar": {
              "outlinewidth": 0,
              "ticks": ""
             }
            },
            "type": "scattergl"
           }
          ],
          "scattermapbox": [
           {
            "marker": {
             "colorbar": {
              "outlinewidth": 0,
              "ticks": ""
             }
            },
            "type": "scattermapbox"
           }
          ],
          "scatterpolar": [
           {
            "marker": {
             "colorbar": {
              "outlinewidth": 0,
              "ticks": ""
             }
            },
            "type": "scatterpolar"
           }
          ],
          "scatterpolargl": [
           {
            "marker": {
             "colorbar": {
              "outlinewidth": 0,
              "ticks": ""
             }
            },
            "type": "scatterpolargl"
           }
          ],
          "scatterternary": [
           {
            "marker": {
             "colorbar": {
              "outlinewidth": 0,
              "ticks": ""
             }
            },
            "type": "scatterternary"
           }
          ],
          "surface": [
           {
            "colorbar": {
             "outlinewidth": 0,
             "ticks": ""
            },
            "colorscale": [
             [
              0,
              "#0d0887"
             ],
             [
              0.1111111111111111,
              "#46039f"
             ],
             [
              0.2222222222222222,
              "#7201a8"
             ],
             [
              0.3333333333333333,
              "#9c179e"
             ],
             [
              0.4444444444444444,
              "#bd3786"
             ],
             [
              0.5555555555555556,
              "#d8576b"
             ],
             [
              0.6666666666666666,
              "#ed7953"
             ],
             [
              0.7777777777777778,
              "#fb9f3a"
             ],
             [
              0.8888888888888888,
              "#fdca26"
             ],
             [
              1,
              "#f0f921"
             ]
            ],
            "type": "surface"
           }
          ],
          "table": [
           {
            "cells": {
             "fill": {
              "color": "#EBF0F8"
             },
             "line": {
              "color": "white"
             }
            },
            "header": {
             "fill": {
              "color": "#C8D4E3"
             },
             "line": {
              "color": "white"
             }
            },
            "type": "table"
           }
          ]
         },
         "layout": {
          "annotationdefaults": {
           "arrowcolor": "#2a3f5f",
           "arrowhead": 0,
           "arrowwidth": 1
          },
          "autotypenumbers": "strict",
          "coloraxis": {
           "colorbar": {
            "outlinewidth": 0,
            "ticks": ""
           }
          },
          "colorscale": {
           "diverging": [
            [
             0,
             "#8e0152"
            ],
            [
             0.1,
             "#c51b7d"
            ],
            [
             0.2,
             "#de77ae"
            ],
            [
             0.3,
             "#f1b6da"
            ],
            [
             0.4,
             "#fde0ef"
            ],
            [
             0.5,
             "#f7f7f7"
            ],
            [
             0.6,
             "#e6f5d0"
            ],
            [
             0.7,
             "#b8e186"
            ],
            [
             0.8,
             "#7fbc41"
            ],
            [
             0.9,
             "#4d9221"
            ],
            [
             1,
             "#276419"
            ]
           ],
           "sequential": [
            [
             0,
             "#0d0887"
            ],
            [
             0.1111111111111111,
             "#46039f"
            ],
            [
             0.2222222222222222,
             "#7201a8"
            ],
            [
             0.3333333333333333,
             "#9c179e"
            ],
            [
             0.4444444444444444,
             "#bd3786"
            ],
            [
             0.5555555555555556,
             "#d8576b"
            ],
            [
             0.6666666666666666,
             "#ed7953"
            ],
            [
             0.7777777777777778,
             "#fb9f3a"
            ],
            [
             0.8888888888888888,
             "#fdca26"
            ],
            [
             1,
             "#f0f921"
            ]
           ],
           "sequentialminus": [
            [
             0,
             "#0d0887"
            ],
            [
             0.1111111111111111,
             "#46039f"
            ],
            [
             0.2222222222222222,
             "#7201a8"
            ],
            [
             0.3333333333333333,
             "#9c179e"
            ],
            [
             0.4444444444444444,
             "#bd3786"
            ],
            [
             0.5555555555555556,
             "#d8576b"
            ],
            [
             0.6666666666666666,
             "#ed7953"
            ],
            [
             0.7777777777777778,
             "#fb9f3a"
            ],
            [
             0.8888888888888888,
             "#fdca26"
            ],
            [
             1,
             "#f0f921"
            ]
           ]
          },
          "colorway": [
           "#636efa",
           "#EF553B",
           "#00cc96",
           "#ab63fa",
           "#FFA15A",
           "#19d3f3",
           "#FF6692",
           "#B6E880",
           "#FF97FF",
           "#FECB52"
          ],
          "font": {
           "color": "#2a3f5f"
          },
          "geo": {
           "bgcolor": "white",
           "lakecolor": "white",
           "landcolor": "#E5ECF6",
           "showlakes": true,
           "showland": true,
           "subunitcolor": "white"
          },
          "hoverlabel": {
           "align": "left"
          },
          "hovermode": "closest",
          "mapbox": {
           "style": "light"
          },
          "paper_bgcolor": "white",
          "plot_bgcolor": "#E5ECF6",
          "polar": {
           "angularaxis": {
            "gridcolor": "white",
            "linecolor": "white",
            "ticks": ""
           },
           "bgcolor": "#E5ECF6",
           "radialaxis": {
            "gridcolor": "white",
            "linecolor": "white",
            "ticks": ""
           }
          },
          "scene": {
           "xaxis": {
            "backgroundcolor": "#E5ECF6",
            "gridcolor": "white",
            "gridwidth": 2,
            "linecolor": "white",
            "showbackground": true,
            "ticks": "",
            "zerolinecolor": "white"
           },
           "yaxis": {
            "backgroundcolor": "#E5ECF6",
            "gridcolor": "white",
            "gridwidth": 2,
            "linecolor": "white",
            "showbackground": true,
            "ticks": "",
            "zerolinecolor": "white"
           },
           "zaxis": {
            "backgroundcolor": "#E5ECF6",
            "gridcolor": "white",
            "gridwidth": 2,
            "linecolor": "white",
            "showbackground": true,
            "ticks": "",
            "zerolinecolor": "white"
           }
          },
          "shapedefaults": {
           "line": {
            "color": "#2a3f5f"
           }
          },
          "ternary": {
           "aaxis": {
            "gridcolor": "white",
            "linecolor": "white",
            "ticks": ""
           },
           "baxis": {
            "gridcolor": "white",
            "linecolor": "white",
            "ticks": ""
           },
           "bgcolor": "#E5ECF6",
           "caxis": {
            "gridcolor": "white",
            "linecolor": "white",
            "ticks": ""
           }
          },
          "title": {
           "x": 0.05
          },
          "xaxis": {
           "automargin": true,
           "gridcolor": "white",
           "linecolor": "white",
           "ticks": "",
           "title": {
            "standoff": 15
           },
           "zerolinecolor": "white",
           "zerolinewidth": 2
          },
          "yaxis": {
           "automargin": true,
           "gridcolor": "white",
           "linecolor": "white",
           "ticks": "",
           "title": {
            "standoff": 15
           },
           "zerolinecolor": "white",
           "zerolinewidth": 2
          }
         }
        },
        "xaxis": {
         "anchor": "y",
         "domain": [
          0,
          1
         ],
         "title": {
          "text": "NDVI_median"
         }
        },
        "yaxis": {
         "anchor": "x",
         "domain": [
          0,
          1
         ],
         "title": {
          "text": "Resultado"
         }
        }
       }
      },
      "text/html": [
       "<div>                            <div id=\"515d7c2d-bc92-484d-83f7-2910b108e2b5\" class=\"plotly-graph-div\" style=\"height:525px; width:100%;\"></div>            <script type=\"text/javascript\">                require([\"plotly\"], function(Plotly) {                    window.PLOTLYENV=window.PLOTLYENV || {};                                    if (document.getElementById(\"515d7c2d-bc92-484d-83f7-2910b108e2b5\")) {                    Plotly.newPlot(                        \"515d7c2d-bc92-484d-83f7-2910b108e2b5\",                        [{\"hovertemplate\":\"NDVI_median=%{x}<br>Resultado=%{y}<extra></extra>\",\"legendgroup\":\"\",\"marker\":{\"color\":\"#636efa\",\"symbol\":\"circle\"},\"mode\":\"markers\",\"name\":\"\",\"orientation\":\"h\",\"showlegend\":false,\"x\":[-0.7744964378153082,-0.149737395411771,-0.4419304667830346,-0.6773786740201134,-0.15317637914124227,-0.4972019201665516,-0.5297803736658883,-0.46746683554355617,-0.17694740529295405,-0.5795691558538277,-0.09067919690234585,-0.4742012733161604,-0.02371266651734744,-0.6076913362866442,-0.6207551566349763,-0.45063063928437047,-0.5333101273190246,-0.1629745627608244,-0.6373176259331951,-0.003560894686629116,-0.7081325846414762,0.08265243812884271,-0.4287691854053781,-0.7137440519831515,-0.6712772933621469,-0.5423869689629871,-0.5870907451483919,-0.07724901107480321,-0.47108703780672667,-0.0955835011499922,-0.6271586395605855,-0.09043443419916797,-0.10033760704573115,-0.11120370715619024,-0.6651679669719806,-0.4658869395711501,-0.6,-0.5633747214725052,-0.6221169293853477,-0.5837388535936124,-0.5837388535936124,-0.9931464035985045,-0.5535731411915736,-0.5805917077274422,-0.47778172568043226,-0.526094507982788,-0.3801802760088108,-0.6503787631520542,-0.517346081055462,-0.44882354095728455,-0.4206580474035901,-0.14182051365274773,-0.6919100224976988,-0.6576363589481986,-0.4158504007123775,-0.4915842223414188,-0.5639116035096893,-0.5922036940659234,-0.48985059415387283,-0.3430285333193357,-0.33107982713007916,-0.46934833323951,-0.5120709407226465,-0.43561442534812045,-0.12817284471822485,-0.1194210595109609,-0.07650651303985492],\"xaxis\":\"x\",\"y\":[298.0,0.0,1486.0,600.0,0.0,0.0,556.0,612.0,2772.0,2772.0,28508.0,28508.0,76.0,76.0,76.0,251.0,374.0,0.0,0.0,1404.0,1404.0,150.0,150.0,1897.0,1897.0,0.0,0.0,25659.0,1766.0,1766.0,1529.0,10557.0,1793.0,1793.0,360.0,360.0,360.0,386.0,6997.0,2228.0,0.0,10674.0,0.0,12.0,70.0,8.0,8.0,129.0,364.0,8323.0,6142.0,6142.0,335.0,26.0,0.0,0.0,1836.0,186.0,0.0,0.0,216.0,216.0,10387.0,10387.0,3077.0,3077.0,4915.0],\"yaxis\":\"y\",\"type\":\"scatter\"}],                        {\"template\":{\"data\":{\"bar\":[{\"error_x\":{\"color\":\"#2a3f5f\"},\"error_y\":{\"color\":\"#2a3f5f\"},\"marker\":{\"line\":{\"color\":\"#E5ECF6\",\"width\":0.5},\"pattern\":{\"fillmode\":\"overlay\",\"size\":10,\"solidity\":0.2}},\"type\":\"bar\"}],\"barpolar\":[{\"marker\":{\"line\":{\"color\":\"#E5ECF6\",\"width\":0.5},\"pattern\":{\"fillmode\":\"overlay\",\"size\":10,\"solidity\":0.2}},\"type\":\"barpolar\"}],\"carpet\":[{\"aaxis\":{\"endlinecolor\":\"#2a3f5f\",\"gridcolor\":\"white\",\"linecolor\":\"white\",\"minorgridcolor\":\"white\",\"startlinecolor\":\"#2a3f5f\"},\"baxis\":{\"endlinecolor\":\"#2a3f5f\",\"gridcolor\":\"white\",\"linecolor\":\"white\",\"minorgridcolor\":\"white\",\"startlinecolor\":\"#2a3f5f\"},\"type\":\"carpet\"}],\"choropleth\":[{\"colorbar\":{\"outlinewidth\":0,\"ticks\":\"\"},\"type\":\"choropleth\"}],\"contour\":[{\"colorbar\":{\"outlinewidth\":0,\"ticks\":\"\"},\"colorscale\":[[0.0,\"#0d0887\"],[0.1111111111111111,\"#46039f\"],[0.2222222222222222,\"#7201a8\"],[0.3333333333333333,\"#9c179e\"],[0.4444444444444444,\"#bd3786\"],[0.5555555555555556,\"#d8576b\"],[0.6666666666666666,\"#ed7953\"],[0.7777777777777778,\"#fb9f3a\"],[0.8888888888888888,\"#fdca26\"],[1.0,\"#f0f921\"]],\"type\":\"contour\"}],\"contourcarpet\":[{\"colorbar\":{\"outlinewidth\":0,\"ticks\":\"\"},\"type\":\"contourcarpet\"}],\"heatmap\":[{\"colorbar\":{\"outlinewidth\":0,\"ticks\":\"\"},\"colorscale\":[[0.0,\"#0d0887\"],[0.1111111111111111,\"#46039f\"],[0.2222222222222222,\"#7201a8\"],[0.3333333333333333,\"#9c179e\"],[0.4444444444444444,\"#bd3786\"],[0.5555555555555556,\"#d8576b\"],[0.6666666666666666,\"#ed7953\"],[0.7777777777777778,\"#fb9f3a\"],[0.8888888888888888,\"#fdca26\"],[1.0,\"#f0f921\"]],\"type\":\"heatmap\"}],\"heatmapgl\":[{\"colorbar\":{\"outlinewidth\":0,\"ticks\":\"\"},\"colorscale\":[[0.0,\"#0d0887\"],[0.1111111111111111,\"#46039f\"],[0.2222222222222222,\"#7201a8\"],[0.3333333333333333,\"#9c179e\"],[0.4444444444444444,\"#bd3786\"],[0.5555555555555556,\"#d8576b\"],[0.6666666666666666,\"#ed7953\"],[0.7777777777777778,\"#fb9f3a\"],[0.8888888888888888,\"#fdca26\"],[1.0,\"#f0f921\"]],\"type\":\"heatmapgl\"}],\"histogram\":[{\"marker\":{\"pattern\":{\"fillmode\":\"overlay\",\"size\":10,\"solidity\":0.2}},\"type\":\"histogram\"}],\"histogram2d\":[{\"colorbar\":{\"outlinewidth\":0,\"ticks\":\"\"},\"colorscale\":[[0.0,\"#0d0887\"],[0.1111111111111111,\"#46039f\"],[0.2222222222222222,\"#7201a8\"],[0.3333333333333333,\"#9c179e\"],[0.4444444444444444,\"#bd3786\"],[0.5555555555555556,\"#d8576b\"],[0.6666666666666666,\"#ed7953\"],[0.7777777777777778,\"#fb9f3a\"],[0.8888888888888888,\"#fdca26\"],[1.0,\"#f0f921\"]],\"type\":\"histogram2d\"}],\"histogram2dcontour\":[{\"colorbar\":{\"outlinewidth\":0,\"ticks\":\"\"},\"colorscale\":[[0.0,\"#0d0887\"],[0.1111111111111111,\"#46039f\"],[0.2222222222222222,\"#7201a8\"],[0.3333333333333333,\"#9c179e\"],[0.4444444444444444,\"#bd3786\"],[0.5555555555555556,\"#d8576b\"],[0.6666666666666666,\"#ed7953\"],[0.7777777777777778,\"#fb9f3a\"],[0.8888888888888888,\"#fdca26\"],[1.0,\"#f0f921\"]],\"type\":\"histogram2dcontour\"}],\"mesh3d\":[{\"colorbar\":{\"outlinewidth\":0,\"ticks\":\"\"},\"type\":\"mesh3d\"}],\"parcoords\":[{\"line\":{\"colorbar\":{\"outlinewidth\":0,\"ticks\":\"\"}},\"type\":\"parcoords\"}],\"pie\":[{\"automargin\":true,\"type\":\"pie\"}],\"scatter\":[{\"marker\":{\"colorbar\":{\"outlinewidth\":0,\"ticks\":\"\"}},\"type\":\"scatter\"}],\"scatter3d\":[{\"line\":{\"colorbar\":{\"outlinewidth\":0,\"ticks\":\"\"}},\"marker\":{\"colorbar\":{\"outlinewidth\":0,\"ticks\":\"\"}},\"type\":\"scatter3d\"}],\"scattercarpet\":[{\"marker\":{\"colorbar\":{\"outlinewidth\":0,\"ticks\":\"\"}},\"type\":\"scattercarpet\"}],\"scattergeo\":[{\"marker\":{\"colorbar\":{\"outlinewidth\":0,\"ticks\":\"\"}},\"type\":\"scattergeo\"}],\"scattergl\":[{\"marker\":{\"colorbar\":{\"outlinewidth\":0,\"ticks\":\"\"}},\"type\":\"scattergl\"}],\"scattermapbox\":[{\"marker\":{\"colorbar\":{\"outlinewidth\":0,\"ticks\":\"\"}},\"type\":\"scattermapbox\"}],\"scatterpolar\":[{\"marker\":{\"colorbar\":{\"outlinewidth\":0,\"ticks\":\"\"}},\"type\":\"scatterpolar\"}],\"scatterpolargl\":[{\"marker\":{\"colorbar\":{\"outlinewidth\":0,\"ticks\":\"\"}},\"type\":\"scatterpolargl\"}],\"scatterternary\":[{\"marker\":{\"colorbar\":{\"outlinewidth\":0,\"ticks\":\"\"}},\"type\":\"scatterternary\"}],\"surface\":[{\"colorbar\":{\"outlinewidth\":0,\"ticks\":\"\"},\"colorscale\":[[0.0,\"#0d0887\"],[0.1111111111111111,\"#46039f\"],[0.2222222222222222,\"#7201a8\"],[0.3333333333333333,\"#9c179e\"],[0.4444444444444444,\"#bd3786\"],[0.5555555555555556,\"#d8576b\"],[0.6666666666666666,\"#ed7953\"],[0.7777777777777778,\"#fb9f3a\"],[0.8888888888888888,\"#fdca26\"],[1.0,\"#f0f921\"]],\"type\":\"surface\"}],\"table\":[{\"cells\":{\"fill\":{\"color\":\"#EBF0F8\"},\"line\":{\"color\":\"white\"}},\"header\":{\"fill\":{\"color\":\"#C8D4E3\"},\"line\":{\"color\":\"white\"}},\"type\":\"table\"}]},\"layout\":{\"annotationdefaults\":{\"arrowcolor\":\"#2a3f5f\",\"arrowhead\":0,\"arrowwidth\":1},\"autotypenumbers\":\"strict\",\"coloraxis\":{\"colorbar\":{\"outlinewidth\":0,\"ticks\":\"\"}},\"colorscale\":{\"diverging\":[[0,\"#8e0152\"],[0.1,\"#c51b7d\"],[0.2,\"#de77ae\"],[0.3,\"#f1b6da\"],[0.4,\"#fde0ef\"],[0.5,\"#f7f7f7\"],[0.6,\"#e6f5d0\"],[0.7,\"#b8e186\"],[0.8,\"#7fbc41\"],[0.9,\"#4d9221\"],[1,\"#276419\"]],\"sequential\":[[0.0,\"#0d0887\"],[0.1111111111111111,\"#46039f\"],[0.2222222222222222,\"#7201a8\"],[0.3333333333333333,\"#9c179e\"],[0.4444444444444444,\"#bd3786\"],[0.5555555555555556,\"#d8576b\"],[0.6666666666666666,\"#ed7953\"],[0.7777777777777778,\"#fb9f3a\"],[0.8888888888888888,\"#fdca26\"],[1.0,\"#f0f921\"]],\"sequentialminus\":[[0.0,\"#0d0887\"],[0.1111111111111111,\"#46039f\"],[0.2222222222222222,\"#7201a8\"],[0.3333333333333333,\"#9c179e\"],[0.4444444444444444,\"#bd3786\"],[0.5555555555555556,\"#d8576b\"],[0.6666666666666666,\"#ed7953\"],[0.7777777777777778,\"#fb9f3a\"],[0.8888888888888888,\"#fdca26\"],[1.0,\"#f0f921\"]]},\"colorway\":[\"#636efa\",\"#EF553B\",\"#00cc96\",\"#ab63fa\",\"#FFA15A\",\"#19d3f3\",\"#FF6692\",\"#B6E880\",\"#FF97FF\",\"#FECB52\"],\"font\":{\"color\":\"#2a3f5f\"},\"geo\":{\"bgcolor\":\"white\",\"lakecolor\":\"white\",\"landcolor\":\"#E5ECF6\",\"showlakes\":true,\"showland\":true,\"subunitcolor\":\"white\"},\"hoverlabel\":{\"align\":\"left\"},\"hovermode\":\"closest\",\"mapbox\":{\"style\":\"light\"},\"paper_bgcolor\":\"white\",\"plot_bgcolor\":\"#E5ECF6\",\"polar\":{\"angularaxis\":{\"gridcolor\":\"white\",\"linecolor\":\"white\",\"ticks\":\"\"},\"bgcolor\":\"#E5ECF6\",\"radialaxis\":{\"gridcolor\":\"white\",\"linecolor\":\"white\",\"ticks\":\"\"}},\"scene\":{\"xaxis\":{\"backgroundcolor\":\"#E5ECF6\",\"gridcolor\":\"white\",\"gridwidth\":2,\"linecolor\":\"white\",\"showbackground\":true,\"ticks\":\"\",\"zerolinecolor\":\"white\"},\"yaxis\":{\"backgroundcolor\":\"#E5ECF6\",\"gridcolor\":\"white\",\"gridwidth\":2,\"linecolor\":\"white\",\"showbackground\":true,\"ticks\":\"\",\"zerolinecolor\":\"white\"},\"zaxis\":{\"backgroundcolor\":\"#E5ECF6\",\"gridcolor\":\"white\",\"gridwidth\":2,\"linecolor\":\"white\",\"showbackground\":true,\"ticks\":\"\",\"zerolinecolor\":\"white\"}},\"shapedefaults\":{\"line\":{\"color\":\"#2a3f5f\"}},\"ternary\":{\"aaxis\":{\"gridcolor\":\"white\",\"linecolor\":\"white\",\"ticks\":\"\"},\"baxis\":{\"gridcolor\":\"white\",\"linecolor\":\"white\",\"ticks\":\"\"},\"bgcolor\":\"#E5ECF6\",\"caxis\":{\"gridcolor\":\"white\",\"linecolor\":\"white\",\"ticks\":\"\"}},\"title\":{\"x\":0.05},\"xaxis\":{\"automargin\":true,\"gridcolor\":\"white\",\"linecolor\":\"white\",\"ticks\":\"\",\"title\":{\"standoff\":15},\"zerolinecolor\":\"white\",\"zerolinewidth\":2},\"yaxis\":{\"automargin\":true,\"gridcolor\":\"white\",\"linecolor\":\"white\",\"ticks\":\"\",\"title\":{\"standoff\":15},\"zerolinecolor\":\"white\",\"zerolinewidth\":2}}},\"xaxis\":{\"anchor\":\"y\",\"domain\":[0.0,1.0],\"title\":{\"text\":\"NDVI_median\"}},\"yaxis\":{\"anchor\":\"x\",\"domain\":[0.0,1.0],\"title\":{\"text\":\"Resultado\"}},\"legend\":{\"tracegroupgap\":0},\"margin\":{\"t\":60}},                        {\"responsive\": true}                    ).then(function(){\n",
       "                            \n",
       "var gd = document.getElementById('515d7c2d-bc92-484d-83f7-2910b108e2b5');\n",
       "var x = new MutationObserver(function (mutations, observer) {{\n",
       "        var display = window.getComputedStyle(gd).display;\n",
       "        if (!display || display === 'none') {{\n",
       "            console.log([gd, 'removed!']);\n",
       "            Plotly.purge(gd);\n",
       "            observer.disconnect();\n",
       "        }}\n",
       "}});\n",
       "\n",
       "// Listen for the removal of the full notebook cells\n",
       "var notebookContainer = gd.closest('#notebook-container');\n",
       "if (notebookContainer) {{\n",
       "    x.observe(notebookContainer, {childList: true});\n",
       "}}\n",
       "\n",
       "// Listen for the clearing of the current output cell\n",
       "var outputEl = gd.closest('.output');\n",
       "if (outputEl) {{\n",
       "    x.observe(outputEl, {childList: true});\n",
       "}}\n",
       "\n",
       "                        })                };                });            </script>        </div>"
      ]
     },
     "metadata": {},
     "output_type": "display_data"
    }
   ],
   "source": [
    "px.scatter(captacao_gee, x=\"NDVI_median\", y=\"Resultado\")"
   ]
  },
  {
   "cell_type": "code",
   "execution_count": 188,
   "metadata": {},
   "outputs": [
    {
     "data": {
      "application/vnd.plotly.v1+json": {
       "config": {
        "plotlyServerURL": "https://plot.ly"
       },
       "data": [
        {
         "hovertemplate": "log_ndvi_median=%{x}<br>log_ciano=%{y}<extra></extra>",
         "legendgroup": "",
         "marker": {
          "color": "#636efa",
          "symbol": "circle"
         },
         "mode": "markers",
         "name": "",
         "orientation": "v",
         "showlegend": false,
         "type": "scatter",
         "x": [
          -1.489419323336271,
          -0.1622100306375536,
          -0.5832717128642562,
          -1.1312760089047176,
          -0.16626284585118525,
          -0.687566621220337,
          -0.75455540335146,
          -0.6301101026685392,
          -0.1947351742630786,
          -0.8664752741022426,
          -0.09505732836652456,
          -0.6428367883632337,
          -0.02399833683584963,
          -0.9357063416022388,
          -0.9695732577740196,
          -0.5989842755043594,
          -0.7620903261097329,
          -0.1779008179877008,
          -1.014227830326277,
          -0.003567249763104427,
          -1.2314556368203025,
          0.07941399142258904,
          -0.5599619222924199,
          -1.2508689452314095,
          -1.1125407205705564,
          -0.7817313624054595,
          -0.8845274320724386,
          -0.08039586535740774,
          -0.6369313933767593,
          -0.10046529587651283,
          -0.9866022569399894,
          -0.09478819368187295,
          -0.10573570497223685,
          -0.11788721163322612,
          -1.0941262668432579,
          -0.6271477387826994,
          -0.916290731874155,
          -0.8286799379452505,
          -0.973170468215382,
          -0.8764424598925282,
          -0.8764424598925282,
          -4.982981742367758,
          -0.8064797021434319,
          -0.8689103889583267,
          -0.6496696284623757,
          -0.7467473610966113,
          -0.4783266109802865,
          -1.0509048909131602,
          -0.728455406079872,
          -0.5957002687529332,
          -0.5458623840361425,
          -0.15294200982476133,
          -1.1773634039238783,
          -1.071881828869885,
          -0.537598165794354,
          -0.6764557062015258,
          -0.8299103119391075,
          -0.8969874794064093,
          -0.6730516435265463,
          -0.4201146911504193,
          -0.40209054903786523,
          -0.6336494678002692,
          -0.7175852540295728,
          -0.5720176180617177,
          -0.13716409114061098,
          -0.12717570090325392,
          -0.07959153192846431
         ],
         "xaxis": "x",
         "y": [
          5.700443573390687,
          0,
          7.304515946460155,
          6.398594934535208,
          0,
          0,
          6.322565239927284,
          6.418364935936212,
          7.927685045615778,
          7.927685045615778,
          10.257975105879424,
          10.257975105879424,
          4.343805421853684,
          4.343805421853684,
          4.343805421853684,
          5.529429087511423,
          5.926926025970411,
          0,
          0,
          7.247792581767846,
          7.247792581767846,
          5.017279836814924,
          5.017279836814924,
          7.5485559791698735,
          7.5485559791698735,
          0,
          0,
          10.152688638169627,
          7.4770384723196965,
          7.4770384723196965,
          7.333023014386481,
          9.264639145383562,
          7.492203042618741,
          7.492203042618741,
          5.8888779583328805,
          5.8888779583328805,
          5.8888779583328805,
          5.958424693029782,
          8.853379672927634,
          7.709308333385869,
          0,
          9.275659838096825,
          0,
          2.5649493574615367,
          4.2626798770413155,
          2.1972245773362196,
          2.1972245773362196,
          4.867534450455582,
          5.8998973535824915,
          9.026898187513526,
          8.723068501163928,
          8.723068501163928,
          5.817111159963204,
          3.295836866004329,
          0,
          0,
          7.515889085215125,
          5.231108616854587,
          0,
          0,
          5.37989735354046,
          5.37989735354046,
          9.248406572782638,
          9.248406572782638,
          8.032035314398824,
          8.032035314398824,
          8.500250470685925
         ],
         "yaxis": "y"
        }
       ],
       "layout": {
        "legend": {
         "tracegroupgap": 0
        },
        "margin": {
         "t": 60
        },
        "template": {
         "data": {
          "bar": [
           {
            "error_x": {
             "color": "#2a3f5f"
            },
            "error_y": {
             "color": "#2a3f5f"
            },
            "marker": {
             "line": {
              "color": "#E5ECF6",
              "width": 0.5
             },
             "pattern": {
              "fillmode": "overlay",
              "size": 10,
              "solidity": 0.2
             }
            },
            "type": "bar"
           }
          ],
          "barpolar": [
           {
            "marker": {
             "line": {
              "color": "#E5ECF6",
              "width": 0.5
             },
             "pattern": {
              "fillmode": "overlay",
              "size": 10,
              "solidity": 0.2
             }
            },
            "type": "barpolar"
           }
          ],
          "carpet": [
           {
            "aaxis": {
             "endlinecolor": "#2a3f5f",
             "gridcolor": "white",
             "linecolor": "white",
             "minorgridcolor": "white",
             "startlinecolor": "#2a3f5f"
            },
            "baxis": {
             "endlinecolor": "#2a3f5f",
             "gridcolor": "white",
             "linecolor": "white",
             "minorgridcolor": "white",
             "startlinecolor": "#2a3f5f"
            },
            "type": "carpet"
           }
          ],
          "choropleth": [
           {
            "colorbar": {
             "outlinewidth": 0,
             "ticks": ""
            },
            "type": "choropleth"
           }
          ],
          "contour": [
           {
            "colorbar": {
             "outlinewidth": 0,
             "ticks": ""
            },
            "colorscale": [
             [
              0,
              "#0d0887"
             ],
             [
              0.1111111111111111,
              "#46039f"
             ],
             [
              0.2222222222222222,
              "#7201a8"
             ],
             [
              0.3333333333333333,
              "#9c179e"
             ],
             [
              0.4444444444444444,
              "#bd3786"
             ],
             [
              0.5555555555555556,
              "#d8576b"
             ],
             [
              0.6666666666666666,
              "#ed7953"
             ],
             [
              0.7777777777777778,
              "#fb9f3a"
             ],
             [
              0.8888888888888888,
              "#fdca26"
             ],
             [
              1,
              "#f0f921"
             ]
            ],
            "type": "contour"
           }
          ],
          "contourcarpet": [
           {
            "colorbar": {
             "outlinewidth": 0,
             "ticks": ""
            },
            "type": "contourcarpet"
           }
          ],
          "heatmap": [
           {
            "colorbar": {
             "outlinewidth": 0,
             "ticks": ""
            },
            "colorscale": [
             [
              0,
              "#0d0887"
             ],
             [
              0.1111111111111111,
              "#46039f"
             ],
             [
              0.2222222222222222,
              "#7201a8"
             ],
             [
              0.3333333333333333,
              "#9c179e"
             ],
             [
              0.4444444444444444,
              "#bd3786"
             ],
             [
              0.5555555555555556,
              "#d8576b"
             ],
             [
              0.6666666666666666,
              "#ed7953"
             ],
             [
              0.7777777777777778,
              "#fb9f3a"
             ],
             [
              0.8888888888888888,
              "#fdca26"
             ],
             [
              1,
              "#f0f921"
             ]
            ],
            "type": "heatmap"
           }
          ],
          "heatmapgl": [
           {
            "colorbar": {
             "outlinewidth": 0,
             "ticks": ""
            },
            "colorscale": [
             [
              0,
              "#0d0887"
             ],
             [
              0.1111111111111111,
              "#46039f"
             ],
             [
              0.2222222222222222,
              "#7201a8"
             ],
             [
              0.3333333333333333,
              "#9c179e"
             ],
             [
              0.4444444444444444,
              "#bd3786"
             ],
             [
              0.5555555555555556,
              "#d8576b"
             ],
             [
              0.6666666666666666,
              "#ed7953"
             ],
             [
              0.7777777777777778,
              "#fb9f3a"
             ],
             [
              0.8888888888888888,
              "#fdca26"
             ],
             [
              1,
              "#f0f921"
             ]
            ],
            "type": "heatmapgl"
           }
          ],
          "histogram": [
           {
            "marker": {
             "pattern": {
              "fillmode": "overlay",
              "size": 10,
              "solidity": 0.2
             }
            },
            "type": "histogram"
           }
          ],
          "histogram2d": [
           {
            "colorbar": {
             "outlinewidth": 0,
             "ticks": ""
            },
            "colorscale": [
             [
              0,
              "#0d0887"
             ],
             [
              0.1111111111111111,
              "#46039f"
             ],
             [
              0.2222222222222222,
              "#7201a8"
             ],
             [
              0.3333333333333333,
              "#9c179e"
             ],
             [
              0.4444444444444444,
              "#bd3786"
             ],
             [
              0.5555555555555556,
              "#d8576b"
             ],
             [
              0.6666666666666666,
              "#ed7953"
             ],
             [
              0.7777777777777778,
              "#fb9f3a"
             ],
             [
              0.8888888888888888,
              "#fdca26"
             ],
             [
              1,
              "#f0f921"
             ]
            ],
            "type": "histogram2d"
           }
          ],
          "histogram2dcontour": [
           {
            "colorbar": {
             "outlinewidth": 0,
             "ticks": ""
            },
            "colorscale": [
             [
              0,
              "#0d0887"
             ],
             [
              0.1111111111111111,
              "#46039f"
             ],
             [
              0.2222222222222222,
              "#7201a8"
             ],
             [
              0.3333333333333333,
              "#9c179e"
             ],
             [
              0.4444444444444444,
              "#bd3786"
             ],
             [
              0.5555555555555556,
              "#d8576b"
             ],
             [
              0.6666666666666666,
              "#ed7953"
             ],
             [
              0.7777777777777778,
              "#fb9f3a"
             ],
             [
              0.8888888888888888,
              "#fdca26"
             ],
             [
              1,
              "#f0f921"
             ]
            ],
            "type": "histogram2dcontour"
           }
          ],
          "mesh3d": [
           {
            "colorbar": {
             "outlinewidth": 0,
             "ticks": ""
            },
            "type": "mesh3d"
           }
          ],
          "parcoords": [
           {
            "line": {
             "colorbar": {
              "outlinewidth": 0,
              "ticks": ""
             }
            },
            "type": "parcoords"
           }
          ],
          "pie": [
           {
            "automargin": true,
            "type": "pie"
           }
          ],
          "scatter": [
           {
            "marker": {
             "colorbar": {
              "outlinewidth": 0,
              "ticks": ""
             }
            },
            "type": "scatter"
           }
          ],
          "scatter3d": [
           {
            "line": {
             "colorbar": {
              "outlinewidth": 0,
              "ticks": ""
             }
            },
            "marker": {
             "colorbar": {
              "outlinewidth": 0,
              "ticks": ""
             }
            },
            "type": "scatter3d"
           }
          ],
          "scattercarpet": [
           {
            "marker": {
             "colorbar": {
              "outlinewidth": 0,
              "ticks": ""
             }
            },
            "type": "scattercarpet"
           }
          ],
          "scattergeo": [
           {
            "marker": {
             "colorbar": {
              "outlinewidth": 0,
              "ticks": ""
             }
            },
            "type": "scattergeo"
           }
          ],
          "scattergl": [
           {
            "marker": {
             "colorbar": {
              "outlinewidth": 0,
              "ticks": ""
             }
            },
            "type": "scattergl"
           }
          ],
          "scattermapbox": [
           {
            "marker": {
             "colorbar": {
              "outlinewidth": 0,
              "ticks": ""
             }
            },
            "type": "scattermapbox"
           }
          ],
          "scatterpolar": [
           {
            "marker": {
             "colorbar": {
              "outlinewidth": 0,
              "ticks": ""
             }
            },
            "type": "scatterpolar"
           }
          ],
          "scatterpolargl": [
           {
            "marker": {
             "colorbar": {
              "outlinewidth": 0,
              "ticks": ""
             }
            },
            "type": "scatterpolargl"
           }
          ],
          "scatterternary": [
           {
            "marker": {
             "colorbar": {
              "outlinewidth": 0,
              "ticks": ""
             }
            },
            "type": "scatterternary"
           }
          ],
          "surface": [
           {
            "colorbar": {
             "outlinewidth": 0,
             "ticks": ""
            },
            "colorscale": [
             [
              0,
              "#0d0887"
             ],
             [
              0.1111111111111111,
              "#46039f"
             ],
             [
              0.2222222222222222,
              "#7201a8"
             ],
             [
              0.3333333333333333,
              "#9c179e"
             ],
             [
              0.4444444444444444,
              "#bd3786"
             ],
             [
              0.5555555555555556,
              "#d8576b"
             ],
             [
              0.6666666666666666,
              "#ed7953"
             ],
             [
              0.7777777777777778,
              "#fb9f3a"
             ],
             [
              0.8888888888888888,
              "#fdca26"
             ],
             [
              1,
              "#f0f921"
             ]
            ],
            "type": "surface"
           }
          ],
          "table": [
           {
            "cells": {
             "fill": {
              "color": "#EBF0F8"
             },
             "line": {
              "color": "white"
             }
            },
            "header": {
             "fill": {
              "color": "#C8D4E3"
             },
             "line": {
              "color": "white"
             }
            },
            "type": "table"
           }
          ]
         },
         "layout": {
          "annotationdefaults": {
           "arrowcolor": "#2a3f5f",
           "arrowhead": 0,
           "arrowwidth": 1
          },
          "autotypenumbers": "strict",
          "coloraxis": {
           "colorbar": {
            "outlinewidth": 0,
            "ticks": ""
           }
          },
          "colorscale": {
           "diverging": [
            [
             0,
             "#8e0152"
            ],
            [
             0.1,
             "#c51b7d"
            ],
            [
             0.2,
             "#de77ae"
            ],
            [
             0.3,
             "#f1b6da"
            ],
            [
             0.4,
             "#fde0ef"
            ],
            [
             0.5,
             "#f7f7f7"
            ],
            [
             0.6,
             "#e6f5d0"
            ],
            [
             0.7,
             "#b8e186"
            ],
            [
             0.8,
             "#7fbc41"
            ],
            [
             0.9,
             "#4d9221"
            ],
            [
             1,
             "#276419"
            ]
           ],
           "sequential": [
            [
             0,
             "#0d0887"
            ],
            [
             0.1111111111111111,
             "#46039f"
            ],
            [
             0.2222222222222222,
             "#7201a8"
            ],
            [
             0.3333333333333333,
             "#9c179e"
            ],
            [
             0.4444444444444444,
             "#bd3786"
            ],
            [
             0.5555555555555556,
             "#d8576b"
            ],
            [
             0.6666666666666666,
             "#ed7953"
            ],
            [
             0.7777777777777778,
             "#fb9f3a"
            ],
            [
             0.8888888888888888,
             "#fdca26"
            ],
            [
             1,
             "#f0f921"
            ]
           ],
           "sequentialminus": [
            [
             0,
             "#0d0887"
            ],
            [
             0.1111111111111111,
             "#46039f"
            ],
            [
             0.2222222222222222,
             "#7201a8"
            ],
            [
             0.3333333333333333,
             "#9c179e"
            ],
            [
             0.4444444444444444,
             "#bd3786"
            ],
            [
             0.5555555555555556,
             "#d8576b"
            ],
            [
             0.6666666666666666,
             "#ed7953"
            ],
            [
             0.7777777777777778,
             "#fb9f3a"
            ],
            [
             0.8888888888888888,
             "#fdca26"
            ],
            [
             1,
             "#f0f921"
            ]
           ]
          },
          "colorway": [
           "#636efa",
           "#EF553B",
           "#00cc96",
           "#ab63fa",
           "#FFA15A",
           "#19d3f3",
           "#FF6692",
           "#B6E880",
           "#FF97FF",
           "#FECB52"
          ],
          "font": {
           "color": "#2a3f5f"
          },
          "geo": {
           "bgcolor": "white",
           "lakecolor": "white",
           "landcolor": "#E5ECF6",
           "showlakes": true,
           "showland": true,
           "subunitcolor": "white"
          },
          "hoverlabel": {
           "align": "left"
          },
          "hovermode": "closest",
          "mapbox": {
           "style": "light"
          },
          "paper_bgcolor": "white",
          "plot_bgcolor": "#E5ECF6",
          "polar": {
           "angularaxis": {
            "gridcolor": "white",
            "linecolor": "white",
            "ticks": ""
           },
           "bgcolor": "#E5ECF6",
           "radialaxis": {
            "gridcolor": "white",
            "linecolor": "white",
            "ticks": ""
           }
          },
          "scene": {
           "xaxis": {
            "backgroundcolor": "#E5ECF6",
            "gridcolor": "white",
            "gridwidth": 2,
            "linecolor": "white",
            "showbackground": true,
            "ticks": "",
            "zerolinecolor": "white"
           },
           "yaxis": {
            "backgroundcolor": "#E5ECF6",
            "gridcolor": "white",
            "gridwidth": 2,
            "linecolor": "white",
            "showbackground": true,
            "ticks": "",
            "zerolinecolor": "white"
           },
           "zaxis": {
            "backgroundcolor": "#E5ECF6",
            "gridcolor": "white",
            "gridwidth": 2,
            "linecolor": "white",
            "showbackground": true,
            "ticks": "",
            "zerolinecolor": "white"
           }
          },
          "shapedefaults": {
           "line": {
            "color": "#2a3f5f"
           }
          },
          "ternary": {
           "aaxis": {
            "gridcolor": "white",
            "linecolor": "white",
            "ticks": ""
           },
           "baxis": {
            "gridcolor": "white",
            "linecolor": "white",
            "ticks": ""
           },
           "bgcolor": "#E5ECF6",
           "caxis": {
            "gridcolor": "white",
            "linecolor": "white",
            "ticks": ""
           }
          },
          "title": {
           "x": 0.05
          },
          "xaxis": {
           "automargin": true,
           "gridcolor": "white",
           "linecolor": "white",
           "ticks": "",
           "title": {
            "standoff": 15
           },
           "zerolinecolor": "white",
           "zerolinewidth": 2
          },
          "yaxis": {
           "automargin": true,
           "gridcolor": "white",
           "linecolor": "white",
           "ticks": "",
           "title": {
            "standoff": 15
           },
           "zerolinecolor": "white",
           "zerolinewidth": 2
          }
         }
        },
        "xaxis": {
         "anchor": "y",
         "domain": [
          0,
          1
         ],
         "title": {
          "text": "log_ndvi_median"
         }
        },
        "yaxis": {
         "anchor": "x",
         "domain": [
          0,
          1
         ],
         "title": {
          "text": "log_ciano"
         }
        }
       }
      },
      "text/html": [
       "<div>                            <div id=\"baca3f07-a2a0-4325-a80b-c12249742d26\" class=\"plotly-graph-div\" style=\"height:525px; width:100%;\"></div>            <script type=\"text/javascript\">                require([\"plotly\"], function(Plotly) {                    window.PLOTLYENV=window.PLOTLYENV || {};                                    if (document.getElementById(\"baca3f07-a2a0-4325-a80b-c12249742d26\")) {                    Plotly.newPlot(                        \"baca3f07-a2a0-4325-a80b-c12249742d26\",                        [{\"hovertemplate\":\"log_ndvi_median=%{x}<br>log_ciano=%{y}<extra></extra>\",\"legendgroup\":\"\",\"marker\":{\"color\":\"#636efa\",\"symbol\":\"circle\"},\"mode\":\"markers\",\"name\":\"\",\"orientation\":\"v\",\"showlegend\":false,\"x\":[-1.489419323336271,-0.1622100306375536,-0.5832717128642562,-1.1312760089047176,-0.16626284585118525,-0.687566621220337,-0.75455540335146,-0.6301101026685392,-0.1947351742630786,-0.8664752741022426,-0.09505732836652456,-0.6428367883632337,-0.02399833683584963,-0.9357063416022388,-0.9695732577740196,-0.5989842755043594,-0.7620903261097329,-0.1779008179877008,-1.014227830326277,-0.003567249763104427,-1.2314556368203025,0.07941399142258904,-0.5599619222924199,-1.2508689452314095,-1.1125407205705564,-0.7817313624054595,-0.8845274320724386,-0.08039586535740774,-0.6369313933767593,-0.10046529587651283,-0.9866022569399894,-0.09478819368187295,-0.10573570497223685,-0.11788721163322612,-1.0941262668432579,-0.6271477387826994,-0.916290731874155,-0.8286799379452505,-0.973170468215382,-0.8764424598925282,-0.8764424598925282,-4.982981742367758,-0.8064797021434319,-0.8689103889583267,-0.6496696284623757,-0.7467473610966113,-0.4783266109802865,-1.0509048909131602,-0.728455406079872,-0.5957002687529332,-0.5458623840361425,-0.15294200982476133,-1.1773634039238783,-1.071881828869885,-0.537598165794354,-0.6764557062015258,-0.8299103119391075,-0.8969874794064093,-0.6730516435265463,-0.4201146911504193,-0.40209054903786523,-0.6336494678002692,-0.7175852540295728,-0.5720176180617177,-0.13716409114061098,-0.12717570090325392,-0.07959153192846431],\"xaxis\":\"x\",\"y\":[5.700443573390687,0.0,7.304515946460155,6.398594934535208,0.0,0.0,6.322565239927284,6.418364935936212,7.927685045615778,7.927685045615778,10.257975105879424,10.257975105879424,4.343805421853684,4.343805421853684,4.343805421853684,5.529429087511423,5.926926025970411,0.0,0.0,7.247792581767846,7.247792581767846,5.017279836814924,5.017279836814924,7.5485559791698735,7.5485559791698735,0.0,0.0,10.152688638169627,7.4770384723196965,7.4770384723196965,7.333023014386481,9.264639145383562,7.492203042618741,7.492203042618741,5.8888779583328805,5.8888779583328805,5.8888779583328805,5.958424693029782,8.853379672927634,7.709308333385869,0.0,9.275659838096825,0.0,2.5649493574615367,4.2626798770413155,2.1972245773362196,2.1972245773362196,4.867534450455582,5.8998973535824915,9.026898187513526,8.723068501163928,8.723068501163928,5.817111159963204,3.295836866004329,0.0,0.0,7.515889085215125,5.231108616854587,0.0,0.0,5.37989735354046,5.37989735354046,9.248406572782638,9.248406572782638,8.032035314398824,8.032035314398824,8.500250470685925],\"yaxis\":\"y\",\"type\":\"scatter\"}],                        {\"template\":{\"data\":{\"bar\":[{\"error_x\":{\"color\":\"#2a3f5f\"},\"error_y\":{\"color\":\"#2a3f5f\"},\"marker\":{\"line\":{\"color\":\"#E5ECF6\",\"width\":0.5},\"pattern\":{\"fillmode\":\"overlay\",\"size\":10,\"solidity\":0.2}},\"type\":\"bar\"}],\"barpolar\":[{\"marker\":{\"line\":{\"color\":\"#E5ECF6\",\"width\":0.5},\"pattern\":{\"fillmode\":\"overlay\",\"size\":10,\"solidity\":0.2}},\"type\":\"barpolar\"}],\"carpet\":[{\"aaxis\":{\"endlinecolor\":\"#2a3f5f\",\"gridcolor\":\"white\",\"linecolor\":\"white\",\"minorgridcolor\":\"white\",\"startlinecolor\":\"#2a3f5f\"},\"baxis\":{\"endlinecolor\":\"#2a3f5f\",\"gridcolor\":\"white\",\"linecolor\":\"white\",\"minorgridcolor\":\"white\",\"startlinecolor\":\"#2a3f5f\"},\"type\":\"carpet\"}],\"choropleth\":[{\"colorbar\":{\"outlinewidth\":0,\"ticks\":\"\"},\"type\":\"choropleth\"}],\"contour\":[{\"colorbar\":{\"outlinewidth\":0,\"ticks\":\"\"},\"colorscale\":[[0.0,\"#0d0887\"],[0.1111111111111111,\"#46039f\"],[0.2222222222222222,\"#7201a8\"],[0.3333333333333333,\"#9c179e\"],[0.4444444444444444,\"#bd3786\"],[0.5555555555555556,\"#d8576b\"],[0.6666666666666666,\"#ed7953\"],[0.7777777777777778,\"#fb9f3a\"],[0.8888888888888888,\"#fdca26\"],[1.0,\"#f0f921\"]],\"type\":\"contour\"}],\"contourcarpet\":[{\"colorbar\":{\"outlinewidth\":0,\"ticks\":\"\"},\"type\":\"contourcarpet\"}],\"heatmap\":[{\"colorbar\":{\"outlinewidth\":0,\"ticks\":\"\"},\"colorscale\":[[0.0,\"#0d0887\"],[0.1111111111111111,\"#46039f\"],[0.2222222222222222,\"#7201a8\"],[0.3333333333333333,\"#9c179e\"],[0.4444444444444444,\"#bd3786\"],[0.5555555555555556,\"#d8576b\"],[0.6666666666666666,\"#ed7953\"],[0.7777777777777778,\"#fb9f3a\"],[0.8888888888888888,\"#fdca26\"],[1.0,\"#f0f921\"]],\"type\":\"heatmap\"}],\"heatmapgl\":[{\"colorbar\":{\"outlinewidth\":0,\"ticks\":\"\"},\"colorscale\":[[0.0,\"#0d0887\"],[0.1111111111111111,\"#46039f\"],[0.2222222222222222,\"#7201a8\"],[0.3333333333333333,\"#9c179e\"],[0.4444444444444444,\"#bd3786\"],[0.5555555555555556,\"#d8576b\"],[0.6666666666666666,\"#ed7953\"],[0.7777777777777778,\"#fb9f3a\"],[0.8888888888888888,\"#fdca26\"],[1.0,\"#f0f921\"]],\"type\":\"heatmapgl\"}],\"histogram\":[{\"marker\":{\"pattern\":{\"fillmode\":\"overlay\",\"size\":10,\"solidity\":0.2}},\"type\":\"histogram\"}],\"histogram2d\":[{\"colorbar\":{\"outlinewidth\":0,\"ticks\":\"\"},\"colorscale\":[[0.0,\"#0d0887\"],[0.1111111111111111,\"#46039f\"],[0.2222222222222222,\"#7201a8\"],[0.3333333333333333,\"#9c179e\"],[0.4444444444444444,\"#bd3786\"],[0.5555555555555556,\"#d8576b\"],[0.6666666666666666,\"#ed7953\"],[0.7777777777777778,\"#fb9f3a\"],[0.8888888888888888,\"#fdca26\"],[1.0,\"#f0f921\"]],\"type\":\"histogram2d\"}],\"histogram2dcontour\":[{\"colorbar\":{\"outlinewidth\":0,\"ticks\":\"\"},\"colorscale\":[[0.0,\"#0d0887\"],[0.1111111111111111,\"#46039f\"],[0.2222222222222222,\"#7201a8\"],[0.3333333333333333,\"#9c179e\"],[0.4444444444444444,\"#bd3786\"],[0.5555555555555556,\"#d8576b\"],[0.6666666666666666,\"#ed7953\"],[0.7777777777777778,\"#fb9f3a\"],[0.8888888888888888,\"#fdca26\"],[1.0,\"#f0f921\"]],\"type\":\"histogram2dcontour\"}],\"mesh3d\":[{\"colorbar\":{\"outlinewidth\":0,\"ticks\":\"\"},\"type\":\"mesh3d\"}],\"parcoords\":[{\"line\":{\"colorbar\":{\"outlinewidth\":0,\"ticks\":\"\"}},\"type\":\"parcoords\"}],\"pie\":[{\"automargin\":true,\"type\":\"pie\"}],\"scatter\":[{\"marker\":{\"colorbar\":{\"outlinewidth\":0,\"ticks\":\"\"}},\"type\":\"scatter\"}],\"scatter3d\":[{\"line\":{\"colorbar\":{\"outlinewidth\":0,\"ticks\":\"\"}},\"marker\":{\"colorbar\":{\"outlinewidth\":0,\"ticks\":\"\"}},\"type\":\"scatter3d\"}],\"scattercarpet\":[{\"marker\":{\"colorbar\":{\"outlinewidth\":0,\"ticks\":\"\"}},\"type\":\"scattercarpet\"}],\"scattergeo\":[{\"marker\":{\"colorbar\":{\"outlinewidth\":0,\"ticks\":\"\"}},\"type\":\"scattergeo\"}],\"scattergl\":[{\"marker\":{\"colorbar\":{\"outlinewidth\":0,\"ticks\":\"\"}},\"type\":\"scattergl\"}],\"scattermapbox\":[{\"marker\":{\"colorbar\":{\"outlinewidth\":0,\"ticks\":\"\"}},\"type\":\"scattermapbox\"}],\"scatterpolar\":[{\"marker\":{\"colorbar\":{\"outlinewidth\":0,\"ticks\":\"\"}},\"type\":\"scatterpolar\"}],\"scatterpolargl\":[{\"marker\":{\"colorbar\":{\"outlinewidth\":0,\"ticks\":\"\"}},\"type\":\"scatterpolargl\"}],\"scatterternary\":[{\"marker\":{\"colorbar\":{\"outlinewidth\":0,\"ticks\":\"\"}},\"type\":\"scatterternary\"}],\"surface\":[{\"colorbar\":{\"outlinewidth\":0,\"ticks\":\"\"},\"colorscale\":[[0.0,\"#0d0887\"],[0.1111111111111111,\"#46039f\"],[0.2222222222222222,\"#7201a8\"],[0.3333333333333333,\"#9c179e\"],[0.4444444444444444,\"#bd3786\"],[0.5555555555555556,\"#d8576b\"],[0.6666666666666666,\"#ed7953\"],[0.7777777777777778,\"#fb9f3a\"],[0.8888888888888888,\"#fdca26\"],[1.0,\"#f0f921\"]],\"type\":\"surface\"}],\"table\":[{\"cells\":{\"fill\":{\"color\":\"#EBF0F8\"},\"line\":{\"color\":\"white\"}},\"header\":{\"fill\":{\"color\":\"#C8D4E3\"},\"line\":{\"color\":\"white\"}},\"type\":\"table\"}]},\"layout\":{\"annotationdefaults\":{\"arrowcolor\":\"#2a3f5f\",\"arrowhead\":0,\"arrowwidth\":1},\"autotypenumbers\":\"strict\",\"coloraxis\":{\"colorbar\":{\"outlinewidth\":0,\"ticks\":\"\"}},\"colorscale\":{\"diverging\":[[0,\"#8e0152\"],[0.1,\"#c51b7d\"],[0.2,\"#de77ae\"],[0.3,\"#f1b6da\"],[0.4,\"#fde0ef\"],[0.5,\"#f7f7f7\"],[0.6,\"#e6f5d0\"],[0.7,\"#b8e186\"],[0.8,\"#7fbc41\"],[0.9,\"#4d9221\"],[1,\"#276419\"]],\"sequential\":[[0.0,\"#0d0887\"],[0.1111111111111111,\"#46039f\"],[0.2222222222222222,\"#7201a8\"],[0.3333333333333333,\"#9c179e\"],[0.4444444444444444,\"#bd3786\"],[0.5555555555555556,\"#d8576b\"],[0.6666666666666666,\"#ed7953\"],[0.7777777777777778,\"#fb9f3a\"],[0.8888888888888888,\"#fdca26\"],[1.0,\"#f0f921\"]],\"sequentialminus\":[[0.0,\"#0d0887\"],[0.1111111111111111,\"#46039f\"],[0.2222222222222222,\"#7201a8\"],[0.3333333333333333,\"#9c179e\"],[0.4444444444444444,\"#bd3786\"],[0.5555555555555556,\"#d8576b\"],[0.6666666666666666,\"#ed7953\"],[0.7777777777777778,\"#fb9f3a\"],[0.8888888888888888,\"#fdca26\"],[1.0,\"#f0f921\"]]},\"colorway\":[\"#636efa\",\"#EF553B\",\"#00cc96\",\"#ab63fa\",\"#FFA15A\",\"#19d3f3\",\"#FF6692\",\"#B6E880\",\"#FF97FF\",\"#FECB52\"],\"font\":{\"color\":\"#2a3f5f\"},\"geo\":{\"bgcolor\":\"white\",\"lakecolor\":\"white\",\"landcolor\":\"#E5ECF6\",\"showlakes\":true,\"showland\":true,\"subunitcolor\":\"white\"},\"hoverlabel\":{\"align\":\"left\"},\"hovermode\":\"closest\",\"mapbox\":{\"style\":\"light\"},\"paper_bgcolor\":\"white\",\"plot_bgcolor\":\"#E5ECF6\",\"polar\":{\"angularaxis\":{\"gridcolor\":\"white\",\"linecolor\":\"white\",\"ticks\":\"\"},\"bgcolor\":\"#E5ECF6\",\"radialaxis\":{\"gridcolor\":\"white\",\"linecolor\":\"white\",\"ticks\":\"\"}},\"scene\":{\"xaxis\":{\"backgroundcolor\":\"#E5ECF6\",\"gridcolor\":\"white\",\"gridwidth\":2,\"linecolor\":\"white\",\"showbackground\":true,\"ticks\":\"\",\"zerolinecolor\":\"white\"},\"yaxis\":{\"backgroundcolor\":\"#E5ECF6\",\"gridcolor\":\"white\",\"gridwidth\":2,\"linecolor\":\"white\",\"showbackground\":true,\"ticks\":\"\",\"zerolinecolor\":\"white\"},\"zaxis\":{\"backgroundcolor\":\"#E5ECF6\",\"gridcolor\":\"white\",\"gridwidth\":2,\"linecolor\":\"white\",\"showbackground\":true,\"ticks\":\"\",\"zerolinecolor\":\"white\"}},\"shapedefaults\":{\"line\":{\"color\":\"#2a3f5f\"}},\"ternary\":{\"aaxis\":{\"gridcolor\":\"white\",\"linecolor\":\"white\",\"ticks\":\"\"},\"baxis\":{\"gridcolor\":\"white\",\"linecolor\":\"white\",\"ticks\":\"\"},\"bgcolor\":\"#E5ECF6\",\"caxis\":{\"gridcolor\":\"white\",\"linecolor\":\"white\",\"ticks\":\"\"}},\"title\":{\"x\":0.05},\"xaxis\":{\"automargin\":true,\"gridcolor\":\"white\",\"linecolor\":\"white\",\"ticks\":\"\",\"title\":{\"standoff\":15},\"zerolinecolor\":\"white\",\"zerolinewidth\":2},\"yaxis\":{\"automargin\":true,\"gridcolor\":\"white\",\"linecolor\":\"white\",\"ticks\":\"\",\"title\":{\"standoff\":15},\"zerolinecolor\":\"white\",\"zerolinewidth\":2}}},\"xaxis\":{\"anchor\":\"y\",\"domain\":[0.0,1.0],\"title\":{\"text\":\"log_ndvi_median\"}},\"yaxis\":{\"anchor\":\"x\",\"domain\":[0.0,1.0],\"title\":{\"text\":\"log_ciano\"}},\"legend\":{\"tracegroupgap\":0},\"margin\":{\"t\":60}},                        {\"responsive\": true}                    ).then(function(){\n",
       "                            \n",
       "var gd = document.getElementById('baca3f07-a2a0-4325-a80b-c12249742d26');\n",
       "var x = new MutationObserver(function (mutations, observer) {{\n",
       "        var display = window.getComputedStyle(gd).display;\n",
       "        if (!display || display === 'none') {{\n",
       "            console.log([gd, 'removed!']);\n",
       "            Plotly.purge(gd);\n",
       "            observer.disconnect();\n",
       "        }}\n",
       "}});\n",
       "\n",
       "// Listen for the removal of the full notebook cells\n",
       "var notebookContainer = gd.closest('#notebook-container');\n",
       "if (notebookContainer) {{\n",
       "    x.observe(notebookContainer, {childList: true});\n",
       "}}\n",
       "\n",
       "// Listen for the clearing of the current output cell\n",
       "var outputEl = gd.closest('.output');\n",
       "if (outputEl) {{\n",
       "    x.observe(outputEl, {childList: true});\n",
       "}}\n",
       "\n",
       "                        })                };                });            </script>        </div>"
      ]
     },
     "metadata": {},
     "output_type": "display_data"
    }
   ],
   "source": [
    "import numpy as np\n",
    "\n",
    "log_captacao = captacao_gee.copy()\n",
    "log_captacao[\"log_ciano\"] = np.log1p((log_captacao[\"Resultado\"]).astype(float))\n",
    "log_captacao[\"log_ndvi_median\"] = np.log1p((log_captacao[\"NDVI_median\"]).astype(float))\n",
    "\n",
    "px.scatter(log_captacao, x=\"log_ndvi_median\", y=\"log_ciano\")"
   ]
  },
  {
   "cell_type": "code",
   "execution_count": null,
   "metadata": {},
   "outputs": [],
   "source": []
  },
  {
   "cell_type": "code",
   "execution_count": 191,
   "metadata": {},
   "outputs": [
    {
     "data": {
      "application/vnd.plotly.v1+json": {
       "config": {
        "plotlyServerURL": "https://plot.ly"
       },
       "data": [
        {
         "hovertemplate": "log_ndvi_median=%{x}<br>log_ciano=%{y}<extra></extra>",
         "legendgroup": "",
         "marker": {
          "color": "#636efa",
          "symbol": "circle"
         },
         "mode": "markers",
         "name": "",
         "orientation": "v",
         "showlegend": false,
         "type": "scatter",
         "x": [
          -1.489419323336271,
          -0.1622100306375536,
          -0.5832717128642562,
          -1.1312760089047176,
          -0.16626284585118525,
          -0.687566621220337,
          -0.75455540335146,
          -0.6301101026685392,
          -0.1947351742630786,
          -0.8664752741022426,
          -0.09505732836652456,
          -0.6428367883632337,
          -0.02399833683584963,
          -0.9357063416022388,
          -0.9695732577740196,
          -0.5989842755043594,
          -0.7620903261097329,
          -0.1779008179877008,
          -1.014227830326277,
          -0.003567249763104427,
          -1.2314556368203025,
          0.07941399142258904,
          -0.5599619222924199,
          -1.2508689452314095,
          -1.1125407205705564,
          -0.7817313624054595,
          -0.8845274320724386,
          -0.08039586535740774,
          -0.6369313933767593,
          -0.10046529587651283,
          -0.9866022569399894,
          -0.09478819368187295,
          -0.10573570497223685,
          -0.11788721163322612,
          -1.0941262668432579,
          -0.6271477387826994,
          -0.916290731874155,
          -0.8286799379452505,
          -0.973170468215382,
          -0.8764424598925282,
          -0.8764424598925282,
          -0.8064797021434319,
          -0.8689103889583267,
          -0.6496696284623757,
          -0.7467473610966113,
          -0.4783266109802865,
          -1.0509048909131602,
          -0.728455406079872,
          -0.5957002687529332,
          -0.5458623840361425,
          -0.15294200982476133,
          -1.1773634039238783,
          -1.071881828869885,
          -0.537598165794354,
          -0.6764557062015258,
          -0.8299103119391075,
          -0.8969874794064093,
          -0.6730516435265463,
          -0.4201146911504193,
          -0.40209054903786523,
          -0.6336494678002692,
          -0.7175852540295728,
          -0.5720176180617177,
          -0.13716409114061098,
          -0.12717570090325392,
          -0.07959153192846431
         ],
         "xaxis": "x",
         "y": [
          5.700443573390687,
          0,
          7.304515946460155,
          6.398594934535208,
          0,
          0,
          6.322565239927284,
          6.418364935936212,
          7.927685045615778,
          7.927685045615778,
          10.257975105879424,
          10.257975105879424,
          4.343805421853684,
          4.343805421853684,
          4.343805421853684,
          5.529429087511423,
          5.926926025970411,
          0,
          0,
          7.247792581767846,
          7.247792581767846,
          5.017279836814924,
          5.017279836814924,
          7.5485559791698735,
          7.5485559791698735,
          0,
          0,
          10.152688638169627,
          7.4770384723196965,
          7.4770384723196965,
          7.333023014386481,
          9.264639145383562,
          7.492203042618741,
          7.492203042618741,
          5.8888779583328805,
          5.8888779583328805,
          5.8888779583328805,
          5.958424693029782,
          8.853379672927634,
          7.709308333385869,
          0,
          0,
          2.5649493574615367,
          4.2626798770413155,
          2.1972245773362196,
          2.1972245773362196,
          4.867534450455582,
          5.8998973535824915,
          9.026898187513526,
          8.723068501163928,
          8.723068501163928,
          5.817111159963204,
          3.295836866004329,
          0,
          0,
          7.515889085215125,
          5.231108616854587,
          0,
          0,
          5.37989735354046,
          5.37989735354046,
          9.248406572782638,
          9.248406572782638,
          8.032035314398824,
          8.032035314398824,
          8.500250470685925
         ],
         "yaxis": "y"
        }
       ],
       "layout": {
        "legend": {
         "tracegroupgap": 0
        },
        "margin": {
         "t": 60
        },
        "template": {
         "data": {
          "bar": [
           {
            "error_x": {
             "color": "#2a3f5f"
            },
            "error_y": {
             "color": "#2a3f5f"
            },
            "marker": {
             "line": {
              "color": "#E5ECF6",
              "width": 0.5
             },
             "pattern": {
              "fillmode": "overlay",
              "size": 10,
              "solidity": 0.2
             }
            },
            "type": "bar"
           }
          ],
          "barpolar": [
           {
            "marker": {
             "line": {
              "color": "#E5ECF6",
              "width": 0.5
             },
             "pattern": {
              "fillmode": "overlay",
              "size": 10,
              "solidity": 0.2
             }
            },
            "type": "barpolar"
           }
          ],
          "carpet": [
           {
            "aaxis": {
             "endlinecolor": "#2a3f5f",
             "gridcolor": "white",
             "linecolor": "white",
             "minorgridcolor": "white",
             "startlinecolor": "#2a3f5f"
            },
            "baxis": {
             "endlinecolor": "#2a3f5f",
             "gridcolor": "white",
             "linecolor": "white",
             "minorgridcolor": "white",
             "startlinecolor": "#2a3f5f"
            },
            "type": "carpet"
           }
          ],
          "choropleth": [
           {
            "colorbar": {
             "outlinewidth": 0,
             "ticks": ""
            },
            "type": "choropleth"
           }
          ],
          "contour": [
           {
            "colorbar": {
             "outlinewidth": 0,
             "ticks": ""
            },
            "colorscale": [
             [
              0,
              "#0d0887"
             ],
             [
              0.1111111111111111,
              "#46039f"
             ],
             [
              0.2222222222222222,
              "#7201a8"
             ],
             [
              0.3333333333333333,
              "#9c179e"
             ],
             [
              0.4444444444444444,
              "#bd3786"
             ],
             [
              0.5555555555555556,
              "#d8576b"
             ],
             [
              0.6666666666666666,
              "#ed7953"
             ],
             [
              0.7777777777777778,
              "#fb9f3a"
             ],
             [
              0.8888888888888888,
              "#fdca26"
             ],
             [
              1,
              "#f0f921"
             ]
            ],
            "type": "contour"
           }
          ],
          "contourcarpet": [
           {
            "colorbar": {
             "outlinewidth": 0,
             "ticks": ""
            },
            "type": "contourcarpet"
           }
          ],
          "heatmap": [
           {
            "colorbar": {
             "outlinewidth": 0,
             "ticks": ""
            },
            "colorscale": [
             [
              0,
              "#0d0887"
             ],
             [
              0.1111111111111111,
              "#46039f"
             ],
             [
              0.2222222222222222,
              "#7201a8"
             ],
             [
              0.3333333333333333,
              "#9c179e"
             ],
             [
              0.4444444444444444,
              "#bd3786"
             ],
             [
              0.5555555555555556,
              "#d8576b"
             ],
             [
              0.6666666666666666,
              "#ed7953"
             ],
             [
              0.7777777777777778,
              "#fb9f3a"
             ],
             [
              0.8888888888888888,
              "#fdca26"
             ],
             [
              1,
              "#f0f921"
             ]
            ],
            "type": "heatmap"
           }
          ],
          "heatmapgl": [
           {
            "colorbar": {
             "outlinewidth": 0,
             "ticks": ""
            },
            "colorscale": [
             [
              0,
              "#0d0887"
             ],
             [
              0.1111111111111111,
              "#46039f"
             ],
             [
              0.2222222222222222,
              "#7201a8"
             ],
             [
              0.3333333333333333,
              "#9c179e"
             ],
             [
              0.4444444444444444,
              "#bd3786"
             ],
             [
              0.5555555555555556,
              "#d8576b"
             ],
             [
              0.6666666666666666,
              "#ed7953"
             ],
             [
              0.7777777777777778,
              "#fb9f3a"
             ],
             [
              0.8888888888888888,
              "#fdca26"
             ],
             [
              1,
              "#f0f921"
             ]
            ],
            "type": "heatmapgl"
           }
          ],
          "histogram": [
           {
            "marker": {
             "pattern": {
              "fillmode": "overlay",
              "size": 10,
              "solidity": 0.2
             }
            },
            "type": "histogram"
           }
          ],
          "histogram2d": [
           {
            "colorbar": {
             "outlinewidth": 0,
             "ticks": ""
            },
            "colorscale": [
             [
              0,
              "#0d0887"
             ],
             [
              0.1111111111111111,
              "#46039f"
             ],
             [
              0.2222222222222222,
              "#7201a8"
             ],
             [
              0.3333333333333333,
              "#9c179e"
             ],
             [
              0.4444444444444444,
              "#bd3786"
             ],
             [
              0.5555555555555556,
              "#d8576b"
             ],
             [
              0.6666666666666666,
              "#ed7953"
             ],
             [
              0.7777777777777778,
              "#fb9f3a"
             ],
             [
              0.8888888888888888,
              "#fdca26"
             ],
             [
              1,
              "#f0f921"
             ]
            ],
            "type": "histogram2d"
           }
          ],
          "histogram2dcontour": [
           {
            "colorbar": {
             "outlinewidth": 0,
             "ticks": ""
            },
            "colorscale": [
             [
              0,
              "#0d0887"
             ],
             [
              0.1111111111111111,
              "#46039f"
             ],
             [
              0.2222222222222222,
              "#7201a8"
             ],
             [
              0.3333333333333333,
              "#9c179e"
             ],
             [
              0.4444444444444444,
              "#bd3786"
             ],
             [
              0.5555555555555556,
              "#d8576b"
             ],
             [
              0.6666666666666666,
              "#ed7953"
             ],
             [
              0.7777777777777778,
              "#fb9f3a"
             ],
             [
              0.8888888888888888,
              "#fdca26"
             ],
             [
              1,
              "#f0f921"
             ]
            ],
            "type": "histogram2dcontour"
           }
          ],
          "mesh3d": [
           {
            "colorbar": {
             "outlinewidth": 0,
             "ticks": ""
            },
            "type": "mesh3d"
           }
          ],
          "parcoords": [
           {
            "line": {
             "colorbar": {
              "outlinewidth": 0,
              "ticks": ""
             }
            },
            "type": "parcoords"
           }
          ],
          "pie": [
           {
            "automargin": true,
            "type": "pie"
           }
          ],
          "scatter": [
           {
            "marker": {
             "colorbar": {
              "outlinewidth": 0,
              "ticks": ""
             }
            },
            "type": "scatter"
           }
          ],
          "scatter3d": [
           {
            "line": {
             "colorbar": {
              "outlinewidth": 0,
              "ticks": ""
             }
            },
            "marker": {
             "colorbar": {
              "outlinewidth": 0,
              "ticks": ""
             }
            },
            "type": "scatter3d"
           }
          ],
          "scattercarpet": [
           {
            "marker": {
             "colorbar": {
              "outlinewidth": 0,
              "ticks": ""
             }
            },
            "type": "scattercarpet"
           }
          ],
          "scattergeo": [
           {
            "marker": {
             "colorbar": {
              "outlinewidth": 0,
              "ticks": ""
             }
            },
            "type": "scattergeo"
           }
          ],
          "scattergl": [
           {
            "marker": {
             "colorbar": {
              "outlinewidth": 0,
              "ticks": ""
             }
            },
            "type": "scattergl"
           }
          ],
          "scattermapbox": [
           {
            "marker": {
             "colorbar": {
              "outlinewidth": 0,
              "ticks": ""
             }
            },
            "type": "scattermapbox"
           }
          ],
          "scatterpolar": [
           {
            "marker": {
             "colorbar": {
              "outlinewidth": 0,
              "ticks": ""
             }
            },
            "type": "scatterpolar"
           }
          ],
          "scatterpolargl": [
           {
            "marker": {
             "colorbar": {
              "outlinewidth": 0,
              "ticks": ""
             }
            },
            "type": "scatterpolargl"
           }
          ],
          "scatterternary": [
           {
            "marker": {
             "colorbar": {
              "outlinewidth": 0,
              "ticks": ""
             }
            },
            "type": "scatterternary"
           }
          ],
          "surface": [
           {
            "colorbar": {
             "outlinewidth": 0,
             "ticks": ""
            },
            "colorscale": [
             [
              0,
              "#0d0887"
             ],
             [
              0.1111111111111111,
              "#46039f"
             ],
             [
              0.2222222222222222,
              "#7201a8"
             ],
             [
              0.3333333333333333,
              "#9c179e"
             ],
             [
              0.4444444444444444,
              "#bd3786"
             ],
             [
              0.5555555555555556,
              "#d8576b"
             ],
             [
              0.6666666666666666,
              "#ed7953"
             ],
             [
              0.7777777777777778,
              "#fb9f3a"
             ],
             [
              0.8888888888888888,
              "#fdca26"
             ],
             [
              1,
              "#f0f921"
             ]
            ],
            "type": "surface"
           }
          ],
          "table": [
           {
            "cells": {
             "fill": {
              "color": "#EBF0F8"
             },
             "line": {
              "color": "white"
             }
            },
            "header": {
             "fill": {
              "color": "#C8D4E3"
             },
             "line": {
              "color": "white"
             }
            },
            "type": "table"
           }
          ]
         },
         "layout": {
          "annotationdefaults": {
           "arrowcolor": "#2a3f5f",
           "arrowhead": 0,
           "arrowwidth": 1
          },
          "autotypenumbers": "strict",
          "coloraxis": {
           "colorbar": {
            "outlinewidth": 0,
            "ticks": ""
           }
          },
          "colorscale": {
           "diverging": [
            [
             0,
             "#8e0152"
            ],
            [
             0.1,
             "#c51b7d"
            ],
            [
             0.2,
             "#de77ae"
            ],
            [
             0.3,
             "#f1b6da"
            ],
            [
             0.4,
             "#fde0ef"
            ],
            [
             0.5,
             "#f7f7f7"
            ],
            [
             0.6,
             "#e6f5d0"
            ],
            [
             0.7,
             "#b8e186"
            ],
            [
             0.8,
             "#7fbc41"
            ],
            [
             0.9,
             "#4d9221"
            ],
            [
             1,
             "#276419"
            ]
           ],
           "sequential": [
            [
             0,
             "#0d0887"
            ],
            [
             0.1111111111111111,
             "#46039f"
            ],
            [
             0.2222222222222222,
             "#7201a8"
            ],
            [
             0.3333333333333333,
             "#9c179e"
            ],
            [
             0.4444444444444444,
             "#bd3786"
            ],
            [
             0.5555555555555556,
             "#d8576b"
            ],
            [
             0.6666666666666666,
             "#ed7953"
            ],
            [
             0.7777777777777778,
             "#fb9f3a"
            ],
            [
             0.8888888888888888,
             "#fdca26"
            ],
            [
             1,
             "#f0f921"
            ]
           ],
           "sequentialminus": [
            [
             0,
             "#0d0887"
            ],
            [
             0.1111111111111111,
             "#46039f"
            ],
            [
             0.2222222222222222,
             "#7201a8"
            ],
            [
             0.3333333333333333,
             "#9c179e"
            ],
            [
             0.4444444444444444,
             "#bd3786"
            ],
            [
             0.5555555555555556,
             "#d8576b"
            ],
            [
             0.6666666666666666,
             "#ed7953"
            ],
            [
             0.7777777777777778,
             "#fb9f3a"
            ],
            [
             0.8888888888888888,
             "#fdca26"
            ],
            [
             1,
             "#f0f921"
            ]
           ]
          },
          "colorway": [
           "#636efa",
           "#EF553B",
           "#00cc96",
           "#ab63fa",
           "#FFA15A",
           "#19d3f3",
           "#FF6692",
           "#B6E880",
           "#FF97FF",
           "#FECB52"
          ],
          "font": {
           "color": "#2a3f5f"
          },
          "geo": {
           "bgcolor": "white",
           "lakecolor": "white",
           "landcolor": "#E5ECF6",
           "showlakes": true,
           "showland": true,
           "subunitcolor": "white"
          },
          "hoverlabel": {
           "align": "left"
          },
          "hovermode": "closest",
          "mapbox": {
           "style": "light"
          },
          "paper_bgcolor": "white",
          "plot_bgcolor": "#E5ECF6",
          "polar": {
           "angularaxis": {
            "gridcolor": "white",
            "linecolor": "white",
            "ticks": ""
           },
           "bgcolor": "#E5ECF6",
           "radialaxis": {
            "gridcolor": "white",
            "linecolor": "white",
            "ticks": ""
           }
          },
          "scene": {
           "xaxis": {
            "backgroundcolor": "#E5ECF6",
            "gridcolor": "white",
            "gridwidth": 2,
            "linecolor": "white",
            "showbackground": true,
            "ticks": "",
            "zerolinecolor": "white"
           },
           "yaxis": {
            "backgroundcolor": "#E5ECF6",
            "gridcolor": "white",
            "gridwidth": 2,
            "linecolor": "white",
            "showbackground": true,
            "ticks": "",
            "zerolinecolor": "white"
           },
           "zaxis": {
            "backgroundcolor": "#E5ECF6",
            "gridcolor": "white",
            "gridwidth": 2,
            "linecolor": "white",
            "showbackground": true,
            "ticks": "",
            "zerolinecolor": "white"
           }
          },
          "shapedefaults": {
           "line": {
            "color": "#2a3f5f"
           }
          },
          "ternary": {
           "aaxis": {
            "gridcolor": "white",
            "linecolor": "white",
            "ticks": ""
           },
           "baxis": {
            "gridcolor": "white",
            "linecolor": "white",
            "ticks": ""
           },
           "bgcolor": "#E5ECF6",
           "caxis": {
            "gridcolor": "white",
            "linecolor": "white",
            "ticks": ""
           }
          },
          "title": {
           "x": 0.05
          },
          "xaxis": {
           "automargin": true,
           "gridcolor": "white",
           "linecolor": "white",
           "ticks": "",
           "title": {
            "standoff": 15
           },
           "zerolinecolor": "white",
           "zerolinewidth": 2
          },
          "yaxis": {
           "automargin": true,
           "gridcolor": "white",
           "linecolor": "white",
           "ticks": "",
           "title": {
            "standoff": 15
           },
           "zerolinecolor": "white",
           "zerolinewidth": 2
          }
         }
        },
        "xaxis": {
         "anchor": "y",
         "domain": [
          0,
          1
         ],
         "title": {
          "text": "log_ndvi_median"
         }
        },
        "yaxis": {
         "anchor": "x",
         "domain": [
          0,
          1
         ],
         "title": {
          "text": "log_ciano"
         }
        }
       }
      },
      "text/html": [
       "<div>                            <div id=\"16d0338c-59fd-4a74-b75c-182a90cd988c\" class=\"plotly-graph-div\" style=\"height:525px; width:100%;\"></div>            <script type=\"text/javascript\">                require([\"plotly\"], function(Plotly) {                    window.PLOTLYENV=window.PLOTLYENV || {};                                    if (document.getElementById(\"16d0338c-59fd-4a74-b75c-182a90cd988c\")) {                    Plotly.newPlot(                        \"16d0338c-59fd-4a74-b75c-182a90cd988c\",                        [{\"hovertemplate\":\"log_ndvi_median=%{x}<br>log_ciano=%{y}<extra></extra>\",\"legendgroup\":\"\",\"marker\":{\"color\":\"#636efa\",\"symbol\":\"circle\"},\"mode\":\"markers\",\"name\":\"\",\"orientation\":\"v\",\"showlegend\":false,\"x\":[-1.489419323336271,-0.1622100306375536,-0.5832717128642562,-1.1312760089047176,-0.16626284585118525,-0.687566621220337,-0.75455540335146,-0.6301101026685392,-0.1947351742630786,-0.8664752741022426,-0.09505732836652456,-0.6428367883632337,-0.02399833683584963,-0.9357063416022388,-0.9695732577740196,-0.5989842755043594,-0.7620903261097329,-0.1779008179877008,-1.014227830326277,-0.003567249763104427,-1.2314556368203025,0.07941399142258904,-0.5599619222924199,-1.2508689452314095,-1.1125407205705564,-0.7817313624054595,-0.8845274320724386,-0.08039586535740774,-0.6369313933767593,-0.10046529587651283,-0.9866022569399894,-0.09478819368187295,-0.10573570497223685,-0.11788721163322612,-1.0941262668432579,-0.6271477387826994,-0.916290731874155,-0.8286799379452505,-0.973170468215382,-0.8764424598925282,-0.8764424598925282,-0.8064797021434319,-0.8689103889583267,-0.6496696284623757,-0.7467473610966113,-0.4783266109802865,-1.0509048909131602,-0.728455406079872,-0.5957002687529332,-0.5458623840361425,-0.15294200982476133,-1.1773634039238783,-1.071881828869885,-0.537598165794354,-0.6764557062015258,-0.8299103119391075,-0.8969874794064093,-0.6730516435265463,-0.4201146911504193,-0.40209054903786523,-0.6336494678002692,-0.7175852540295728,-0.5720176180617177,-0.13716409114061098,-0.12717570090325392,-0.07959153192846431],\"xaxis\":\"x\",\"y\":[5.700443573390687,0.0,7.304515946460155,6.398594934535208,0.0,0.0,6.322565239927284,6.418364935936212,7.927685045615778,7.927685045615778,10.257975105879424,10.257975105879424,4.343805421853684,4.343805421853684,4.343805421853684,5.529429087511423,5.926926025970411,0.0,0.0,7.247792581767846,7.247792581767846,5.017279836814924,5.017279836814924,7.5485559791698735,7.5485559791698735,0.0,0.0,10.152688638169627,7.4770384723196965,7.4770384723196965,7.333023014386481,9.264639145383562,7.492203042618741,7.492203042618741,5.8888779583328805,5.8888779583328805,5.8888779583328805,5.958424693029782,8.853379672927634,7.709308333385869,0.0,0.0,2.5649493574615367,4.2626798770413155,2.1972245773362196,2.1972245773362196,4.867534450455582,5.8998973535824915,9.026898187513526,8.723068501163928,8.723068501163928,5.817111159963204,3.295836866004329,0.0,0.0,7.515889085215125,5.231108616854587,0.0,0.0,5.37989735354046,5.37989735354046,9.248406572782638,9.248406572782638,8.032035314398824,8.032035314398824,8.500250470685925],\"yaxis\":\"y\",\"type\":\"scatter\"}],                        {\"template\":{\"data\":{\"bar\":[{\"error_x\":{\"color\":\"#2a3f5f\"},\"error_y\":{\"color\":\"#2a3f5f\"},\"marker\":{\"line\":{\"color\":\"#E5ECF6\",\"width\":0.5},\"pattern\":{\"fillmode\":\"overlay\",\"size\":10,\"solidity\":0.2}},\"type\":\"bar\"}],\"barpolar\":[{\"marker\":{\"line\":{\"color\":\"#E5ECF6\",\"width\":0.5},\"pattern\":{\"fillmode\":\"overlay\",\"size\":10,\"solidity\":0.2}},\"type\":\"barpolar\"}],\"carpet\":[{\"aaxis\":{\"endlinecolor\":\"#2a3f5f\",\"gridcolor\":\"white\",\"linecolor\":\"white\",\"minorgridcolor\":\"white\",\"startlinecolor\":\"#2a3f5f\"},\"baxis\":{\"endlinecolor\":\"#2a3f5f\",\"gridcolor\":\"white\",\"linecolor\":\"white\",\"minorgridcolor\":\"white\",\"startlinecolor\":\"#2a3f5f\"},\"type\":\"carpet\"}],\"choropleth\":[{\"colorbar\":{\"outlinewidth\":0,\"ticks\":\"\"},\"type\":\"choropleth\"}],\"contour\":[{\"colorbar\":{\"outlinewidth\":0,\"ticks\":\"\"},\"colorscale\":[[0.0,\"#0d0887\"],[0.1111111111111111,\"#46039f\"],[0.2222222222222222,\"#7201a8\"],[0.3333333333333333,\"#9c179e\"],[0.4444444444444444,\"#bd3786\"],[0.5555555555555556,\"#d8576b\"],[0.6666666666666666,\"#ed7953\"],[0.7777777777777778,\"#fb9f3a\"],[0.8888888888888888,\"#fdca26\"],[1.0,\"#f0f921\"]],\"type\":\"contour\"}],\"contourcarpet\":[{\"colorbar\":{\"outlinewidth\":0,\"ticks\":\"\"},\"type\":\"contourcarpet\"}],\"heatmap\":[{\"colorbar\":{\"outlinewidth\":0,\"ticks\":\"\"},\"colorscale\":[[0.0,\"#0d0887\"],[0.1111111111111111,\"#46039f\"],[0.2222222222222222,\"#7201a8\"],[0.3333333333333333,\"#9c179e\"],[0.4444444444444444,\"#bd3786\"],[0.5555555555555556,\"#d8576b\"],[0.6666666666666666,\"#ed7953\"],[0.7777777777777778,\"#fb9f3a\"],[0.8888888888888888,\"#fdca26\"],[1.0,\"#f0f921\"]],\"type\":\"heatmap\"}],\"heatmapgl\":[{\"colorbar\":{\"outlinewidth\":0,\"ticks\":\"\"},\"colorscale\":[[0.0,\"#0d0887\"],[0.1111111111111111,\"#46039f\"],[0.2222222222222222,\"#7201a8\"],[0.3333333333333333,\"#9c179e\"],[0.4444444444444444,\"#bd3786\"],[0.5555555555555556,\"#d8576b\"],[0.6666666666666666,\"#ed7953\"],[0.7777777777777778,\"#fb9f3a\"],[0.8888888888888888,\"#fdca26\"],[1.0,\"#f0f921\"]],\"type\":\"heatmapgl\"}],\"histogram\":[{\"marker\":{\"pattern\":{\"fillmode\":\"overlay\",\"size\":10,\"solidity\":0.2}},\"type\":\"histogram\"}],\"histogram2d\":[{\"colorbar\":{\"outlinewidth\":0,\"ticks\":\"\"},\"colorscale\":[[0.0,\"#0d0887\"],[0.1111111111111111,\"#46039f\"],[0.2222222222222222,\"#7201a8\"],[0.3333333333333333,\"#9c179e\"],[0.4444444444444444,\"#bd3786\"],[0.5555555555555556,\"#d8576b\"],[0.6666666666666666,\"#ed7953\"],[0.7777777777777778,\"#fb9f3a\"],[0.8888888888888888,\"#fdca26\"],[1.0,\"#f0f921\"]],\"type\":\"histogram2d\"}],\"histogram2dcontour\":[{\"colorbar\":{\"outlinewidth\":0,\"ticks\":\"\"},\"colorscale\":[[0.0,\"#0d0887\"],[0.1111111111111111,\"#46039f\"],[0.2222222222222222,\"#7201a8\"],[0.3333333333333333,\"#9c179e\"],[0.4444444444444444,\"#bd3786\"],[0.5555555555555556,\"#d8576b\"],[0.6666666666666666,\"#ed7953\"],[0.7777777777777778,\"#fb9f3a\"],[0.8888888888888888,\"#fdca26\"],[1.0,\"#f0f921\"]],\"type\":\"histogram2dcontour\"}],\"mesh3d\":[{\"colorbar\":{\"outlinewidth\":0,\"ticks\":\"\"},\"type\":\"mesh3d\"}],\"parcoords\":[{\"line\":{\"colorbar\":{\"outlinewidth\":0,\"ticks\":\"\"}},\"type\":\"parcoords\"}],\"pie\":[{\"automargin\":true,\"type\":\"pie\"}],\"scatter\":[{\"marker\":{\"colorbar\":{\"outlinewidth\":0,\"ticks\":\"\"}},\"type\":\"scatter\"}],\"scatter3d\":[{\"line\":{\"colorbar\":{\"outlinewidth\":0,\"ticks\":\"\"}},\"marker\":{\"colorbar\":{\"outlinewidth\":0,\"ticks\":\"\"}},\"type\":\"scatter3d\"}],\"scattercarpet\":[{\"marker\":{\"colorbar\":{\"outlinewidth\":0,\"ticks\":\"\"}},\"type\":\"scattercarpet\"}],\"scattergeo\":[{\"marker\":{\"colorbar\":{\"outlinewidth\":0,\"ticks\":\"\"}},\"type\":\"scattergeo\"}],\"scattergl\":[{\"marker\":{\"colorbar\":{\"outlinewidth\":0,\"ticks\":\"\"}},\"type\":\"scattergl\"}],\"scattermapbox\":[{\"marker\":{\"colorbar\":{\"outlinewidth\":0,\"ticks\":\"\"}},\"type\":\"scattermapbox\"}],\"scatterpolar\":[{\"marker\":{\"colorbar\":{\"outlinewidth\":0,\"ticks\":\"\"}},\"type\":\"scatterpolar\"}],\"scatterpolargl\":[{\"marker\":{\"colorbar\":{\"outlinewidth\":0,\"ticks\":\"\"}},\"type\":\"scatterpolargl\"}],\"scatterternary\":[{\"marker\":{\"colorbar\":{\"outlinewidth\":0,\"ticks\":\"\"}},\"type\":\"scatterternary\"}],\"surface\":[{\"colorbar\":{\"outlinewidth\":0,\"ticks\":\"\"},\"colorscale\":[[0.0,\"#0d0887\"],[0.1111111111111111,\"#46039f\"],[0.2222222222222222,\"#7201a8\"],[0.3333333333333333,\"#9c179e\"],[0.4444444444444444,\"#bd3786\"],[0.5555555555555556,\"#d8576b\"],[0.6666666666666666,\"#ed7953\"],[0.7777777777777778,\"#fb9f3a\"],[0.8888888888888888,\"#fdca26\"],[1.0,\"#f0f921\"]],\"type\":\"surface\"}],\"table\":[{\"cells\":{\"fill\":{\"color\":\"#EBF0F8\"},\"line\":{\"color\":\"white\"}},\"header\":{\"fill\":{\"color\":\"#C8D4E3\"},\"line\":{\"color\":\"white\"}},\"type\":\"table\"}]},\"layout\":{\"annotationdefaults\":{\"arrowcolor\":\"#2a3f5f\",\"arrowhead\":0,\"arrowwidth\":1},\"autotypenumbers\":\"strict\",\"coloraxis\":{\"colorbar\":{\"outlinewidth\":0,\"ticks\":\"\"}},\"colorscale\":{\"diverging\":[[0,\"#8e0152\"],[0.1,\"#c51b7d\"],[0.2,\"#de77ae\"],[0.3,\"#f1b6da\"],[0.4,\"#fde0ef\"],[0.5,\"#f7f7f7\"],[0.6,\"#e6f5d0\"],[0.7,\"#b8e186\"],[0.8,\"#7fbc41\"],[0.9,\"#4d9221\"],[1,\"#276419\"]],\"sequential\":[[0.0,\"#0d0887\"],[0.1111111111111111,\"#46039f\"],[0.2222222222222222,\"#7201a8\"],[0.3333333333333333,\"#9c179e\"],[0.4444444444444444,\"#bd3786\"],[0.5555555555555556,\"#d8576b\"],[0.6666666666666666,\"#ed7953\"],[0.7777777777777778,\"#fb9f3a\"],[0.8888888888888888,\"#fdca26\"],[1.0,\"#f0f921\"]],\"sequentialminus\":[[0.0,\"#0d0887\"],[0.1111111111111111,\"#46039f\"],[0.2222222222222222,\"#7201a8\"],[0.3333333333333333,\"#9c179e\"],[0.4444444444444444,\"#bd3786\"],[0.5555555555555556,\"#d8576b\"],[0.6666666666666666,\"#ed7953\"],[0.7777777777777778,\"#fb9f3a\"],[0.8888888888888888,\"#fdca26\"],[1.0,\"#f0f921\"]]},\"colorway\":[\"#636efa\",\"#EF553B\",\"#00cc96\",\"#ab63fa\",\"#FFA15A\",\"#19d3f3\",\"#FF6692\",\"#B6E880\",\"#FF97FF\",\"#FECB52\"],\"font\":{\"color\":\"#2a3f5f\"},\"geo\":{\"bgcolor\":\"white\",\"lakecolor\":\"white\",\"landcolor\":\"#E5ECF6\",\"showlakes\":true,\"showland\":true,\"subunitcolor\":\"white\"},\"hoverlabel\":{\"align\":\"left\"},\"hovermode\":\"closest\",\"mapbox\":{\"style\":\"light\"},\"paper_bgcolor\":\"white\",\"plot_bgcolor\":\"#E5ECF6\",\"polar\":{\"angularaxis\":{\"gridcolor\":\"white\",\"linecolor\":\"white\",\"ticks\":\"\"},\"bgcolor\":\"#E5ECF6\",\"radialaxis\":{\"gridcolor\":\"white\",\"linecolor\":\"white\",\"ticks\":\"\"}},\"scene\":{\"xaxis\":{\"backgroundcolor\":\"#E5ECF6\",\"gridcolor\":\"white\",\"gridwidth\":2,\"linecolor\":\"white\",\"showbackground\":true,\"ticks\":\"\",\"zerolinecolor\":\"white\"},\"yaxis\":{\"backgroundcolor\":\"#E5ECF6\",\"gridcolor\":\"white\",\"gridwidth\":2,\"linecolor\":\"white\",\"showbackground\":true,\"ticks\":\"\",\"zerolinecolor\":\"white\"},\"zaxis\":{\"backgroundcolor\":\"#E5ECF6\",\"gridcolor\":\"white\",\"gridwidth\":2,\"linecolor\":\"white\",\"showbackground\":true,\"ticks\":\"\",\"zerolinecolor\":\"white\"}},\"shapedefaults\":{\"line\":{\"color\":\"#2a3f5f\"}},\"ternary\":{\"aaxis\":{\"gridcolor\":\"white\",\"linecolor\":\"white\",\"ticks\":\"\"},\"baxis\":{\"gridcolor\":\"white\",\"linecolor\":\"white\",\"ticks\":\"\"},\"bgcolor\":\"#E5ECF6\",\"caxis\":{\"gridcolor\":\"white\",\"linecolor\":\"white\",\"ticks\":\"\"}},\"title\":{\"x\":0.05},\"xaxis\":{\"automargin\":true,\"gridcolor\":\"white\",\"linecolor\":\"white\",\"ticks\":\"\",\"title\":{\"standoff\":15},\"zerolinecolor\":\"white\",\"zerolinewidth\":2},\"yaxis\":{\"automargin\":true,\"gridcolor\":\"white\",\"linecolor\":\"white\",\"ticks\":\"\",\"title\":{\"standoff\":15},\"zerolinecolor\":\"white\",\"zerolinewidth\":2}}},\"xaxis\":{\"anchor\":\"y\",\"domain\":[0.0,1.0],\"title\":{\"text\":\"log_ndvi_median\"}},\"yaxis\":{\"anchor\":\"x\",\"domain\":[0.0,1.0],\"title\":{\"text\":\"log_ciano\"}},\"legend\":{\"tracegroupgap\":0},\"margin\":{\"t\":60}},                        {\"responsive\": true}                    ).then(function(){\n",
       "                            \n",
       "var gd = document.getElementById('16d0338c-59fd-4a74-b75c-182a90cd988c');\n",
       "var x = new MutationObserver(function (mutations, observer) {{\n",
       "        var display = window.getComputedStyle(gd).display;\n",
       "        if (!display || display === 'none') {{\n",
       "            console.log([gd, 'removed!']);\n",
       "            Plotly.purge(gd);\n",
       "            observer.disconnect();\n",
       "        }}\n",
       "}});\n",
       "\n",
       "// Listen for the removal of the full notebook cells\n",
       "var notebookContainer = gd.closest('#notebook-container');\n",
       "if (notebookContainer) {{\n",
       "    x.observe(notebookContainer, {childList: true});\n",
       "}}\n",
       "\n",
       "// Listen for the clearing of the current output cell\n",
       "var outputEl = gd.closest('.output');\n",
       "if (outputEl) {{\n",
       "    x.observe(outputEl, {childList: true});\n",
       "}}\n",
       "\n",
       "                        })                };                });            </script>        </div>"
      ]
     },
     "metadata": {},
     "output_type": "display_data"
    }
   ],
   "source": [
    "px.scatter(log_captacao.loc[log_captacao[\"log_ndvi_median\"] > -4], x=\"log_ndvi_median\", y=\"log_ciano\")"
   ]
  },
  {
   "cell_type": "code",
   "execution_count": 193,
   "metadata": {},
   "outputs": [],
   "source": [
    "captacao_gee.to_csv(\"../../data/processed/ndvi_ndci_vigi.csv\", index=False)"
   ]
  }
 ],
 "metadata": {
  "interpreter": {
   "hash": "92d1c8824dd9ed58f2e2fe7d35df9188f2132fcf69312c535170a29d4fbf29a8"
  },
  "kernelspec": {
   "display_name": "Python 3",
   "language": "python",
   "name": "python3"
  },
  "language_info": {
   "codemirror_mode": {
    "name": "ipython",
    "version": 3
   },
   "file_extension": ".py",
   "mimetype": "text/x-python",
   "name": "python",
   "nbconvert_exporter": "python",
   "pygments_lexer": "ipython3",
   "version": "3.8.5"
  }
 },
 "nbformat": 4,
 "nbformat_minor": 2
}
